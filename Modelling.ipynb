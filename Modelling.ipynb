{
 "cells": [
  {
   "cell_type": "code",
   "execution_count": 2,
   "metadata": {
    "collapsed": true
   },
   "outputs": [],
   "source": [
    "import numpy as np\n",
    "import pandas as pd"
   ]
  },
  {
   "cell_type": "code",
   "execution_count": 3,
   "metadata": {
    "collapsed": false
   },
   "outputs": [
    {
     "data": {
      "text/html": [
       "<div>\n",
       "<table border=\"1\" class=\"dataframe\">\n",
       "  <thead>\n",
       "    <tr style=\"text-align: right;\">\n",
       "      <th></th>\n",
       "      <th>Account Number</th>\n",
       "      <th>Gender</th>\n",
       "      <th>Age</th>\n",
       "      <th>Salary Slab</th>\n",
       "      <th>Age of Home</th>\n",
       "      <th>Churners</th>\n",
       "      <th>Sum</th>\n",
       "      <th>payment_complaint</th>\n",
       "      <th>account_complaint</th>\n",
       "      <th>utility_complaint</th>\n",
       "      <th>...</th>\n",
       "      <th>Region _Western</th>\n",
       "      <th>Accounting</th>\n",
       "      <th>Academics</th>\n",
       "      <th>Automative</th>\n",
       "      <th>Banking</th>\n",
       "      <th>Defence</th>\n",
       "      <th>Finance</th>\n",
       "      <th>Pharma</th>\n",
       "      <th>Labour</th>\n",
       "      <th>Others</th>\n",
       "    </tr>\n",
       "  </thead>\n",
       "  <tbody>\n",
       "    <tr>\n",
       "      <th>0</th>\n",
       "      <td>M1189</td>\n",
       "      <td>1</td>\n",
       "      <td>43</td>\n",
       "      <td>3</td>\n",
       "      <td>7</td>\n",
       "      <td>0</td>\n",
       "      <td>876.645</td>\n",
       "      <td>1</td>\n",
       "      <td>1</td>\n",
       "      <td>0</td>\n",
       "      <td>...</td>\n",
       "      <td>1</td>\n",
       "      <td>0</td>\n",
       "      <td>0</td>\n",
       "      <td>0</td>\n",
       "      <td>0</td>\n",
       "      <td>0</td>\n",
       "      <td>0</td>\n",
       "      <td>0</td>\n",
       "      <td>0</td>\n",
       "      <td>0</td>\n",
       "    </tr>\n",
       "    <tr>\n",
       "      <th>1</th>\n",
       "      <td>M3864</td>\n",
       "      <td>1</td>\n",
       "      <td>63</td>\n",
       "      <td>4</td>\n",
       "      <td>12</td>\n",
       "      <td>0</td>\n",
       "      <td>748.440</td>\n",
       "      <td>0</td>\n",
       "      <td>0</td>\n",
       "      <td>0</td>\n",
       "      <td>...</td>\n",
       "      <td>0</td>\n",
       "      <td>0</td>\n",
       "      <td>0</td>\n",
       "      <td>0</td>\n",
       "      <td>0</td>\n",
       "      <td>0</td>\n",
       "      <td>0</td>\n",
       "      <td>0</td>\n",
       "      <td>0</td>\n",
       "      <td>0</td>\n",
       "    </tr>\n",
       "    <tr>\n",
       "      <th>2</th>\n",
       "      <td>M7957</td>\n",
       "      <td>1</td>\n",
       "      <td>29</td>\n",
       "      <td>9</td>\n",
       "      <td>17</td>\n",
       "      <td>0</td>\n",
       "      <td>1883.945</td>\n",
       "      <td>0</td>\n",
       "      <td>0</td>\n",
       "      <td>0</td>\n",
       "      <td>...</td>\n",
       "      <td>0</td>\n",
       "      <td>0</td>\n",
       "      <td>0</td>\n",
       "      <td>0</td>\n",
       "      <td>0</td>\n",
       "      <td>0</td>\n",
       "      <td>0</td>\n",
       "      <td>0</td>\n",
       "      <td>0</td>\n",
       "      <td>0</td>\n",
       "    </tr>\n",
       "    <tr>\n",
       "      <th>3</th>\n",
       "      <td>M2413</td>\n",
       "      <td>0</td>\n",
       "      <td>50</td>\n",
       "      <td>4</td>\n",
       "      <td>7</td>\n",
       "      <td>0</td>\n",
       "      <td>874.860</td>\n",
       "      <td>1</td>\n",
       "      <td>0</td>\n",
       "      <td>0</td>\n",
       "      <td>...</td>\n",
       "      <td>0</td>\n",
       "      <td>0</td>\n",
       "      <td>0</td>\n",
       "      <td>0</td>\n",
       "      <td>0</td>\n",
       "      <td>0</td>\n",
       "      <td>0</td>\n",
       "      <td>0</td>\n",
       "      <td>0</td>\n",
       "      <td>0</td>\n",
       "    </tr>\n",
       "    <tr>\n",
       "      <th>4</th>\n",
       "      <td>M3528</td>\n",
       "      <td>1</td>\n",
       "      <td>51</td>\n",
       "      <td>3</td>\n",
       "      <td>12</td>\n",
       "      <td>0</td>\n",
       "      <td>7.770</td>\n",
       "      <td>0</td>\n",
       "      <td>0</td>\n",
       "      <td>0</td>\n",
       "      <td>...</td>\n",
       "      <td>0</td>\n",
       "      <td>0</td>\n",
       "      <td>0</td>\n",
       "      <td>0</td>\n",
       "      <td>0</td>\n",
       "      <td>0</td>\n",
       "      <td>0</td>\n",
       "      <td>0</td>\n",
       "      <td>0</td>\n",
       "      <td>0</td>\n",
       "    </tr>\n",
       "  </tbody>\n",
       "</table>\n",
       "<p>5 rows × 40 columns</p>\n",
       "</div>"
      ],
      "text/plain": [
       "  Account Number  Gender  Age  Salary Slab  Age of Home  Churners       Sum  \\\n",
       "0          M1189       1   43            3            7         0   876.645   \n",
       "1          M3864       1   63            4           12         0   748.440   \n",
       "2          M7957       1   29            9           17         0  1883.945   \n",
       "3          M2413       0   50            4            7         0   874.860   \n",
       "4          M3528       1   51            3           12         0     7.770   \n",
       "\n",
       "   payment_complaint  account_complaint  utility_complaint   ...    \\\n",
       "0                  1                  1                  0   ...     \n",
       "1                  0                  0                  0   ...     \n",
       "2                  0                  0                  0   ...     \n",
       "3                  1                  0                  0   ...     \n",
       "4                  0                  0                  0   ...     \n",
       "\n",
       "   Region _Western  Accounting  Academics  Automative  Banking  Defence  \\\n",
       "0                1           0          0           0        0        0   \n",
       "1                0           0          0           0        0        0   \n",
       "2                0           0          0           0        0        0   \n",
       "3                0           0          0           0        0        0   \n",
       "4                0           0          0           0        0        0   \n",
       "\n",
       "   Finance  Pharma  Labour  Others  \n",
       "0        0       0       0       0  \n",
       "1        0       0       0       0  \n",
       "2        0       0       0       0  \n",
       "3        0       0       0       0  \n",
       "4        0       0       0       0  \n",
       "\n",
       "[5 rows x 40 columns]"
      ]
     },
     "execution_count": 3,
     "metadata": {},
     "output_type": "execute_result"
    }
   ],
   "source": [
    "df_train_data = pd.read_csv(r\"C:\\Users\\SHIVAM MAHAJAN\\Desktop\\Github\\EXL data\\df_train_data.csv\")\n",
    "df_train_data.head()"
   ]
  },
  {
   "cell_type": "code",
   "execution_count": 4,
   "metadata": {
    "collapsed": false
   },
   "outputs": [
    {
     "data": {
      "text/html": [
       "<div>\n",
       "<table border=\"1\" class=\"dataframe\">\n",
       "  <thead>\n",
       "    <tr style=\"text-align: right;\">\n",
       "      <th></th>\n",
       "      <th>Account Number</th>\n",
       "      <th>Gender</th>\n",
       "      <th>Age</th>\n",
       "      <th>Salary Slab</th>\n",
       "      <th>Age of Home</th>\n",
       "      <th>Churners</th>\n",
       "      <th>Sum</th>\n",
       "      <th>payment_complaint</th>\n",
       "      <th>account_complaint</th>\n",
       "      <th>utility_complaint</th>\n",
       "      <th>...</th>\n",
       "      <th>Region _Western</th>\n",
       "      <th>Accounting</th>\n",
       "      <th>Academics</th>\n",
       "      <th>Automative</th>\n",
       "      <th>Banking</th>\n",
       "      <th>Defence</th>\n",
       "      <th>Finance</th>\n",
       "      <th>Pharma</th>\n",
       "      <th>Labour</th>\n",
       "      <th>Others</th>\n",
       "    </tr>\n",
       "  </thead>\n",
       "  <tbody>\n",
       "    <tr>\n",
       "      <th>0</th>\n",
       "      <td>M9773</td>\n",
       "      <td>1</td>\n",
       "      <td>51</td>\n",
       "      <td>4</td>\n",
       "      <td>17</td>\n",
       "      <td>0</td>\n",
       "      <td>748.230</td>\n",
       "      <td>0</td>\n",
       "      <td>0</td>\n",
       "      <td>0</td>\n",
       "      <td>...</td>\n",
       "      <td>0</td>\n",
       "      <td>0</td>\n",
       "      <td>0</td>\n",
       "      <td>0</td>\n",
       "      <td>0</td>\n",
       "      <td>0</td>\n",
       "      <td>0</td>\n",
       "      <td>0</td>\n",
       "      <td>0</td>\n",
       "      <td>0</td>\n",
       "    </tr>\n",
       "    <tr>\n",
       "      <th>1</th>\n",
       "      <td>M3396</td>\n",
       "      <td>1</td>\n",
       "      <td>51</td>\n",
       "      <td>4</td>\n",
       "      <td>17</td>\n",
       "      <td>0</td>\n",
       "      <td>769.125</td>\n",
       "      <td>0</td>\n",
       "      <td>0</td>\n",
       "      <td>0</td>\n",
       "      <td>...</td>\n",
       "      <td>0</td>\n",
       "      <td>0</td>\n",
       "      <td>0</td>\n",
       "      <td>0</td>\n",
       "      <td>0</td>\n",
       "      <td>0</td>\n",
       "      <td>0</td>\n",
       "      <td>0</td>\n",
       "      <td>0</td>\n",
       "      <td>0</td>\n",
       "    </tr>\n",
       "    <tr>\n",
       "      <th>2</th>\n",
       "      <td>M7889</td>\n",
       "      <td>1</td>\n",
       "      <td>62</td>\n",
       "      <td>6</td>\n",
       "      <td>17</td>\n",
       "      <td>0</td>\n",
       "      <td>839.895</td>\n",
       "      <td>1</td>\n",
       "      <td>0</td>\n",
       "      <td>1</td>\n",
       "      <td>...</td>\n",
       "      <td>1</td>\n",
       "      <td>0</td>\n",
       "      <td>0</td>\n",
       "      <td>0</td>\n",
       "      <td>0</td>\n",
       "      <td>0</td>\n",
       "      <td>0</td>\n",
       "      <td>0</td>\n",
       "      <td>0</td>\n",
       "      <td>0</td>\n",
       "    </tr>\n",
       "    <tr>\n",
       "      <th>3</th>\n",
       "      <td>M3423</td>\n",
       "      <td>0</td>\n",
       "      <td>50</td>\n",
       "      <td>4</td>\n",
       "      <td>21</td>\n",
       "      <td>0</td>\n",
       "      <td>7.770</td>\n",
       "      <td>0</td>\n",
       "      <td>0</td>\n",
       "      <td>0</td>\n",
       "      <td>...</td>\n",
       "      <td>0</td>\n",
       "      <td>0</td>\n",
       "      <td>0</td>\n",
       "      <td>0</td>\n",
       "      <td>0</td>\n",
       "      <td>0</td>\n",
       "      <td>0</td>\n",
       "      <td>0</td>\n",
       "      <td>0</td>\n",
       "      <td>0</td>\n",
       "    </tr>\n",
       "    <tr>\n",
       "      <th>4</th>\n",
       "      <td>M4624</td>\n",
       "      <td>1</td>\n",
       "      <td>51</td>\n",
       "      <td>4</td>\n",
       "      <td>17</td>\n",
       "      <td>0</td>\n",
       "      <td>637.035</td>\n",
       "      <td>1</td>\n",
       "      <td>1</td>\n",
       "      <td>0</td>\n",
       "      <td>...</td>\n",
       "      <td>0</td>\n",
       "      <td>0</td>\n",
       "      <td>0</td>\n",
       "      <td>0</td>\n",
       "      <td>0</td>\n",
       "      <td>0</td>\n",
       "      <td>0</td>\n",
       "      <td>0</td>\n",
       "      <td>0</td>\n",
       "      <td>0</td>\n",
       "    </tr>\n",
       "  </tbody>\n",
       "</table>\n",
       "<p>5 rows × 40 columns</p>\n",
       "</div>"
      ],
      "text/plain": [
       "  Account Number  Gender  Age  Salary Slab  Age of Home  Churners      Sum  \\\n",
       "0          M9773       1   51            4           17         0  748.230   \n",
       "1          M3396       1   51            4           17         0  769.125   \n",
       "2          M7889       1   62            6           17         0  839.895   \n",
       "3          M3423       0   50            4           21         0    7.770   \n",
       "4          M4624       1   51            4           17         0  637.035   \n",
       "\n",
       "   payment_complaint  account_complaint  utility_complaint   ...    \\\n",
       "0                  0                  0                  0   ...     \n",
       "1                  0                  0                  0   ...     \n",
       "2                  1                  0                  1   ...     \n",
       "3                  0                  0                  0   ...     \n",
       "4                  1                  1                  0   ...     \n",
       "\n",
       "   Region _Western  Accounting  Academics  Automative  Banking  Defence  \\\n",
       "0                0           0          0           0        0        0   \n",
       "1                0           0          0           0        0        0   \n",
       "2                1           0          0           0        0        0   \n",
       "3                0           0          0           0        0        0   \n",
       "4                0           0          0           0        0        0   \n",
       "\n",
       "   Finance  Pharma  Labour  Others  \n",
       "0        0       0       0       0  \n",
       "1        0       0       0       0  \n",
       "2        0       0       0       0  \n",
       "3        0       0       0       0  \n",
       "4        0       0       0       0  \n",
       "\n",
       "[5 rows x 40 columns]"
      ]
     },
     "execution_count": 4,
     "metadata": {},
     "output_type": "execute_result"
    }
   ],
   "source": [
    "df_test_data = pd.read_csv(r\"C:\\Users\\SHIVAM MAHAJAN\\Desktop\\Github\\EXL data\\df_test_data.csv\")\n",
    "df_test_data.head()"
   ]
  },
  {
   "cell_type": "code",
   "execution_count": 5,
   "metadata": {
    "collapsed": false
   },
   "outputs": [],
   "source": [
    "train_acc_nums, test_acc_nums = df_train_data[\"Account Number\"].values, df_test_data[\"Account Number\"].values\n",
    "ytrain, ytest = df_train_data[\"Churners\"].values, df_test_data[\"Churners\"].values\n",
    "yidx = np.where(np.array(df_train_data.columns) == \"Churners\")[0][0]\n",
    "Xtrain = pd.concat([df_train_data.iloc[:,1:yidx], df_train_data.iloc[:,yidx+1:]],axis = 1).values\n",
    "Xtest = pd.concat([df_test_data.iloc[:,1:yidx], df_test_data.iloc[:,yidx+1:]], axis = 1).values"
   ]
  },
  {
   "cell_type": "code",
   "execution_count": 6,
   "metadata": {
    "collapsed": false
   },
   "outputs": [
    {
     "data": {
      "text/html": [
       "<div>\n",
       "<table border=\"1\" class=\"dataframe\">\n",
       "  <thead>\n",
       "    <tr style=\"text-align: right;\">\n",
       "      <th></th>\n",
       "      <th>Gender</th>\n",
       "      <th>Age</th>\n",
       "      <th>Salary Slab</th>\n",
       "      <th>Age of Home</th>\n",
       "      <th>Churners</th>\n",
       "      <th>Sum</th>\n",
       "    </tr>\n",
       "  </thead>\n",
       "  <tbody>\n",
       "    <tr>\n",
       "      <th>Gender</th>\n",
       "      <td>1.000000</td>\n",
       "      <td>0.023842</td>\n",
       "      <td>-0.006895</td>\n",
       "      <td>0.051388</td>\n",
       "      <td>-0.005693</td>\n",
       "      <td>-0.008937</td>\n",
       "    </tr>\n",
       "    <tr>\n",
       "      <th>Age</th>\n",
       "      <td>0.023842</td>\n",
       "      <td>1.000000</td>\n",
       "      <td>0.083658</td>\n",
       "      <td>0.296768</td>\n",
       "      <td>-0.042624</td>\n",
       "      <td>-0.032991</td>\n",
       "    </tr>\n",
       "    <tr>\n",
       "      <th>Salary Slab</th>\n",
       "      <td>-0.006895</td>\n",
       "      <td>0.083658</td>\n",
       "      <td>1.000000</td>\n",
       "      <td>0.278051</td>\n",
       "      <td>-0.037803</td>\n",
       "      <td>0.022125</td>\n",
       "    </tr>\n",
       "    <tr>\n",
       "      <th>Age of Home</th>\n",
       "      <td>0.051388</td>\n",
       "      <td>0.296768</td>\n",
       "      <td>0.278051</td>\n",
       "      <td>1.000000</td>\n",
       "      <td>-0.052292</td>\n",
       "      <td>-0.050769</td>\n",
       "    </tr>\n",
       "    <tr>\n",
       "      <th>Churners</th>\n",
       "      <td>-0.005693</td>\n",
       "      <td>-0.042624</td>\n",
       "      <td>-0.037803</td>\n",
       "      <td>-0.052292</td>\n",
       "      <td>1.000000</td>\n",
       "      <td>-0.019940</td>\n",
       "    </tr>\n",
       "    <tr>\n",
       "      <th>Sum</th>\n",
       "      <td>-0.008937</td>\n",
       "      <td>-0.032991</td>\n",
       "      <td>0.022125</td>\n",
       "      <td>-0.050769</td>\n",
       "      <td>-0.019940</td>\n",
       "      <td>1.000000</td>\n",
       "    </tr>\n",
       "  </tbody>\n",
       "</table>\n",
       "</div>"
      ],
      "text/plain": [
       "               Gender       Age  Salary Slab  Age of Home  Churners       Sum\n",
       "Gender       1.000000  0.023842    -0.006895     0.051388 -0.005693 -0.008937\n",
       "Age          0.023842  1.000000     0.083658     0.296768 -0.042624 -0.032991\n",
       "Salary Slab -0.006895  0.083658     1.000000     0.278051 -0.037803  0.022125\n",
       "Age of Home  0.051388  0.296768     0.278051     1.000000 -0.052292 -0.050769\n",
       "Churners    -0.005693 -0.042624    -0.037803    -0.052292  1.000000 -0.019940\n",
       "Sum         -0.008937 -0.032991     0.022125    -0.050769 -0.019940  1.000000"
      ]
     },
     "execution_count": 6,
     "metadata": {},
     "output_type": "execute_result"
    }
   ],
   "source": [
    "df_train_data.iloc[:,1:7].corr()"
   ]
  },
  {
   "cell_type": "code",
   "execution_count": 7,
   "metadata": {
    "collapsed": false
   },
   "outputs": [
    {
     "name": "stderr",
     "output_type": "stream",
     "text": [
      "C:\\Users\\SHIVAM MAHAJAN\\Anaconda\\lib\\site-packages\\sklearn\\cross_validation.py:44: DeprecationWarning: This module was deprecated in version 0.18 in favor of the model_selection module into which all the refactored classes and functions are moved. Also note that the interface of the new CV iterators are different from that of this module. This module will be removed in 0.20.\n",
      "  \"This module will be removed in 0.20.\", DeprecationWarning)\n"
     ]
    }
   ],
   "source": [
    "from sklearn.svm import SVC\n",
    "from sklearn.metrics import accuracy_score\n",
    "from sklearn.preprocessing import StandardScaler\n",
    "from sklearn.cross_validation import train_test_split"
   ]
  },
  {
   "cell_type": "code",
   "execution_count": 9,
   "metadata": {
    "collapsed": false
   },
   "outputs": [
    {
     "data": {
      "text/plain": [
       "array([[ 0.81931607, -0.58032731, -0.78282149, ..., -0.12257321,\n",
       "        -0.03361885, -0.08925026],\n",
       "       [ 0.81931607,  1.00507734, -0.21968732, ..., -0.12257321,\n",
       "        -0.03361885, -0.08925026],\n",
       "       [ 0.81931607, -1.69011056,  2.59598355, ..., -0.12257321,\n",
       "        -0.03361885, -0.08925026],\n",
       "       ..., \n",
       "       [-1.22053019,  0.9258071 , -1.90908983, ..., -0.12257321,\n",
       "        -0.03361885, -0.08925026],\n",
       "       [-1.22053019,  1.08434757,  0.90658103, ..., -0.12257321,\n",
       "        -0.03361885, -0.08925026],\n",
       "       [-1.22053019,  1.00507734, -0.78282149, ..., -0.12257321,\n",
       "        -0.03361885, -0.08925026]])"
      ]
     },
     "execution_count": 9,
     "metadata": {},
     "output_type": "execute_result"
    }
   ],
   "source": [
    "sc = StandardScaler()\n",
    "sc.fit(Xtrain)\n",
    "Xtrain_std, Xtest_std = sc.transform(Xtrain), sc.transform(Xtest)\n",
    "Xtrain_std"
   ]
  },
  {
   "cell_type": "markdown",
   "metadata": {},
   "source": [
    "### K-Nearest Neighbor Algorithm"
   ]
  },
  {
   "cell_type": "code",
   "execution_count": 10,
   "metadata": {
    "collapsed": false
   },
   "outputs": [
    {
     "data": {
      "text/plain": [
       "97.0"
      ]
     },
     "execution_count": 10,
     "metadata": {},
     "output_type": "execute_result"
    }
   ],
   "source": [
    "from sklearn.neighbors import KNeighborsClassifier\n",
    "knn = KNeighborsClassifier(n_neighbors = 1)\n",
    "knn.fit(Xtrain_std,ytrain)\n",
    "ypred = knn.predict(Xtest_std)\n",
    "np.sum(ypred)"
   ]
  },
  {
   "cell_type": "code",
   "execution_count": 11,
   "metadata": {
    "collapsed": false
   },
   "outputs": [
    {
     "data": {
      "text/plain": [
       "0.95235707121364088"
      ]
     },
     "execution_count": 11,
     "metadata": {},
     "output_type": "execute_result"
    }
   ],
   "source": [
    "accuracy_score(np.zeros(len(ytest)), ytest)"
   ]
  },
  {
   "cell_type": "code",
   "execution_count": 12,
   "metadata": {
    "collapsed": false,
    "scrolled": true
   },
   "outputs": [
    {
     "data": {
      "text/plain": [
       "array([[1811,   88],\n",
       "       [  86,    9]])"
      ]
     },
     "execution_count": 12,
     "metadata": {},
     "output_type": "execute_result"
    }
   ],
   "source": [
    "from sklearn.metrics import confusion_matrix\n",
    "confusion_matrix(ytest, ypred)"
   ]
  },
  {
   "cell_type": "code",
   "execution_count": 13,
   "metadata": {
    "collapsed": false
   },
   "outputs": [
    {
     "data": {
      "text/plain": [
       "0.093749999999999986"
      ]
     },
     "execution_count": 13,
     "metadata": {},
     "output_type": "execute_result"
    }
   ],
   "source": [
    "from sklearn.metrics import f1_score\n",
    "f1_score(ytest, ypred)"
   ]
  },
  {
   "cell_type": "code",
   "execution_count": 18,
   "metadata": {
    "collapsed": false
   },
   "outputs": [
    {
     "data": {
      "text/plain": [
       "RandomizedSearchCV(cv=10, error_score='raise',\n",
       "          estimator=KNeighborsClassifier(algorithm='auto', leaf_size=30, metric='minkowski',\n",
       "           metric_params=None, n_jobs=1, n_neighbors=1, p=2,\n",
       "           weights='uniform'),\n",
       "          fit_params={}, iid=True, n_iter=10, n_jobs=1,\n",
       "          param_distributions={'n_neighbors': [1, 2, 3, 4, 5, 6, 7, 8, 9, 10, 11, 12, 13, 14, 15, 16, 17, 18, 19, 20, 21, 22, 23, 24, 25, 26, 27, 28, 29], 'weights': ['uniform', 'distance'], 'p': [1, 2]},\n",
       "          pre_dispatch='2*n_jobs', random_state=None, refit=True,\n",
       "          scoring='roc_auc', verbose=0)"
      ]
     },
     "execution_count": 18,
     "metadata": {},
     "output_type": "execute_result"
    }
   ],
   "source": [
    "from sklearn.model_selection import RandomizedSearchCV\n",
    "param_grid = {\n",
    "    \"n_neighbors\" : range(1,30),\n",
    "    \"weights\" : [\"uniform\", \"distance\"],\n",
    "    \"p\" : [1,2]\n",
    "}\n",
    "grid = RandomizedSearchCV(knn,param_grid,cv=10, scoring=\"roc_auc\")\n",
    "grid.fit(Xtrain_std,ytrain)"
   ]
  },
  {
   "cell_type": "code",
   "execution_count": 19,
   "metadata": {
    "collapsed": false
   },
   "outputs": [
    {
     "name": "stderr",
     "output_type": "stream",
     "text": [
      "C:\\Users\\SHIVAM MAHAJAN\\Anaconda\\lib\\site-packages\\sklearn\\model_selection\\_search.py:639: DeprecationWarning: The grid_scores_ attribute was deprecated in version 0.18 in favor of the more elaborate cv_results_ attribute. The grid_scores_ attribute will not be available from 0.20\n",
      "  DeprecationWarning)\n"
     ]
    },
    {
     "data": {
      "text/plain": [
       "[mean: 0.58958, std: 0.03861, params: {'p': 2, 'weights': 'distance', 'n_neighbors': 19},\n",
       " mean: 0.60594, std: 0.02944, params: {'p': 1, 'weights': 'uniform', 'n_neighbors': 28},\n",
       " mean: 0.58361, std: 0.03012, params: {'p': 2, 'weights': 'distance', 'n_neighbors': 15},\n",
       " mean: 0.57602, std: 0.04089, params: {'p': 1, 'weights': 'uniform', 'n_neighbors': 12},\n",
       " mean: 0.59895, std: 0.03711, params: {'p': 2, 'weights': 'distance', 'n_neighbors': 23},\n",
       " mean: 0.58188, std: 0.03400, params: {'p': 1, 'weights': 'distance', 'n_neighbors': 20},\n",
       " mean: 0.57109, std: 0.03688, params: {'p': 2, 'weights': 'distance', 'n_neighbors': 11},\n",
       " mean: 0.56204, std: 0.03256, params: {'p': 2, 'weights': 'distance', 'n_neighbors': 8},\n",
       " mean: 0.59888, std: 0.02833, params: {'p': 1, 'weights': 'uniform', 'n_neighbors': 22},\n",
       " mean: 0.53000, std: 0.02889, params: {'p': 2, 'weights': 'uniform', 'n_neighbors': 2}]"
      ]
     },
     "execution_count": 19,
     "metadata": {},
     "output_type": "execute_result"
    }
   ],
   "source": [
    "grid.grid_scores_"
   ]
  },
  {
   "cell_type": "code",
   "execution_count": 20,
   "metadata": {
    "collapsed": false
   },
   "outputs": [
    {
     "data": {
      "text/plain": [
       "{'n_neighbors': 28, 'p': 1, 'weights': 'uniform'}"
      ]
     },
     "execution_count": 20,
     "metadata": {},
     "output_type": "execute_result"
    }
   ],
   "source": [
    "grid.best_params_"
   ]
  },
  {
   "cell_type": "code",
   "execution_count": 21,
   "metadata": {
    "collapsed": false
   },
   "outputs": [
    {
     "data": {
      "text/plain": [
       "0.60593652184776925"
      ]
     },
     "execution_count": 21,
     "metadata": {},
     "output_type": "execute_result"
    }
   ],
   "source": [
    "grid.best_score_"
   ]
  },
  {
   "cell_type": "code",
   "execution_count": 22,
   "metadata": {
    "collapsed": true
   },
   "outputs": [],
   "source": [
    "from sklearn.preprocessing import binarize\n",
    "from sklearn import metrics"
   ]
  },
  {
   "cell_type": "code",
   "execution_count": 23,
   "metadata": {
    "collapsed": false
   },
   "outputs": [
    {
     "data": {
      "text/plain": [
       "0.60716720711731942"
      ]
     },
     "execution_count": 23,
     "metadata": {},
     "output_type": "execute_result"
    }
   ],
   "source": [
    "knn = KNeighborsClassifier(n_neighbors=27, p = 2, weights= \"uniform\")\n",
    "knn.fit(Xtrain_std, ytrain)\n",
    "ypred_prob = knn.predict_proba(Xtest_std)[:,1]\n",
    "metrics.roc_auc_score(ytest, ypred_prob)"
   ]
  },
  {
   "cell_type": "code",
   "execution_count": 24,
   "metadata": {
    "collapsed": false
   },
   "outputs": [
    {
     "data": {
      "image/png": "[encoded data removed]",
      "text/plain": [
       "<matplotlib.figure.Figure at 0xabafac8>"
      ]
     },
     "metadata": {},
     "output_type": "display_data"
    }
   ],
   "source": [
    "import matplotlib.pyplot as plt\n",
    "%matplotlib inline\n",
    "tpr, fpr, thresholds = metrics.roc_curve(ytest, ypred_prob)\n",
    "plt.plot(tpr,fpr)\n",
    "plt.xlim([0.0, 1.0])\n",
    "plt.ylim([0.0, 1.0])\n",
    "plt.title('ROC curve for diabetes classifier')\n",
    "plt.xlabel('False Positive Rate (1 - Specificity)')\n",
    "plt.ylabel('True Positive Rate (Sensitivity)')\n",
    "plt.grid(True)"
   ]
  },
  {
   "cell_type": "code",
   "execution_count": 25,
   "metadata": {
    "collapsed": false
   },
   "outputs": [],
   "source": [
    "def evaluate_score(threshold, ypred_prob):\n",
    "    ypred_class = binarize([ypred_prob],threshold)\n",
    "    ypred = ypred_class[0]\n",
    "    confusion = confusion_matrix(ytest,ypred)\n",
    "    tpr = confusion[1,1]/float(confusion[1,1] + confusion[1,0])\n",
    "    fpr = confusion[0,1]/float(confusion[0,1] + confusion[0,0])\n",
    "    print \"Senstivty :\", tpr\n",
    "    print \"Specificity :\", 1-fpr\n",
    "    print \"F1-Score :\", metrics.f1_score(ytest,ypred)\n",
    "    print \"Confusion Matrix :\"\n",
    "    print confusion"
   ]
  },
  {
   "cell_type": "code",
   "execution_count": 26,
   "metadata": {
    "collapsed": false
   },
   "outputs": [
    {
     "name": "stdout",
     "output_type": "stream",
     "text": [
      "Senstivty : 0.463157894737\n",
      "Specificity : 0.6887835703\n",
      "F1-Score : 0.120547945205\n",
      "Confusion Matrix :\n",
      "[[1308  591]\n",
      " [  51   44]]\n"
     ]
    }
   ],
   "source": [
    "evaluate_score(0.038,ypred_prob)"
   ]
  },
  {
   "cell_type": "code",
   "execution_count": 27,
   "metadata": {
    "collapsed": false
   },
   "outputs": [
    {
     "data": {
      "text/plain": [
       "count    1994.000000\n",
       "mean        0.045860\n",
       "std         0.051569\n",
       "min         0.000000\n",
       "25%         0.000000\n",
       "50%         0.037037\n",
       "75%         0.074074\n",
       "max         0.333333\n",
       "dtype: float64"
      ]
     },
     "execution_count": 27,
     "metadata": {},
     "output_type": "execute_result"
    }
   ],
   "source": [
    "pd.Series(ypred_prob).describe()"
   ]
  },
  {
   "cell_type": "markdown",
   "metadata": {},
   "source": [
    "### Logistic Regression"
   ]
  },
  {
   "cell_type": "code",
   "execution_count": 28,
   "metadata": {
    "collapsed": false
   },
   "outputs": [],
   "source": [
    "from sklearn.linear_model import LogisticRegression\n",
    "lr = LogisticRegression()"
   ]
  },
  {
   "cell_type": "code",
   "execution_count": 29,
   "metadata": {
    "collapsed": false
   },
   "outputs": [
    {
     "data": {
      "text/plain": [
       "RandomizedSearchCV(cv=10, error_score='raise',\n",
       "          estimator=LogisticRegression(C=1.0, class_weight=None, dual=False, fit_intercept=True,\n",
       "          intercept_scaling=1, max_iter=100, multi_class='ovr', n_jobs=1,\n",
       "          penalty='l2', random_state=None, solver='liblinear', tol=0.0001,\n",
       "          verbose=0, warm_start=False),\n",
       "          fit_params={}, iid=True, n_iter=10, n_jobs=1,\n",
       "          param_distributions={'penalty': ['l1', 'l2'], 'C': [0.0001, 0.003, 0.01, 0.03, 0.1, 0.3, 1, 3, 10]},\n",
       "          pre_dispatch='2*n_jobs', random_state=None, refit=True,\n",
       "          scoring='roc_auc', verbose=0)"
      ]
     },
     "execution_count": 29,
     "metadata": {},
     "output_type": "execute_result"
    }
   ],
   "source": [
    "param_grid = {\n",
    "    \"C\" : [0.0001,0.003,0.01,0.03,0.1,0.3,1,3,10],\n",
    "    \"penalty\" : [\"l1\", \"l2\"]\n",
    "}\n",
    "rand_cv = RandomizedSearchCV(lr, param_grid, cv = 10, scoring = \"roc_auc\")\n",
    "rand_cv.fit(Xtrain_std, ytrain)"
   ]
  },
  {
   "cell_type": "code",
   "execution_count": 30,
   "metadata": {
    "collapsed": false
   },
   "outputs": [
    {
     "name": "stderr",
     "output_type": "stream",
     "text": [
      "C:\\Users\\SHIVAM MAHAJAN\\Anaconda\\lib\\site-packages\\sklearn\\model_selection\\_search.py:639: DeprecationWarning: The grid_scores_ attribute was deprecated in version 0.18 in favor of the more elaborate cv_results_ attribute. The grid_scores_ attribute will not be available from 0.20\n",
      "  DeprecationWarning)\n"
     ]
    },
    {
     "data": {
      "text/plain": [
       "[mean: 0.50000, std: 0.00000, params: {'penalty': 'l1', 'C': 0.0001},\n",
       " mean: 0.68154, std: 0.04569, params: {'penalty': 'l2', 'C': 0.0001},\n",
       " mean: 0.50000, std: 0.00000, params: {'penalty': 'l1', 'C': 0.003},\n",
       " mean: 0.67393, std: 0.04437, params: {'penalty': 'l2', 'C': 0.3},\n",
       " mean: 0.63515, std: 0.03724, params: {'penalty': 'l1', 'C': 0.01},\n",
       " mean: 0.67396, std: 0.04416, params: {'penalty': 'l1', 'C': 3},\n",
       " mean: 0.67422, std: 0.03944, params: {'penalty': 'l1', 'C': 0.03},\n",
       " mean: 0.67710, std: 0.04454, params: {'penalty': 'l2', 'C': 0.03},\n",
       " mean: 0.67376, std: 0.04416, params: {'penalty': 'l1', 'C': 10},\n",
       " mean: 0.67489, std: 0.04453, params: {'penalty': 'l2', 'C': 0.1}]"
      ]
     },
     "execution_count": 30,
     "metadata": {},
     "output_type": "execute_result"
    }
   ],
   "source": [
    "rand_cv.grid_scores_"
   ]
  },
  {
   "cell_type": "code",
   "execution_count": 31,
   "metadata": {
    "collapsed": false
   },
   "outputs": [
    {
     "data": {
      "text/plain": [
       "{'C': 0.0001, 'penalty': 'l2'}"
      ]
     },
     "execution_count": 31,
     "metadata": {},
     "output_type": "execute_result"
    }
   ],
   "source": [
    "rand_cv.best_params_"
   ]
  },
  {
   "cell_type": "code",
   "execution_count": 32,
   "metadata": {
    "collapsed": false
   },
   "outputs": [
    {
     "data": {
      "text/plain": [
       "0.68153595779820209"
      ]
     },
     "execution_count": 32,
     "metadata": {},
     "output_type": "execute_result"
    }
   ],
   "source": [
    "rand_cv.best_score_"
   ]
  },
  {
   "cell_type": "code",
   "execution_count": 46,
   "metadata": {
    "collapsed": false
   },
   "outputs": [
    {
     "data": {
      "text/plain": [
       "0.71255785593525678"
      ]
     },
     "execution_count": 46,
     "metadata": {},
     "output_type": "execute_result"
    }
   ],
   "source": [
    "lr = LogisticRegression(penalty=\"l1\", C= 0.03)\n",
    "lr.fit(Xtrain_std, ytrain)\n",
    "ypred_prob = lr.predict_proba(Xtest_std)[:,1]\n",
    "metrics.roc_auc_score(ytest, ypred_prob)"
   ]
  },
  {
   "cell_type": "code",
   "execution_count": 34,
   "metadata": {
    "collapsed": false
   },
   "outputs": [
    {
     "data": {
      "text/plain": [
       "count    1994.000000\n",
       "mean        0.055256\n",
       "std         0.033325\n",
       "min         0.030154\n",
       "25%         0.041834\n",
       "50%         0.046260\n",
       "75%         0.053356\n",
       "max         0.405854\n",
       "dtype: float64"
      ]
     },
     "execution_count": 34,
     "metadata": {},
     "output_type": "execute_result"
    }
   ],
   "source": [
    "pd.Series(ypred_prob).describe()"
   ]
  },
  {
   "cell_type": "code",
   "execution_count": 35,
   "metadata": {
    "collapsed": false
   },
   "outputs": [
    {
     "data": {
      "image/png": "[encoded data removed]",
      "text/plain": [
       "<matplotlib.figure.Figure at 0xc19a6d8>"
      ]
     },
     "metadata": {},
     "output_type": "display_data"
    }
   ],
   "source": [
    "import matplotlib.pyplot as plt\n",
    "tpr, fpr, thresholds = metrics.roc_curve(ytest, ypred_prob)\n",
    "plt.plot(tpr,fpr)\n",
    "plt.xlim([0.0, 1.0])\n",
    "plt.ylim([0.0, 1.0])\n",
    "plt.title('ROC curve for diabetes classifier')\n",
    "plt.xlabel('False Positive Rate (1 - Specificity)')\n",
    "plt.ylabel('True Positive Rate (Sensitivity)')\n",
    "plt.grid(True)"
   ]
  },
  {
   "cell_type": "code",
   "execution_count": 36,
   "metadata": {
    "collapsed": false
   },
   "outputs": [
    {
     "name": "stdout",
     "output_type": "stream",
     "text": [
      "Senstivty : 0.431578947368\n",
      "Specificity : 0.875197472354\n",
      "F1-Score : 0.219839142091\n",
      "Confusion Matrix :\n",
      "[[1662  237]\n",
      " [  54   41]]\n"
     ]
    }
   ],
   "source": [
    "evaluate_score(0.06,ypred_prob)"
   ]
  },
  {
   "cell_type": "markdown",
   "metadata": {},
   "source": [
    "#### Clearly Logistic is Better than KNN. But we are yet to chose a cutoff."
   ]
  },
  {
   "cell_type": "markdown",
   "metadata": {},
   "source": [
    "### SVM"
   ]
  },
  {
   "cell_type": "code",
   "execution_count": 31,
   "metadata": {
    "collapsed": true
   },
   "outputs": [],
   "source": [
    "import time"
   ]
  },
  {
   "cell_type": "code",
   "execution_count": 47,
   "metadata": {
    "collapsed": false
   },
   "outputs": [],
   "source": [
    "from sklearn.svm import SVC\n",
    "svm = SVC()\n",
    "para_grid = {\n",
    "    \"C\" : [0.001, 0.003, 0.01, 0.03, 0.1, 0.3, 1, 3],\n",
    "    \"degree\" : [2,3,4,5],\n",
    "    \"kernel\" : [\"poly\"]\n",
    "}"
   ]
  },
  {
   "cell_type": "code",
   "execution_count": 48,
   "metadata": {
    "collapsed": false
   },
   "outputs": [
    {
     "data": {
      "text/plain": [
       "RandomizedSearchCV(cv=10, error_score='raise',\n",
       "          estimator=SVC(C=1.0, cache_size=200, class_weight=None, coef0=0.0,\n",
       "  decision_function_shape=None, degree=3, gamma='auto', kernel='rbf',\n",
       "  max_iter=-1, probability=False, random_state=None, shrinking=True,\n",
       "  tol=0.001, verbose=False),\n",
       "          fit_params={}, iid=True, n_iter=20, n_jobs=1,\n",
       "          param_distributions={'kernel': ['poly'], 'C': [0.001, 0.003, 0.01, 0.03, 0.1, 0.3, 1, 3], 'degree': [2, 3, 4, 5]},\n",
       "          pre_dispatch='2*n_jobs', random_state=None, refit=True,\n",
       "          scoring='roc_auc', verbose=0)"
      ]
     },
     "execution_count": 48,
     "metadata": {},
     "output_type": "execute_result"
    }
   ],
   "source": [
    "rand_cv = RandomizedSearchCV(svm, para_grid, scoring = \"roc_auc\", cv = 10, n_iter=20)\n",
    "rand_cv.fit(Xtrain_std, ytrain)"
   ]
  },
  {
   "cell_type": "code",
   "execution_count": 49,
   "metadata": {
    "collapsed": false
   },
   "outputs": [
    {
     "data": {
      "text/plain": [
       "[mean: 0.53613, std: 0.05633, params: {'kernel': 'poly', 'C': 3, 'degree': 5},\n",
       " mean: 0.53344, std: 0.04872, params: {'kernel': 'poly', 'C': 0.1, 'degree': 4},\n",
       " mean: 0.53865, std: 0.05428, params: {'kernel': 'poly', 'C': 0.01, 'degree': 3},\n",
       " mean: 0.54222, std: 0.03984, params: {'kernel': 'poly', 'C': 0.003, 'degree': 5},\n",
       " mean: 0.53413, std: 0.05010, params: {'kernel': 'poly', 'C': 0.003, 'degree': 2},\n",
       " mean: 0.54467, std: 0.04933, params: {'kernel': 'poly', 'C': 1, 'degree': 4},\n",
       " mean: 0.54058, std: 0.05580, params: {'kernel': 'poly', 'C': 1, 'degree': 5},\n",
       " mean: 0.53718, std: 0.05372, params: {'kernel': 'poly', 'C': 0.1, 'degree': 3},\n",
       " mean: 0.53946, std: 0.04021, params: {'kernel': 'poly', 'C': 0.01, 'degree': 5},\n",
       " mean: 0.52419, std: 0.03925, params: {'kernel': 'poly', 'C': 0.01, 'degree': 2},\n",
       " mean: 0.54011, std: 0.05561, params: {'kernel': 'poly', 'C': 1, 'degree': 3},\n",
       " mean: 0.54111, std: 0.04492, params: {'kernel': 'poly', 'C': 0.003, 'degree': 4},\n",
       " mean: 0.54223, std: 0.04165, params: {'kernel': 'poly', 'C': 0.001, 'degree': 5},\n",
       " mean: 0.52936, std: 0.03975, params: {'kernel': 'poly', 'C': 0.1, 'degree': 2},\n",
       " mean: 0.53449, std: 0.03590, params: {'kernel': 'poly', 'C': 0.3, 'degree': 2},\n",
       " mean: 0.53621, std: 0.06030, params: {'kernel': 'poly', 'C': 0.001, 'degree': 3},\n",
       " mean: 0.53612, std: 0.04024, params: {'kernel': 'poly', 'C': 0.03, 'degree': 5},\n",
       " mean: 0.53980, std: 0.04742, params: {'kernel': 'poly', 'C': 0.01, 'degree': 4},\n",
       " mean: 0.52834, std: 0.03781, params: {'kernel': 'poly', 'C': 0.03, 'degree': 2},\n",
       " mean: 0.55556, std: 0.06420, params: {'kernel': 'poly', 'C': 3, 'degree': 2}]"
      ]
     },
     "execution_count": 49,
     "metadata": {},
     "output_type": "execute_result"
    }
   ],
   "source": [
    "rand_cv.grid_scores_"
   ]
  },
  {
   "cell_type": "code",
   "execution_count": 50,
   "metadata": {
    "collapsed": false
   },
   "outputs": [
    {
     "data": {
      "text/plain": [
       "0.55555734689171621"
      ]
     },
     "execution_count": 50,
     "metadata": {},
     "output_type": "execute_result"
    }
   ],
   "source": [
    "rand_cv.best_score_"
   ]
  },
  {
   "cell_type": "code",
   "execution_count": 51,
   "metadata": {
    "collapsed": false
   },
   "outputs": [
    {
     "data": {
      "text/plain": [
       "{'C': 3, 'degree': 2, 'kernel': 'poly'}"
      ]
     },
     "execution_count": 51,
     "metadata": {},
     "output_type": "execute_result"
    }
   ],
   "source": [
    "rand_cv.best_params_"
   ]
  },
  {
   "cell_type": "code",
   "execution_count": 53,
   "metadata": {
    "collapsed": false
   },
   "outputs": [
    {
     "data": {
      "text/plain": [
       "0.4985726559685153"
      ]
     },
     "execution_count": 53,
     "metadata": {},
     "output_type": "execute_result"
    }
   ],
   "source": [
    "svm = SVC(C=3, degree = 2, kernel = \"poly\", probability=True)\n",
    "svm.fit(Xtrain_std, ytrain)\n",
    "ypred_prob = svm.predict_proba(Xtest_std)[:,1]\n",
    "metrics.roc_auc_score(ytest, ypred_prob)"
   ]
  },
  {
   "cell_type": "markdown",
   "metadata": {},
   "source": [
    "#### Using rbf"
   ]
  },
  {
   "cell_type": "code",
   "execution_count": 49,
   "metadata": {
    "collapsed": true
   },
   "outputs": [],
   "source": [
    "from sklearn.svm import SVC\n",
    "svm = SVC()\n",
    "para_grid = {\n",
    "    \"C\" : [0.01, 0.03, 0.1, 0.3, 1],\n",
    "    \"gamma\" : [0.01, 0.03, 0.1, 0.3, 1],\n",
    "    \"kernel\" : [\"rbf\"]\n",
    "}"
   ]
  },
  {
   "cell_type": "code",
   "execution_count": 50,
   "metadata": {
    "collapsed": false
   },
   "outputs": [
    {
     "data": {
      "text/plain": [
       "RandomizedSearchCV(cv=10, error_score='raise',\n",
       "          estimator=SVC(C=1.0, cache_size=200, class_weight=None, coef0=0.0,\n",
       "  decision_function_shape=None, degree=3, gamma='auto', kernel='rbf',\n",
       "  max_iter=-1, probability=False, random_state=None, shrinking=True,\n",
       "  tol=0.001, verbose=False),\n",
       "          fit_params={}, iid=True, n_iter=10, n_jobs=1,\n",
       "          param_distributions={'kernel': ['rbf'], 'C': [0.01, 0.03, 0.1, 0.3, 1], 'gamma': [0.01, 0.03, 0.1, 0.3, 1]},\n",
       "          pre_dispatch='2*n_jobs', random_state=None, refit=True,\n",
       "          scoring='roc_auc', verbose=0)"
      ]
     },
     "execution_count": 50,
     "metadata": {},
     "output_type": "execute_result"
    }
   ],
   "source": [
    "rand_cv = RandomizedSearchCV(svm, para_grid, cv = 10, scoring = \"roc_auc\")\n",
    "rand_cv.fit(Xtrain_std, ytrain)"
   ]
  },
  {
   "cell_type": "code",
   "execution_count": 51,
   "metadata": {
    "collapsed": false
   },
   "outputs": [
    {
     "name": "stderr",
     "output_type": "stream",
     "text": [
      "C:\\Users\\SHIVAM MAHAJAN\\Anaconda\\lib\\site-packages\\sklearn\\model_selection\\_search.py:639: DeprecationWarning: The grid_scores_ attribute was deprecated in version 0.18 in favor of the more elaborate cv_results_ attribute. The grid_scores_ attribute will not be available from 0.20\n",
      "  DeprecationWarning)\n"
     ]
    },
    {
     "data": {
      "text/plain": [
       "[mean: 0.58463, std: 0.04571, params: {'kernel': 'rbf', 'C': 0.01, 'gamma': 0.01},\n",
       " mean: 0.55997, std: 0.04691, params: {'kernel': 'rbf', 'C': 0.3, 'gamma': 0.1},\n",
       " mean: 0.55891, std: 0.04117, params: {'kernel': 'rbf', 'C': 0.1, 'gamma': 0.03},\n",
       " mean: 0.54461, std: 0.04807, params: {'kernel': 'rbf', 'C': 0.1, 'gamma': 0.01},\n",
       " mean: 0.54500, std: 0.03206, params: {'kernel': 'rbf', 'C': 0.01, 'gamma': 1},\n",
       " mean: 0.55345, std: 0.03848, params: {'kernel': 'rbf', 'C': 0.3, 'gamma': 1},\n",
       " mean: 0.55837, std: 0.04786, params: {'kernel': 'rbf', 'C': 0.03, 'gamma': 0.03},\n",
       " mean: 0.57041, std: 0.05384, params: {'kernel': 'rbf', 'C': 0.1, 'gamma': 0.3},\n",
       " mean: 0.57129, std: 0.05376, params: {'kernel': 'rbf', 'C': 0.03, 'gamma': 0.3},\n",
       " mean: 0.55400, std: 0.03977, params: {'kernel': 'rbf', 'C': 0.03, 'gamma': 1}]"
      ]
     },
     "execution_count": 51,
     "metadata": {},
     "output_type": "execute_result"
    }
   ],
   "source": [
    "rand_cv.grid_scores_"
   ]
  },
  {
   "cell_type": "code",
   "execution_count": 52,
   "metadata": {
    "collapsed": false
   },
   "outputs": [
    {
     "data": {
      "text/plain": [
       "{'C': 0.01, 'gamma': 0.01, 'kernel': 'rbf'}"
      ]
     },
     "execution_count": 52,
     "metadata": {},
     "output_type": "execute_result"
    }
   ],
   "source": [
    "rand_cv.best_params_"
   ]
  },
  {
   "cell_type": "code",
   "execution_count": 57,
   "metadata": {
    "collapsed": false
   },
   "outputs": [
    {
     "data": {
      "text/plain": [
       "0.56448269172140464"
      ]
     },
     "execution_count": 57,
     "metadata": {},
     "output_type": "execute_result"
    }
   ],
   "source": [
    "svm = SVC(C=0.01, gamma = 0.01, kernel = \"rbf\", probability=True)\n",
    "svm.fit(Xtrain_std, ytrain)\n",
    "ypred_prob = svm.predict_proba(Xtest_std)[:,1]\n",
    "metrics.roc_auc_score(ytest, ypred_prob)"
   ]
  },
  {
   "cell_type": "code",
   "execution_count": 58,
   "metadata": {
    "collapsed": false
   },
   "outputs": [
    {
     "data": {
      "text/plain": [
       "count    1994.000000\n",
       "mean        0.054617\n",
       "std         0.008934\n",
       "min         0.019071\n",
       "25%         0.049455\n",
       "50%         0.055158\n",
       "75%         0.060143\n",
       "max         0.111483\n",
       "dtype: float64"
      ]
     },
     "execution_count": 58,
     "metadata": {},
     "output_type": "execute_result"
    }
   ],
   "source": [
    "pd.Series(ypred_prob).describe()"
   ]
  },
  {
   "cell_type": "code",
   "execution_count": 48,
   "metadata": {
    "collapsed": false
   },
   "outputs": [
    {
     "data": {
      "image/png": "[encoded data removed]",
      "text/plain": [
       "<matplotlib.figure.Figure at 0xc9b78d0>"
      ]
     },
     "metadata": {},
     "output_type": "display_data"
    }
   ],
   "source": [
    "import matplotlib.pyplot as plt\n",
    "tpr, fpr, thresholds = metrics.roc_curve(ytest, ypred_prob)\n",
    "plt.plot(tpr,fpr)\n",
    "plt.xlim([0.0, 1.0])\n",
    "plt.ylim([0.0, 1.0])\n",
    "plt.title('ROC curve for diabetes classifier')\n",
    "plt.xlabel('False Positive Rate (1 - Specificity)')\n",
    "plt.ylabel('True Positive Rate (Sensitivity)')\n",
    "plt.grid(True)"
   ]
  },
  {
   "cell_type": "code",
   "execution_count": 85,
   "metadata": {
    "collapsed": false
   },
   "outputs": [
    {
     "name": "stdout",
     "output_type": "stream",
     "text": [
      "Senstivty : 0.505263157895\n",
      "Specificity : 0.744602422328\n",
      "F1-Score : 0.152866242038\n",
      "Confusion Matrix :\n",
      "[[1414  485]\n",
      " [  47   48]]\n"
     ]
    }
   ],
   "source": [
    "evaluate_score(0.056,ypred_prob)"
   ]
  },
  {
   "cell_type": "code",
   "execution_count": 86,
   "metadata": {
    "collapsed": false
   },
   "outputs": [
    {
     "data": {
      "text/plain": [
       "0.73319959879638918"
      ]
     },
     "execution_count": 86,
     "metadata": {},
     "output_type": "execute_result"
    }
   ],
   "source": [
    "ypred = binarize([ypred_prob], 0.056)[0]\n",
    "accuracy_score(ypred, ytest)"
   ]
  },
  {
   "cell_type": "markdown",
   "metadata": {},
   "source": [
    "### Random Forest"
   ]
  },
  {
   "cell_type": "code",
   "execution_count": 88,
   "metadata": {
    "collapsed": false
   },
   "outputs": [
    {
     "data": {
      "text/plain": [
       "array([ 0.62260175,  0.58880178,  0.60290037,  0.60801394,  0.56429862,\n",
       "        0.56002387,  0.56716996,  0.58539812,  0.59447993,  0.59789973])"
      ]
     },
     "execution_count": 88,
     "metadata": {},
     "output_type": "execute_result"
    }
   ],
   "source": [
    "from sklearn.ensemble import RandomForestClassifier\n",
    "rf = RandomForestClassifier()\n",
    "from sklearn.cross_validation import cross_val_score\n",
    "scores = cross_val_score(rf, Xtrain_std, ytrain, cv = 10, scoring = \"roc_auc\")\n",
    "scores"
   ]
  },
  {
   "cell_type": "code",
   "execution_count": 89,
   "metadata": {
    "collapsed": false
   },
   "outputs": [
    {
     "data": {
      "text/plain": [
       "0.58915880695732159"
      ]
     },
     "execution_count": 89,
     "metadata": {},
     "output_type": "execute_result"
    }
   ],
   "source": [
    "scores.mean()"
   ]
  },
  {
   "cell_type": "code",
   "execution_count": 91,
   "metadata": {
    "collapsed": false
   },
   "outputs": [
    {
     "data": {
      "text/plain": [
       "0.63712480252764614"
      ]
     },
     "execution_count": 91,
     "metadata": {},
     "output_type": "execute_result"
    }
   ],
   "source": [
    "rf.fit(Xtrain_std, ytrain)\n",
    "ypred_prob = rf.predict_proba(Xtest_std)[:,1]\n",
    "metrics.roc_auc_score(ytest, ypred_prob)"
   ]
  },
  {
   "cell_type": "code",
   "execution_count": 92,
   "metadata": {
    "collapsed": false
   },
   "outputs": [
    {
     "data": {
      "text/plain": [
       "count    1994.000000\n",
       "mean        0.055401\n",
       "std         0.098150\n",
       "min         0.000000\n",
       "25%         0.000000\n",
       "50%         0.000000\n",
       "75%         0.100000\n",
       "max         0.700000\n",
       "dtype: float64"
      ]
     },
     "execution_count": 92,
     "metadata": {},
     "output_type": "execute_result"
    }
   ],
   "source": [
    "pd.Series(ypred_prob).describe()"
   ]
  },
  {
   "cell_type": "markdown",
   "metadata": {},
   "source": [
    "### Decision Tree Classifier"
   ]
  },
  {
   "cell_type": "code",
   "execution_count": 98,
   "metadata": {
    "collapsed": false
   },
   "outputs": [
    {
     "data": {
      "text/plain": [
       "array([ 0.48826823,  0.49661247,  0.50427475,  0.5171635 ,  0.51505033,\n",
       "        0.55299071,  0.51709898,  0.51429217,  0.50682346,  0.53187508])"
      ]
     },
     "execution_count": 98,
     "metadata": {},
     "output_type": "execute_result"
    }
   ],
   "source": [
    "from sklearn.tree import DecisionTreeClassifier\n",
    "dt = DecisionTreeClassifier()\n",
    "scores = cross_val_score(dt, Xtrain_std, ytrain, cv = 10, scoring= \"roc_auc\")\n",
    "scores"
   ]
  },
  {
   "cell_type": "markdown",
   "metadata": {
    "collapsed": true
   },
   "source": [
    "### Neural Network Classifier"
   ]
  },
  {
   "cell_type": "code",
   "execution_count": 1,
   "metadata": {
    "collapsed": false
   },
   "outputs": [],
   "source": [
    "from sklearn.neural_network import MLPClassifier"
   ]
  },
  {
   "cell_type": "code",
   "execution_count": 97,
   "metadata": {
    "collapsed": true
   },
   "outputs": [],
   "source": [
    "nn = MLPClassifier(hidden_layer_sizes= 100,activation = \"relu\", alpha = 0.001)\n",
    "para_grid = {\n",
    "    \"hidden_layer_sizes\": [(80,70),(80,80),(80,100),(80,60),(80,90)],\n",
    "    \"alpha\" : [3,5,7,8,9]\n",
    "}"
   ]
  },
  {
   "cell_type": "code",
   "execution_count": 98,
   "metadata": {
    "collapsed": false
   },
   "outputs": [
    {
     "data": {
      "text/plain": [
       "RandomizedSearchCV(cv=10, error_score='raise',\n",
       "          estimator=MLPClassifier(activation='relu', alpha=0.001, batch_size='auto', beta_1=0.9,\n",
       "       beta_2=0.999, early_stopping=False, epsilon=1e-08,\n",
       "       hidden_layer_sizes=100, learning_rate='constant',\n",
       "       learning_rate_init=0.001, max_iter=200, momentum=0.9,\n",
       "       nesterovs_momentum=True, power_t=0.5, random_state=None,\n",
       "       shuffle=True, solver='adam', tol=0.0001, validation_fraction=0.1,\n",
       "       verbose=False, warm_start=False),\n",
       "          fit_params={}, iid=True, n_iter=10, n_jobs=1,\n",
       "          param_distributions={'alpha': [3, 5, 7, 8, 9], 'hidden_layer_sizes': [(80, 70), (80, 80), (80, 100), (80, 60), (80, 90)]},\n",
       "          pre_dispatch='2*n_jobs', random_state=None, refit=True,\n",
       "          scoring='roc_auc', verbose=0)"
      ]
     },
     "execution_count": 98,
     "metadata": {},
     "output_type": "execute_result"
    }
   ],
   "source": [
    "rand_cv = RandomizedSearchCV(nn, para_grid, cv = 10, scoring=\"roc_auc\")\n",
    "rand_cv.fit(Xtrain_std, ytrain)"
   ]
  },
  {
   "cell_type": "code",
   "execution_count": 75,
   "metadata": {
    "collapsed": true
   },
   "outputs": [],
   "source": [
    "import winsound\n",
    "Freq = 2500 # Set Frequency To 2500 Hertz\n",
    "Dur = 1000 # Set Duration To 1000 ms == 1 second\n",
    "winsound.Beep(Freq,Dur)"
   ]
  },
  {
   "cell_type": "code",
   "execution_count": 99,
   "metadata": {
    "collapsed": false
   },
   "outputs": [
    {
     "name": "stderr",
     "output_type": "stream",
     "text": [
      "C:\\Users\\SHIVAM MAHAJAN\\Anaconda\\lib\\site-packages\\sklearn\\model_selection\\_search.py:639: DeprecationWarning: The grid_scores_ attribute was deprecated in version 0.18 in favor of the more elaborate cv_results_ attribute. The grid_scores_ attribute will not be available from 0.20\n",
      "  DeprecationWarning)\n"
     ]
    },
    {
     "data": {
      "text/plain": [
       "[mean: 0.68511, std: 0.04792, params: {'alpha': 7, 'hidden_layer_sizes': (80, 80)},\n",
       " mean: 0.68687, std: 0.04470, params: {'alpha': 3, 'hidden_layer_sizes': (80, 80)},\n",
       " mean: 0.68542, std: 0.04976, params: {'alpha': 8, 'hidden_layer_sizes': (80, 90)},\n",
       " mean: 0.68732, std: 0.04599, params: {'alpha': 7, 'hidden_layer_sizes': (80, 70)},\n",
       " mean: 0.68685, std: 0.04588, params: {'alpha': 3, 'hidden_layer_sizes': (80, 90)},\n",
       " mean: 0.68421, std: 0.04798, params: {'alpha': 9, 'hidden_layer_sizes': (80, 90)},\n",
       " mean: 0.68230, std: 0.04938, params: {'alpha': 8, 'hidden_layer_sizes': (80, 80)},\n",
       " mean: 0.68408, std: 0.04655, params: {'alpha': 9, 'hidden_layer_sizes': (80, 100)},\n",
       " mean: 0.68471, std: 0.04899, params: {'alpha': 8, 'hidden_layer_sizes': (80, 60)},\n",
       " mean: 0.68617, std: 0.04646, params: {'alpha': 5, 'hidden_layer_sizes': (80, 90)}]"
      ]
     },
     "execution_count": 99,
     "metadata": {},
     "output_type": "execute_result"
    }
   ],
   "source": [
    "rand_cv.grid_scores_"
   ]
  },
  {
   "cell_type": "code",
   "execution_count": 100,
   "metadata": {
    "collapsed": false
   },
   "outputs": [
    {
     "data": {
      "text/plain": [
       "0.68732039993503091"
      ]
     },
     "execution_count": 100,
     "metadata": {},
     "output_type": "execute_result"
    }
   ],
   "source": [
    "rand_cv.best_score_"
   ]
  },
  {
   "cell_type": "code",
   "execution_count": 101,
   "metadata": {
    "collapsed": false
   },
   "outputs": [
    {
     "data": {
      "text/plain": [
       "{'alpha': 7, 'hidden_layer_sizes': (80, 70)}"
      ]
     },
     "execution_count": 101,
     "metadata": {},
     "output_type": "execute_result"
    }
   ],
   "source": [
    "rand_cv.best_params_"
   ]
  },
  {
   "cell_type": "code",
   "execution_count": 111,
   "metadata": {
    "collapsed": true
   },
   "outputs": [],
   "source": [
    "from sklearn.cross_validation import cross_val_score"
   ]
  },
  {
   "cell_type": "code",
   "execution_count": 118,
   "metadata": {
    "collapsed": false
   },
   "outputs": [
    {
     "data": {
      "text/plain": [
       "0.70677364818048283"
      ]
     },
     "execution_count": 118,
     "metadata": {},
     "output_type": "execute_result"
    }
   ],
   "source": [
    "nn = MLPClassifier(hidden_layer_sizes= (80,70),activation = \"relu\", alpha = 7)\n",
    "nn.fit(Xtrain_std, ytrain)\n",
    "ypred_prob = nn.predict_proba(Xtest_std)[:,1]\n",
    "metrics.roc_auc_score(ytest, ypred_prob)"
   ]
  },
  {
   "cell_type": "code",
   "execution_count": 119,
   "metadata": {
    "collapsed": false
   },
   "outputs": [
    {
     "data": {
      "text/plain": [
       "count    1994.000000\n",
       "mean        0.055755\n",
       "std         0.004401\n",
       "min         0.046417\n",
       "25%         0.053048\n",
       "50%         0.054913\n",
       "75%         0.057426\n",
       "max         0.082958\n",
       "dtype: float64"
      ]
     },
     "execution_count": 119,
     "metadata": {},
     "output_type": "execute_result"
    }
   ],
   "source": [
    "pd.Series(ypred_prob).describe()"
   ]
  },
  {
   "cell_type": "code",
   "execution_count": 120,
   "metadata": {
    "collapsed": false
   },
   "outputs": [
    {
     "data": {
      "image/png": "[encoded data removed]",
      "text/plain": [
       "<matplotlib.figure.Figure at 0x15b6c080>"
      ]
     },
     "metadata": {},
     "output_type": "display_data"
    }
   ],
   "source": [
    "import matplotlib.pyplot as plt\n",
    "tpr, fpr, thresholds = metrics.roc_curve(ytest, ypred_prob)\n",
    "plt.plot(tpr,fpr)\n",
    "plt.xlim([0.0, 1.0])\n",
    "plt.ylim([0.0, 1.0])\n",
    "plt.title('ROC curve for diabetes classifier')\n",
    "plt.xlabel('False Positive Rate (1 - Specificity)')\n",
    "plt.ylabel('True Positive Rate (Sensitivity)')\n",
    "plt.grid(True)"
   ]
  },
  {
   "cell_type": "code",
   "execution_count": 129,
   "metadata": {
    "collapsed": false
   },
   "outputs": [
    {
     "name": "stdout",
     "output_type": "stream",
     "text": [
      "Senstivty : 0.631578947368\n",
      "Specificity : 0.642443391259\n",
      "F1-Score : 0.143884892086\n",
      "Confusion Matrix :\n",
      "[[1220  679]\n",
      " [  35   60]]\n"
     ]
    }
   ],
   "source": [
    "evaluate_score(0.056,ypred_prob)"
   ]
  },
  {
   "cell_type": "markdown",
   "metadata": {},
   "source": [
    "### Final Predictions"
   ]
  },
  {
   "cell_type": "code",
   "execution_count": null,
   "metadata": {
    "collapsed": true
   },
   "outputs": [],
   "source": []
  }
 ],
 "metadata": {
  "kernelspec": {
   "display_name": "Python 2",
   "language": "python",
   "name": "python2"
  },
  "language_info": {
   "codemirror_mode": {
    "name": "ipython",
    "version": 2
   },
   "file_extension": ".py",
   "mimetype": "text/x-python",
   "name": "python",
   "nbconvert_exporter": "python",
   "pygments_lexer": "ipython2",
   "version": "2.7.11"
  }
 },
 "nbformat": 4,
 "nbformat_minor": 0
}
