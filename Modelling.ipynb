{
 "cells": [
  {
   "cell_type": "code",
   "execution_count": 2,
   "metadata": {
    "collapsed": true
   },
   "outputs": [],
   "source": [
    "import numpy as np\n",
    "import pandas as pd"
   ]
  },
  {
   "cell_type": "code",
   "execution_count": 152,
   "metadata": {
    "collapsed": false
   },
   "outputs": [
    {
     "data": {
      "text/plain": [
       "Index([u'Account Number', u'Gender', u'Age', u'Salary Slab', u'Age of Home',\n",
       "       u'Churners', u'Sum', u'payment_complaint', u'account_complaint',\n",
       "       u'utility_complaint', u'operation_complaint', u'Default times',\n",
       "       u'Loyal years', u'Scheme_CHC', u'Scheme_CNN', u'Scheme_ESS',\n",
       "       u'Scheme_KLA', u'Scheme_MXX', u'Scheme_PMM', u'Scheme_POP',\n",
       "       u'Scheme_PPL', u'Scheme_PRM', u'Scheme_PRP', u'Scheme_PRR',\n",
       "       u'Scheme_PWM', u'Scheme_PWP', u'Scheme_PWR', u'Region _Eastern',\n",
       "       u'Region _Northern', u'Region _Southern', u'Region _Western',\n",
       "       u'Accounting', u'Academics', u'Automative', u'Banking', u'Defence',\n",
       "       u'Finance', u'Pharma', u'Labour', u'Others'],\n",
       "      dtype='object')"
      ]
     },
     "execution_count": 152,
     "metadata": {},
     "output_type": "execute_result"
    }
   ],
   "source": [
    "df_train_data.columns"
   ]
  },
  {
   "cell_type": "code",
   "execution_count": 156,
   "metadata": {
    "collapsed": false
   },
   "outputs": [
    {
     "data": {
      "text/html": [
       "<div>\n",
       "<table border=\"1\" class=\"dataframe\">\n",
       "  <thead>\n",
       "    <tr style=\"text-align: right;\">\n",
       "      <th></th>\n",
       "      <th>Account Number</th>\n",
       "      <th>Gender</th>\n",
       "      <th>Age</th>\n",
       "      <th>Salary Slab</th>\n",
       "      <th>Age of Home</th>\n",
       "      <th>Churners</th>\n",
       "      <th>Sum</th>\n",
       "      <th>payment_complaint</th>\n",
       "      <th>account_complaint</th>\n",
       "      <th>utility_complaint</th>\n",
       "      <th>...</th>\n",
       "      <th>Accounting</th>\n",
       "      <th>Academics</th>\n",
       "      <th>Automative</th>\n",
       "      <th>Banking</th>\n",
       "      <th>Defence</th>\n",
       "      <th>Finance</th>\n",
       "      <th>Pharma</th>\n",
       "      <th>Labour</th>\n",
       "      <th>Others</th>\n",
       "      <th>Scheme_PRM</th>\n",
       "    </tr>\n",
       "  </thead>\n",
       "  <tbody>\n",
       "    <tr>\n",
       "      <th>0</th>\n",
       "      <td>M1189</td>\n",
       "      <td>1</td>\n",
       "      <td>43</td>\n",
       "      <td>3</td>\n",
       "      <td>7</td>\n",
       "      <td>0</td>\n",
       "      <td>876.645</td>\n",
       "      <td>1</td>\n",
       "      <td>1</td>\n",
       "      <td>0</td>\n",
       "      <td>...</td>\n",
       "      <td>0</td>\n",
       "      <td>0</td>\n",
       "      <td>0</td>\n",
       "      <td>0</td>\n",
       "      <td>0</td>\n",
       "      <td>0</td>\n",
       "      <td>0</td>\n",
       "      <td>0</td>\n",
       "      <td>0</td>\n",
       "      <td>0</td>\n",
       "    </tr>\n",
       "    <tr>\n",
       "      <th>1</th>\n",
       "      <td>M3864</td>\n",
       "      <td>1</td>\n",
       "      <td>63</td>\n",
       "      <td>4</td>\n",
       "      <td>12</td>\n",
       "      <td>0</td>\n",
       "      <td>748.440</td>\n",
       "      <td>0</td>\n",
       "      <td>0</td>\n",
       "      <td>0</td>\n",
       "      <td>...</td>\n",
       "      <td>0</td>\n",
       "      <td>0</td>\n",
       "      <td>0</td>\n",
       "      <td>0</td>\n",
       "      <td>0</td>\n",
       "      <td>0</td>\n",
       "      <td>0</td>\n",
       "      <td>0</td>\n",
       "      <td>0</td>\n",
       "      <td>0</td>\n",
       "    </tr>\n",
       "    <tr>\n",
       "      <th>2</th>\n",
       "      <td>M7957</td>\n",
       "      <td>1</td>\n",
       "      <td>29</td>\n",
       "      <td>9</td>\n",
       "      <td>17</td>\n",
       "      <td>0</td>\n",
       "      <td>1883.945</td>\n",
       "      <td>0</td>\n",
       "      <td>0</td>\n",
       "      <td>0</td>\n",
       "      <td>...</td>\n",
       "      <td>0</td>\n",
       "      <td>0</td>\n",
       "      <td>0</td>\n",
       "      <td>0</td>\n",
       "      <td>0</td>\n",
       "      <td>0</td>\n",
       "      <td>0</td>\n",
       "      <td>0</td>\n",
       "      <td>0</td>\n",
       "      <td>0</td>\n",
       "    </tr>\n",
       "    <tr>\n",
       "      <th>3</th>\n",
       "      <td>M2413</td>\n",
       "      <td>0</td>\n",
       "      <td>50</td>\n",
       "      <td>4</td>\n",
       "      <td>7</td>\n",
       "      <td>0</td>\n",
       "      <td>874.860</td>\n",
       "      <td>1</td>\n",
       "      <td>0</td>\n",
       "      <td>0</td>\n",
       "      <td>...</td>\n",
       "      <td>0</td>\n",
       "      <td>0</td>\n",
       "      <td>0</td>\n",
       "      <td>0</td>\n",
       "      <td>0</td>\n",
       "      <td>0</td>\n",
       "      <td>0</td>\n",
       "      <td>0</td>\n",
       "      <td>0</td>\n",
       "      <td>0</td>\n",
       "    </tr>\n",
       "    <tr>\n",
       "      <th>4</th>\n",
       "      <td>M3528</td>\n",
       "      <td>1</td>\n",
       "      <td>51</td>\n",
       "      <td>3</td>\n",
       "      <td>12</td>\n",
       "      <td>0</td>\n",
       "      <td>7.770</td>\n",
       "      <td>0</td>\n",
       "      <td>0</td>\n",
       "      <td>0</td>\n",
       "      <td>...</td>\n",
       "      <td>0</td>\n",
       "      <td>0</td>\n",
       "      <td>0</td>\n",
       "      <td>0</td>\n",
       "      <td>0</td>\n",
       "      <td>0</td>\n",
       "      <td>0</td>\n",
       "      <td>0</td>\n",
       "      <td>0</td>\n",
       "      <td>0</td>\n",
       "    </tr>\n",
       "  </tbody>\n",
       "</table>\n",
       "<p>5 rows × 40 columns</p>\n",
       "</div>"
      ],
      "text/plain": [
       "  Account Number  Gender  Age  Salary Slab  Age of Home  Churners       Sum  \\\n",
       "0          M1189       1   43            3            7         0   876.645   \n",
       "1          M3864       1   63            4           12         0   748.440   \n",
       "2          M7957       1   29            9           17         0  1883.945   \n",
       "3          M2413       0   50            4            7         0   874.860   \n",
       "4          M3528       1   51            3           12         0     7.770   \n",
       "\n",
       "   payment_complaint  account_complaint  utility_complaint     ...      \\\n",
       "0                  1                  1                  0     ...       \n",
       "1                  0                  0                  0     ...       \n",
       "2                  0                  0                  0     ...       \n",
       "3                  1                  0                  0     ...       \n",
       "4                  0                  0                  0     ...       \n",
       "\n",
       "   Accounting  Academics  Automative  Banking  Defence  Finance  Pharma  \\\n",
       "0           0          0           0        0        0        0       0   \n",
       "1           0          0           0        0        0        0       0   \n",
       "2           0          0           0        0        0        0       0   \n",
       "3           0          0           0        0        0        0       0   \n",
       "4           0          0           0        0        0        0       0   \n",
       "\n",
       "   Labour  Others  Scheme_PRM  \n",
       "0       0       0           0  \n",
       "1       0       0           0  \n",
       "2       0       0           0  \n",
       "3       0       0           0  \n",
       "4       0       0           0  \n",
       "\n",
       "[5 rows x 40 columns]"
      ]
     },
     "execution_count": 156,
     "metadata": {},
     "output_type": "execute_result"
    }
   ],
   "source": [
    "df_train_data = pd.read_csv(r\"C:\\Users\\SHIVAM MAHAJAN\\Desktop\\Github\\EXL data\\df_train_data.csv\")\n",
    "df_train_data.head()"
   ]
  },
  {
   "cell_type": "code",
   "execution_count": 157,
   "metadata": {
    "collapsed": false
   },
   "outputs": [
    {
     "data": {
      "text/html": [
       "<div>\n",
       "<table border=\"1\" class=\"dataframe\">\n",
       "  <thead>\n",
       "    <tr style=\"text-align: right;\">\n",
       "      <th></th>\n",
       "      <th>Account Number</th>\n",
       "      <th>Gender</th>\n",
       "      <th>Age</th>\n",
       "      <th>Salary Slab</th>\n",
       "      <th>Age of Home</th>\n",
       "      <th>Churners</th>\n",
       "      <th>Sum</th>\n",
       "      <th>payment_complaint</th>\n",
       "      <th>account_complaint</th>\n",
       "      <th>utility_complaint</th>\n",
       "      <th>...</th>\n",
       "      <th>Accounting</th>\n",
       "      <th>Academics</th>\n",
       "      <th>Automative</th>\n",
       "      <th>Banking</th>\n",
       "      <th>Defence</th>\n",
       "      <th>Finance</th>\n",
       "      <th>Pharma</th>\n",
       "      <th>Labour</th>\n",
       "      <th>Others</th>\n",
       "      <th>Scheme_PRM</th>\n",
       "    </tr>\n",
       "  </thead>\n",
       "  <tbody>\n",
       "    <tr>\n",
       "      <th>0</th>\n",
       "      <td>M9773</td>\n",
       "      <td>1</td>\n",
       "      <td>51</td>\n",
       "      <td>4</td>\n",
       "      <td>17</td>\n",
       "      <td>0</td>\n",
       "      <td>748.230</td>\n",
       "      <td>0</td>\n",
       "      <td>0</td>\n",
       "      <td>0</td>\n",
       "      <td>...</td>\n",
       "      <td>0</td>\n",
       "      <td>0</td>\n",
       "      <td>0</td>\n",
       "      <td>0</td>\n",
       "      <td>0</td>\n",
       "      <td>0</td>\n",
       "      <td>0</td>\n",
       "      <td>0</td>\n",
       "      <td>0</td>\n",
       "      <td>0</td>\n",
       "    </tr>\n",
       "    <tr>\n",
       "      <th>1</th>\n",
       "      <td>M3396</td>\n",
       "      <td>1</td>\n",
       "      <td>51</td>\n",
       "      <td>4</td>\n",
       "      <td>17</td>\n",
       "      <td>0</td>\n",
       "      <td>769.125</td>\n",
       "      <td>0</td>\n",
       "      <td>0</td>\n",
       "      <td>0</td>\n",
       "      <td>...</td>\n",
       "      <td>0</td>\n",
       "      <td>0</td>\n",
       "      <td>0</td>\n",
       "      <td>0</td>\n",
       "      <td>0</td>\n",
       "      <td>0</td>\n",
       "      <td>0</td>\n",
       "      <td>0</td>\n",
       "      <td>0</td>\n",
       "      <td>0</td>\n",
       "    </tr>\n",
       "    <tr>\n",
       "      <th>2</th>\n",
       "      <td>M7889</td>\n",
       "      <td>1</td>\n",
       "      <td>62</td>\n",
       "      <td>6</td>\n",
       "      <td>17</td>\n",
       "      <td>0</td>\n",
       "      <td>839.895</td>\n",
       "      <td>1</td>\n",
       "      <td>0</td>\n",
       "      <td>1</td>\n",
       "      <td>...</td>\n",
       "      <td>0</td>\n",
       "      <td>0</td>\n",
       "      <td>0</td>\n",
       "      <td>0</td>\n",
       "      <td>0</td>\n",
       "      <td>0</td>\n",
       "      <td>0</td>\n",
       "      <td>0</td>\n",
       "      <td>0</td>\n",
       "      <td>0</td>\n",
       "    </tr>\n",
       "    <tr>\n",
       "      <th>3</th>\n",
       "      <td>M3423</td>\n",
       "      <td>0</td>\n",
       "      <td>50</td>\n",
       "      <td>4</td>\n",
       "      <td>21</td>\n",
       "      <td>0</td>\n",
       "      <td>7.770</td>\n",
       "      <td>0</td>\n",
       "      <td>0</td>\n",
       "      <td>0</td>\n",
       "      <td>...</td>\n",
       "      <td>0</td>\n",
       "      <td>0</td>\n",
       "      <td>0</td>\n",
       "      <td>0</td>\n",
       "      <td>0</td>\n",
       "      <td>0</td>\n",
       "      <td>0</td>\n",
       "      <td>0</td>\n",
       "      <td>0</td>\n",
       "      <td>0</td>\n",
       "    </tr>\n",
       "    <tr>\n",
       "      <th>4</th>\n",
       "      <td>M4624</td>\n",
       "      <td>1</td>\n",
       "      <td>51</td>\n",
       "      <td>4</td>\n",
       "      <td>17</td>\n",
       "      <td>0</td>\n",
       "      <td>637.035</td>\n",
       "      <td>1</td>\n",
       "      <td>1</td>\n",
       "      <td>0</td>\n",
       "      <td>...</td>\n",
       "      <td>0</td>\n",
       "      <td>0</td>\n",
       "      <td>0</td>\n",
       "      <td>0</td>\n",
       "      <td>0</td>\n",
       "      <td>0</td>\n",
       "      <td>0</td>\n",
       "      <td>0</td>\n",
       "      <td>0</td>\n",
       "      <td>0</td>\n",
       "    </tr>\n",
       "  </tbody>\n",
       "</table>\n",
       "<p>5 rows × 40 columns</p>\n",
       "</div>"
      ],
      "text/plain": [
       "  Account Number  Gender  Age  Salary Slab  Age of Home  Churners      Sum  \\\n",
       "0          M9773       1   51            4           17         0  748.230   \n",
       "1          M3396       1   51            4           17         0  769.125   \n",
       "2          M7889       1   62            6           17         0  839.895   \n",
       "3          M3423       0   50            4           21         0    7.770   \n",
       "4          M4624       1   51            4           17         0  637.035   \n",
       "\n",
       "   payment_complaint  account_complaint  utility_complaint     ...      \\\n",
       "0                  0                  0                  0     ...       \n",
       "1                  0                  0                  0     ...       \n",
       "2                  1                  0                  1     ...       \n",
       "3                  0                  0                  0     ...       \n",
       "4                  1                  1                  0     ...       \n",
       "\n",
       "   Accounting  Academics  Automative  Banking  Defence  Finance  Pharma  \\\n",
       "0           0          0           0        0        0        0       0   \n",
       "1           0          0           0        0        0        0       0   \n",
       "2           0          0           0        0        0        0       0   \n",
       "3           0          0           0        0        0        0       0   \n",
       "4           0          0           0        0        0        0       0   \n",
       "\n",
       "   Labour  Others  Scheme_PRM  \n",
       "0       0       0           0  \n",
       "1       0       0           0  \n",
       "2       0       0           0  \n",
       "3       0       0           0  \n",
       "4       0       0           0  \n",
       "\n",
       "[5 rows x 40 columns]"
      ]
     },
     "execution_count": 157,
     "metadata": {},
     "output_type": "execute_result"
    }
   ],
   "source": [
    "df_test_data = pd.read_csv(r\"C:\\Users\\SHIVAM MAHAJAN\\Desktop\\Github\\EXL data\\df_test_data.csv\")\n",
    "df_test_data.head()"
   ]
  },
  {
   "cell_type": "code",
   "execution_count": 158,
   "metadata": {
    "collapsed": false
   },
   "outputs": [],
   "source": [
    "train_acc_nums, test_acc_nums = df_train_data[\"Account Number\"].values, df_test_data[\"Account Number\"].values\n",
    "ytrain, ytest = df_train_data[\"Churners\"].values, df_test_data[\"Churners\"].values\n",
    "yidx = np.where(np.array(df_train_data.columns) == \"Churners\")[0][0]\n",
    "Xtrain = pd.concat([df_train_data.iloc[:,1:yidx], df_train_data.iloc[:,yidx+1:]],axis = 1).values\n",
    "Xtest = pd.concat([df_test_data.iloc[:,1:yidx], df_test_data.iloc[:,yidx+1:]], axis = 1).values"
   ]
  },
  {
   "cell_type": "code",
   "execution_count": 204,
   "metadata": {
    "collapsed": false
   },
   "outputs": [
    {
     "data": {
      "text/plain": [
       "array([[  1.,  43.,   3., ...,   0.,   0.,   0.],\n",
       "       [  1.,  63.,   4., ...,   0.,   0.,   0.],\n",
       "       [  1.,  29.,   9., ...,   0.,   0.,   0.],\n",
       "       ..., \n",
       "       [  0.,  62.,   1., ...,   0.,   0.,   0.],\n",
       "       [  0.,  64.,   6., ...,   0.,   0.,   0.],\n",
       "       [  0.,  63.,   3., ...,   0.,   0.,   0.]])"
      ]
     },
     "execution_count": 204,
     "metadata": {},
     "output_type": "execute_result"
    }
   ],
   "source": [
    "Xtrain"
   ]
  },
  {
   "cell_type": "code",
   "execution_count": 159,
   "metadata": {
    "collapsed": false
   },
   "outputs": [
    {
     "data": {
      "text/html": [
       "<div>\n",
       "<table border=\"1\" class=\"dataframe\">\n",
       "  <thead>\n",
       "    <tr style=\"text-align: right;\">\n",
       "      <th></th>\n",
       "      <th>Gender</th>\n",
       "      <th>Age</th>\n",
       "      <th>Salary Slab</th>\n",
       "      <th>Age of Home</th>\n",
       "      <th>Churners</th>\n",
       "      <th>Sum</th>\n",
       "    </tr>\n",
       "  </thead>\n",
       "  <tbody>\n",
       "    <tr>\n",
       "      <th>Gender</th>\n",
       "      <td>1.000000</td>\n",
       "      <td>0.023842</td>\n",
       "      <td>-0.006895</td>\n",
       "      <td>0.051388</td>\n",
       "      <td>-0.005693</td>\n",
       "      <td>-0.008937</td>\n",
       "    </tr>\n",
       "    <tr>\n",
       "      <th>Age</th>\n",
       "      <td>0.023842</td>\n",
       "      <td>1.000000</td>\n",
       "      <td>0.083658</td>\n",
       "      <td>0.296768</td>\n",
       "      <td>-0.042624</td>\n",
       "      <td>-0.032991</td>\n",
       "    </tr>\n",
       "    <tr>\n",
       "      <th>Salary Slab</th>\n",
       "      <td>-0.006895</td>\n",
       "      <td>0.083658</td>\n",
       "      <td>1.000000</td>\n",
       "      <td>0.278051</td>\n",
       "      <td>-0.037803</td>\n",
       "      <td>0.022125</td>\n",
       "    </tr>\n",
       "    <tr>\n",
       "      <th>Age of Home</th>\n",
       "      <td>0.051388</td>\n",
       "      <td>0.296768</td>\n",
       "      <td>0.278051</td>\n",
       "      <td>1.000000</td>\n",
       "      <td>-0.052292</td>\n",
       "      <td>-0.050769</td>\n",
       "    </tr>\n",
       "    <tr>\n",
       "      <th>Churners</th>\n",
       "      <td>-0.005693</td>\n",
       "      <td>-0.042624</td>\n",
       "      <td>-0.037803</td>\n",
       "      <td>-0.052292</td>\n",
       "      <td>1.000000</td>\n",
       "      <td>-0.019940</td>\n",
       "    </tr>\n",
       "    <tr>\n",
       "      <th>Sum</th>\n",
       "      <td>-0.008937</td>\n",
       "      <td>-0.032991</td>\n",
       "      <td>0.022125</td>\n",
       "      <td>-0.050769</td>\n",
       "      <td>-0.019940</td>\n",
       "      <td>1.000000</td>\n",
       "    </tr>\n",
       "  </tbody>\n",
       "</table>\n",
       "</div>"
      ],
      "text/plain": [
       "               Gender       Age  Salary Slab  Age of Home  Churners       Sum\n",
       "Gender       1.000000  0.023842    -0.006895     0.051388 -0.005693 -0.008937\n",
       "Age          0.023842  1.000000     0.083658     0.296768 -0.042624 -0.032991\n",
       "Salary Slab -0.006895  0.083658     1.000000     0.278051 -0.037803  0.022125\n",
       "Age of Home  0.051388  0.296768     0.278051     1.000000 -0.052292 -0.050769\n",
       "Churners    -0.005693 -0.042624    -0.037803    -0.052292  1.000000 -0.019940\n",
       "Sum         -0.008937 -0.032991     0.022125    -0.050769 -0.019940  1.000000"
      ]
     },
     "execution_count": 159,
     "metadata": {},
     "output_type": "execute_result"
    }
   ],
   "source": [
    "df_train_data.iloc[:,1:7].corr()"
   ]
  },
  {
   "cell_type": "code",
   "execution_count": 160,
   "metadata": {
    "collapsed": false
   },
   "outputs": [],
   "source": [
    "from sklearn.svm import SVC\n",
    "from sklearn.metrics import accuracy_score\n",
    "from sklearn.preprocessing import StandardScaler\n",
    "from sklearn.cross_validation import train_test_split"
   ]
  },
  {
   "cell_type": "code",
   "execution_count": 161,
   "metadata": {
    "collapsed": false
   },
   "outputs": [
    {
     "data": {
      "text/plain": [
       "array([[ 0.81931607, -0.58032731, -0.78282149, ..., -0.03361885,\n",
       "        -0.08925026, -0.40282571],\n",
       "       [ 0.81931607,  1.00507734, -0.21968732, ..., -0.03361885,\n",
       "        -0.08925026, -0.40282571],\n",
       "       [ 0.81931607, -1.69011056,  2.59598355, ..., -0.03361885,\n",
       "        -0.08925026, -0.40282571],\n",
       "       ..., \n",
       "       [-1.22053019,  0.9258071 , -1.90908983, ..., -0.03361885,\n",
       "        -0.08925026, -0.40282571],\n",
       "       [-1.22053019,  1.08434757,  0.90658103, ..., -0.03361885,\n",
       "        -0.08925026, -0.40282571],\n",
       "       [-1.22053019,  1.00507734, -0.78282149, ..., -0.03361885,\n",
       "        -0.08925026, -0.40282571]])"
      ]
     },
     "execution_count": 161,
     "metadata": {},
     "output_type": "execute_result"
    }
   ],
   "source": [
    "sc = StandardScaler()\n",
    "sc.fit(Xtrain)\n",
    "Xtrain_std, Xtest_std = sc.transform(Xtrain), sc.transform(Xtest)\n",
    "Xtrain_std"
   ]
  },
  {
   "cell_type": "markdown",
   "metadata": {},
   "source": [
    "### K-Nearest Neighbor Algorithm"
   ]
  },
  {
   "cell_type": "code",
   "execution_count": 162,
   "metadata": {
    "collapsed": false
   },
   "outputs": [
    {
     "data": {
      "text/plain": [
       "97.0"
      ]
     },
     "execution_count": 162,
     "metadata": {},
     "output_type": "execute_result"
    }
   ],
   "source": [
    "from sklearn.neighbors import KNeighborsClassifier\n",
    "knn = KNeighborsClassifier(n_neighbors = 1)\n",
    "knn.fit(Xtrain_std,ytrain)\n",
    "ypred = knn.predict(Xtest_std)\n",
    "np.sum(ypred)"
   ]
  },
  {
   "cell_type": "code",
   "execution_count": 163,
   "metadata": {
    "collapsed": false
   },
   "outputs": [
    {
     "data": {
      "text/plain": [
       "0.95235707121364088"
      ]
     },
     "execution_count": 163,
     "metadata": {},
     "output_type": "execute_result"
    }
   ],
   "source": [
    "accuracy_score(np.zeros(len(ytest)), ytest)"
   ]
  },
  {
   "cell_type": "code",
   "execution_count": 164,
   "metadata": {
    "collapsed": false,
    "scrolled": true
   },
   "outputs": [
    {
     "data": {
      "text/plain": [
       "array([[1811,   88],\n",
       "       [  86,    9]])"
      ]
     },
     "execution_count": 164,
     "metadata": {},
     "output_type": "execute_result"
    }
   ],
   "source": [
    "from sklearn.metrics import confusion_matrix\n",
    "confusion_matrix(ytest, ypred)"
   ]
  },
  {
   "cell_type": "code",
   "execution_count": 165,
   "metadata": {
    "collapsed": false
   },
   "outputs": [
    {
     "data": {
      "text/plain": [
       "0.093749999999999986"
      ]
     },
     "execution_count": 165,
     "metadata": {},
     "output_type": "execute_result"
    }
   ],
   "source": [
    "from sklearn.metrics import f1_score\n",
    "f1_score(ytest, ypred)"
   ]
  },
  {
   "cell_type": "code",
   "execution_count": 166,
   "metadata": {
    "collapsed": false
   },
   "outputs": [
    {
     "data": {
      "text/plain": [
       "RandomizedSearchCV(cv=10, error_score='raise',\n",
       "          estimator=KNeighborsClassifier(algorithm='auto', leaf_size=30, metric='minkowski',\n",
       "           metric_params=None, n_jobs=1, n_neighbors=1, p=2,\n",
       "           weights='uniform'),\n",
       "          fit_params={}, iid=True, n_iter=10, n_jobs=1,\n",
       "          param_distributions={'n_neighbors': [1, 2, 3, 4, 5, 6, 7, 8, 9, 10, 11, 12, 13, 14, 15, 16, 17, 18, 19, 20, 21, 22, 23, 24, 25, 26, 27, 28, 29], 'weights': ['uniform', 'distance'], 'p': [1, 2]},\n",
       "          pre_dispatch='2*n_jobs', random_state=None, refit=True,\n",
       "          scoring='roc_auc', verbose=0)"
      ]
     },
     "execution_count": 166,
     "metadata": {},
     "output_type": "execute_result"
    }
   ],
   "source": [
    "from sklearn.model_selection import RandomizedSearchCV\n",
    "param_grid = {\n",
    "    \"n_neighbors\" : range(1,30),\n",
    "    \"weights\" : [\"uniform\", \"distance\"],\n",
    "    \"p\" : [1,2]\n",
    "}\n",
    "grid = RandomizedSearchCV(knn,param_grid,cv=10, scoring=\"roc_auc\")\n",
    "grid.fit(Xtrain_std,ytrain)"
   ]
  },
  {
   "cell_type": "code",
   "execution_count": 167,
   "metadata": {
    "collapsed": false
   },
   "outputs": [
    {
     "name": "stderr",
     "output_type": "stream",
     "text": [
      "C:\\Users\\SHIVAM MAHAJAN\\Anaconda\\lib\\site-packages\\sklearn\\model_selection\\_search.py:639: DeprecationWarning: The grid_scores_ attribute was deprecated in version 0.18 in favor of the more elaborate cv_results_ attribute. The grid_scores_ attribute will not be available from 0.20\n",
      "  DeprecationWarning)\n"
     ]
    },
    {
     "data": {
      "text/plain": [
       "[mean: 0.57274, std: 0.03274, params: {'p': 2, 'weights': 'uniform', 'n_neighbors': 10},\n",
       " mean: 0.60818, std: 0.03022, params: {'p': 1, 'weights': 'uniform', 'n_neighbors': 26},\n",
       " mean: 0.58911, std: 0.03994, params: {'p': 1, 'weights': 'uniform', 'n_neighbors': 17},\n",
       " mean: 0.57109, std: 0.03688, params: {'p': 2, 'weights': 'distance', 'n_neighbors': 11},\n",
       " mean: 0.57695, std: 0.03835, params: {'p': 1, 'weights': 'distance', 'n_neighbors': 15},\n",
       " mean: 0.59397, std: 0.03921, params: {'p': 2, 'weights': 'uniform', 'n_neighbors': 19},\n",
       " mean: 0.59971, std: 0.04353, params: {'p': 2, 'weights': 'distance', 'n_neighbors': 28},\n",
       " mean: 0.57436, std: 0.02898, params: {'p': 2, 'weights': 'distance', 'n_neighbors': 13},\n",
       " mean: 0.54875, std: 0.03003, params: {'p': 2, 'weights': 'uniform', 'n_neighbors': 6},\n",
       " mean: 0.60759, std: 0.03969, params: {'p': 2, 'weights': 'uniform', 'n_neighbors': 25}]"
      ]
     },
     "execution_count": 167,
     "metadata": {},
     "output_type": "execute_result"
    }
   ],
   "source": [
    "grid.grid_scores_"
   ]
  },
  {
   "cell_type": "code",
   "execution_count": 168,
   "metadata": {
    "collapsed": false
   },
   "outputs": [
    {
     "data": {
      "text/plain": [
       "{'n_neighbors': 26, 'p': 1, 'weights': 'uniform'}"
      ]
     },
     "execution_count": 168,
     "metadata": {},
     "output_type": "execute_result"
    }
   ],
   "source": [
    "grid.best_params_"
   ]
  },
  {
   "cell_type": "code",
   "execution_count": 169,
   "metadata": {
    "collapsed": false
   },
   "outputs": [
    {
     "data": {
      "text/plain": [
       "0.60817855527655484"
      ]
     },
     "execution_count": 169,
     "metadata": {},
     "output_type": "execute_result"
    }
   ],
   "source": [
    "grid.best_score_"
   ]
  },
  {
   "cell_type": "code",
   "execution_count": 170,
   "metadata": {
    "collapsed": true
   },
   "outputs": [],
   "source": [
    "from sklearn.preprocessing import binarize\n",
    "from sklearn import metrics"
   ]
  },
  {
   "cell_type": "code",
   "execution_count": 171,
   "metadata": {
    "collapsed": false
   },
   "outputs": [
    {
     "data": {
      "text/plain": [
       "0.62533466367340151"
      ]
     },
     "execution_count": 171,
     "metadata": {},
     "output_type": "execute_result"
    }
   ],
   "source": [
    "knn = KNeighborsClassifier(n_neighbors=26, p = 1, weights= \"uniform\")\n",
    "knn.fit(Xtrain_std, ytrain)\n",
    "ypred_prob = knn.predict_proba(Xtest_std)[:,1]\n",
    "metrics.roc_auc_score(ytest, ypred_prob)"
   ]
  },
  {
   "cell_type": "code",
   "execution_count": 172,
   "metadata": {
    "collapsed": false
   },
   "outputs": [
    {
     "data": {
      "image/png": "[encoded data removed]",
      "text/plain": [
       "<matplotlib.figure.Figure at 0xc9abe48>"
      ]
     },
     "metadata": {},
     "output_type": "display_data"
    }
   ],
   "source": [
    "import matplotlib.pyplot as plt\n",
    "%matplotlib inline\n",
    "tpr, fpr, thresholds = metrics.roc_curve(ytest, ypred_prob)\n",
    "plt.plot(tpr,fpr)\n",
    "plt.xlim([0.0, 1.0])\n",
    "plt.ylim([0.0, 1.0])\n",
    "plt.title('ROC curve for diabetes classifier')\n",
    "plt.xlabel('False Positive Rate (1 - Specificity)')\n",
    "plt.ylabel('True Positive Rate (Sensitivity)')\n",
    "plt.grid(True)"
   ]
  },
  {
   "cell_type": "code",
   "execution_count": 173,
   "metadata": {
    "collapsed": false
   },
   "outputs": [],
   "source": [
    "def evaluate_score(threshold, ypred_prob):\n",
    "    ypred_class = binarize([ypred_prob],threshold)\n",
    "    ypred = ypred_class[0]\n",
    "    confusion = confusion_matrix(ytest,ypred)\n",
    "    tpr = confusion[1,1]/float(confusion[1,1] + confusion[1,0])\n",
    "    fpr = confusion[0,1]/float(confusion[0,1] + confusion[0,0])\n",
    "    print \"Senstivty :\", tpr\n",
    "    print \"Specificity :\", 1-fpr\n",
    "    print \"F1-Score :\", metrics.f1_score(ytest,ypred)\n",
    "    print \"Confusion Matrix :\"\n",
    "    print confusion"
   ]
  },
  {
   "cell_type": "code",
   "execution_count": 174,
   "metadata": {
    "collapsed": false
   },
   "outputs": [
    {
     "name": "stdout",
     "output_type": "stream",
     "text": [
      "Senstivty : 0.789473684211\n",
      "Specificity : 0.369141653502\n",
      "F1-Score : 0.109649122807\n",
      "Confusion Matrix :\n",
      "[[ 701 1198]\n",
      " [  20   75]]\n"
     ]
    }
   ],
   "source": [
    "evaluate_score(0.038,ypred_prob)"
   ]
  },
  {
   "cell_type": "code",
   "execution_count": 175,
   "metadata": {
    "collapsed": false
   },
   "outputs": [
    {
     "data": {
      "text/plain": [
       "count    1994.000000\n",
       "mean        0.044962\n",
       "std         0.050354\n",
       "min         0.000000\n",
       "25%         0.000000\n",
       "50%         0.038462\n",
       "75%         0.076923\n",
       "max         0.384615\n",
       "dtype: float64"
      ]
     },
     "execution_count": 175,
     "metadata": {},
     "output_type": "execute_result"
    }
   ],
   "source": [
    "pd.Series(ypred_prob).describe()"
   ]
  },
  {
   "cell_type": "markdown",
   "metadata": {},
   "source": [
    "### Logistic Regression"
   ]
  },
  {
   "cell_type": "code",
   "execution_count": 176,
   "metadata": {
    "collapsed": false
   },
   "outputs": [],
   "source": [
    "from sklearn.linear_model import LogisticRegression\n",
    "lr = LogisticRegression()"
   ]
  },
  {
   "cell_type": "code",
   "execution_count": 183,
   "metadata": {
    "collapsed": false
   },
   "outputs": [
    {
     "data": {
      "text/plain": [
       "RandomizedSearchCV(cv=10, error_score='raise',\n",
       "          estimator=LogisticRegression(C=0.003, class_weight=None, dual=False, fit_intercept=True,\n",
       "          intercept_scaling=1, max_iter=100, multi_class='ovr', n_jobs=1,\n",
       "          penalty='l2', random_state=None, solver='liblinear', tol=0.0001,\n",
       "          verbose=0, warm_start=False),\n",
       "          fit_params={}, iid=True, n_iter=15, n_jobs=1,\n",
       "          param_distributions={'penalty': ['l1', 'l2'], 'C': [0.0001, 0.003, 0.01, 0.03, 0.1, 0.3, 1, 3, 10]},\n",
       "          pre_dispatch='2*n_jobs', random_state=None, refit=True,\n",
       "          scoring='roc_auc', verbose=0)"
      ]
     },
     "execution_count": 183,
     "metadata": {},
     "output_type": "execute_result"
    }
   ],
   "source": [
    "param_grid = {\n",
    "    \"C\" : [0.0001,0.003,0.01,0.03,0.1,0.3,1,3,10],\n",
    "    \"penalty\" : [\"l1\", \"l2\"]\n",
    "}\n",
    "rand_cv = RandomizedSearchCV(lr, param_grid, cv = 10, scoring = \"roc_auc\", n_iter=15)\n",
    "rand_cv.fit(Xtrain_std, ytrain)"
   ]
  },
  {
   "cell_type": "code",
   "execution_count": 184,
   "metadata": {
    "collapsed": false
   },
   "outputs": [
    {
     "name": "stderr",
     "output_type": "stream",
     "text": [
      "C:\\Users\\SHIVAM MAHAJAN\\Anaconda\\lib\\site-packages\\sklearn\\model_selection\\_search.py:639: DeprecationWarning: The grid_scores_ attribute was deprecated in version 0.18 in favor of the more elaborate cv_results_ attribute. The grid_scores_ attribute will not be available from 0.20\n",
      "  DeprecationWarning)\n"
     ]
    },
    {
     "data": {
      "text/plain": [
       "[mean: 0.50000, std: 0.00000, params: {'penalty': 'l1', 'C': 0.0001},\n",
       " mean: 0.68154, std: 0.04569, params: {'penalty': 'l2', 'C': 0.0001},\n",
       " mean: 0.50000, std: 0.00000, params: {'penalty': 'l1', 'C': 0.003},\n",
       " mean: 0.68333, std: 0.04477, params: {'penalty': 'l2', 'C': 0.003},\n",
       " mean: 0.67360, std: 0.04425, params: {'penalty': 'l2', 'C': 3},\n",
       " mean: 0.68012, std: 0.04475, params: {'penalty': 'l2', 'C': 0.01},\n",
       " mean: 0.67423, std: 0.03944, params: {'penalty': 'l1', 'C': 0.03},\n",
       " mean: 0.67710, std: 0.04454, params: {'penalty': 'l2', 'C': 0.03},\n",
       " mean: 0.67764, std: 0.04266, params: {'penalty': 'l1', 'C': 0.1},\n",
       " mean: 0.67358, std: 0.04425, params: {'penalty': 'l2', 'C': 10},\n",
       " mean: 0.67598, std: 0.04412, params: {'penalty': 'l1', 'C': 0.3},\n",
       " mean: 0.67393, std: 0.04437, params: {'penalty': 'l2', 'C': 0.3},\n",
       " mean: 0.67468, std: 0.04415, params: {'penalty': 'l1', 'C': 1},\n",
       " mean: 0.67369, std: 0.04423, params: {'penalty': 'l2', 'C': 1},\n",
       " mean: 0.67396, std: 0.04416, params: {'penalty': 'l1', 'C': 3}]"
      ]
     },
     "execution_count": 184,
     "metadata": {},
     "output_type": "execute_result"
    }
   ],
   "source": [
    "rand_cv.grid_scores_"
   ]
  },
  {
   "cell_type": "code",
   "execution_count": 185,
   "metadata": {
    "collapsed": false
   },
   "outputs": [
    {
     "data": {
      "text/plain": [
       "{'C': 0.003, 'penalty': 'l2'}"
      ]
     },
     "execution_count": 185,
     "metadata": {},
     "output_type": "execute_result"
    }
   ],
   "source": [
    "rand_cv.best_params_"
   ]
  },
  {
   "cell_type": "code",
   "execution_count": 186,
   "metadata": {
    "collapsed": false
   },
   "outputs": [
    {
     "data": {
      "text/plain": [
       "0.68333403786008551"
      ]
     },
     "execution_count": 186,
     "metadata": {},
     "output_type": "execute_result"
    }
   ],
   "source": [
    "rand_cv.best_score_"
   ]
  },
  {
   "cell_type": "code",
   "execution_count": 187,
   "metadata": {
    "collapsed": false
   },
   "outputs": [
    {
     "data": {
      "text/plain": [
       "0.70430143288711511"
      ]
     },
     "execution_count": 187,
     "metadata": {},
     "output_type": "execute_result"
    }
   ],
   "source": [
    "lr = LogisticRegression(penalty=\"l2\", C= 0.003)\n",
    "lr.fit(Xtrain_std, ytrain)\n",
    "ypred_prob_lr = lr.predict_proba(Xtest_std)[:,1]\n",
    "metrics.roc_auc_score(ytest, ypred_prob_lr)"
   ]
  },
  {
   "cell_type": "code",
   "execution_count": 188,
   "metadata": {
    "collapsed": false
   },
   "outputs": [
    {
     "data": {
      "text/plain": [
       "count    1994.000000\n",
       "mean        0.044962\n",
       "std         0.050354\n",
       "min         0.000000\n",
       "25%         0.000000\n",
       "50%         0.038462\n",
       "75%         0.076923\n",
       "max         0.384615\n",
       "dtype: float64"
      ]
     },
     "execution_count": 188,
     "metadata": {},
     "output_type": "execute_result"
    }
   ],
   "source": [
    "pd.Series(ypred_prob).describe()"
   ]
  },
  {
   "cell_type": "code",
   "execution_count": 189,
   "metadata": {
    "collapsed": false
   },
   "outputs": [
    {
     "data": {
      "image/png": "[encoded data removed]",
      "text/plain": [
       "<matplotlib.figure.Figure at 0xc150f28>"
      ]
     },
     "metadata": {},
     "output_type": "display_data"
    }
   ],
   "source": [
    "import matplotlib.pyplot as plt\n",
    "tpr, fpr, thresholds = metrics.roc_curve(ytest, ypred_prob_lr)\n",
    "plt.plot(tpr,fpr)\n",
    "plt.xlim([0.0, 1.0])\n",
    "plt.ylim([0.0, 1.0])\n",
    "plt.title('ROC curve for diabetes classifier')\n",
    "plt.xlabel('False Positive Rate (1 - Specificity)')\n",
    "plt.ylabel('True Positive Rate (Sensitivity)')\n",
    "plt.grid(True)"
   ]
  },
  {
   "cell_type": "code",
   "execution_count": 326,
   "metadata": {
    "collapsed": false
   },
   "outputs": [
    {
     "name": "stdout",
     "output_type": "stream",
     "text": [
      "Senstivty : 0.368421052632\n",
      "Specificity : 0.903106898368\n",
      "F1-Score : 0.222929936306\n",
      "Confusion Matrix :\n",
      "[[1715  184]\n",
      " [  60   35]]\n"
     ]
    }
   ],
   "source": [
    "evaluate_score(0.162,ypred_prob_lr) "
   ]
  },
  {
   "cell_type": "markdown",
   "metadata": {},
   "source": [
    "#### Clearly Logistic is Better than KNN. But we are yet to chose a cutoff."
   ]
  },
  {
   "cell_type": "markdown",
   "metadata": {},
   "source": [
    "### SVM"
   ]
  },
  {
   "cell_type": "code",
   "execution_count": 31,
   "metadata": {
    "collapsed": true
   },
   "outputs": [],
   "source": [
    "import time"
   ]
  },
  {
   "cell_type": "code",
   "execution_count": 47,
   "metadata": {
    "collapsed": false
   },
   "outputs": [],
   "source": [
    "from sklearn.svm import SVC\n",
    "svm = SVC()\n",
    "para_grid = {\n",
    "    \"C\" : [0.001, 0.003, 0.01, 0.03, 0.1, 0.3, 1, 3],\n",
    "    \"degree\" : [2,3,4,5],\n",
    "    \"kernel\" : [\"poly\"]\n",
    "}"
   ]
  },
  {
   "cell_type": "code",
   "execution_count": 48,
   "metadata": {
    "collapsed": false
   },
   "outputs": [
    {
     "data": {
      "text/plain": [
       "RandomizedSearchCV(cv=10, error_score='raise',\n",
       "          estimator=SVC(C=1.0, cache_size=200, class_weight=None, coef0=0.0,\n",
       "  decision_function_shape=None, degree=3, gamma='auto', kernel='rbf',\n",
       "  max_iter=-1, probability=False, random_state=None, shrinking=True,\n",
       "  tol=0.001, verbose=False),\n",
       "          fit_params={}, iid=True, n_iter=20, n_jobs=1,\n",
       "          param_distributions={'kernel': ['poly'], 'C': [0.001, 0.003, 0.01, 0.03, 0.1, 0.3, 1, 3], 'degree': [2, 3, 4, 5]},\n",
       "          pre_dispatch='2*n_jobs', random_state=None, refit=True,\n",
       "          scoring='roc_auc', verbose=0)"
      ]
     },
     "execution_count": 48,
     "metadata": {},
     "output_type": "execute_result"
    }
   ],
   "source": [
    "rand_cv = RandomizedSearchCV(svm, para_grid, scoring = \"roc_auc\", cv = 10, n_iter=20)\n",
    "rand_cv.fit(Xtrain_std, ytrain)"
   ]
  },
  {
   "cell_type": "code",
   "execution_count": 49,
   "metadata": {
    "collapsed": false
   },
   "outputs": [
    {
     "data": {
      "text/plain": [
       "[mean: 0.53613, std: 0.05633, params: {'kernel': 'poly', 'C': 3, 'degree': 5},\n",
       " mean: 0.53344, std: 0.04872, params: {'kernel': 'poly', 'C': 0.1, 'degree': 4},\n",
       " mean: 0.53865, std: 0.05428, params: {'kernel': 'poly', 'C': 0.01, 'degree': 3},\n",
       " mean: 0.54222, std: 0.03984, params: {'kernel': 'poly', 'C': 0.003, 'degree': 5},\n",
       " mean: 0.53413, std: 0.05010, params: {'kernel': 'poly', 'C': 0.003, 'degree': 2},\n",
       " mean: 0.54467, std: 0.04933, params: {'kernel': 'poly', 'C': 1, 'degree': 4},\n",
       " mean: 0.54058, std: 0.05580, params: {'kernel': 'poly', 'C': 1, 'degree': 5},\n",
       " mean: 0.53718, std: 0.05372, params: {'kernel': 'poly', 'C': 0.1, 'degree': 3},\n",
       " mean: 0.53946, std: 0.04021, params: {'kernel': 'poly', 'C': 0.01, 'degree': 5},\n",
       " mean: 0.52419, std: 0.03925, params: {'kernel': 'poly', 'C': 0.01, 'degree': 2},\n",
       " mean: 0.54011, std: 0.05561, params: {'kernel': 'poly', 'C': 1, 'degree': 3},\n",
       " mean: 0.54111, std: 0.04492, params: {'kernel': 'poly', 'C': 0.003, 'degree': 4},\n",
       " mean: 0.54223, std: 0.04165, params: {'kernel': 'poly', 'C': 0.001, 'degree': 5},\n",
       " mean: 0.52936, std: 0.03975, params: {'kernel': 'poly', 'C': 0.1, 'degree': 2},\n",
       " mean: 0.53449, std: 0.03590, params: {'kernel': 'poly', 'C': 0.3, 'degree': 2},\n",
       " mean: 0.53621, std: 0.06030, params: {'kernel': 'poly', 'C': 0.001, 'degree': 3},\n",
       " mean: 0.53612, std: 0.04024, params: {'kernel': 'poly', 'C': 0.03, 'degree': 5},\n",
       " mean: 0.53980, std: 0.04742, params: {'kernel': 'poly', 'C': 0.01, 'degree': 4},\n",
       " mean: 0.52834, std: 0.03781, params: {'kernel': 'poly', 'C': 0.03, 'degree': 2},\n",
       " mean: 0.55556, std: 0.06420, params: {'kernel': 'poly', 'C': 3, 'degree': 2}]"
      ]
     },
     "execution_count": 49,
     "metadata": {},
     "output_type": "execute_result"
    }
   ],
   "source": [
    "rand_cv.grid_scores_"
   ]
  },
  {
   "cell_type": "code",
   "execution_count": 50,
   "metadata": {
    "collapsed": false
   },
   "outputs": [
    {
     "data": {
      "text/plain": [
       "0.55555734689171621"
      ]
     },
     "execution_count": 50,
     "metadata": {},
     "output_type": "execute_result"
    }
   ],
   "source": [
    "rand_cv.best_score_"
   ]
  },
  {
   "cell_type": "code",
   "execution_count": 51,
   "metadata": {
    "collapsed": false
   },
   "outputs": [
    {
     "data": {
      "text/plain": [
       "{'C': 3, 'degree': 2, 'kernel': 'poly'}"
      ]
     },
     "execution_count": 51,
     "metadata": {},
     "output_type": "execute_result"
    }
   ],
   "source": [
    "rand_cv.best_params_"
   ]
  },
  {
   "cell_type": "code",
   "execution_count": 53,
   "metadata": {
    "collapsed": false
   },
   "outputs": [
    {
     "data": {
      "text/plain": [
       "0.4985726559685153"
      ]
     },
     "execution_count": 53,
     "metadata": {},
     "output_type": "execute_result"
    }
   ],
   "source": [
    "svm = SVC(C=3, degree = 2, kernel = \"poly\", probability=True)\n",
    "svm.fit(Xtrain_std, ytrain)\n",
    "ypred_prob_svm = svm.predict_proba(Xtest_std)[:,1]\n",
    "metrics.roc_auc_score(ytest, ypred_prob_svm)"
   ]
  },
  {
   "cell_type": "markdown",
   "metadata": {},
   "source": [
    "#### Using rbf"
   ]
  },
  {
   "cell_type": "code",
   "execution_count": 202,
   "metadata": {
    "collapsed": true
   },
   "outputs": [],
   "source": [
    "from sklearn.svm import SVC\n",
    "svm = SVC()\n",
    "para_grid = {\n",
    "    \"C\" : [0.01, 0.03, 0.1, 0.3, 1],\n",
    "    \"gamma\" : [0.01, 0.03, 0.1, 0.3, 1],\n",
    "    \"kernel\" : [\"rbf\"]\n",
    "}"
   ]
  },
  {
   "cell_type": "code",
   "execution_count": 203,
   "metadata": {
    "collapsed": false
   },
   "outputs": [
    {
     "data": {
      "text/plain": [
       "RandomizedSearchCV(cv=10, error_score='raise',\n",
       "          estimator=SVC(C=1.0, cache_size=200, class_weight=None, coef0=0.0,\n",
       "  decision_function_shape=None, degree=3, gamma='auto', kernel='rbf',\n",
       "  max_iter=-1, probability=False, random_state=None, shrinking=True,\n",
       "  tol=0.001, verbose=False),\n",
       "          fit_params={}, iid=True, n_iter=10, n_jobs=1,\n",
       "          param_distributions={'kernel': ['rbf'], 'C': [0.01, 0.03, 0.1, 0.3, 1], 'gamma': [0.01, 0.03, 0.1, 0.3, 1]},\n",
       "          pre_dispatch='2*n_jobs', random_state=None, refit=True,\n",
       "          scoring='roc_auc', verbose=0)"
      ]
     },
     "execution_count": 203,
     "metadata": {},
     "output_type": "execute_result"
    }
   ],
   "source": [
    "rand_cv = RandomizedSearchCV(svm, para_grid, cv = 10, scoring = \"roc_auc\")\n",
    "rand_cv.fit(Xtrain_std, ytrain)"
   ]
  },
  {
   "cell_type": "code",
   "execution_count": 205,
   "metadata": {
    "collapsed": false
   },
   "outputs": [
    {
     "name": "stderr",
     "output_type": "stream",
     "text": [
      "C:\\Users\\SHIVAM MAHAJAN\\Anaconda\\lib\\site-packages\\sklearn\\model_selection\\_search.py:639: DeprecationWarning: The grid_scores_ attribute was deprecated in version 0.18 in favor of the more elaborate cv_results_ attribute. The grid_scores_ attribute will not be available from 0.20\n",
      "  DeprecationWarning)\n"
     ]
    },
    {
     "data": {
      "text/plain": [
       "[mean: 0.55969, std: 0.04719, params: {'kernel': 'rbf', 'C': 1, 'gamma': 0.1},\n",
       " mean: 0.55838, std: 0.04587, params: {'kernel': 'rbf', 'C': 0.01, 'gamma': 0.03},\n",
       " mean: 0.55613, std: 0.04451, params: {'kernel': 'rbf', 'C': 0.3, 'gamma': 0.03},\n",
       " mean: 0.56176, std: 0.04967, params: {'kernel': 'rbf', 'C': 0.01, 'gamma': 0.3},\n",
       " mean: 0.55331, std: 0.03827, params: {'kernel': 'rbf', 'C': 1, 'gamma': 1},\n",
       " mean: 0.57041, std: 0.05384, params: {'kernel': 'rbf', 'C': 0.1, 'gamma': 0.3},\n",
       " mean: 0.55345, std: 0.03848, params: {'kernel': 'rbf', 'C': 0.3, 'gamma': 1},\n",
       " mean: 0.56992, std: 0.05335, params: {'kernel': 'rbf', 'C': 1, 'gamma': 0.3},\n",
       " mean: 0.55630, std: 0.04401, params: {'kernel': 'rbf', 'C': 1, 'gamma': 0.03},\n",
       " mean: 0.55400, std: 0.03977, params: {'kernel': 'rbf', 'C': 0.03, 'gamma': 1}]"
      ]
     },
     "execution_count": 205,
     "metadata": {},
     "output_type": "execute_result"
    }
   ],
   "source": [
    "rand_cv.grid_scores_"
   ]
  },
  {
   "cell_type": "code",
   "execution_count": 206,
   "metadata": {
    "collapsed": false
   },
   "outputs": [
    {
     "data": {
      "text/plain": [
       "{'C': 0.1, 'gamma': 0.3, 'kernel': 'rbf'}"
      ]
     },
     "execution_count": 206,
     "metadata": {},
     "output_type": "execute_result"
    }
   ],
   "source": [
    "rand_cv.best_params_"
   ]
  },
  {
   "cell_type": "code",
   "execution_count": 207,
   "metadata": {
    "collapsed": false
   },
   "outputs": [
    {
     "data": {
      "text/plain": [
       "0.7105041434550039"
      ]
     },
     "execution_count": 207,
     "metadata": {},
     "output_type": "execute_result"
    }
   ],
   "source": [
    "svm = SVC(C=0.1, gamma = 0.3, kernel = \"rbf\", probability=True)\n",
    "svm.fit(Xtrain_std, ytrain)\n",
    "ypred_prob_rbf = svm.predict_proba(Xtest_std)[:,1]\n",
    "metrics.roc_auc_score(ytest, ypred_prob_rbf)"
   ]
  },
  {
   "cell_type": "code",
   "execution_count": 58,
   "metadata": {
    "collapsed": false
   },
   "outputs": [
    {
     "data": {
      "text/plain": [
       "count    1994.000000\n",
       "mean        0.054617\n",
       "std         0.008934\n",
       "min         0.019071\n",
       "25%         0.049455\n",
       "50%         0.055158\n",
       "75%         0.060143\n",
       "max         0.111483\n",
       "dtype: float64"
      ]
     },
     "execution_count": 58,
     "metadata": {},
     "output_type": "execute_result"
    }
   ],
   "source": [
    "pd.Series(ypred_prob).describe()"
   ]
  },
  {
   "cell_type": "code",
   "execution_count": 48,
   "metadata": {
    "collapsed": false
   },
   "outputs": [
    {
     "data": {
      "image/png": "[encoded data removed]",
      "text/plain": [
       "<matplotlib.figure.Figure at 0xc9b78d0>"
      ]
     },
     "metadata": {},
     "output_type": "display_data"
    }
   ],
   "source": [
    "import matplotlib.pyplot as plt\n",
    "tpr, fpr, thresholds = metrics.roc_curve(ytest, ypred_prob_rbf)\n",
    "plt.plot(tpr,fpr)\n",
    "plt.xlim([0.0, 1.0])\n",
    "plt.ylim([0.0, 1.0])\n",
    "plt.title('ROC curve for diabetes classifier')\n",
    "plt.xlabel('False Positive Rate (1 - Specificity)')\n",
    "plt.ylabel('True Positive Rate (Sensitivity)')\n",
    "plt.grid(True)"
   ]
  },
  {
   "cell_type": "code",
   "execution_count": 85,
   "metadata": {
    "collapsed": false
   },
   "outputs": [
    {
     "name": "stdout",
     "output_type": "stream",
     "text": [
      "Senstivty : 0.505263157895\n",
      "Specificity : 0.744602422328\n",
      "F1-Score : 0.152866242038\n",
      "Confusion Matrix :\n",
      "[[1414  485]\n",
      " [  47   48]]\n"
     ]
    }
   ],
   "source": [
    "evaluate_score(0.056,ypred_prob_rbf)"
   ]
  },
  {
   "cell_type": "code",
   "execution_count": 86,
   "metadata": {
    "collapsed": false
   },
   "outputs": [
    {
     "data": {
      "text/plain": [
       "0.73319959879638918"
      ]
     },
     "execution_count": 86,
     "metadata": {},
     "output_type": "execute_result"
    }
   ],
   "source": [
    "ypred_rbf = binarize([ypred_prob_rbf], 0.056)[0]\n",
    "accuracy_score(ypred_rbf, ytest)"
   ]
  },
  {
   "cell_type": "markdown",
   "metadata": {},
   "source": [
    "### Random Forest"
   ]
  },
  {
   "cell_type": "code",
   "execution_count": 88,
   "metadata": {
    "collapsed": false
   },
   "outputs": [
    {
     "data": {
      "text/plain": [
       "array([ 0.62260175,  0.58880178,  0.60290037,  0.60801394,  0.56429862,\n",
       "        0.56002387,  0.56716996,  0.58539812,  0.59447993,  0.59789973])"
      ]
     },
     "execution_count": 88,
     "metadata": {},
     "output_type": "execute_result"
    }
   ],
   "source": [
    "from sklearn.ensemble import RandomForestClassifier\n",
    "rf = RandomForestClassifier()\n",
    "from sklearn.cross_validation import cross_val_score\n",
    "scores = cross_val_score(rf, Xtrain_std, ytrain, cv = 10, scoring = \"roc_auc\")\n",
    "scores"
   ]
  },
  {
   "cell_type": "code",
   "execution_count": 89,
   "metadata": {
    "collapsed": false
   },
   "outputs": [
    {
     "data": {
      "text/plain": [
       "0.58915880695732159"
      ]
     },
     "execution_count": 89,
     "metadata": {},
     "output_type": "execute_result"
    }
   ],
   "source": [
    "scores.mean()"
   ]
  },
  {
   "cell_type": "code",
   "execution_count": 91,
   "metadata": {
    "collapsed": false
   },
   "outputs": [
    {
     "data": {
      "text/plain": [
       "0.63712480252764614"
      ]
     },
     "execution_count": 91,
     "metadata": {},
     "output_type": "execute_result"
    }
   ],
   "source": [
    "rf.fit(Xtrain_std, ytrain)\n",
    "ypred_prob = rf.predict_proba(Xtest_std)[:,1]\n",
    "metrics.roc_auc_score(ytest, ypred_prob)"
   ]
  },
  {
   "cell_type": "code",
   "execution_count": 92,
   "metadata": {
    "collapsed": false
   },
   "outputs": [
    {
     "data": {
      "text/plain": [
       "count    1994.000000\n",
       "mean        0.055401\n",
       "std         0.098150\n",
       "min         0.000000\n",
       "25%         0.000000\n",
       "50%         0.000000\n",
       "75%         0.100000\n",
       "max         0.700000\n",
       "dtype: float64"
      ]
     },
     "execution_count": 92,
     "metadata": {},
     "output_type": "execute_result"
    }
   ],
   "source": [
    "pd.Series(ypred_prob).describe()"
   ]
  },
  {
   "cell_type": "markdown",
   "metadata": {},
   "source": [
    "### Decision Tree Classifier"
   ]
  },
  {
   "cell_type": "code",
   "execution_count": 98,
   "metadata": {
    "collapsed": false
   },
   "outputs": [
    {
     "data": {
      "text/plain": [
       "array([ 0.48826823,  0.49661247,  0.50427475,  0.5171635 ,  0.51505033,\n",
       "        0.55299071,  0.51709898,  0.51429217,  0.50682346,  0.53187508])"
      ]
     },
     "execution_count": 98,
     "metadata": {},
     "output_type": "execute_result"
    }
   ],
   "source": [
    "from sklearn.tree import DecisionTreeClassifier\n",
    "dt = DecisionTreeClassifier()\n",
    "scores = cross_val_score(dt, Xtrain_std, ytrain, cv = 10, scoring= \"roc_auc\")\n",
    "scores"
   ]
  },
  {
   "cell_type": "markdown",
   "metadata": {
    "collapsed": true
   },
   "source": [
    "### Neural Network Classifier"
   ]
  },
  {
   "cell_type": "code",
   "execution_count": 208,
   "metadata": {
    "collapsed": false
   },
   "outputs": [],
   "source": [
    "from sklearn.neural_network import MLPClassifier"
   ]
  },
  {
   "cell_type": "code",
   "execution_count": 275,
   "metadata": {
    "collapsed": true
   },
   "outputs": [],
   "source": [
    "nn = MLPClassifier(hidden_layer_sizes= 100,activation = \"relu\", alpha = 5, solver = \"sgd\", learning_rate_init=\"0.1\")\n",
    "para_grid = {\n",
    "    \"hidden_layer_sizes\": [(80,70),(80,80),(80,100),(80,60),(80,90)],\n",
    "    \"alpha\" : [3,5,7,8,9]\n",
    "}"
   ]
  },
  {
   "cell_type": "code",
   "execution_count": 277,
   "metadata": {
    "collapsed": false
   },
   "outputs": [
    {
     "data": {
      "text/plain": [
       "GridSearchCV(cv=10, error_score='raise',\n",
       "       estimator=MLPClassifier(activation='relu', alpha=5, batch_size='auto', beta_1=0.9,\n",
       "       beta_2=0.999, early_stopping=False, epsilon=1e-08,\n",
       "       hidden_layer_sizes=100, learning_rate='constant',\n",
       "       learning_rate_init='0.1', max_iter=200, momentum=0.9,\n",
       "       nesterovs_momentum=True, power_t=0.5, random_state=None,\n",
       "       shuffle=True, solver='sgd', tol=0.0001, validation_fraction=0.1,\n",
       "       verbose=False, warm_start=False),\n",
       "       fit_params={}, iid=True, n_jobs=1,\n",
       "       param_grid={'alpha': [5], 'learning_rate_init': [0.03, 0.01, 0.1, 0.003], 'hidden_layer_sizes': [(80, 90)]},\n",
       "       pre_dispatch='2*n_jobs', refit=True, scoring='roc_auc', verbose=0)"
      ]
     },
     "execution_count": 277,
     "metadata": {},
     "output_type": "execute_result"
    }
   ],
   "source": [
    "para_grid = {\n",
    "    \"hidden_layer_sizes\": [(80,90)],\n",
    "    \"learning_rate_init\": [0.03,0.01,0.1,0.003],\n",
    "    \"alpha\" : [5]\n",
    "}\n",
    "from sklearn.model_selection import GridSearchCV\n",
    "grid_cv = GridSearchCV(nn, para_grid,cv = 10, scoring = \"roc_auc\")\n",
    "grid_cv.fit(Xtrain_std, ytrain)"
   ]
  },
  {
   "cell_type": "code",
   "execution_count": 278,
   "metadata": {
    "collapsed": false
   },
   "outputs": [
    {
     "name": "stderr",
     "output_type": "stream",
     "text": [
      "C:\\Users\\SHIVAM MAHAJAN\\Anaconda\\lib\\site-packages\\sklearn\\model_selection\\_search.py:639: DeprecationWarning: The grid_scores_ attribute was deprecated in version 0.18 in favor of the more elaborate cv_results_ attribute. The grid_scores_ attribute will not be available from 0.20\n",
      "  DeprecationWarning)\n"
     ]
    },
    {
     "data": {
      "text/plain": [
       "[mean: 0.68567, std: 0.04757, params: {'alpha': 5, 'learning_rate_init': 0.03, 'hidden_layer_sizes': (80, 90)},\n",
       " mean: 0.68673, std: 0.04670, params: {'alpha': 5, 'learning_rate_init': 0.01, 'hidden_layer_sizes': (80, 90)},\n",
       " mean: 0.52281, std: 0.18361, params: {'alpha': 5, 'learning_rate_init': 0.1, 'hidden_layer_sizes': (80, 90)},\n",
       " mean: 0.68698, std: 0.04693, params: {'alpha': 5, 'learning_rate_init': 0.003, 'hidden_layer_sizes': (80, 90)}]"
      ]
     },
     "execution_count": 278,
     "metadata": {},
     "output_type": "execute_result"
    }
   ],
   "source": [
    "grid_cv.grid_scores_"
   ]
  },
  {
   "cell_type": "code",
   "execution_count": 280,
   "metadata": {
    "collapsed": false
   },
   "outputs": [
    {
     "data": {
      "text/plain": [
       "{'alpha': 5, 'hidden_layer_sizes': (80, 90), 'learning_rate_init': 0.003}"
      ]
     },
     "execution_count": 280,
     "metadata": {},
     "output_type": "execute_result"
    }
   ],
   "source": [
    "grid_cv.best_params_"
   ]
  },
  {
   "cell_type": "code",
   "execution_count": 210,
   "metadata": {
    "collapsed": false
   },
   "outputs": [
    {
     "data": {
      "text/plain": [
       "RandomizedSearchCV(cv=10, error_score='raise',\n",
       "          estimator=MLPClassifier(activation='relu', alpha=0.001, batch_size='auto', beta_1=0.9,\n",
       "       beta_2=0.999, early_stopping=False, epsilon=1e-08,\n",
       "       hidden_layer_sizes=100, learning_rate='constant',\n",
       "       learning_rate_init=0.001, max_iter=200, momentum=0.9,\n",
       "       nesterovs_momentum=True, power_t=0.5, random_state=None,\n",
       "       shuffle=True, solver='adam', tol=0.0001, validation_fraction=0.1,\n",
       "       verbose=False, warm_start=False),\n",
       "          fit_params={}, iid=True, n_iter=10, n_jobs=1,\n",
       "          param_distributions={'alpha': [3, 5, 7, 8, 9], 'hidden_layer_sizes': [(80, 70), (80, 80), (80, 100), (80, 60), (80, 90)]},\n",
       "          pre_dispatch='2*n_jobs', random_state=None, refit=True,\n",
       "          scoring='roc_auc', verbose=0)"
      ]
     },
     "execution_count": 210,
     "metadata": {},
     "output_type": "execute_result"
    }
   ],
   "source": [
    "rand_cv = RandomizedSearchCV(nn, para_grid, cv = 10, scoring=\"roc_auc\")\n",
    "rand_cv.fit(Xtrain_std, ytrain)"
   ]
  },
  {
   "cell_type": "code",
   "execution_count": 211,
   "metadata": {
    "collapsed": true
   },
   "outputs": [],
   "source": [
    "import winsound\n",
    "Freq = 2500 # Set Frequency To 2500 Hertz\n",
    "Dur = 1000 # Set Duration To 1000 ms == 1 second\n",
    "winsound.Beep(Freq,Dur)"
   ]
  },
  {
   "cell_type": "code",
   "execution_count": 212,
   "metadata": {
    "collapsed": false
   },
   "outputs": [
    {
     "name": "stderr",
     "output_type": "stream",
     "text": [
      "C:\\Users\\SHIVAM MAHAJAN\\Anaconda\\lib\\site-packages\\sklearn\\model_selection\\_search.py:639: DeprecationWarning: The grid_scores_ attribute was deprecated in version 0.18 in favor of the more elaborate cv_results_ attribute. The grid_scores_ attribute will not be available from 0.20\n",
      "  DeprecationWarning)\n"
     ]
    },
    {
     "data": {
      "text/plain": [
       "[mean: 0.68461, std: 0.04654, params: {'alpha': 8, 'hidden_layer_sizes': (80, 90)},\n",
       " mean: 0.68408, std: 0.04732, params: {'alpha': 8, 'hidden_layer_sizes': (80, 70)},\n",
       " mean: 0.68657, std: 0.04539, params: {'alpha': 9, 'hidden_layer_sizes': (80, 80)},\n",
       " mean: 0.68525, std: 0.04830, params: {'alpha': 7, 'hidden_layer_sizes': (80, 70)},\n",
       " mean: 0.68650, std: 0.04604, params: {'alpha': 3, 'hidden_layer_sizes': (80, 90)},\n",
       " mean: 0.68525, std: 0.04732, params: {'alpha': 9, 'hidden_layer_sizes': (80, 90)},\n",
       " mean: 0.68514, std: 0.04886, params: {'alpha': 9, 'hidden_layer_sizes': (80, 100)},\n",
       " mean: 0.68583, std: 0.04666, params: {'alpha': 8, 'hidden_layer_sizes': (80, 60)},\n",
       " mean: 0.68691, std: 0.04671, params: {'alpha': 7, 'hidden_layer_sizes': (80, 60)},\n",
       " mean: 0.68710, std: 0.04719, params: {'alpha': 5, 'hidden_layer_sizes': (80, 90)}]"
      ]
     },
     "execution_count": 212,
     "metadata": {},
     "output_type": "execute_result"
    }
   ],
   "source": [
    "rand_cv.grid_scores_"
   ]
  },
  {
   "cell_type": "code",
   "execution_count": 213,
   "metadata": {
    "collapsed": false
   },
   "outputs": [
    {
     "data": {
      "text/plain": [
       "0.68709862893864659"
      ]
     },
     "execution_count": 213,
     "metadata": {},
     "output_type": "execute_result"
    }
   ],
   "source": [
    "rand_cv.best_score_"
   ]
  },
  {
   "cell_type": "code",
   "execution_count": 214,
   "metadata": {
    "collapsed": false
   },
   "outputs": [
    {
     "data": {
      "text/plain": [
       "{'alpha': 5, 'hidden_layer_sizes': (80, 90)}"
      ]
     },
     "execution_count": 214,
     "metadata": {},
     "output_type": "execute_result"
    }
   ],
   "source": [
    "rand_cv.best_params_"
   ]
  },
  {
   "cell_type": "code",
   "execution_count": 111,
   "metadata": {
    "collapsed": true
   },
   "outputs": [],
   "source": [
    "from sklearn.cross_validation import cross_val_score"
   ]
  },
  {
   "cell_type": "code",
   "execution_count": 289,
   "metadata": {
    "collapsed": false
   },
   "outputs": [
    {
     "data": {
      "text/plain": [
       "0.704301432887115"
      ]
     },
     "execution_count": 289,
     "metadata": {},
     "output_type": "execute_result"
    }
   ],
   "source": [
    "nn = MLPClassifier(hidden_layer_sizes= (80,90),activation = \"relu\", alpha = 5, learning_rate_init= 0.003, solver=\"sgd\")\n",
    "nn.fit(Xtrain_std, ytrain)\n",
    "ypred_prob_nn = nn.predict_proba(Xtest_std)[:,1]\n",
    "metrics.roc_auc_score(ytest, ypred_prob_nn)"
   ]
  },
  {
   "cell_type": "code",
   "execution_count": 290,
   "metadata": {
    "collapsed": false
   },
   "outputs": [
    {
     "data": {
      "text/plain": [
       "count    1994.000000\n",
       "mean        0.054843\n",
       "std         0.014177\n",
       "min         0.028389\n",
       "25%         0.046385\n",
       "50%         0.051508\n",
       "75%         0.058769\n",
       "max         0.107708\n",
       "dtype: float64"
      ]
     },
     "execution_count": 290,
     "metadata": {},
     "output_type": "execute_result"
    }
   ],
   "source": [
    "pd.Series(ypred_prob_nn).describe()"
   ]
  },
  {
   "cell_type": "code",
   "execution_count": 291,
   "metadata": {
    "collapsed": false
   },
   "outputs": [
    {
     "data": {
      "image/png": "[encoded data removed]",
      "text/plain": [
       "<matplotlib.figure.Figure at 0xc060860>"
      ]
     },
     "metadata": {},
     "output_type": "display_data"
    }
   ],
   "source": [
    "import matplotlib.pyplot as plt\n",
    "tpr, fpr, thresholds = metrics.roc_curve(ytest, ypred_prob_nn)\n",
    "plt.plot(tpr,fpr)\n",
    "plt.xlim([0.0, 1.0])\n",
    "plt.ylim([0.0, 1.0])\n",
    "plt.title('ROC curve for diabetes classifier')\n",
    "plt.xlabel('False Positive Rate (1 - Specificity)')\n",
    "plt.ylabel('True Positive Rate (Sensitivity)')\n",
    "plt.grid(True)"
   ]
  },
  {
   "cell_type": "code",
   "execution_count": 312,
   "metadata": {
    "collapsed": false
   },
   "outputs": [
    {
     "name": "stdout",
     "output_type": "stream",
     "text": [
      "Senstivty : 0.389473684211\n",
      "Specificity : 0.899947340706\n",
      "F1-Score : 0.229813664596\n",
      "Confusion Matrix :\n",
      "[[1709  190]\n",
      " [  58   37]]\n"
     ]
    }
   ],
   "source": [
    "evaluate_score(0.07,ypred_prob_nn)"
   ]
  },
  {
   "cell_type": "markdown",
   "metadata": {},
   "source": [
    "### Final Predictions"
   ]
  },
  {
   "cell_type": "code",
   "execution_count": 244,
   "metadata": {
    "collapsed": false
   },
   "outputs": [
    {
     "data": {
      "text/html": [
       "<div>\n",
       "<table border=\"1\" class=\"dataframe\">\n",
       "  <thead>\n",
       "    <tr style=\"text-align: right;\">\n",
       "      <th></th>\n",
       "      <th>Account Number</th>\n",
       "      <th>Gender</th>\n",
       "      <th>Age</th>\n",
       "      <th>Salary Slab</th>\n",
       "      <th>Age of Home</th>\n",
       "      <th>Sum</th>\n",
       "      <th>payment_complaint</th>\n",
       "      <th>account_complaint</th>\n",
       "      <th>utility_complaint</th>\n",
       "      <th>operation_complaint</th>\n",
       "      <th>...</th>\n",
       "      <th>Accounting</th>\n",
       "      <th>Academics</th>\n",
       "      <th>Automative</th>\n",
       "      <th>Banking</th>\n",
       "      <th>Defence</th>\n",
       "      <th>Finance</th>\n",
       "      <th>Pharma</th>\n",
       "      <th>Labour</th>\n",
       "      <th>Others</th>\n",
       "      <th>Scheme_PRM</th>\n",
       "    </tr>\n",
       "  </thead>\n",
       "  <tbody>\n",
       "    <tr>\n",
       "      <th>0</th>\n",
       "      <td>V1</td>\n",
       "      <td>1</td>\n",
       "      <td>51</td>\n",
       "      <td>4</td>\n",
       "      <td>17</td>\n",
       "      <td>1186.465</td>\n",
       "      <td>1</td>\n",
       "      <td>1</td>\n",
       "      <td>1</td>\n",
       "      <td>1</td>\n",
       "      <td>...</td>\n",
       "      <td>0</td>\n",
       "      <td>0</td>\n",
       "      <td>0</td>\n",
       "      <td>0</td>\n",
       "      <td>0</td>\n",
       "      <td>0</td>\n",
       "      <td>0</td>\n",
       "      <td>0</td>\n",
       "      <td>0</td>\n",
       "      <td>0</td>\n",
       "    </tr>\n",
       "    <tr>\n",
       "      <th>1</th>\n",
       "      <td>V2</td>\n",
       "      <td>0</td>\n",
       "      <td>71</td>\n",
       "      <td>12</td>\n",
       "      <td>22</td>\n",
       "      <td>824.670</td>\n",
       "      <td>0</td>\n",
       "      <td>0</td>\n",
       "      <td>0</td>\n",
       "      <td>0</td>\n",
       "      <td>...</td>\n",
       "      <td>0</td>\n",
       "      <td>0</td>\n",
       "      <td>0</td>\n",
       "      <td>1</td>\n",
       "      <td>0</td>\n",
       "      <td>0</td>\n",
       "      <td>0</td>\n",
       "      <td>0</td>\n",
       "      <td>0</td>\n",
       "      <td>0</td>\n",
       "    </tr>\n",
       "    <tr>\n",
       "      <th>2</th>\n",
       "      <td>V3</td>\n",
       "      <td>1</td>\n",
       "      <td>69</td>\n",
       "      <td>9</td>\n",
       "      <td>22</td>\n",
       "      <td>839.895</td>\n",
       "      <td>0</td>\n",
       "      <td>0</td>\n",
       "      <td>0</td>\n",
       "      <td>0</td>\n",
       "      <td>...</td>\n",
       "      <td>0</td>\n",
       "      <td>0</td>\n",
       "      <td>0</td>\n",
       "      <td>0</td>\n",
       "      <td>0</td>\n",
       "      <td>1</td>\n",
       "      <td>0</td>\n",
       "      <td>0</td>\n",
       "      <td>0</td>\n",
       "      <td>0</td>\n",
       "    </tr>\n",
       "    <tr>\n",
       "      <th>3</th>\n",
       "      <td>V4</td>\n",
       "      <td>1</td>\n",
       "      <td>71</td>\n",
       "      <td>5</td>\n",
       "      <td>22</td>\n",
       "      <td>1212.015</td>\n",
       "      <td>0</td>\n",
       "      <td>0</td>\n",
       "      <td>0</td>\n",
       "      <td>0</td>\n",
       "      <td>...</td>\n",
       "      <td>0</td>\n",
       "      <td>0</td>\n",
       "      <td>0</td>\n",
       "      <td>0</td>\n",
       "      <td>0</td>\n",
       "      <td>0</td>\n",
       "      <td>0</td>\n",
       "      <td>0</td>\n",
       "      <td>1</td>\n",
       "      <td>0</td>\n",
       "    </tr>\n",
       "    <tr>\n",
       "      <th>4</th>\n",
       "      <td>V5</td>\n",
       "      <td>1</td>\n",
       "      <td>61</td>\n",
       "      <td>6</td>\n",
       "      <td>22</td>\n",
       "      <td>854.070</td>\n",
       "      <td>1</td>\n",
       "      <td>1</td>\n",
       "      <td>0</td>\n",
       "      <td>0</td>\n",
       "      <td>...</td>\n",
       "      <td>0</td>\n",
       "      <td>0</td>\n",
       "      <td>0</td>\n",
       "      <td>1</td>\n",
       "      <td>0</td>\n",
       "      <td>0</td>\n",
       "      <td>0</td>\n",
       "      <td>0</td>\n",
       "      <td>0</td>\n",
       "      <td>0</td>\n",
       "    </tr>\n",
       "  </tbody>\n",
       "</table>\n",
       "<p>5 rows × 39 columns</p>\n",
       "</div>"
      ],
      "text/plain": [
       "  Account Number  Gender  Age  Salary Slab  Age of Home       Sum  \\\n",
       "0             V1       1   51            4           17  1186.465   \n",
       "1             V2       0   71           12           22   824.670   \n",
       "2             V3       1   69            9           22   839.895   \n",
       "3             V4       1   71            5           22  1212.015   \n",
       "4             V5       1   61            6           22   854.070   \n",
       "\n",
       "   payment_complaint  account_complaint  utility_complaint  \\\n",
       "0                  1                  1                  1   \n",
       "1                  0                  0                  0   \n",
       "2                  0                  0                  0   \n",
       "3                  0                  0                  0   \n",
       "4                  1                  1                  0   \n",
       "\n",
       "   operation_complaint     ...      Accounting  Academics  Automative  \\\n",
       "0                    1     ...               0          0           0   \n",
       "1                    0     ...               0          0           0   \n",
       "2                    0     ...               0          0           0   \n",
       "3                    0     ...               0          0           0   \n",
       "4                    0     ...               0          0           0   \n",
       "\n",
       "   Banking  Defence  Finance  Pharma  Labour  Others  Scheme_PRM  \n",
       "0        0        0        0       0       0       0           0  \n",
       "1        1        0        0       0       0       0           0  \n",
       "2        0        0        1       0       0       0           0  \n",
       "3        0        0        0       0       0       1           0  \n",
       "4        1        0        0       0       0       0           0  \n",
       "\n",
       "[5 rows x 39 columns]"
      ]
     },
     "execution_count": 244,
     "metadata": {},
     "output_type": "execute_result"
    }
   ],
   "source": [
    "df_validation_data = pd.read_csv(r\"C:\\Users\\SHIVAM MAHAJAN\\Desktop\\Github\\EXL data\\df_validation_data.csv\")\n",
    "df_validation_data.head()"
   ]
  },
  {
   "cell_type": "code",
   "execution_count": 245,
   "metadata": {
    "collapsed": false
   },
   "outputs": [
    {
     "data": {
      "text/plain": [
       "Index([u'Account Number', u'Gender', u'Age', u'Salary Slab', u'Age of Home',\n",
       "       u'Sum', u'payment_complaint', u'account_complaint',\n",
       "       u'utility_complaint', u'operation_complaint', u'Default times',\n",
       "       u'Loyal years', u'Scheme_CHC', u'Scheme_CNN', u'Scheme_ESS',\n",
       "       u'Scheme_KLA', u'Scheme_MXX', u'Scheme_PMM', u'Scheme_POP',\n",
       "       u'Scheme_PPL', u'Scheme_PRP', u'Scheme_PRR', u'Scheme_PRS',\n",
       "       u'Scheme_PWM', u'Scheme_PWR', u'Region _Eastern', u'Region _Northern',\n",
       "       u'Region _Southern', u'Region _Western', u'Accounting', u'Academics',\n",
       "       u'Automative', u'Banking', u'Defence', u'Finance', u'Pharma', u'Labour',\n",
       "       u'Others', u'Scheme_PRM'],\n",
       "      dtype='object')"
      ]
     },
     "execution_count": 245,
     "metadata": {},
     "output_type": "execute_result"
    }
   ],
   "source": [
    "df_validation_data.columns"
   ]
  },
  {
   "cell_type": "code",
   "execution_count": 246,
   "metadata": {
    "collapsed": false
   },
   "outputs": [],
   "source": [
    "validation_accounts = df_validation_data[\"Account Number\"].values"
   ]
  },
  {
   "cell_type": "code",
   "execution_count": 247,
   "metadata": {
    "collapsed": false
   },
   "outputs": [
    {
     "data": {
      "text/plain": [
       "array(['V1', 'V2', 'V3', ..., 'V4998', 'V4999', 'V5000'], dtype=object)"
      ]
     },
     "execution_count": 247,
     "metadata": {},
     "output_type": "execute_result"
    }
   ],
   "source": [
    "validation_accounts"
   ]
  },
  {
   "cell_type": "code",
   "execution_count": 249,
   "metadata": {
    "collapsed": true
   },
   "outputs": [],
   "source": [
    "Xval = df_validation_data.iloc[:,1:].values"
   ]
  },
  {
   "cell_type": "code",
   "execution_count": 261,
   "metadata": {
    "collapsed": false
   },
   "outputs": [
    {
     "name": "stdout",
     "output_type": "stream",
     "text": [
      "(9966L, 38L)\n"
     ]
    },
    {
     "data": {
      "text/plain": [
       "(9966L,)"
      ]
     },
     "execution_count": 261,
     "metadata": {},
     "output_type": "execute_result"
    }
   ],
   "source": [
    "X = np.vstack((Xtrain,Xtest))\n",
    "y = np.hstack((ytrain, ytest))\n",
    "print X.shape\n",
    "y.shape"
   ]
  },
  {
   "cell_type": "code",
   "execution_count": 260,
   "metadata": {
    "collapsed": false
   },
   "outputs": [
    {
     "data": {
      "text/plain": [
       "(9966L, 38L)"
      ]
     },
     "execution_count": 260,
     "metadata": {},
     "output_type": "execute_result"
    }
   ],
   "source": [
    "sc = StandardScaler()\n",
    "sc.fit(X)\n",
    "X_std = sc.transform(X)\n",
    "X_std.shape"
   ]
  },
  {
   "cell_type": "markdown",
   "metadata": {},
   "source": [
    "### Applying Logistic Regression"
   ]
  },
  {
   "cell_type": "code",
   "execution_count": 281,
   "metadata": {
    "collapsed": false
   },
   "outputs": [
    {
     "data": {
      "text/plain": [
       "LogisticRegression(C=0.003, class_weight=None, dual=False, fit_intercept=True,\n",
       "          intercept_scaling=1, max_iter=100, multi_class='ovr', n_jobs=1,\n",
       "          penalty='l2', random_state=None, solver='liblinear', tol=0.0001,\n",
       "          verbose=0, warm_start=False)"
      ]
     },
     "execution_count": 281,
     "metadata": {},
     "output_type": "execute_result"
    }
   ],
   "source": [
    "lr = LogisticRegression(C = 0.003, penalty = \"l2\")\n",
    "lr.fit(X,y)"
   ]
  },
  {
   "cell_type": "code",
   "execution_count": 327,
   "metadata": {
    "collapsed": false
   },
   "outputs": [
    {
     "name": "stdout",
     "output_type": "stream",
     "text": [
      "[ 0.  0.  0. ...,  0.  0.  0.]\n"
     ]
    }
   ],
   "source": [
    "yval_prob_lr = lr.predict_proba(Xval)[:,1]\n",
    "yval_lr = binarize([yval_prob_lr], 0.22)[0]\n",
    "print yval_lr"
   ]
  },
  {
   "cell_type": "code",
   "execution_count": 328,
   "metadata": {
    "collapsed": false
   },
   "outputs": [
    {
     "data": {
      "text/plain": [
       "15.0"
      ]
     },
     "execution_count": 328,
     "metadata": {},
     "output_type": "execute_result"
    }
   ],
   "source": [
    "np.sum(yval_lr)"
   ]
  },
  {
   "cell_type": "code",
   "execution_count": 329,
   "metadata": {
    "collapsed": false
   },
   "outputs": [
    {
     "data": {
      "text/plain": [
       "4986"
      ]
     },
     "execution_count": 329,
     "metadata": {},
     "output_type": "execute_result"
    }
   ],
   "source": [
    "len(yval_lr)"
   ]
  },
  {
   "cell_type": "markdown",
   "metadata": {},
   "source": [
    "### Applying Neural Networks"
   ]
  },
  {
   "cell_type": "code",
   "execution_count": 272,
   "metadata": {
    "collapsed": false
   },
   "outputs": [
    {
     "data": {
      "text/plain": [
       "MLPClassifier(activation='relu', alpha=5, batch_size='auto', beta_1=0.9,\n",
       "       beta_2=0.999, early_stopping=False, epsilon=1e-08,\n",
       "       hidden_layer_sizes=(80, 90), learning_rate='constant',\n",
       "       learning_rate_init=0.001, max_iter=200, momentum=0.9,\n",
       "       nesterovs_momentum=True, power_t=0.5, random_state=None,\n",
       "       shuffle=True, solver='adam', tol=0.0001, validation_fraction=0.1,\n",
       "       verbose=False, warm_start=False)"
      ]
     },
     "execution_count": 272,
     "metadata": {},
     "output_type": "execute_result"
    }
   ],
   "source": [
    "nn"
   ]
  },
  {
   "cell_type": "code",
   "execution_count": 330,
   "metadata": {
    "collapsed": true
   },
   "outputs": [],
   "source": [
    "nn = MLPClassifier(activation=\"relu\", alpha = 5, hidden_layer_sizes=(80,90), learning_rate_init=0.003)\n",
    "nn.fit(X, y)\n",
    "yval_prob_nn = nn.predict_proba(Xval)[:,1]\n",
    "yval_nn = binarize([yval_prob_nn], 0.07)[0]"
   ]
  },
  {
   "cell_type": "code",
   "execution_count": 333,
   "metadata": {
    "collapsed": false
   },
   "outputs": [
    {
     "data": {
      "text/plain": [
       "61.0"
      ]
     },
     "execution_count": 333,
     "metadata": {},
     "output_type": "execute_result"
    }
   ],
   "source": [
    "np.sum(yval_nn)"
   ]
  },
  {
   "cell_type": "code",
   "execution_count": 337,
   "metadata": {
    "collapsed": false
   },
   "outputs": [],
   "source": [
    "final_output_nn = np.zeros((len(yval),3), dtype=object)"
   ]
  },
  {
   "cell_type": "code",
   "execution_count": 338,
   "metadata": {
    "collapsed": false
   },
   "outputs": [],
   "source": [
    "final_output_nn[:,0] = validation_accounts\n",
    "final_output_nn[:,1] = yval_prob_nn\n",
    "final_output_nn[:,2] = yval_nn"
   ]
  },
  {
   "cell_type": "code",
   "execution_count": 339,
   "metadata": {
    "collapsed": false
   },
   "outputs": [
    {
     "data": {
      "text/plain": [
       "array([['V1', 4.778705818866111e-06, 0.0],\n",
       "       ['V2', 6.359607243637522e-05, 0.0],\n",
       "       ['V3', 6.789380463314964e-05, 0.0],\n",
       "       ..., \n",
       "       ['V4998', 0.0002002836528252478, 0.0],\n",
       "       ['V4999', 0.0002233425131539527, 0.0],\n",
       "       ['V5000', 0.00018846145085072146, 0.0]], dtype=object)"
      ]
     },
     "execution_count": 339,
     "metadata": {},
     "output_type": "execute_result"
    }
   ],
   "source": [
    "final_output_nn"
   ]
  },
  {
   "cell_type": "code",
   "execution_count": 344,
   "metadata": {
    "collapsed": false
   },
   "outputs": [
    {
     "data": {
      "text/html": [
       "<div>\n",
       "<table border=\"1\" class=\"dataframe\">\n",
       "  <thead>\n",
       "    <tr style=\"text-align: right;\">\n",
       "      <th></th>\n",
       "      <th>ACCT_NUM</th>\n",
       "      <th>PREDICTED_RESP_PROBABILITY</th>\n",
       "      <th>PREDICTED_CLASS</th>\n",
       "    </tr>\n",
       "  </thead>\n",
       "  <tbody>\n",
       "    <tr>\n",
       "      <th>0</th>\n",
       "      <td>V1</td>\n",
       "      <td>4.77871e-06</td>\n",
       "      <td>0</td>\n",
       "    </tr>\n",
       "    <tr>\n",
       "      <th>1</th>\n",
       "      <td>V2</td>\n",
       "      <td>6.35961e-05</td>\n",
       "      <td>0</td>\n",
       "    </tr>\n",
       "    <tr>\n",
       "      <th>2</th>\n",
       "      <td>V3</td>\n",
       "      <td>6.78938e-05</td>\n",
       "      <td>0</td>\n",
       "    </tr>\n",
       "    <tr>\n",
       "      <th>3</th>\n",
       "      <td>V4</td>\n",
       "      <td>2.25487e-06</td>\n",
       "      <td>0</td>\n",
       "    </tr>\n",
       "    <tr>\n",
       "      <th>4</th>\n",
       "      <td>V5</td>\n",
       "      <td>0.000101503</td>\n",
       "      <td>0</td>\n",
       "    </tr>\n",
       "    <tr>\n",
       "      <th>5</th>\n",
       "      <td>V6</td>\n",
       "      <td>0.000162648</td>\n",
       "      <td>0</td>\n",
       "    </tr>\n",
       "    <tr>\n",
       "      <th>6</th>\n",
       "      <td>V7</td>\n",
       "      <td>2.10104e-07</td>\n",
       "      <td>0</td>\n",
       "    </tr>\n",
       "    <tr>\n",
       "      <th>7</th>\n",
       "      <td>V8</td>\n",
       "      <td>8.90948e-05</td>\n",
       "      <td>0</td>\n",
       "    </tr>\n",
       "    <tr>\n",
       "      <th>8</th>\n",
       "      <td>V9</td>\n",
       "      <td>5.0067e-05</td>\n",
       "      <td>0</td>\n",
       "    </tr>\n",
       "    <tr>\n",
       "      <th>9</th>\n",
       "      <td>V10</td>\n",
       "      <td>6.50992e-06</td>\n",
       "      <td>0</td>\n",
       "    </tr>\n",
       "    <tr>\n",
       "      <th>10</th>\n",
       "      <td>V11</td>\n",
       "      <td>0.000551933</td>\n",
       "      <td>0</td>\n",
       "    </tr>\n",
       "    <tr>\n",
       "      <th>11</th>\n",
       "      <td>V12</td>\n",
       "      <td>0.000179149</td>\n",
       "      <td>0</td>\n",
       "    </tr>\n",
       "    <tr>\n",
       "      <th>12</th>\n",
       "      <td>V13</td>\n",
       "      <td>0.000155989</td>\n",
       "      <td>0</td>\n",
       "    </tr>\n",
       "    <tr>\n",
       "      <th>13</th>\n",
       "      <td>V14</td>\n",
       "      <td>0.000179149</td>\n",
       "      <td>0</td>\n",
       "    </tr>\n",
       "    <tr>\n",
       "      <th>14</th>\n",
       "      <td>V15</td>\n",
       "      <td>0.000145936</td>\n",
       "      <td>0</td>\n",
       "    </tr>\n",
       "    <tr>\n",
       "      <th>15</th>\n",
       "      <td>V16</td>\n",
       "      <td>0.000123174</td>\n",
       "      <td>0</td>\n",
       "    </tr>\n",
       "    <tr>\n",
       "      <th>16</th>\n",
       "      <td>V17</td>\n",
       "      <td>0.000308104</td>\n",
       "      <td>0</td>\n",
       "    </tr>\n",
       "    <tr>\n",
       "      <th>17</th>\n",
       "      <td>V18</td>\n",
       "      <td>0.000135366</td>\n",
       "      <td>0</td>\n",
       "    </tr>\n",
       "    <tr>\n",
       "      <th>18</th>\n",
       "      <td>V19</td>\n",
       "      <td>0.000185524</td>\n",
       "      <td>0</td>\n",
       "    </tr>\n",
       "    <tr>\n",
       "      <th>19</th>\n",
       "      <td>V20</td>\n",
       "      <td>0.000226627</td>\n",
       "      <td>0</td>\n",
       "    </tr>\n",
       "    <tr>\n",
       "      <th>20</th>\n",
       "      <td>V21</td>\n",
       "      <td>0.000182373</td>\n",
       "      <td>0</td>\n",
       "    </tr>\n",
       "    <tr>\n",
       "      <th>21</th>\n",
       "      <td>V22</td>\n",
       "      <td>4.18985e-05</td>\n",
       "      <td>0</td>\n",
       "    </tr>\n",
       "    <tr>\n",
       "      <th>22</th>\n",
       "      <td>V23</td>\n",
       "      <td>0.000786429</td>\n",
       "      <td>0</td>\n",
       "    </tr>\n",
       "    <tr>\n",
       "      <th>23</th>\n",
       "      <td>V24</td>\n",
       "      <td>0.000571852</td>\n",
       "      <td>0</td>\n",
       "    </tr>\n",
       "    <tr>\n",
       "      <th>24</th>\n",
       "      <td>V25</td>\n",
       "      <td>0.000625145</td>\n",
       "      <td>0</td>\n",
       "    </tr>\n",
       "    <tr>\n",
       "      <th>25</th>\n",
       "      <td>V26</td>\n",
       "      <td>3.39853e-06</td>\n",
       "      <td>0</td>\n",
       "    </tr>\n",
       "    <tr>\n",
       "      <th>26</th>\n",
       "      <td>V27</td>\n",
       "      <td>2.10322e-07</td>\n",
       "      <td>0</td>\n",
       "    </tr>\n",
       "    <tr>\n",
       "      <th>27</th>\n",
       "      <td>V28</td>\n",
       "      <td>0.177546</td>\n",
       "      <td>1</td>\n",
       "    </tr>\n",
       "    <tr>\n",
       "      <th>28</th>\n",
       "      <td>V29</td>\n",
       "      <td>5.93354e-06</td>\n",
       "      <td>0</td>\n",
       "    </tr>\n",
       "    <tr>\n",
       "      <th>29</th>\n",
       "      <td>V30</td>\n",
       "      <td>8.42174e-06</td>\n",
       "      <td>0</td>\n",
       "    </tr>\n",
       "    <tr>\n",
       "      <th>...</th>\n",
       "      <td>...</td>\n",
       "      <td>...</td>\n",
       "      <td>...</td>\n",
       "    </tr>\n",
       "    <tr>\n",
       "      <th>4956</th>\n",
       "      <td>V4971</td>\n",
       "      <td>0.000184818</td>\n",
       "      <td>0</td>\n",
       "    </tr>\n",
       "    <tr>\n",
       "      <th>4957</th>\n",
       "      <td>V4972</td>\n",
       "      <td>0.000120971</td>\n",
       "      <td>0</td>\n",
       "    </tr>\n",
       "    <tr>\n",
       "      <th>4958</th>\n",
       "      <td>V4973</td>\n",
       "      <td>0.000151823</td>\n",
       "      <td>0</td>\n",
       "    </tr>\n",
       "    <tr>\n",
       "      <th>4959</th>\n",
       "      <td>V4974</td>\n",
       "      <td>0.000142228</td>\n",
       "      <td>0</td>\n",
       "    </tr>\n",
       "    <tr>\n",
       "      <th>4960</th>\n",
       "      <td>V4975</td>\n",
       "      <td>0.000221267</td>\n",
       "      <td>0</td>\n",
       "    </tr>\n",
       "    <tr>\n",
       "      <th>4961</th>\n",
       "      <td>V4976</td>\n",
       "      <td>0.000237688</td>\n",
       "      <td>0</td>\n",
       "    </tr>\n",
       "    <tr>\n",
       "      <th>4962</th>\n",
       "      <td>V4977</td>\n",
       "      <td>9.10808e-05</td>\n",
       "      <td>0</td>\n",
       "    </tr>\n",
       "    <tr>\n",
       "      <th>4963</th>\n",
       "      <td>V4978</td>\n",
       "      <td>0.000197176</td>\n",
       "      <td>0</td>\n",
       "    </tr>\n",
       "    <tr>\n",
       "      <th>4964</th>\n",
       "      <td>V4979</td>\n",
       "      <td>0.000213539</td>\n",
       "      <td>0</td>\n",
       "    </tr>\n",
       "    <tr>\n",
       "      <th>4965</th>\n",
       "      <td>V4980</td>\n",
       "      <td>0.00020486</td>\n",
       "      <td>0</td>\n",
       "    </tr>\n",
       "    <tr>\n",
       "      <th>4966</th>\n",
       "      <td>V4981</td>\n",
       "      <td>0.000290446</td>\n",
       "      <td>0</td>\n",
       "    </tr>\n",
       "    <tr>\n",
       "      <th>4967</th>\n",
       "      <td>V4982</td>\n",
       "      <td>0.000164108</td>\n",
       "      <td>0</td>\n",
       "    </tr>\n",
       "    <tr>\n",
       "      <th>4968</th>\n",
       "      <td>V4983</td>\n",
       "      <td>0.000187449</td>\n",
       "      <td>0</td>\n",
       "    </tr>\n",
       "    <tr>\n",
       "      <th>4969</th>\n",
       "      <td>V4984</td>\n",
       "      <td>0.00019218</td>\n",
       "      <td>0</td>\n",
       "    </tr>\n",
       "    <tr>\n",
       "      <th>4970</th>\n",
       "      <td>V4985</td>\n",
       "      <td>0.00019198</td>\n",
       "      <td>0</td>\n",
       "    </tr>\n",
       "    <tr>\n",
       "      <th>4971</th>\n",
       "      <td>V4986</td>\n",
       "      <td>0.000173221</td>\n",
       "      <td>0</td>\n",
       "    </tr>\n",
       "    <tr>\n",
       "      <th>4972</th>\n",
       "      <td>V4987</td>\n",
       "      <td>0.000254968</td>\n",
       "      <td>0</td>\n",
       "    </tr>\n",
       "    <tr>\n",
       "      <th>4973</th>\n",
       "      <td>V4988</td>\n",
       "      <td>0.000517336</td>\n",
       "      <td>0</td>\n",
       "    </tr>\n",
       "    <tr>\n",
       "      <th>4974</th>\n",
       "      <td>V4989</td>\n",
       "      <td>8.8831e-05</td>\n",
       "      <td>0</td>\n",
       "    </tr>\n",
       "    <tr>\n",
       "      <th>4975</th>\n",
       "      <td>V4990</td>\n",
       "      <td>0.000132983</td>\n",
       "      <td>0</td>\n",
       "    </tr>\n",
       "    <tr>\n",
       "      <th>4976</th>\n",
       "      <td>V4991</td>\n",
       "      <td>0.000208049</td>\n",
       "      <td>0</td>\n",
       "    </tr>\n",
       "    <tr>\n",
       "      <th>4977</th>\n",
       "      <td>V4992</td>\n",
       "      <td>0.000160683</td>\n",
       "      <td>0</td>\n",
       "    </tr>\n",
       "    <tr>\n",
       "      <th>4978</th>\n",
       "      <td>V4993</td>\n",
       "      <td>0.000333024</td>\n",
       "      <td>0</td>\n",
       "    </tr>\n",
       "    <tr>\n",
       "      <th>4979</th>\n",
       "      <td>V4994</td>\n",
       "      <td>0.000185355</td>\n",
       "      <td>0</td>\n",
       "    </tr>\n",
       "    <tr>\n",
       "      <th>4980</th>\n",
       "      <td>V4995</td>\n",
       "      <td>0.000193415</td>\n",
       "      <td>0</td>\n",
       "    </tr>\n",
       "    <tr>\n",
       "      <th>4981</th>\n",
       "      <td>V4996</td>\n",
       "      <td>0.000175353</td>\n",
       "      <td>0</td>\n",
       "    </tr>\n",
       "    <tr>\n",
       "      <th>4982</th>\n",
       "      <td>V4997</td>\n",
       "      <td>0.000144458</td>\n",
       "      <td>0</td>\n",
       "    </tr>\n",
       "    <tr>\n",
       "      <th>4983</th>\n",
       "      <td>V4998</td>\n",
       "      <td>0.000200284</td>\n",
       "      <td>0</td>\n",
       "    </tr>\n",
       "    <tr>\n",
       "      <th>4984</th>\n",
       "      <td>V4999</td>\n",
       "      <td>0.000223343</td>\n",
       "      <td>0</td>\n",
       "    </tr>\n",
       "    <tr>\n",
       "      <th>4985</th>\n",
       "      <td>V5000</td>\n",
       "      <td>0.000188461</td>\n",
       "      <td>0</td>\n",
       "    </tr>\n",
       "  </tbody>\n",
       "</table>\n",
       "<p>4986 rows × 3 columns</p>\n",
       "</div>"
      ],
      "text/plain": [
       "     ACCT_NUM PREDICTED_RESP_PROBABILITY PREDICTED_CLASS\n",
       "0          V1                4.77871e-06               0\n",
       "1          V2                6.35961e-05               0\n",
       "2          V3                6.78938e-05               0\n",
       "3          V4                2.25487e-06               0\n",
       "4          V5                0.000101503               0\n",
       "5          V6                0.000162648               0\n",
       "6          V7                2.10104e-07               0\n",
       "7          V8                8.90948e-05               0\n",
       "8          V9                 5.0067e-05               0\n",
       "9         V10                6.50992e-06               0\n",
       "10        V11                0.000551933               0\n",
       "11        V12                0.000179149               0\n",
       "12        V13                0.000155989               0\n",
       "13        V14                0.000179149               0\n",
       "14        V15                0.000145936               0\n",
       "15        V16                0.000123174               0\n",
       "16        V17                0.000308104               0\n",
       "17        V18                0.000135366               0\n",
       "18        V19                0.000185524               0\n",
       "19        V20                0.000226627               0\n",
       "20        V21                0.000182373               0\n",
       "21        V22                4.18985e-05               0\n",
       "22        V23                0.000786429               0\n",
       "23        V24                0.000571852               0\n",
       "24        V25                0.000625145               0\n",
       "25        V26                3.39853e-06               0\n",
       "26        V27                2.10322e-07               0\n",
       "27        V28                   0.177546               1\n",
       "28        V29                5.93354e-06               0\n",
       "29        V30                8.42174e-06               0\n",
       "...       ...                        ...             ...\n",
       "4956    V4971                0.000184818               0\n",
       "4957    V4972                0.000120971               0\n",
       "4958    V4973                0.000151823               0\n",
       "4959    V4974                0.000142228               0\n",
       "4960    V4975                0.000221267               0\n",
       "4961    V4976                0.000237688               0\n",
       "4962    V4977                9.10808e-05               0\n",
       "4963    V4978                0.000197176               0\n",
       "4964    V4979                0.000213539               0\n",
       "4965    V4980                 0.00020486               0\n",
       "4966    V4981                0.000290446               0\n",
       "4967    V4982                0.000164108               0\n",
       "4968    V4983                0.000187449               0\n",
       "4969    V4984                 0.00019218               0\n",
       "4970    V4985                 0.00019198               0\n",
       "4971    V4986                0.000173221               0\n",
       "4972    V4987                0.000254968               0\n",
       "4973    V4988                0.000517336               0\n",
       "4974    V4989                 8.8831e-05               0\n",
       "4975    V4990                0.000132983               0\n",
       "4976    V4991                0.000208049               0\n",
       "4977    V4992                0.000160683               0\n",
       "4978    V4993                0.000333024               0\n",
       "4979    V4994                0.000185355               0\n",
       "4980    V4995                0.000193415               0\n",
       "4981    V4996                0.000175353               0\n",
       "4982    V4997                0.000144458               0\n",
       "4983    V4998                0.000200284               0\n",
       "4984    V4999                0.000223343               0\n",
       "4985    V5000                0.000188461               0\n",
       "\n",
       "[4986 rows x 3 columns]"
      ]
     },
     "execution_count": 344,
     "metadata": {},
     "output_type": "execute_result"
    }
   ],
   "source": [
    "df_final_output = pd.DataFrame(final_output_nn,columns=[\"ACCT_NUM\",\"PREDICTED_RESP_PROBABILITY\",\"PREDICTED_CLASS\"])\n",
    "df_final_output"
   ]
  },
  {
   "cell_type": "code",
   "execution_count": 345,
   "metadata": {
    "collapsed": true
   },
   "outputs": [],
   "source": [
    "df_final_output.to_excel(r\"C:\\Users\\SHIVAM MAHAJAN\\Desktop\\Github\\EXL data\\solution3.xlsx\", index= False)"
   ]
  },
  {
   "cell_type": "code",
   "execution_count": null,
   "metadata": {
    "collapsed": true
   },
   "outputs": [],
   "source": []
  }
 ],
 "metadata": {
  "kernelspec": {
   "display_name": "Python 2",
   "language": "python",
   "name": "python2"
  },
  "language_info": {
   "codemirror_mode": {
    "name": "ipython",
    "version": 2
   },
   "file_extension": ".py",
   "mimetype": "text/x-python",
   "name": "python",
   "nbconvert_exporter": "python",
   "pygments_lexer": "ipython2",
   "version": "2.7.11"
  }
 },
 "nbformat": 4,
 "nbformat_minor": 0
}
