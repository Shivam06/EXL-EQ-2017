{
 "cells": [
  {
   "cell_type": "code",
   "execution_count": 55,
   "metadata": {
    "collapsed": true
   },
   "outputs": [],
   "source": [
    "import pandas as pd\n",
    "import numpy as np\n",
    "import matplotlib.pyplot as plt"
   ]
  },
  {
   "cell_type": "code",
   "execution_count": 56,
   "metadata": {
    "collapsed": true
   },
   "outputs": [],
   "source": [
    "xls = pd.ExcelFile(r\"C:\\Users\\SHIVAM MAHAJAN\\Desktop\\Github\\EXL data\\Stage 1.EXL_EQ2017_Telecom_Data Set_Final Ver6.0.xlsx\")\n",
    "demo_data = xls.parse(0,parse_dates=True)"
   ]
  },
  {
   "cell_type": "code",
   "execution_count": 57,
   "metadata": {
    "collapsed": false
   },
   "outputs": [
    {
     "data": {
      "text/html": [
       "<div>\n",
       "<table border=\"1\" class=\"dataframe\">\n",
       "  <thead>\n",
       "    <tr style=\"text-align: right;\">\n",
       "      <th></th>\n",
       "      <th>Account Number</th>\n",
       "      <th>Commence Date</th>\n",
       "      <th>Address</th>\n",
       "      <th>Scheme</th>\n",
       "      <th>Staus</th>\n",
       "      <th>Gender</th>\n",
       "      <th>Region</th>\n",
       "      <th>Sale of Equipment Status</th>\n",
       "      <th>Age</th>\n",
       "      <th>Equipment Warranty</th>\n",
       "      <th>Salary Slab</th>\n",
       "      <th>Professional Info</th>\n",
       "      <th>Age of Home</th>\n",
       "      <th>Equipment Warranty Expiry Date</th>\n",
       "      <th>Churn Date</th>\n",
       "    </tr>\n",
       "  </thead>\n",
       "  <tbody>\n",
       "    <tr>\n",
       "      <th>0</th>\n",
       "      <td>M1</td>\n",
       "      <td>2011-11-04</td>\n",
       "      <td>VALID</td>\n",
       "      <td>KLA</td>\n",
       "      <td>Open</td>\n",
       "      <td>Female</td>\n",
       "      <td>Northern</td>\n",
       "      <td>RENTED</td>\n",
       "      <td>70</td>\n",
       "      <td>Three Full Years</td>\n",
       "      <td>5</td>\n",
       "      <td>0</td>\n",
       "      <td>17</td>\n",
       "      <td>2015-04-03</td>\n",
       "      <td>NaN</td>\n",
       "    </tr>\n",
       "    <tr>\n",
       "      <th>1</th>\n",
       "      <td>M2</td>\n",
       "      <td>2011-11-28</td>\n",
       "      <td>VALID</td>\n",
       "      <td>PPL</td>\n",
       "      <td>Open</td>\n",
       "      <td>Female</td>\n",
       "      <td>Western</td>\n",
       "      <td>RENTED</td>\n",
       "      <td>55</td>\n",
       "      <td>Three Full Years</td>\n",
       "      <td>7</td>\n",
       "      <td>0</td>\n",
       "      <td>22</td>\n",
       "      <td>2015-04-03</td>\n",
       "      <td>NaN</td>\n",
       "    </tr>\n",
       "    <tr>\n",
       "      <th>2</th>\n",
       "      <td>M3</td>\n",
       "      <td>2011-12-06</td>\n",
       "      <td>VALID</td>\n",
       "      <td>KLA</td>\n",
       "      <td>Open</td>\n",
       "      <td>Male</td>\n",
       "      <td>Eastern</td>\n",
       "      <td>RENTED</td>\n",
       "      <td>64</td>\n",
       "      <td>Three Full Years</td>\n",
       "      <td>1</td>\n",
       "      <td>5</td>\n",
       "      <td>17</td>\n",
       "      <td>2016-04-03</td>\n",
       "      <td>NaN</td>\n",
       "    </tr>\n",
       "    <tr>\n",
       "      <th>3</th>\n",
       "      <td>M4</td>\n",
       "      <td>2011-10-28</td>\n",
       "      <td>VALID</td>\n",
       "      <td>MXX</td>\n",
       "      <td>Open</td>\n",
       "      <td>Female</td>\n",
       "      <td>Northern</td>\n",
       "      <td>RENTED</td>\n",
       "      <td>66</td>\n",
       "      <td>Three Full Years</td>\n",
       "      <td>6</td>\n",
       "      <td>14</td>\n",
       "      <td>22</td>\n",
       "      <td>2015-04-03</td>\n",
       "      <td>NaN</td>\n",
       "    </tr>\n",
       "    <tr>\n",
       "      <th>4</th>\n",
       "      <td>M5</td>\n",
       "      <td>2015-01-18</td>\n",
       "      <td>VALID</td>\n",
       "      <td>PRP</td>\n",
       "      <td>Open</td>\n",
       "      <td>NaN</td>\n",
       "      <td>Western</td>\n",
       "      <td>RENTED</td>\n",
       "      <td>NaN</td>\n",
       "      <td>Full Year</td>\n",
       "      <td>NaN</td>\n",
       "      <td>NaN</td>\n",
       "      <td>NaN</td>\n",
       "      <td>2016-01-03</td>\n",
       "      <td>NaN</td>\n",
       "    </tr>\n",
       "  </tbody>\n",
       "</table>\n",
       "</div>"
      ],
      "text/plain": [
       "  Account Number Commence Date Address Scheme Staus  Gender   Region   \\\n",
       "0             M1    2011-11-04   VALID    KLA  Open  Female  Northern   \n",
       "1             M2    2011-11-28   VALID    PPL  Open  Female   Western   \n",
       "2             M3    2011-12-06   VALID    KLA  Open    Male   Eastern   \n",
       "3             M4    2011-10-28   VALID    MXX  Open  Female  Northern   \n",
       "4             M5    2015-01-18   VALID    PRP  Open     NaN   Western   \n",
       "\n",
       "   Sale of Equipment Status  Age Equipment Warranty  Salary Slab  \\\n",
       "0                    RENTED   70   Three Full Years            5   \n",
       "1                    RENTED   55   Three Full Years            7   \n",
       "2                    RENTED   64   Three Full Years            1   \n",
       "3                    RENTED   66   Three Full Years            6   \n",
       "4                    RENTED  NaN          Full Year          NaN   \n",
       "\n",
       "   Professional Info  Age of Home Equipment Warranty Expiry Date Churn Date  \n",
       "0                  0           17                     2015-04-03        NaN  \n",
       "1                  0           22                     2015-04-03        NaN  \n",
       "2                  5           17                     2016-04-03        NaN  \n",
       "3                 14           22                     2015-04-03        NaN  \n",
       "4                NaN          NaN                     2016-01-03        NaN  "
      ]
     },
     "execution_count": 57,
     "metadata": {},
     "output_type": "execute_result"
    }
   ],
   "source": [
    "demo_data.head()"
   ]
  },
  {
   "cell_type": "code",
   "execution_count": 58,
   "metadata": {
    "collapsed": false
   },
   "outputs": [
    {
     "data": {
      "text/plain": [
       "(14952, 15)"
      ]
     },
     "execution_count": 58,
     "metadata": {},
     "output_type": "execute_result"
    }
   ],
   "source": [
    "demo_data.shape"
   ]
  },
  {
   "cell_type": "markdown",
   "metadata": {
    "collapsed": false
   },
   "source": [
    "### Training and test data"
   ]
  },
  {
   "cell_type": "code",
   "execution_count": 59,
   "metadata": {
    "collapsed": true
   },
   "outputs": [],
   "source": [
    "def isModel(x):\n",
    "    return x.startswith(\"M\")"
   ]
  },
  {
   "cell_type": "code",
   "execution_count": 60,
   "metadata": {
    "collapsed": false
   },
   "outputs": [
    {
     "data": {
      "text/html": [
       "<div>\n",
       "<table border=\"1\" class=\"dataframe\">\n",
       "  <thead>\n",
       "    <tr style=\"text-align: right;\">\n",
       "      <th></th>\n",
       "      <th>Account Number</th>\n",
       "      <th>Commence Date</th>\n",
       "      <th>Address</th>\n",
       "      <th>Scheme</th>\n",
       "      <th>Staus</th>\n",
       "      <th>Gender</th>\n",
       "      <th>Region</th>\n",
       "      <th>Sale of Equipment Status</th>\n",
       "      <th>Age</th>\n",
       "      <th>Equipment Warranty</th>\n",
       "      <th>Salary Slab</th>\n",
       "      <th>Professional Info</th>\n",
       "      <th>Age of Home</th>\n",
       "      <th>Equipment Warranty Expiry Date</th>\n",
       "      <th>Churn Date</th>\n",
       "    </tr>\n",
       "  </thead>\n",
       "  <tbody>\n",
       "    <tr>\n",
       "      <th>9966</th>\n",
       "      <td>V1</td>\n",
       "      <td>2012-09-27</td>\n",
       "      <td>VALID</td>\n",
       "      <td>PWR</td>\n",
       "      <td>Open</td>\n",
       "      <td>NaN</td>\n",
       "      <td>Southern</td>\n",
       "      <td>RENTED</td>\n",
       "      <td>NaN</td>\n",
       "      <td>Three Full Years</td>\n",
       "      <td>NaN</td>\n",
       "      <td>NaN</td>\n",
       "      <td>NaN</td>\n",
       "      <td>2015-08-03</td>\n",
       "      <td>NaN</td>\n",
       "    </tr>\n",
       "    <tr>\n",
       "      <th>9967</th>\n",
       "      <td>V2</td>\n",
       "      <td>2012-01-26</td>\n",
       "      <td>VALID</td>\n",
       "      <td>PRS</td>\n",
       "      <td>Open</td>\n",
       "      <td>Female</td>\n",
       "      <td>Western</td>\n",
       "      <td>RENTED</td>\n",
       "      <td>71</td>\n",
       "      <td>Three Full Years</td>\n",
       "      <td>12</td>\n",
       "      <td>18</td>\n",
       "      <td>22</td>\n",
       "      <td>2016-08-03</td>\n",
       "      <td>NaN</td>\n",
       "    </tr>\n",
       "    <tr>\n",
       "      <th>9968</th>\n",
       "      <td>V3</td>\n",
       "      <td>2013-05-14</td>\n",
       "      <td>VALID</td>\n",
       "      <td>MXX</td>\n",
       "      <td>Open</td>\n",
       "      <td>Male</td>\n",
       "      <td>Eastern</td>\n",
       "      <td>BOUGHT</td>\n",
       "      <td>69</td>\n",
       "      <td>Three Full Years</td>\n",
       "      <td>9</td>\n",
       "      <td>8</td>\n",
       "      <td>22</td>\n",
       "      <td>2015-08-03</td>\n",
       "      <td>NaN</td>\n",
       "    </tr>\n",
       "    <tr>\n",
       "      <th>9969</th>\n",
       "      <td>V4</td>\n",
       "      <td>2011-10-12</td>\n",
       "      <td>VALID</td>\n",
       "      <td>PWM</td>\n",
       "      <td>Open</td>\n",
       "      <td>Male</td>\n",
       "      <td>Eastern</td>\n",
       "      <td>RENTED</td>\n",
       "      <td>71</td>\n",
       "      <td>Three Full Years</td>\n",
       "      <td>5</td>\n",
       "      <td>19</td>\n",
       "      <td>22</td>\n",
       "      <td>2015-07-30</td>\n",
       "      <td>NaN</td>\n",
       "    </tr>\n",
       "    <tr>\n",
       "      <th>9970</th>\n",
       "      <td>V5</td>\n",
       "      <td>2014-07-31</td>\n",
       "      <td>VALID</td>\n",
       "      <td>KLA</td>\n",
       "      <td>Open</td>\n",
       "      <td>Male</td>\n",
       "      <td>Northern</td>\n",
       "      <td>RENTED</td>\n",
       "      <td>61</td>\n",
       "      <td>Three Full Years</td>\n",
       "      <td>6</td>\n",
       "      <td>13</td>\n",
       "      <td>22</td>\n",
       "      <td>2016-07-15</td>\n",
       "      <td>NaN</td>\n",
       "    </tr>\n",
       "  </tbody>\n",
       "</table>\n",
       "</div>"
      ],
      "text/plain": [
       "     Account Number Commence Date Address Scheme Staus  Gender   Region   \\\n",
       "9966             V1    2012-09-27   VALID    PWR  Open     NaN  Southern   \n",
       "9967             V2    2012-01-26   VALID    PRS  Open  Female   Western   \n",
       "9968             V3    2013-05-14   VALID    MXX  Open    Male   Eastern   \n",
       "9969             V4    2011-10-12   VALID    PWM  Open    Male   Eastern   \n",
       "9970             V5    2014-07-31   VALID    KLA  Open    Male  Northern   \n",
       "\n",
       "      Sale of Equipment Status  Age Equipment Warranty  Salary Slab  \\\n",
       "9966                    RENTED  NaN   Three Full Years          NaN   \n",
       "9967                    RENTED   71   Three Full Years           12   \n",
       "9968                    BOUGHT   69   Three Full Years            9   \n",
       "9969                    RENTED   71   Three Full Years            5   \n",
       "9970                    RENTED   61   Three Full Years            6   \n",
       "\n",
       "      Professional Info  Age of Home Equipment Warranty Expiry Date Churn Date  \n",
       "9966                NaN          NaN                     2015-08-03        NaN  \n",
       "9967                 18           22                     2016-08-03        NaN  \n",
       "9968                  8           22                     2015-08-03        NaN  \n",
       "9969                 19           22                     2015-07-30        NaN  \n",
       "9970                 13           22                     2016-07-15        NaN  "
      ]
     },
     "execution_count": 60,
     "metadata": {},
     "output_type": "execute_result"
    }
   ],
   "source": [
    "a = demo_data[\"Account Number\"].apply(isModel)\n",
    "a = np.array(a)\n",
    "test_demo_data = demo_data[~a]\n",
    "demo_data = demo_data[a]\n",
    "test_demo_data.head()"
   ]
  },
  {
   "cell_type": "code",
   "execution_count": 61,
   "metadata": {
    "collapsed": true
   },
   "outputs": [],
   "source": [
    "train_acc = np.unique(demo_data[\"Account Number\"])\n",
    "test_acc = np.unique(test_demo_data[\"Account Number\"])"
   ]
  },
  {
   "cell_type": "code",
   "execution_count": 62,
   "metadata": {
    "collapsed": false
   },
   "outputs": [
    {
     "data": {
      "text/plain": [
       "(9966, 15)"
      ]
     },
     "execution_count": 62,
     "metadata": {},
     "output_type": "execute_result"
    }
   ],
   "source": [
    "demo_data.shape"
   ]
  },
  {
   "cell_type": "code",
   "execution_count": 63,
   "metadata": {
    "collapsed": false
   },
   "outputs": [
    {
     "data": {
      "text/plain": [
       "(4986, 15)"
      ]
     },
     "execution_count": 63,
     "metadata": {},
     "output_type": "execute_result"
    }
   ],
   "source": [
    "test_demo_data.shape"
   ]
  },
  {
   "cell_type": "markdown",
   "metadata": {},
   "source": [
    "### Splitting training demo data to Churners and Non Churners"
   ]
  },
  {
   "cell_type": "code",
   "execution_count": 64,
   "metadata": {
    "collapsed": false
   },
   "outputs": [
    {
     "data": {
      "text/plain": [
       "(506, 15)"
      ]
     },
     "execution_count": 64,
     "metadata": {},
     "output_type": "execute_result"
    }
   ],
   "source": [
    "churn_demo_data = demo_data[~demo_data[\"Churn Date\"].isnull()]\n",
    "churn_demo_data.shape"
   ]
  },
  {
   "cell_type": "code",
   "execution_count": 65,
   "metadata": {
    "collapsed": false
   },
   "outputs": [
    {
     "data": {
      "text/html": [
       "<div>\n",
       "<table border=\"1\" class=\"dataframe\">\n",
       "  <thead>\n",
       "    <tr style=\"text-align: right;\">\n",
       "      <th></th>\n",
       "      <th>Account Number</th>\n",
       "      <th>Commence Date</th>\n",
       "      <th>Address</th>\n",
       "      <th>Scheme</th>\n",
       "      <th>Staus</th>\n",
       "      <th>Gender</th>\n",
       "      <th>Region</th>\n",
       "      <th>Sale of Equipment Status</th>\n",
       "      <th>Age</th>\n",
       "      <th>Equipment Warranty</th>\n",
       "      <th>Salary Slab</th>\n",
       "      <th>Professional Info</th>\n",
       "      <th>Age of Home</th>\n",
       "      <th>Equipment Warranty Expiry Date</th>\n",
       "      <th>Churn Date</th>\n",
       "    </tr>\n",
       "  </thead>\n",
       "  <tbody>\n",
       "    <tr>\n",
       "      <th>51</th>\n",
       "      <td>M52</td>\n",
       "      <td>2012-04-04</td>\n",
       "      <td>VALID</td>\n",
       "      <td>PWR</td>\n",
       "      <td>Open</td>\n",
       "      <td>Female</td>\n",
       "      <td>Eastern</td>\n",
       "      <td>RENTED</td>\n",
       "      <td>71</td>\n",
       "      <td>Three Full Years</td>\n",
       "      <td>5</td>\n",
       "      <td>0</td>\n",
       "      <td>17</td>\n",
       "      <td>2015-03-29</td>\n",
       "      <td>2015-05-30 00:00:00</td>\n",
       "    </tr>\n",
       "    <tr>\n",
       "      <th>73</th>\n",
       "      <td>M74</td>\n",
       "      <td>2012-02-08</td>\n",
       "      <td>VALID</td>\n",
       "      <td>PWP</td>\n",
       "      <td>Open</td>\n",
       "      <td>Male</td>\n",
       "      <td>Eastern</td>\n",
       "      <td>BOUGHT</td>\n",
       "      <td>59</td>\n",
       "      <td>Three Full Years</td>\n",
       "      <td>5</td>\n",
       "      <td>0</td>\n",
       "      <td>12</td>\n",
       "      <td>2015-03-25</td>\n",
       "      <td>2015-05-23 00:00:00</td>\n",
       "    </tr>\n",
       "    <tr>\n",
       "      <th>76</th>\n",
       "      <td>M77</td>\n",
       "      <td>2013-03-02</td>\n",
       "      <td>INVALID</td>\n",
       "      <td>PWR</td>\n",
       "      <td>Open</td>\n",
       "      <td>Female</td>\n",
       "      <td>Western</td>\n",
       "      <td>Second Hand</td>\n",
       "      <td>59</td>\n",
       "      <td>Three Full Years</td>\n",
       "      <td>6</td>\n",
       "      <td>0</td>\n",
       "      <td>22</td>\n",
       "      <td>2015-04-03</td>\n",
       "      <td>2015-05-01 00:00:00</td>\n",
       "    </tr>\n",
       "    <tr>\n",
       "      <th>79</th>\n",
       "      <td>M80</td>\n",
       "      <td>2012-01-19</td>\n",
       "      <td>VALID</td>\n",
       "      <td>PWM</td>\n",
       "      <td>Open</td>\n",
       "      <td>Female</td>\n",
       "      <td>Eastern</td>\n",
       "      <td>BOUGHT</td>\n",
       "      <td>51</td>\n",
       "      <td>Three Full Years</td>\n",
       "      <td>4</td>\n",
       "      <td>10</td>\n",
       "      <td>12</td>\n",
       "      <td>2015-03-29</td>\n",
       "      <td>2015-05-27 00:00:00</td>\n",
       "    </tr>\n",
       "    <tr>\n",
       "      <th>92</th>\n",
       "      <td>M93</td>\n",
       "      <td>2012-02-22</td>\n",
       "      <td>VALID</td>\n",
       "      <td>PWM</td>\n",
       "      <td>Open</td>\n",
       "      <td>Female</td>\n",
       "      <td>Eastern</td>\n",
       "      <td>BOUGHT</td>\n",
       "      <td>55</td>\n",
       "      <td>Three Full Years</td>\n",
       "      <td>4</td>\n",
       "      <td>0</td>\n",
       "      <td>17</td>\n",
       "      <td>2015-03-07</td>\n",
       "      <td>2015-04-05 00:00:00</td>\n",
       "    </tr>\n",
       "  </tbody>\n",
       "</table>\n",
       "</div>"
      ],
      "text/plain": [
       "   Account Number Commence Date  Address Scheme Staus  Gender  Region   \\\n",
       "51            M52    2012-04-04    VALID    PWR  Open  Female  Eastern   \n",
       "73            M74    2012-02-08    VALID    PWP  Open    Male  Eastern   \n",
       "76            M77    2013-03-02  INVALID    PWR  Open  Female  Western   \n",
       "79            M80    2012-01-19    VALID    PWM  Open  Female  Eastern   \n",
       "92            M93    2012-02-22    VALID    PWM  Open  Female  Eastern   \n",
       "\n",
       "    Sale of Equipment Status  Age Equipment Warranty  Salary Slab  \\\n",
       "51                    RENTED   71   Three Full Years            5   \n",
       "73                    BOUGHT   59   Three Full Years            5   \n",
       "76               Second Hand   59   Three Full Years            6   \n",
       "79                    BOUGHT   51   Three Full Years            4   \n",
       "92                    BOUGHT   55   Three Full Years            4   \n",
       "\n",
       "    Professional Info  Age of Home Equipment Warranty Expiry Date  \\\n",
       "51                  0           17                     2015-03-29   \n",
       "73                  0           12                     2015-03-25   \n",
       "76                  0           22                     2015-04-03   \n",
       "79                 10           12                     2015-03-29   \n",
       "92                  0           17                     2015-03-07   \n",
       "\n",
       "             Churn Date  \n",
       "51  2015-05-30 00:00:00  \n",
       "73  2015-05-23 00:00:00  \n",
       "76  2015-05-01 00:00:00  \n",
       "79  2015-05-27 00:00:00  \n",
       "92  2015-04-05 00:00:00  "
      ]
     },
     "execution_count": 65,
     "metadata": {},
     "output_type": "execute_result"
    }
   ],
   "source": [
    "churn_demo_data.head()"
   ]
  },
  {
   "cell_type": "code",
   "execution_count": 66,
   "metadata": {
    "collapsed": false
   },
   "outputs": [
    {
     "data": {
      "text/plain": [
       "506"
      ]
     },
     "execution_count": 66,
     "metadata": {},
     "output_type": "execute_result"
    }
   ],
   "source": [
    "churn_acc_num = np.unique(churn_demo_data[\"Account Number\"])\n",
    "len(churn_acc_num)"
   ]
  },
  {
   "cell_type": "code",
   "execution_count": 67,
   "metadata": {
    "collapsed": false
   },
   "outputs": [
    {
     "data": {
      "text/html": [
       "<div>\n",
       "<table border=\"1\" class=\"dataframe\">\n",
       "  <thead>\n",
       "    <tr style=\"text-align: right;\">\n",
       "      <th></th>\n",
       "      <th>Account Number</th>\n",
       "      <th>Commence Date</th>\n",
       "      <th>Address</th>\n",
       "      <th>Scheme</th>\n",
       "      <th>Staus</th>\n",
       "      <th>Gender</th>\n",
       "      <th>Region</th>\n",
       "      <th>Sale of Equipment Status</th>\n",
       "      <th>Age</th>\n",
       "      <th>Equipment Warranty</th>\n",
       "      <th>Salary Slab</th>\n",
       "      <th>Professional Info</th>\n",
       "      <th>Age of Home</th>\n",
       "      <th>Equipment Warranty Expiry Date</th>\n",
       "      <th>Churn Date</th>\n",
       "    </tr>\n",
       "  </thead>\n",
       "  <tbody>\n",
       "    <tr>\n",
       "      <th>0</th>\n",
       "      <td>M1</td>\n",
       "      <td>2011-11-04</td>\n",
       "      <td>VALID</td>\n",
       "      <td>KLA</td>\n",
       "      <td>Open</td>\n",
       "      <td>Female</td>\n",
       "      <td>Northern</td>\n",
       "      <td>RENTED</td>\n",
       "      <td>70</td>\n",
       "      <td>Three Full Years</td>\n",
       "      <td>5</td>\n",
       "      <td>0</td>\n",
       "      <td>17</td>\n",
       "      <td>2015-04-03</td>\n",
       "      <td>NaN</td>\n",
       "    </tr>\n",
       "    <tr>\n",
       "      <th>1</th>\n",
       "      <td>M2</td>\n",
       "      <td>2011-11-28</td>\n",
       "      <td>VALID</td>\n",
       "      <td>PPL</td>\n",
       "      <td>Open</td>\n",
       "      <td>Female</td>\n",
       "      <td>Western</td>\n",
       "      <td>RENTED</td>\n",
       "      <td>55</td>\n",
       "      <td>Three Full Years</td>\n",
       "      <td>7</td>\n",
       "      <td>0</td>\n",
       "      <td>22</td>\n",
       "      <td>2015-04-03</td>\n",
       "      <td>NaN</td>\n",
       "    </tr>\n",
       "    <tr>\n",
       "      <th>2</th>\n",
       "      <td>M3</td>\n",
       "      <td>2011-12-06</td>\n",
       "      <td>VALID</td>\n",
       "      <td>KLA</td>\n",
       "      <td>Open</td>\n",
       "      <td>Male</td>\n",
       "      <td>Eastern</td>\n",
       "      <td>RENTED</td>\n",
       "      <td>64</td>\n",
       "      <td>Three Full Years</td>\n",
       "      <td>1</td>\n",
       "      <td>5</td>\n",
       "      <td>17</td>\n",
       "      <td>2016-04-03</td>\n",
       "      <td>NaN</td>\n",
       "    </tr>\n",
       "    <tr>\n",
       "      <th>3</th>\n",
       "      <td>M4</td>\n",
       "      <td>2011-10-28</td>\n",
       "      <td>VALID</td>\n",
       "      <td>MXX</td>\n",
       "      <td>Open</td>\n",
       "      <td>Female</td>\n",
       "      <td>Northern</td>\n",
       "      <td>RENTED</td>\n",
       "      <td>66</td>\n",
       "      <td>Three Full Years</td>\n",
       "      <td>6</td>\n",
       "      <td>14</td>\n",
       "      <td>22</td>\n",
       "      <td>2015-04-03</td>\n",
       "      <td>NaN</td>\n",
       "    </tr>\n",
       "    <tr>\n",
       "      <th>4</th>\n",
       "      <td>M5</td>\n",
       "      <td>2015-01-18</td>\n",
       "      <td>VALID</td>\n",
       "      <td>PRP</td>\n",
       "      <td>Open</td>\n",
       "      <td>NaN</td>\n",
       "      <td>Western</td>\n",
       "      <td>RENTED</td>\n",
       "      <td>NaN</td>\n",
       "      <td>Full Year</td>\n",
       "      <td>NaN</td>\n",
       "      <td>NaN</td>\n",
       "      <td>NaN</td>\n",
       "      <td>2016-01-03</td>\n",
       "      <td>NaN</td>\n",
       "    </tr>\n",
       "  </tbody>\n",
       "</table>\n",
       "</div>"
      ],
      "text/plain": [
       "  Account Number Commence Date Address Scheme Staus  Gender   Region   \\\n",
       "0             M1    2011-11-04   VALID    KLA  Open  Female  Northern   \n",
       "1             M2    2011-11-28   VALID    PPL  Open  Female   Western   \n",
       "2             M3    2011-12-06   VALID    KLA  Open    Male   Eastern   \n",
       "3             M4    2011-10-28   VALID    MXX  Open  Female  Northern   \n",
       "4             M5    2015-01-18   VALID    PRP  Open     NaN   Western   \n",
       "\n",
       "   Sale of Equipment Status  Age Equipment Warranty  Salary Slab  \\\n",
       "0                    RENTED   70   Three Full Years            5   \n",
       "1                    RENTED   55   Three Full Years            7   \n",
       "2                    RENTED   64   Three Full Years            1   \n",
       "3                    RENTED   66   Three Full Years            6   \n",
       "4                    RENTED  NaN          Full Year          NaN   \n",
       "\n",
       "   Professional Info  Age of Home Equipment Warranty Expiry Date Churn Date  \n",
       "0                  0           17                     2015-04-03        NaN  \n",
       "1                  0           22                     2015-04-03        NaN  \n",
       "2                  5           17                     2016-04-03        NaN  \n",
       "3                 14           22                     2015-04-03        NaN  \n",
       "4                NaN          NaN                     2016-01-03        NaN  "
      ]
     },
     "execution_count": 67,
     "metadata": {},
     "output_type": "execute_result"
    }
   ],
   "source": [
    "non_churn_demo_data = demo_data[demo_data[\"Churn Date\"].isnull()]\n",
    "non_churn_demo_data.head()"
   ]
  },
  {
   "cell_type": "code",
   "execution_count": 68,
   "metadata": {
    "collapsed": false
   },
   "outputs": [
    {
     "data": {
      "text/plain": [
       "(4986, 15)"
      ]
     },
     "execution_count": 68,
     "metadata": {},
     "output_type": "execute_result"
    }
   ],
   "source": [
    "test_non_churn_demo_data = test_demo_data[test_demo_data[\"Churn Date\"].isnull()]\n",
    "test_non_churn_demo_data.shape"
   ]
  },
  {
   "cell_type": "code",
   "execution_count": 69,
   "metadata": {
    "collapsed": false
   },
   "outputs": [
    {
     "data": {
      "text/plain": [
       "9460"
      ]
     },
     "execution_count": 69,
     "metadata": {},
     "output_type": "execute_result"
    }
   ],
   "source": [
    "non_churn_acc_num = np.unique(non_churn_demo_data[\"Account Number\"])\n",
    "len(non_churn_acc_num)"
   ]
  },
  {
   "cell_type": "code",
   "execution_count": 70,
   "metadata": {
    "collapsed": false
   },
   "outputs": [
    {
     "data": {
      "text/html": [
       "<div>\n",
       "<table border=\"1\" class=\"dataframe\">\n",
       "  <thead>\n",
       "    <tr style=\"text-align: right;\">\n",
       "      <th></th>\n",
       "      <th>Account Number</th>\n",
       "      <th>Used pattern in hours</th>\n",
       "      <th>Usage Post Limit Utilization in hrs</th>\n",
       "      <th>data used Gb</th>\n",
       "      <th>YYYYMM</th>\n",
       "    </tr>\n",
       "  </thead>\n",
       "  <tbody>\n",
       "    <tr>\n",
       "      <th>0</th>\n",
       "      <td>M1</td>\n",
       "      <td>717.90</td>\n",
       "      <td>0</td>\n",
       "      <td>43.80</td>\n",
       "      <td>201501</td>\n",
       "    </tr>\n",
       "    <tr>\n",
       "      <th>1</th>\n",
       "      <td>M1</td>\n",
       "      <td>662.42</td>\n",
       "      <td>0</td>\n",
       "      <td>110.35</td>\n",
       "      <td>201502</td>\n",
       "    </tr>\n",
       "    <tr>\n",
       "      <th>2</th>\n",
       "      <td>M1</td>\n",
       "      <td>634.68</td>\n",
       "      <td>0</td>\n",
       "      <td>109.10</td>\n",
       "      <td>201503</td>\n",
       "    </tr>\n",
       "    <tr>\n",
       "      <th>3</th>\n",
       "      <td>M2</td>\n",
       "      <td>696.12</td>\n",
       "      <td>5</td>\n",
       "      <td>98.40</td>\n",
       "      <td>201501</td>\n",
       "    </tr>\n",
       "    <tr>\n",
       "      <th>4</th>\n",
       "      <td>M2</td>\n",
       "      <td>652.40</td>\n",
       "      <td>0</td>\n",
       "      <td>70.90</td>\n",
       "      <td>201502</td>\n",
       "    </tr>\n",
       "  </tbody>\n",
       "</table>\n",
       "</div>"
      ],
      "text/plain": [
       "  Account Number   Used pattern in hours  Usage Post Limit Utilization in hrs  \\\n",
       "0              M1                 717.90                                    0   \n",
       "1              M1                 662.42                                    0   \n",
       "2              M1                 634.68                                    0   \n",
       "3              M2                 696.12                                    5   \n",
       "4              M2                 652.40                                    0   \n",
       "\n",
       "   data used Gb  YYYYMM  \n",
       "0         43.80  201501  \n",
       "1        110.35  201502  \n",
       "2        109.10  201503  \n",
       "3         98.40  201501  \n",
       "4         70.90  201502  "
      ]
     },
     "execution_count": 70,
     "metadata": {},
     "output_type": "execute_result"
    }
   ],
   "source": [
    "pattern_data = xls.parse(4)\n",
    "pattern_data.head()"
   ]
  },
  {
   "cell_type": "code",
   "execution_count": 71,
   "metadata": {
    "collapsed": false
   },
   "outputs": [
    {
     "data": {
      "text/html": [
       "<div>\n",
       "<table border=\"1\" class=\"dataframe\">\n",
       "  <thead>\n",
       "    <tr style=\"text-align: right;\">\n",
       "      <th></th>\n",
       "      <th>Account Number</th>\n",
       "      <th>Used pattern in hours</th>\n",
       "      <th>Usage Post Limit Utilization in hrs</th>\n",
       "      <th>data used Gb</th>\n",
       "      <th>YYYYMM</th>\n",
       "    </tr>\n",
       "  </thead>\n",
       "  <tbody>\n",
       "    <tr>\n",
       "      <th>27703</th>\n",
       "      <td>V1</td>\n",
       "      <td>400.52</td>\n",
       "      <td>0</td>\n",
       "      <td>78.15</td>\n",
       "      <td>201505</td>\n",
       "    </tr>\n",
       "    <tr>\n",
       "      <th>27704</th>\n",
       "      <td>V1</td>\n",
       "      <td>587.93</td>\n",
       "      <td>0</td>\n",
       "      <td>37.30</td>\n",
       "      <td>201506</td>\n",
       "    </tr>\n",
       "    <tr>\n",
       "      <th>27705</th>\n",
       "      <td>V1</td>\n",
       "      <td>647.40</td>\n",
       "      <td>0</td>\n",
       "      <td>115.00</td>\n",
       "      <td>201507</td>\n",
       "    </tr>\n",
       "    <tr>\n",
       "      <th>27706</th>\n",
       "      <td>V2</td>\n",
       "      <td>699.75</td>\n",
       "      <td>232</td>\n",
       "      <td>226.30</td>\n",
       "      <td>201505</td>\n",
       "    </tr>\n",
       "    <tr>\n",
       "      <th>27707</th>\n",
       "      <td>V2</td>\n",
       "      <td>658.43</td>\n",
       "      <td>35</td>\n",
       "      <td>119.10</td>\n",
       "      <td>201506</td>\n",
       "    </tr>\n",
       "  </tbody>\n",
       "</table>\n",
       "</div>"
      ],
      "text/plain": [
       "      Account Number   Used pattern in hours  \\\n",
       "27703              V1                 400.52   \n",
       "27704              V1                 587.93   \n",
       "27705              V1                 647.40   \n",
       "27706              V2                 699.75   \n",
       "27707              V2                 658.43   \n",
       "\n",
       "       Usage Post Limit Utilization in hrs  data used Gb  YYYYMM  \n",
       "27703                                    0         78.15  201505  \n",
       "27704                                    0         37.30  201506  \n",
       "27705                                    0        115.00  201507  \n",
       "27706                                  232        226.30  201505  \n",
       "27707                                   35        119.10  201506  "
      ]
     },
     "execution_count": 71,
     "metadata": {},
     "output_type": "execute_result"
    }
   ],
   "source": [
    "test_pattern_data = pattern_data[pattern_data[\"Account Number \"].isin(test_acc)]\n",
    "test_pattern_data.head()"
   ]
  },
  {
   "cell_type": "code",
   "execution_count": 72,
   "metadata": {
    "collapsed": false
   },
   "outputs": [
    {
     "data": {
      "text/html": [
       "<div>\n",
       "<table border=\"1\" class=\"dataframe\">\n",
       "  <thead>\n",
       "    <tr style=\"text-align: right;\">\n",
       "      <th></th>\n",
       "      <th>Account Number</th>\n",
       "      <th>Used pattern in hours</th>\n",
       "      <th>Usage Post Limit Utilization in hrs</th>\n",
       "      <th>data used Gb</th>\n",
       "      <th>YYYYMM</th>\n",
       "    </tr>\n",
       "  </thead>\n",
       "  <tbody>\n",
       "    <tr>\n",
       "      <th>0</th>\n",
       "      <td>M1</td>\n",
       "      <td>717.90</td>\n",
       "      <td>0</td>\n",
       "      <td>43.80</td>\n",
       "      <td>201501</td>\n",
       "    </tr>\n",
       "    <tr>\n",
       "      <th>1</th>\n",
       "      <td>M1</td>\n",
       "      <td>662.42</td>\n",
       "      <td>0</td>\n",
       "      <td>110.35</td>\n",
       "      <td>201502</td>\n",
       "    </tr>\n",
       "    <tr>\n",
       "      <th>2</th>\n",
       "      <td>M1</td>\n",
       "      <td>634.68</td>\n",
       "      <td>0</td>\n",
       "      <td>109.10</td>\n",
       "      <td>201503</td>\n",
       "    </tr>\n",
       "    <tr>\n",
       "      <th>3</th>\n",
       "      <td>M2</td>\n",
       "      <td>696.12</td>\n",
       "      <td>5</td>\n",
       "      <td>98.40</td>\n",
       "      <td>201501</td>\n",
       "    </tr>\n",
       "    <tr>\n",
       "      <th>4</th>\n",
       "      <td>M2</td>\n",
       "      <td>652.40</td>\n",
       "      <td>0</td>\n",
       "      <td>70.90</td>\n",
       "      <td>201502</td>\n",
       "    </tr>\n",
       "  </tbody>\n",
       "</table>\n",
       "</div>"
      ],
      "text/plain": [
       "  Account Number   Used pattern in hours  Usage Post Limit Utilization in hrs  \\\n",
       "0              M1                 717.90                                    0   \n",
       "1              M1                 662.42                                    0   \n",
       "2              M1                 634.68                                    0   \n",
       "3              M2                 696.12                                    5   \n",
       "4              M2                 652.40                                    0   \n",
       "\n",
       "   data used Gb  YYYYMM  \n",
       "0         43.80  201501  \n",
       "1        110.35  201502  \n",
       "2        109.10  201503  \n",
       "3         98.40  201501  \n",
       "4         70.90  201502  "
      ]
     },
     "execution_count": 72,
     "metadata": {},
     "output_type": "execute_result"
    }
   ],
   "source": [
    "pattern_data = pattern_data[pattern_data[\"Account Number \"].isin(train_acc)]\n",
    "pattern_data.head()"
   ]
  },
  {
   "cell_type": "code",
   "execution_count": 73,
   "metadata": {
    "collapsed": false
   },
   "outputs": [
    {
     "data": {
      "text/html": [
       "<div>\n",
       "<table border=\"1\" class=\"dataframe\">\n",
       "  <thead>\n",
       "    <tr style=\"text-align: right;\">\n",
       "      <th></th>\n",
       "      <th>Account Number</th>\n",
       "      <th>Used pattern in hours</th>\n",
       "      <th>Usage Post Limit Utilization in hrs</th>\n",
       "      <th>data used Gb</th>\n",
       "      <th>YYYYMM</th>\n",
       "    </tr>\n",
       "  </thead>\n",
       "  <tbody>\n",
       "    <tr>\n",
       "      <th>140</th>\n",
       "      <td>M52</td>\n",
       "      <td>742.72</td>\n",
       "      <td>0</td>\n",
       "      <td>18.55</td>\n",
       "      <td>201501</td>\n",
       "    </tr>\n",
       "    <tr>\n",
       "      <th>141</th>\n",
       "      <td>M52</td>\n",
       "      <td>694.60</td>\n",
       "      <td>0</td>\n",
       "      <td>11.15</td>\n",
       "      <td>201502</td>\n",
       "    </tr>\n",
       "    <tr>\n",
       "      <th>142</th>\n",
       "      <td>M52</td>\n",
       "      <td>709.87</td>\n",
       "      <td>0</td>\n",
       "      <td>8.45</td>\n",
       "      <td>201503</td>\n",
       "    </tr>\n",
       "    <tr>\n",
       "      <th>205</th>\n",
       "      <td>M74</td>\n",
       "      <td>613.13</td>\n",
       "      <td>31</td>\n",
       "      <td>209.60</td>\n",
       "      <td>201501</td>\n",
       "    </tr>\n",
       "    <tr>\n",
       "      <th>206</th>\n",
       "      <td>M74</td>\n",
       "      <td>523.20</td>\n",
       "      <td>0</td>\n",
       "      <td>182.75</td>\n",
       "      <td>201502</td>\n",
       "    </tr>\n",
       "  </tbody>\n",
       "</table>\n",
       "</div>"
      ],
      "text/plain": [
       "    Account Number   Used pattern in hours  \\\n",
       "140             M52                 742.72   \n",
       "141             M52                 694.60   \n",
       "142             M52                 709.87   \n",
       "205             M74                 613.13   \n",
       "206             M74                 523.20   \n",
       "\n",
       "     Usage Post Limit Utilization in hrs  data used Gb  YYYYMM  \n",
       "140                                    0         18.55  201501  \n",
       "141                                    0         11.15  201502  \n",
       "142                                    0          8.45  201503  \n",
       "205                                   31        209.60  201501  \n",
       "206                                    0        182.75  201502  "
      ]
     },
     "execution_count": 73,
     "metadata": {},
     "output_type": "execute_result"
    }
   ],
   "source": [
    "churn_pattern_data = pattern_data[pattern_data[\"Account Number \"].isin(churn_acc_num)]\n",
    "churn_pattern_data.head()"
   ]
  },
  {
   "cell_type": "code",
   "execution_count": 74,
   "metadata": {
    "collapsed": false
   },
   "outputs": [
    {
     "data": {
      "text/html": [
       "<div>\n",
       "<table border=\"1\" class=\"dataframe\">\n",
       "  <thead>\n",
       "    <tr style=\"text-align: right;\">\n",
       "      <th></th>\n",
       "      <th>Account Number</th>\n",
       "      <th>Used pattern in hours</th>\n",
       "      <th>Usage Post Limit Utilization in hrs</th>\n",
       "      <th>data used Gb</th>\n",
       "      <th>YYYYMM</th>\n",
       "    </tr>\n",
       "  </thead>\n",
       "  <tbody>\n",
       "    <tr>\n",
       "      <th>0</th>\n",
       "      <td>M1</td>\n",
       "      <td>717.90</td>\n",
       "      <td>0</td>\n",
       "      <td>43.80</td>\n",
       "      <td>201501</td>\n",
       "    </tr>\n",
       "    <tr>\n",
       "      <th>1</th>\n",
       "      <td>M1</td>\n",
       "      <td>662.42</td>\n",
       "      <td>0</td>\n",
       "      <td>110.35</td>\n",
       "      <td>201502</td>\n",
       "    </tr>\n",
       "    <tr>\n",
       "      <th>2</th>\n",
       "      <td>M1</td>\n",
       "      <td>634.68</td>\n",
       "      <td>0</td>\n",
       "      <td>109.10</td>\n",
       "      <td>201503</td>\n",
       "    </tr>\n",
       "    <tr>\n",
       "      <th>3</th>\n",
       "      <td>M2</td>\n",
       "      <td>696.12</td>\n",
       "      <td>5</td>\n",
       "      <td>98.40</td>\n",
       "      <td>201501</td>\n",
       "    </tr>\n",
       "    <tr>\n",
       "      <th>4</th>\n",
       "      <td>M2</td>\n",
       "      <td>652.40</td>\n",
       "      <td>0</td>\n",
       "      <td>70.90</td>\n",
       "      <td>201502</td>\n",
       "    </tr>\n",
       "  </tbody>\n",
       "</table>\n",
       "</div>"
      ],
      "text/plain": [
       "  Account Number   Used pattern in hours  Usage Post Limit Utilization in hrs  \\\n",
       "0              M1                 717.90                                    0   \n",
       "1              M1                 662.42                                    0   \n",
       "2              M1                 634.68                                    0   \n",
       "3              M2                 696.12                                    5   \n",
       "4              M2                 652.40                                    0   \n",
       "\n",
       "   data used Gb  YYYYMM  \n",
       "0         43.80  201501  \n",
       "1        110.35  201502  \n",
       "2        109.10  201503  \n",
       "3         98.40  201501  \n",
       "4         70.90  201502  "
      ]
     },
     "execution_count": 74,
     "metadata": {},
     "output_type": "execute_result"
    }
   ],
   "source": [
    "non_churn_pattern_data = pattern_data[~pattern_data[\"Account Number \"].isin(churn_acc_num)]\n",
    "non_churn_pattern_data.head()"
   ]
  },
  {
   "cell_type": "markdown",
   "metadata": {},
   "source": [
    "### Data processing - Missing value"
   ]
  },
  {
   "cell_type": "code",
   "execution_count": 75,
   "metadata": {
    "collapsed": false
   },
   "outputs": [
    {
     "data": {
      "text/plain": [
       "Account Number                         0\n",
       "Used pattern in hours                  0\n",
       "Usage Post Limit Utilization in hrs    0\n",
       "data used Gb                           0\n",
       "YYYYMM                                 0\n",
       "dtype: int64"
      ]
     },
     "execution_count": 75,
     "metadata": {},
     "output_type": "execute_result"
    }
   ],
   "source": [
    "churn_pattern_data.isnull().sum()"
   ]
  },
  {
   "cell_type": "code",
   "execution_count": 76,
   "metadata": {
    "collapsed": false
   },
   "outputs": [
    {
     "data": {
      "text/plain": [
       "Account Number                         0\n",
       "Used pattern in hours                  0\n",
       "Usage Post Limit Utilization in hrs    0\n",
       "data used Gb                           0\n",
       "YYYYMM                                 0\n",
       "dtype: int64"
      ]
     },
     "execution_count": 76,
     "metadata": {},
     "output_type": "execute_result"
    }
   ],
   "source": [
    "non_churn_pattern_data.isnull().sum()"
   ]
  },
  {
   "cell_type": "code",
   "execution_count": 77,
   "metadata": {
    "collapsed": false
   },
   "outputs": [
    {
     "data": {
      "text/plain": [
       "Account Number                      0\n",
       "Commence Date                       0\n",
       "Address                            36\n",
       "Scheme                              0\n",
       "Staus                               0\n",
       "Gender                             93\n",
       "Region                              0\n",
       " Sale of Equipment Status           0\n",
       "Age                               135\n",
       "Equipment Warranty                141\n",
       "Salary Slab                        90\n",
       "Professional Info                  90\n",
       "Age of Home                        90\n",
       "Equipment Warranty Expiry Date    141\n",
       "Churn Date                          0\n",
       "dtype: int64"
      ]
     },
     "execution_count": 77,
     "metadata": {},
     "output_type": "execute_result"
    }
   ],
   "source": [
    "churn_demo_data.isnull().sum()"
   ]
  },
  {
   "cell_type": "markdown",
   "metadata": {},
   "source": [
    "### Churners used hrs statistics in last 3 months"
   ]
  },
  {
   "cell_type": "code",
   "execution_count": 78,
   "metadata": {
    "collapsed": false
   },
   "outputs": [
    {
     "data": {
      "text/plain": [
       "456"
      ]
     },
     "execution_count": 78,
     "metadata": {},
     "output_type": "execute_result"
    }
   ],
   "source": [
    "churn_hrs_3_months = churn_pattern_data.groupby(churn_pattern_data[\"Account Number \"])[\"Used pattern in hours\"].mean()\n",
    "len(churn_hrs_3_months)"
   ]
  },
  {
   "cell_type": "code",
   "execution_count": 79,
   "metadata": {
    "collapsed": false
   },
   "outputs": [
    {
     "data": {
      "text/plain": [
       "727.49000000000001"
      ]
     },
     "execution_count": 79,
     "metadata": {},
     "output_type": "execute_result"
    }
   ],
   "source": [
    "churn_hrs_range_3_months = np.max(churn_hrs_3_months) - np.min(churn_hrs_3_months)\n",
    "churn_hrs_range_3_months"
   ]
  },
  {
   "cell_type": "code",
   "execution_count": 80,
   "metadata": {
    "collapsed": false
   },
   "outputs": [
    {
     "data": {
      "text/plain": [
       "count    456.000000\n",
       "mean     540.759883\n",
       "std      164.439905\n",
       "min        1.080000\n",
       "25%      461.952500\n",
       "50%      590.406667\n",
       "75%      663.257500\n",
       "max      728.570000\n",
       "Name: Used pattern in hours, dtype: float64"
      ]
     },
     "execution_count": 80,
     "metadata": {},
     "output_type": "execute_result"
    }
   ],
   "source": [
    "churn_hrs_3_months.describe()"
   ]
  },
  {
   "cell_type": "markdown",
   "metadata": {},
   "source": [
    "### Churners hours post limit in last 3 months statistics"
   ]
  },
  {
   "cell_type": "code",
   "execution_count": 81,
   "metadata": {
    "collapsed": false
   },
   "outputs": [
    {
     "data": {
      "text/plain": [
       "Account Number \n",
       "M1055    45.000000\n",
       "M1062     0.000000\n",
       "M1109    38.666667\n",
       "M1128     0.000000\n",
       "M1156     0.000000\n",
       "Name: Usage Post Limit Utilization in hrs, dtype: float64"
      ]
     },
     "execution_count": 81,
     "metadata": {},
     "output_type": "execute_result"
    }
   ],
   "source": [
    "churn_post_hrs_3_months = churn_pattern_data.groupby(churn_pattern_data[\"Account Number \"])[\"Usage Post Limit Utilization in hrs\"].mean()\n",
    "churn_post_hrs_3_months.head()"
   ]
  },
  {
   "cell_type": "code",
   "execution_count": 82,
   "metadata": {
    "collapsed": false
   },
   "outputs": [
    {
     "data": {
      "text/plain": [
       "490.0"
      ]
     },
     "execution_count": 82,
     "metadata": {},
     "output_type": "execute_result"
    }
   ],
   "source": [
    "churn_post_hrs_range_3_months = np.max(churn_post_hrs_3_months) - np.min(churn_post_hrs_3_months)\n",
    "churn_post_hrs_range_3_months"
   ]
  },
  {
   "cell_type": "code",
   "execution_count": 83,
   "metadata": {
    "collapsed": false
   },
   "outputs": [
    {
     "data": {
      "text/plain": [
       "count    456.000000\n",
       "mean      65.053728\n",
       "std      104.223057\n",
       "min        0.000000\n",
       "25%        0.000000\n",
       "50%        0.000000\n",
       "75%       99.500000\n",
       "max      490.000000\n",
       "Name: Usage Post Limit Utilization in hrs, dtype: float64"
      ]
     },
     "execution_count": 83,
     "metadata": {},
     "output_type": "execute_result"
    }
   ],
   "source": [
    "churn_post_hrs_3_months.describe()"
   ]
  },
  {
   "cell_type": "markdown",
   "metadata": {},
   "source": [
    "### Non Churners used hrs statistics in last 3 months"
   ]
  },
  {
   "cell_type": "code",
   "execution_count": 84,
   "metadata": {
    "collapsed": false
   },
   "outputs": [
    {
     "data": {
      "text/plain": [
       "Account Number \n",
       "M1        671.666667\n",
       "M10       604.800000\n",
       "M100      694.143333\n",
       "M1000     412.490000\n",
       "M10000    689.690000\n",
       "Name: Used pattern in hours, dtype: float64"
      ]
     },
     "execution_count": 84,
     "metadata": {},
     "output_type": "execute_result"
    }
   ],
   "source": [
    "non_churn_hrs_3_months = non_churn_pattern_data.groupby(non_churn_pattern_data[\"Account Number \"])[\"Used pattern in hours\"].mean()\n",
    "non_churn_hrs_3_months.head()"
   ]
  },
  {
   "cell_type": "code",
   "execution_count": 85,
   "metadata": {
    "collapsed": false
   },
   "outputs": [
    {
     "data": {
      "text/plain": [
       "count    9181.000000\n",
       "mean      612.244067\n",
       "std       126.204761\n",
       "min         1.050000\n",
       "25%       585.320000\n",
       "50%       646.226667\n",
       "75%       692.310000\n",
       "max       729.393333\n",
       "Name: Used pattern in hours, dtype: float64"
      ]
     },
     "execution_count": 85,
     "metadata": {},
     "output_type": "execute_result"
    }
   ],
   "source": [
    "non_churn_hrs_3_months.describe()"
   ]
  },
  {
   "cell_type": "code",
   "execution_count": 86,
   "metadata": {
    "collapsed": false
   },
   "outputs": [
    {
     "data": {
      "text/plain": [
       "728.34"
      ]
     },
     "execution_count": 86,
     "metadata": {},
     "output_type": "execute_result"
    }
   ],
   "source": [
    "non_churn_hrs_range_3_months = 729.39-1.05\n",
    "non_churn_hrs_range_3_months"
   ]
  },
  {
   "cell_type": "markdown",
   "metadata": {},
   "source": [
    "### Non Churners post used hours statistics in last 3 months"
   ]
  },
  {
   "cell_type": "code",
   "execution_count": 87,
   "metadata": {
    "collapsed": false
   },
   "outputs": [
    {
     "data": {
      "text/plain": [
       "Account Number \n",
       "M1          0\n",
       "M10         0\n",
       "M100        0\n",
       "M1000       0\n",
       "M10000    199\n",
       "Name: Usage Post Limit Utilization in hrs, dtype: float64"
      ]
     },
     "execution_count": 87,
     "metadata": {},
     "output_type": "execute_result"
    }
   ],
   "source": [
    "non_churn_post_hrs_3_months = non_churn_pattern_data.groupby(non_churn_pattern_data[\"Account Number \"])[\"Usage Post Limit Utilization in hrs\"].mean()\n",
    "non_churn_post_hrs_3_months.head()"
   ]
  },
  {
   "cell_type": "code",
   "execution_count": 88,
   "metadata": {
    "collapsed": false
   },
   "outputs": [
    {
     "data": {
      "text/plain": [
       "count    9181.000000\n",
       "mean       54.243292\n",
       "std        97.346963\n",
       "min         0.000000\n",
       "25%         0.000000\n",
       "50%         0.000000\n",
       "75%        71.000000\n",
       "max       584.000000\n",
       "Name: Usage Post Limit Utilization in hrs, dtype: float64"
      ]
     },
     "execution_count": 88,
     "metadata": {},
     "output_type": "execute_result"
    }
   ],
   "source": [
    "non_churn_post_hrs_3_months.describe()"
   ]
  },
  {
   "cell_type": "markdown",
   "metadata": {
    "collapsed": true
   },
   "source": [
    "### Default Sum"
   ]
  },
  {
   "cell_type": "code",
   "execution_count": 89,
   "metadata": {
    "collapsed": false
   },
   "outputs": [
    {
     "data": {
      "text/html": [
       "<div>\n",
       "<table border=\"1\" class=\"dataframe\">\n",
       "  <thead>\n",
       "    <tr style=\"text-align: right;\">\n",
       "      <th></th>\n",
       "      <th>Account Number</th>\n",
       "      <th>date of default</th>\n",
       "      <th>Default sum</th>\n",
       "    </tr>\n",
       "  </thead>\n",
       "  <tbody>\n",
       "    <tr>\n",
       "      <th>0</th>\n",
       "      <td>M100</td>\n",
       "      <td>2015-02-25</td>\n",
       "      <td>1037.2</td>\n",
       "    </tr>\n",
       "    <tr>\n",
       "      <th>1</th>\n",
       "      <td>M104</td>\n",
       "      <td>2015-03-13</td>\n",
       "      <td>611.8</td>\n",
       "    </tr>\n",
       "    <tr>\n",
       "      <th>2</th>\n",
       "      <td>M114</td>\n",
       "      <td>2015-03-07</td>\n",
       "      <td>2193.5</td>\n",
       "    </tr>\n",
       "    <tr>\n",
       "      <th>3</th>\n",
       "      <td>M125</td>\n",
       "      <td>2015-03-02</td>\n",
       "      <td>507.8</td>\n",
       "    </tr>\n",
       "    <tr>\n",
       "      <th>4</th>\n",
       "      <td>M132</td>\n",
       "      <td>2015-02-27</td>\n",
       "      <td>1405.5</td>\n",
       "    </tr>\n",
       "  </tbody>\n",
       "</table>\n",
       "</div>"
      ],
      "text/plain": [
       "  Account Number date of default  Default sum\n",
       "0           M100      2015-02-25       1037.2\n",
       "1           M104      2015-03-13        611.8\n",
       "2           M114      2015-03-07       2193.5\n",
       "3           M125      2015-03-02        507.8\n",
       "4           M132      2015-02-27       1405.5"
      ]
     },
     "execution_count": 89,
     "metadata": {},
     "output_type": "execute_result"
    }
   ],
   "source": [
    "default_data = xls.parse(3)\n",
    "default_data.head()"
   ]
  },
  {
   "cell_type": "markdown",
   "metadata": {},
   "source": [
    "#### Splitting to training and test data."
   ]
  },
  {
   "cell_type": "code",
   "execution_count": 90,
   "metadata": {
    "collapsed": false
   },
   "outputs": [
    {
     "name": "stdout",
     "output_type": "stream",
     "text": [
      "(1687, 3)\n"
     ]
    },
    {
     "data": {
      "text/html": [
       "<div>\n",
       "<table border=\"1\" class=\"dataframe\">\n",
       "  <thead>\n",
       "    <tr style=\"text-align: right;\">\n",
       "      <th></th>\n",
       "      <th>Account Number</th>\n",
       "      <th>date of default</th>\n",
       "      <th>Default sum</th>\n",
       "    </tr>\n",
       "  </thead>\n",
       "  <tbody>\n",
       "    <tr>\n",
       "      <th>0</th>\n",
       "      <td>M100</td>\n",
       "      <td>2015-02-25</td>\n",
       "      <td>1037.2</td>\n",
       "    </tr>\n",
       "    <tr>\n",
       "      <th>1</th>\n",
       "      <td>M104</td>\n",
       "      <td>2015-03-13</td>\n",
       "      <td>611.8</td>\n",
       "    </tr>\n",
       "    <tr>\n",
       "      <th>2</th>\n",
       "      <td>M114</td>\n",
       "      <td>2015-03-07</td>\n",
       "      <td>2193.5</td>\n",
       "    </tr>\n",
       "    <tr>\n",
       "      <th>3</th>\n",
       "      <td>M125</td>\n",
       "      <td>2015-03-02</td>\n",
       "      <td>507.8</td>\n",
       "    </tr>\n",
       "    <tr>\n",
       "      <th>4</th>\n",
       "      <td>M132</td>\n",
       "      <td>2015-02-27</td>\n",
       "      <td>1405.5</td>\n",
       "    </tr>\n",
       "  </tbody>\n",
       "</table>\n",
       "</div>"
      ],
      "text/plain": [
       "  Account Number date of default  Default sum\n",
       "0           M100      2015-02-25       1037.2\n",
       "1           M104      2015-03-13        611.8\n",
       "2           M114      2015-03-07       2193.5\n",
       "3           M125      2015-03-02        507.8\n",
       "4           M132      2015-02-27       1405.5"
      ]
     },
     "execution_count": 90,
     "metadata": {},
     "output_type": "execute_result"
    }
   ],
   "source": [
    "train_default_data = default_data[default_data[\"Account Number\"].isin(train_acc)]\n",
    "test_default_data = default_data[default_data[\"Account Number\"].isin(test_acc)]\n",
    "print train_default_data.shape\n",
    "train_default_data.head()"
   ]
  },
  {
   "cell_type": "code",
   "execution_count": 91,
   "metadata": {
    "collapsed": false
   },
   "outputs": [
    {
     "data": {
      "text/html": [
       "<div>\n",
       "<table border=\"1\" class=\"dataframe\">\n",
       "  <thead>\n",
       "    <tr style=\"text-align: right;\">\n",
       "      <th></th>\n",
       "      <th>Account Number</th>\n",
       "      <th>date of default</th>\n",
       "      <th>Default sum</th>\n",
       "    </tr>\n",
       "  </thead>\n",
       "  <tbody>\n",
       "    <tr>\n",
       "      <th>1692</th>\n",
       "      <td>V5</td>\n",
       "      <td>2015-07-13</td>\n",
       "      <td>713.4</td>\n",
       "    </tr>\n",
       "    <tr>\n",
       "      <th>1693</th>\n",
       "      <td>V48</td>\n",
       "      <td>2015-07-01</td>\n",
       "      <td>1402.8</td>\n",
       "    </tr>\n",
       "    <tr>\n",
       "      <th>1694</th>\n",
       "      <td>V74</td>\n",
       "      <td>2015-07-11</td>\n",
       "      <td>899.9</td>\n",
       "    </tr>\n",
       "    <tr>\n",
       "      <th>1695</th>\n",
       "      <td>V79</td>\n",
       "      <td>2015-06-29</td>\n",
       "      <td>1483.2</td>\n",
       "    </tr>\n",
       "    <tr>\n",
       "      <th>1696</th>\n",
       "      <td>V95</td>\n",
       "      <td>2015-05-30</td>\n",
       "      <td>1350.3</td>\n",
       "    </tr>\n",
       "  </tbody>\n",
       "</table>\n",
       "</div>"
      ],
      "text/plain": [
       "     Account Number date of default  Default sum\n",
       "1692             V5      2015-07-13        713.4\n",
       "1693            V48      2015-07-01       1402.8\n",
       "1694            V74      2015-07-11        899.9\n",
       "1695            V79      2015-06-29       1483.2\n",
       "1696            V95      2015-05-30       1350.3"
      ]
     },
     "execution_count": 91,
     "metadata": {},
     "output_type": "execute_result"
    }
   ],
   "source": [
    "test_default_data.head()"
   ]
  },
  {
   "cell_type": "code",
   "execution_count": 92,
   "metadata": {
    "collapsed": false
   },
   "outputs": [
    {
     "name": "stdout",
     "output_type": "stream",
     "text": [
      "(270, 3) (1417, 3)\n"
     ]
    },
    {
     "data": {
      "text/html": [
       "<div>\n",
       "<table border=\"1\" class=\"dataframe\">\n",
       "  <thead>\n",
       "    <tr style=\"text-align: right;\">\n",
       "      <th></th>\n",
       "      <th>Account Number</th>\n",
       "      <th>date of default</th>\n",
       "      <th>Default sum</th>\n",
       "    </tr>\n",
       "  </thead>\n",
       "  <tbody>\n",
       "    <tr>\n",
       "      <th>4</th>\n",
       "      <td>M132</td>\n",
       "      <td>2015-02-27</td>\n",
       "      <td>1405.5</td>\n",
       "    </tr>\n",
       "    <tr>\n",
       "      <th>10</th>\n",
       "      <td>M142</td>\n",
       "      <td>2015-02-05</td>\n",
       "      <td>2718.0</td>\n",
       "    </tr>\n",
       "    <tr>\n",
       "      <th>11</th>\n",
       "      <td>M142</td>\n",
       "      <td>2015-03-05</td>\n",
       "      <td>574.1</td>\n",
       "    </tr>\n",
       "    <tr>\n",
       "      <th>12</th>\n",
       "      <td>M155</td>\n",
       "      <td>2015-03-18</td>\n",
       "      <td>1825.6</td>\n",
       "    </tr>\n",
       "    <tr>\n",
       "      <th>25</th>\n",
       "      <td>M199</td>\n",
       "      <td>2015-03-11</td>\n",
       "      <td>672.8</td>\n",
       "    </tr>\n",
       "  </tbody>\n",
       "</table>\n",
       "</div>"
      ],
      "text/plain": [
       "   Account Number date of default  Default sum\n",
       "4            M132      2015-02-27       1405.5\n",
       "10           M142      2015-02-05       2718.0\n",
       "11           M142      2015-03-05        574.1\n",
       "12           M155      2015-03-18       1825.6\n",
       "25           M199      2015-03-11        672.8"
      ]
     },
     "execution_count": 92,
     "metadata": {},
     "output_type": "execute_result"
    }
   ],
   "source": [
    "churn_default_data = train_default_data[train_default_data[\"Account Number\"].isin(churn_acc_num)]\n",
    "non_churn_default_data = train_default_data[~train_default_data[\"Account Number\"].isin(churn_acc_num)]\n",
    "print churn_default_data.shape, non_churn_default_data.shape\n",
    "churn_default_data.head()"
   ]
  },
  {
   "cell_type": "markdown",
   "metadata": {},
   "source": [
    "### For churners, finding maximum default sum"
   ]
  },
  {
   "cell_type": "code",
   "execution_count": 93,
   "metadata": {
    "collapsed": false
   },
   "outputs": [
    {
     "data": {
      "text/plain": [
       "Account Number\n",
       "M1109     827.1\n",
       "M132     1405.5\n",
       "M1374     651.6\n",
       "M1412    1605.6\n",
       "M142     2718.0\n",
       "Name: Default sum, dtype: float64"
      ]
     },
     "execution_count": 93,
     "metadata": {},
     "output_type": "execute_result"
    }
   ],
   "source": [
    "churn_max_default_sum = churn_default_data.groupby(churn_default_data[\"Account Number\"])[\"Default sum\"].max()\n",
    "churn_max_default_sum.head()"
   ]
  },
  {
   "cell_type": "code",
   "execution_count": 94,
   "metadata": {
    "collapsed": false
   },
   "outputs": [
    {
     "data": {
      "text/plain": [
       "count     192.000000\n",
       "mean      834.468229\n",
       "std       605.556027\n",
       "min        14.900000\n",
       "25%       548.525000\n",
       "50%       665.000000\n",
       "75%       913.975000\n",
       "max      5694.700000\n",
       "Name: Default sum, dtype: float64"
      ]
     },
     "execution_count": 94,
     "metadata": {},
     "output_type": "execute_result"
    }
   ],
   "source": [
    "churn_max_default_sum.describe()"
   ]
  },
  {
   "cell_type": "code",
   "execution_count": 95,
   "metadata": {
    "collapsed": false
   },
   "outputs": [
    {
     "data": {
      "text/plain": [
       "5679.8"
      ]
     },
     "execution_count": 95,
     "metadata": {},
     "output_type": "execute_result"
    }
   ],
   "source": [
    "churn_max_default_sum_range = 5694.7 - 14.9\n",
    "churn_max_default_sum_range"
   ]
  },
  {
   "cell_type": "markdown",
   "metadata": {},
   "source": [
    "#### Non churners max default sum"
   ]
  },
  {
   "cell_type": "code",
   "execution_count": 96,
   "metadata": {
    "collapsed": false
   },
   "outputs": [
    {
     "data": {
      "text/plain": [
       "Account Number\n",
       "M100     1037.2\n",
       "M1002     938.4\n",
       "M1039    1066.8\n",
       "M104      611.8\n",
       "M1045     649.8\n",
       "Name: Default sum, dtype: float64"
      ]
     },
     "execution_count": 96,
     "metadata": {},
     "output_type": "execute_result"
    }
   ],
   "source": [
    "non_churn_max_default_sum = non_churn_default_data.groupby(non_churn_default_data[\"Account Number\"])[\"Default sum\"].max()\n",
    "non_churn_max_default_sum.head()"
   ]
  },
  {
   "cell_type": "code",
   "execution_count": 97,
   "metadata": {
    "collapsed": false
   },
   "outputs": [
    {
     "data": {
      "text/plain": [
       "count      989.000000\n",
       "mean       826.132154\n",
       "std       1230.439092\n",
       "min         12.200000\n",
       "25%        546.000000\n",
       "50%        658.100000\n",
       "75%        885.800000\n",
       "max      28660.400000\n",
       "Name: Default sum, dtype: float64"
      ]
     },
     "execution_count": 97,
     "metadata": {},
     "output_type": "execute_result"
    }
   ],
   "source": [
    "non_churn_max_default_sum.describe()"
   ]
  },
  {
   "cell_type": "code",
   "execution_count": 98,
   "metadata": {
    "collapsed": false
   },
   "outputs": [
    {
     "data": {
      "text/plain": [
       "28648.2"
      ]
     },
     "execution_count": 98,
     "metadata": {},
     "output_type": "execute_result"
    }
   ],
   "source": [
    "non_churn_max_default_sum_range = 28660.4 - 12.2\n",
    "non_churn_max_default_sum_range"
   ]
  },
  {
   "cell_type": "markdown",
   "metadata": {},
   "source": [
    "### Payment data"
   ]
  },
  {
   "cell_type": "code",
   "execution_count": 102,
   "metadata": {
    "collapsed": false
   },
   "outputs": [
    {
     "name": "stdout",
     "output_type": "stream",
     "text": [
      "(40444, 4)\n"
     ]
    },
    {
     "data": {
      "text/html": [
       "<div>\n",
       "<table border=\"1\" class=\"dataframe\">\n",
       "  <thead>\n",
       "    <tr style=\"text-align: right;\">\n",
       "      <th></th>\n",
       "      <th>Account Number</th>\n",
       "      <th>Realization Date</th>\n",
       "      <th>Sum</th>\n",
       "      <th>Mode</th>\n",
       "    </tr>\n",
       "  </thead>\n",
       "  <tbody>\n",
       "    <tr>\n",
       "      <th>0</th>\n",
       "      <td>M1</td>\n",
       "      <td>2015-03-01</td>\n",
       "      <td>1209.810</td>\n",
       "      <td>Card II TYPE</td>\n",
       "    </tr>\n",
       "    <tr>\n",
       "      <th>1</th>\n",
       "      <td>M1</td>\n",
       "      <td>2015-02-01</td>\n",
       "      <td>1209.810</td>\n",
       "      <td>Card II TYPE</td>\n",
       "    </tr>\n",
       "    <tr>\n",
       "      <th>2</th>\n",
       "      <td>M1</td>\n",
       "      <td>2015-01-01</td>\n",
       "      <td>1209.810</td>\n",
       "      <td>Card II TYPE</td>\n",
       "    </tr>\n",
       "    <tr>\n",
       "      <th>3</th>\n",
       "      <td>M2</td>\n",
       "      <td>2015-03-01</td>\n",
       "      <td>751.695</td>\n",
       "      <td>Card II TYPE</td>\n",
       "    </tr>\n",
       "    <tr>\n",
       "      <th>4</th>\n",
       "      <td>M2</td>\n",
       "      <td>2015-02-01</td>\n",
       "      <td>751.695</td>\n",
       "      <td>Card II TYPE</td>\n",
       "    </tr>\n",
       "  </tbody>\n",
       "</table>\n",
       "</div>"
      ],
      "text/plain": [
       "  Account Number Realization Date       Sum          Mode \n",
       "0             M1       2015-03-01  1209.810   Card II TYPE\n",
       "1             M1       2015-02-01  1209.810   Card II TYPE\n",
       "2             M1       2015-01-01  1209.810   Card II TYPE\n",
       "3             M2       2015-03-01   751.695   Card II TYPE\n",
       "4             M2       2015-02-01   751.695   Card II TYPE"
      ]
     },
     "execution_count": 102,
     "metadata": {},
     "output_type": "execute_result"
    }
   ],
   "source": [
    "payments_data = xls.parse(2)\n",
    "print payments_data.shape\n",
    "payments_data.head()"
   ]
  },
  {
   "cell_type": "markdown",
   "metadata": {},
   "source": [
    "#### Splitting to training and testing data"
   ]
  },
  {
   "cell_type": "code",
   "execution_count": 104,
   "metadata": {
    "collapsed": false
   },
   "outputs": [
    {
     "name": "stdout",
     "output_type": "stream",
     "text": [
      "(27664, 4) (12645, 4)\n"
     ]
    },
    {
     "data": {
      "text/html": [
       "<div>\n",
       "<table border=\"1\" class=\"dataframe\">\n",
       "  <thead>\n",
       "    <tr style=\"text-align: right;\">\n",
       "      <th></th>\n",
       "      <th>Account Number</th>\n",
       "      <th>Realization Date</th>\n",
       "      <th>Sum</th>\n",
       "      <th>Mode</th>\n",
       "    </tr>\n",
       "  </thead>\n",
       "  <tbody>\n",
       "    <tr>\n",
       "      <th>27757</th>\n",
       "      <td>V1</td>\n",
       "      <td>2015-06-01</td>\n",
       "      <td>2061.465</td>\n",
       "      <td>Card II TYPE</td>\n",
       "    </tr>\n",
       "    <tr>\n",
       "      <th>27758</th>\n",
       "      <td>V1</td>\n",
       "      <td>2015-05-01</td>\n",
       "      <td>748.965</td>\n",
       "      <td>Card II TYPE</td>\n",
       "    </tr>\n",
       "    <tr>\n",
       "      <th>27759</th>\n",
       "      <td>V1</td>\n",
       "      <td>2015-07-01</td>\n",
       "      <td>748.965</td>\n",
       "      <td>Card II TYPE</td>\n",
       "    </tr>\n",
       "    <tr>\n",
       "      <th>27760</th>\n",
       "      <td>V2</td>\n",
       "      <td>2015-06-01</td>\n",
       "      <td>824.670</td>\n",
       "      <td>Card II TYPE</td>\n",
       "    </tr>\n",
       "    <tr>\n",
       "      <th>27761</th>\n",
       "      <td>V2</td>\n",
       "      <td>2015-05-01</td>\n",
       "      <td>824.670</td>\n",
       "      <td>Card II TYPE</td>\n",
       "    </tr>\n",
       "  </tbody>\n",
       "</table>\n",
       "</div>"
      ],
      "text/plain": [
       "      Account Number Realization Date       Sum          Mode \n",
       "27757             V1       2015-06-01  2061.465   Card II TYPE\n",
       "27758             V1       2015-05-01   748.965   Card II TYPE\n",
       "27759             V1       2015-07-01   748.965   Card II TYPE\n",
       "27760             V2       2015-06-01   824.670   Card II TYPE\n",
       "27761             V2       2015-05-01   824.670   Card II TYPE"
      ]
     },
     "execution_count": 104,
     "metadata": {},
     "output_type": "execute_result"
    }
   ],
   "source": [
    "train_payments_data = payments_data[payments_data[\"Account Number\"].isin(train_acc)]\n",
    "test_payments_data = payments_data[payments_data[\"Account Number\"].isin(test_acc)]\n",
    "print train_payments_data.shape, test_payments_data.shape\n",
    "test_payments_data.head()"
   ]
  },
  {
   "cell_type": "markdown",
   "metadata": {},
   "source": [
    "#### Splitting to churners and non churners"
   ]
  },
  {
   "cell_type": "code",
   "execution_count": 106,
   "metadata": {
    "collapsed": false
   },
   "outputs": [
    {
     "name": "stdout",
     "output_type": "stream",
     "text": [
      "(1110, 4) (26554, 4)\n"
     ]
    },
    {
     "data": {
      "text/html": [
       "<div>\n",
       "<table border=\"1\" class=\"dataframe\">\n",
       "  <thead>\n",
       "    <tr style=\"text-align: right;\">\n",
       "      <th></th>\n",
       "      <th>Account Number</th>\n",
       "      <th>Realization Date</th>\n",
       "      <th>Sum</th>\n",
       "      <th>Mode</th>\n",
       "    </tr>\n",
       "  </thead>\n",
       "  <tbody>\n",
       "    <tr>\n",
       "      <th>86</th>\n",
       "      <td>M52</td>\n",
       "      <td>2015-03-27</td>\n",
       "      <td>720.09</td>\n",
       "      <td>Card II TYPE</td>\n",
       "    </tr>\n",
       "    <tr>\n",
       "      <th>87</th>\n",
       "      <td>M52</td>\n",
       "      <td>2015-02-27</td>\n",
       "      <td>720.09</td>\n",
       "      <td>Card II TYPE</td>\n",
       "    </tr>\n",
       "    <tr>\n",
       "      <th>88</th>\n",
       "      <td>M52</td>\n",
       "      <td>2015-01-27</td>\n",
       "      <td>720.09</td>\n",
       "      <td>Card II TYPE</td>\n",
       "    </tr>\n",
       "    <tr>\n",
       "      <th>224</th>\n",
       "      <td>M210</td>\n",
       "      <td>2015-03-08</td>\n",
       "      <td>2152.29</td>\n",
       "      <td>Paper based/Post</td>\n",
       "    </tr>\n",
       "    <tr>\n",
       "      <th>225</th>\n",
       "      <td>M210</td>\n",
       "      <td>2015-02-07</td>\n",
       "      <td>2152.29</td>\n",
       "      <td>Paper based/Post</td>\n",
       "    </tr>\n",
       "  </tbody>\n",
       "</table>\n",
       "</div>"
      ],
      "text/plain": [
       "    Account Number Realization Date      Sum             Mode \n",
       "86             M52       2015-03-27   720.09      Card II TYPE\n",
       "87             M52       2015-02-27   720.09      Card II TYPE\n",
       "88             M52       2015-01-27   720.09      Card II TYPE\n",
       "224           M210       2015-03-08  2152.29  Paper based/Post\n",
       "225           M210       2015-02-07  2152.29  Paper based/Post"
      ]
     },
     "execution_count": 106,
     "metadata": {},
     "output_type": "execute_result"
    }
   ],
   "source": [
    "churn_payments_data = train_payments_data[train_payments_data[\"Account Number\"].isin(churn_acc_num)]\n",
    "non_churn_payments_data = train_payments_data[~train_payments_data[\"Account Number\"].isin(churn_acc_num)]\n",
    "print churn_payments_data.shape, non_churn_payments_data.shape\n",
    "churn_payments_data.head()"
   ]
  },
  {
   "cell_type": "markdown",
   "metadata": {},
   "source": [
    "#### Churners last month total payment\n"
   ]
  },
  {
   "cell_type": "code",
   "execution_count": 145,
   "metadata": {
    "collapsed": false
   },
   "outputs": [
    {
     "data": {
      "text/plain": [
       "Account Number\n",
       "M1055   2015-03-17\n",
       "M1062   2015-03-21\n",
       "M1109   2015-02-03\n",
       "M1128   2015-03-16\n",
       "M1156   2015-03-05\n",
       "Name: Realization Date, dtype: datetime64[ns]"
      ]
     },
     "execution_count": 145,
     "metadata": {},
     "output_type": "execute_result"
    }
   ],
   "source": [
    "#def last_month_sum()\n",
    "churn_payments_last_month = churn_payments_data.groupby(churn_payments_data[\"Account Number\"])[\"Realization Date\"].max()\n",
    "churn_payments_last_month.head()"
   ]
  },
  {
   "cell_type": "code",
   "execution_count": 164,
   "metadata": {
    "collapsed": false
   },
   "outputs": [
    {
     "data": {
      "text/html": [
       "<div>\n",
       "<table border=\"1\" class=\"dataframe\">\n",
       "  <thead>\n",
       "    <tr style=\"text-align: right;\">\n",
       "      <th></th>\n",
       "      <th>Realization Date</th>\n",
       "      <th>Sum</th>\n",
       "    </tr>\n",
       "    <tr>\n",
       "      <th>Account Number</th>\n",
       "      <th></th>\n",
       "      <th></th>\n",
       "    </tr>\n",
       "  </thead>\n",
       "  <tbody>\n",
       "    <tr>\n",
       "      <th>M1055</th>\n",
       "      <td>2015-03-17</td>\n",
       "      <td>752.325</td>\n",
       "    </tr>\n",
       "    <tr>\n",
       "      <th>M1062</th>\n",
       "      <td>2015-03-21</td>\n",
       "      <td>1484.385</td>\n",
       "    </tr>\n",
       "    <tr>\n",
       "      <th>M1109</th>\n",
       "      <td>2015-02-03</td>\n",
       "      <td>687.645</td>\n",
       "    </tr>\n",
       "    <tr>\n",
       "      <th>M1128</th>\n",
       "      <td>2015-03-16</td>\n",
       "      <td>918.120</td>\n",
       "    </tr>\n",
       "    <tr>\n",
       "      <th>M1156</th>\n",
       "      <td>2015-03-05</td>\n",
       "      <td>742.035</td>\n",
       "    </tr>\n",
       "  </tbody>\n",
       "</table>\n",
       "</div>"
      ],
      "text/plain": [
       "               Realization Date       Sum\n",
       "Account Number                           \n",
       "M1055                2015-03-17   752.325\n",
       "M1062                2015-03-21  1484.385\n",
       "M1109                2015-02-03   687.645\n",
       "M1128                2015-03-16   918.120\n",
       "M1156                2015-03-05   742.035"
      ]
     },
     "execution_count": 164,
     "metadata": {},
     "output_type": "execute_result"
    }
   ],
   "source": [
    "churn_payments_sum = []\n",
    "for acc in churn_payments_last_month.index:\n",
    "    date = churn_payments_last_month[acc]\n",
    "    churn_payments_sum.append(churn_payments_data[(churn_payments_data[\"Account Number\"] == acc) & \\\n",
    "                                                  (churn_payments_data[\"Realization Date\"] == date)].Sum.iloc[0])\n",
    "churn_payments_sum = np.array(churn_payments_sum)\n",
    "churn_payments_sum_last_month = pd.DataFrame(churn_payments_last_month)\n",
    "churn_payments_sum_last_month[\"Sum\"] = churn_payments_sum\n",
    "churn_payments_sum_last_month.reset_index()\n",
    "churn_payments_sum_last_month.head()"
   ]
  },
  {
   "cell_type": "code",
   "execution_count": 165,
   "metadata": {
    "collapsed": false
   },
   "outputs": [
    {
     "data": {
      "text/plain": [
       "count     462.000000\n",
       "mean      809.356818\n",
       "std       455.002448\n",
       "min         1.575000\n",
       "25%       644.542500\n",
       "50%       753.060000\n",
       "75%       918.067500\n",
       "max      5748.435000\n",
       "Name: Sum, dtype: float64"
      ]
     },
     "execution_count": 165,
     "metadata": {},
     "output_type": "execute_result"
    }
   ],
   "source": [
    "churn_payments_sum_last_month.Sum.describe()"
   ]
  },
  {
   "cell_type": "code",
   "execution_count": 177,
   "metadata": {
    "collapsed": false
   },
   "outputs": [
    {
     "data": {
      "text/plain": [
       "14"
      ]
     },
     "execution_count": 177,
     "metadata": {},
     "output_type": "execute_result"
    }
   ],
   "source": [
    "# Last data is calculated on the basis of last payment rather than last month.\n",
    "np.sum(churn_payments_data.groupby(churn_payments_data[\"Account Number\"])[\"Realization Date\"].count() > 3) "
   ]
  },
  {
   "cell_type": "markdown",
   "metadata": {},
   "source": [
    "#### Non churners last month total payment"
   ]
  },
  {
   "cell_type": "code",
   "execution_count": 178,
   "metadata": {
    "collapsed": false
   },
   "outputs": [
    {
     "data": {
      "text/plain": [
       "Account Number\n",
       "M1       2015-03-01\n",
       "M10      2015-03-09\n",
       "M1000    2015-03-09\n",
       "M10000   2015-03-01\n",
       "M1001    2015-03-04\n",
       "Name: Realization Date, dtype: datetime64[ns]"
      ]
     },
     "execution_count": 178,
     "metadata": {},
     "output_type": "execute_result"
    }
   ],
   "source": [
    "non_churn_payments_last_month = non_churn_payments_data.groupby(non_churn_payments_data[\"Account Number\"])[\"Realization Date\"].max()\n",
    "non_churn_payments_last_month.head()"
   ]
  },
  {
   "cell_type": "code",
   "execution_count": 179,
   "metadata": {
    "collapsed": false
   },
   "outputs": [
    {
     "data": {
      "text/html": [
       "<div>\n",
       "<table border=\"1\" class=\"dataframe\">\n",
       "  <thead>\n",
       "    <tr style=\"text-align: right;\">\n",
       "      <th></th>\n",
       "      <th>Realization Date</th>\n",
       "      <th>Sum</th>\n",
       "    </tr>\n",
       "    <tr>\n",
       "      <th>Account Number</th>\n",
       "      <th></th>\n",
       "      <th></th>\n",
       "    </tr>\n",
       "  </thead>\n",
       "  <tbody>\n",
       "    <tr>\n",
       "      <th>M1</th>\n",
       "      <td>2015-03-01</td>\n",
       "      <td>1209.810</td>\n",
       "    </tr>\n",
       "    <tr>\n",
       "      <th>M10</th>\n",
       "      <td>2015-03-09</td>\n",
       "      <td>1171.695</td>\n",
       "    </tr>\n",
       "    <tr>\n",
       "      <th>M1000</th>\n",
       "      <td>2015-03-09</td>\n",
       "      <td>868.140</td>\n",
       "    </tr>\n",
       "    <tr>\n",
       "      <th>M10000</th>\n",
       "      <td>2015-03-01</td>\n",
       "      <td>1009.575</td>\n",
       "    </tr>\n",
       "    <tr>\n",
       "      <th>M1001</th>\n",
       "      <td>2015-03-04</td>\n",
       "      <td>965.370</td>\n",
       "    </tr>\n",
       "  </tbody>\n",
       "</table>\n",
       "</div>"
      ],
      "text/plain": [
       "               Realization Date       Sum\n",
       "Account Number                           \n",
       "M1                   2015-03-01  1209.810\n",
       "M10                  2015-03-09  1171.695\n",
       "M1000                2015-03-09   868.140\n",
       "M10000               2015-03-01  1009.575\n",
       "M1001                2015-03-04   965.370"
      ]
     },
     "execution_count": 179,
     "metadata": {},
     "output_type": "execute_result"
    }
   ],
   "source": [
    "non_churn_payments_sum = []\n",
    "for acc in non_churn_payments_last_month.index:\n",
    "    date = non_churn_payments_last_month[acc]\n",
    "    non_churn_payments_sum.append(non_churn_payments_data[(non_churn_payments_data[\"Account Number\"] == acc) & \\\n",
    "                                                  (non_churn_payments_data[\"Realization Date\"] == date)].Sum.iloc[0])\n",
    "non_churn_payments_sum = np.array(non_churn_payments_sum)\n",
    "non_churn_payments_sum_last_month = pd.DataFrame(non_churn_payments_last_month)\n",
    "non_churn_payments_sum_last_month[\"Sum\"] = non_churn_payments_sum\n",
    "non_churn_payments_sum_last_month.reset_index()\n",
    "non_churn_payments_sum_last_month.head()"
   ]
  },
  {
   "cell_type": "code",
   "execution_count": 180,
   "metadata": {
    "collapsed": false
   },
   "outputs": [
    {
     "data": {
      "text/plain": [
       "count     9182.000000\n",
       "mean       838.123986\n",
       "std        445.633625\n",
       "min          0.210000\n",
       "25%        648.690000\n",
       "50%        768.232500\n",
       "75%        958.230000\n",
       "max      23261.910000\n",
       "Name: Sum, dtype: float64"
      ]
     },
     "execution_count": 180,
     "metadata": {},
     "output_type": "execute_result"
    }
   ],
   "source": [
    "non_churn_payments_sum_last_month.Sum.describe()"
   ]
  },
  {
   "cell_type": "code",
   "execution_count": 181,
   "metadata": {
    "collapsed": false
   },
   "outputs": [
    {
     "data": {
      "text/plain": [
       "346"
      ]
     },
     "execution_count": 181,
     "metadata": {},
     "output_type": "execute_result"
    }
   ],
   "source": [
    "# Last data is calculated on the basis of last payment rather than last month.\n",
    "np.sum(non_churn_payments_data.groupby(non_churn_payments_data[\"Account Number\"])[\"Realization Date\"].count() > 3) "
   ]
  },
  {
   "cell_type": "code",
   "execution_count": 182,
   "metadata": {
    "collapsed": false
   },
   "outputs": [
    {
     "data": {
      "text/html": [
       "<div>\n",
       "<table border=\"1\" class=\"dataframe\">\n",
       "  <thead>\n",
       "    <tr style=\"text-align: right;\">\n",
       "      <th></th>\n",
       "      <th>Realization Date</th>\n",
       "      <th>Sum</th>\n",
       "    </tr>\n",
       "    <tr>\n",
       "      <th>Account Number</th>\n",
       "      <th></th>\n",
       "      <th></th>\n",
       "    </tr>\n",
       "  </thead>\n",
       "  <tbody>\n",
       "    <tr>\n",
       "      <th>M4091</th>\n",
       "      <td>2015-03-03</td>\n",
       "      <td>23261.91</td>\n",
       "    </tr>\n",
       "  </tbody>\n",
       "</table>\n",
       "</div>"
      ],
      "text/plain": [
       "               Realization Date       Sum\n",
       "Account Number                           \n",
       "M4091                2015-03-03  23261.91"
      ]
     },
     "execution_count": 182,
     "metadata": {},
     "output_type": "execute_result"
    }
   ],
   "source": [
    "non_churn_payments_sum_last_month[non_churn_payments_sum_last_month.Sum == 23261.91]"
   ]
  },
  {
   "cell_type": "code",
   "execution_count": 183,
   "metadata": {
    "collapsed": false
   },
   "outputs": [
    {
     "data": {
      "text/html": [
       "<div>\n",
       "<table border=\"1\" class=\"dataframe\">\n",
       "  <thead>\n",
       "    <tr style=\"text-align: right;\">\n",
       "      <th></th>\n",
       "      <th>Account Number</th>\n",
       "      <th>Realization Date</th>\n",
       "      <th>Sum</th>\n",
       "      <th>Mode</th>\n",
       "    </tr>\n",
       "  </thead>\n",
       "  <tbody>\n",
       "    <tr>\n",
       "      <th>11415</th>\n",
       "      <td>M4091</td>\n",
       "      <td>2015-03-03</td>\n",
       "      <td>23261.910</td>\n",
       "      <td>Paper based/Post</td>\n",
       "    </tr>\n",
       "    <tr>\n",
       "      <th>11416</th>\n",
       "      <td>M4091</td>\n",
       "      <td>2015-02-09</td>\n",
       "      <td>34.125</td>\n",
       "      <td>Paper based/Post</td>\n",
       "    </tr>\n",
       "    <tr>\n",
       "      <th>11417</th>\n",
       "      <td>M4091</td>\n",
       "      <td>2015-02-09</td>\n",
       "      <td>23261.910</td>\n",
       "      <td>Paper based/Post</td>\n",
       "    </tr>\n",
       "    <tr>\n",
       "      <th>11418</th>\n",
       "      <td>M4091</td>\n",
       "      <td>2015-01-05</td>\n",
       "      <td>7496.055</td>\n",
       "      <td>Paper based/Post</td>\n",
       "    </tr>\n",
       "    <tr>\n",
       "      <th>11419</th>\n",
       "      <td>M4091</td>\n",
       "      <td>2015-01-26</td>\n",
       "      <td>14991.795</td>\n",
       "      <td>Paper based/Post</td>\n",
       "    </tr>\n",
       "  </tbody>\n",
       "</table>\n",
       "</div>"
      ],
      "text/plain": [
       "      Account Number Realization Date        Sum             Mode \n",
       "11415          M4091       2015-03-03  23261.910  Paper based/Post\n",
       "11416          M4091       2015-02-09     34.125  Paper based/Post\n",
       "11417          M4091       2015-02-09  23261.910  Paper based/Post\n",
       "11418          M4091       2015-01-05   7496.055  Paper based/Post\n",
       "11419          M4091       2015-01-26  14991.795  Paper based/Post"
      ]
     },
     "execution_count": 183,
     "metadata": {},
     "output_type": "execute_result"
    }
   ],
   "source": [
    "non_churn_payments_data[non_churn_payments_data[\"Account Number\"] == \"M4091\"]"
   ]
  },
  {
   "cell_type": "code",
   "execution_count": 184,
   "metadata": {
    "collapsed": false
   },
   "outputs": [
    {
     "data": {
      "text/html": [
       "<div>\n",
       "<table border=\"1\" class=\"dataframe\">\n",
       "  <thead>\n",
       "    <tr style=\"text-align: right;\">\n",
       "      <th></th>\n",
       "      <th>Account Number</th>\n",
       "      <th>Commence Date</th>\n",
       "      <th>Address</th>\n",
       "      <th>Scheme</th>\n",
       "      <th>Staus</th>\n",
       "      <th>Gender</th>\n",
       "      <th>Region</th>\n",
       "      <th>Sale of Equipment Status</th>\n",
       "      <th>Age</th>\n",
       "      <th>Equipment Warranty</th>\n",
       "      <th>Salary Slab</th>\n",
       "      <th>Professional Info</th>\n",
       "      <th>Age of Home</th>\n",
       "      <th>Equipment Warranty Expiry Date</th>\n",
       "      <th>Churn Date</th>\n",
       "    </tr>\n",
       "  </thead>\n",
       "  <tbody>\n",
       "    <tr>\n",
       "      <th>4056</th>\n",
       "      <td>M4091</td>\n",
       "      <td>2014-01-30</td>\n",
       "      <td>INVALID</td>\n",
       "      <td>MXX</td>\n",
       "      <td>Closed</td>\n",
       "      <td>Female</td>\n",
       "      <td>Northern</td>\n",
       "      <td>RENTED</td>\n",
       "      <td>88</td>\n",
       "      <td>NaN</td>\n",
       "      <td>3</td>\n",
       "      <td>0</td>\n",
       "      <td>17</td>\n",
       "      <td>NaT</td>\n",
       "      <td>NaN</td>\n",
       "    </tr>\n",
       "  </tbody>\n",
       "</table>\n",
       "</div>"
      ],
      "text/plain": [
       "     Account Number Commence Date  Address Scheme   Staus  Gender   Region   \\\n",
       "4056          M4091    2014-01-30  INVALID    MXX  Closed  Female  Northern   \n",
       "\n",
       "      Sale of Equipment Status  Age Equipment Warranty  Salary Slab  \\\n",
       "4056                    RENTED   88                NaN            3   \n",
       "\n",
       "      Professional Info  Age of Home Equipment Warranty Expiry Date Churn Date  \n",
       "4056                  0           17                            NaT        NaN  "
      ]
     },
     "execution_count": 184,
     "metadata": {},
     "output_type": "execute_result"
    }
   ],
   "source": [
    "non_churn_demo_data[non_churn_demo_data[\"Account Number\"] == \"M4091\"]"
   ]
  },
  {
   "cell_type": "markdown",
   "metadata": {},
   "source": [
    "#### Shocking!"
   ]
  },
  {
   "cell_type": "code",
   "execution_count": 228,
   "metadata": {
    "collapsed": false
   },
   "outputs": [
    {
     "name": "stdout",
     "output_type": "stream",
     "text": [
      "(12674, 3)\n"
     ]
    },
    {
     "data": {
      "text/html": [
       "<div>\n",
       "<table border=\"1\" class=\"dataframe\">\n",
       "  <thead>\n",
       "    <tr style=\"text-align: right;\">\n",
       "      <th></th>\n",
       "      <th>Account Number</th>\n",
       "      <th>Query Date</th>\n",
       "      <th>Full Statement of the Enquiry</th>\n",
       "    </tr>\n",
       "  </thead>\n",
       "  <tbody>\n",
       "    <tr>\n",
       "      <th>0</th>\n",
       "      <td>M2</td>\n",
       "      <td>2015-03-12</td>\n",
       "      <td>FDAEDBG!-Initial LevelPayment Settlement-Accou...</td>\n",
       "    </tr>\n",
       "    <tr>\n",
       "      <th>1</th>\n",
       "      <td>M2</td>\n",
       "      <td>2015-03-15</td>\n",
       "      <td>FDA!CEGD-Initial LevelTech-Operational Capabil...</td>\n",
       "    </tr>\n",
       "    <tr>\n",
       "      <th>2</th>\n",
       "      <td>M2</td>\n",
       "      <td>2015-03-25</td>\n",
       "      <td>FDCE#GHA-Initial LevelTech-Operational Capabil...</td>\n",
       "    </tr>\n",
       "    <tr>\n",
       "      <th>3</th>\n",
       "      <td>M2</td>\n",
       "      <td>2015-03-28</td>\n",
       "      <td>FDC#FAAD-Initial LevelPayment Settlement-Opera...</td>\n",
       "    </tr>\n",
       "    <tr>\n",
       "      <th>4</th>\n",
       "      <td>M2</td>\n",
       "      <td>2015-03-29</td>\n",
       "      <td>FDC!HGF#-Initial LevelPayment Settlement-Accou...</td>\n",
       "    </tr>\n",
       "  </tbody>\n",
       "</table>\n",
       "</div>"
      ],
      "text/plain": [
       "  Account Number Query Date                      Full Statement of the Enquiry\n",
       "0             M2 2015-03-12  FDAEDBG!-Initial LevelPayment Settlement-Accou...\n",
       "1             M2 2015-03-15  FDA!CEGD-Initial LevelTech-Operational Capabil...\n",
       "2             M2 2015-03-25  FDCE#GHA-Initial LevelTech-Operational Capabil...\n",
       "3             M2 2015-03-28  FDC#FAAD-Initial LevelPayment Settlement-Opera...\n",
       "4             M2 2015-03-29  FDC!HGF#-Initial LevelPayment Settlement-Accou..."
      ]
     },
     "execution_count": 228,
     "metadata": {},
     "output_type": "execute_result"
    }
   ],
   "source": [
    "call_centre_data = xls.parse(1)\n",
    "print(call_centre_data.shape)\n",
    "call_centre_data.head()"
   ]
  },
  {
   "cell_type": "code",
   "execution_count": 229,
   "metadata": {
    "collapsed": false
   },
   "outputs": [
    {
     "data": {
      "text/plain": [
       "(7944, 3)"
      ]
     },
     "execution_count": 229,
     "metadata": {},
     "output_type": "execute_result"
    }
   ],
   "source": [
    "train_call_centre_data = call_centre_data[call_centre_data[\"Account Number\"].isin(train_acc)]\n",
    "train_call_centre_data.shape"
   ]
  },
  {
   "cell_type": "code",
   "execution_count": 203,
   "metadata": {
    "collapsed": true
   },
   "outputs": [],
   "source": [
    "def modify_complaint(string):\n",
    "    return re.findall(\"F.+-Initial Level(.+)\",string)[0].split(\"-\")"
   ]
  },
  {
   "cell_type": "code",
   "execution_count": 230,
   "metadata": {
    "collapsed": false
   },
   "outputs": [
    {
     "data": {
      "text/plain": [
       "0     FDAEDBG!-Initial LevelPayment Settlement-Accou...\n",
       "1     FDA!CEGD-Initial LevelTech-Operational Capabil...\n",
       "2     FDCE#GHA-Initial LevelTech-Operational Capabil...\n",
       "3     FDC#FAAD-Initial LevelPayment Settlement-Opera...\n",
       "4     FDC!HGF#-Initial LevelPayment Settlement-Accou...\n",
       "5     FDC!HH#!-Initial LevelTech-Service Order-Sched...\n",
       "6     FCAH!#AH-Initial LevelTech-No support / Third ...\n",
       "7     FB!HDHGE-Initial LevelPayment Settlement-Accou...\n",
       "8     FCAB!#FF-Initial LevelTech-Operational Capabil...\n",
       "9     FCAH!CDG-Initial LevelTech-Operational Capabil...\n",
       "10    FCGG#GAF-Initial LevelTech-Utilities-Email-Cli...\n",
       "11    FB#H#BFE-Initial LevelPayment Settlement-Payme...\n",
       "12    FCED#GBB-Initial LevelTech-Payment Settlement-...\n",
       "13    FC!EEFDF-Initial LevelPayment Settlement-Payme...\n",
       "14    FB!FECEC-Initial LevelTech-Account-General Inf...\n",
       "15    FB!FFB!C-Initial LevelPayment Settlement-Accou...\n",
       "16    FB!#!BEE-Initial LevelTech-Utilities-Email-Web...\n",
       "17    FCB#HGG#-Initial LevelPayment Settlement-Accou...\n",
       "18    FCEGEB#D-Initial LevelTech-Operational Capabil...\n",
       "19    FCF#C#F#-Initial LevelPayment Settlement-Opera...\n",
       "Name: Full Statement of the Enquiry, dtype: object"
      ]
     },
     "execution_count": 230,
     "metadata": {},
     "output_type": "execute_result"
    }
   ],
   "source": [
    "train_call_centre_data[\"Full Statement of the Enquiry\"].iloc[0:20]"
   ]
  },
  {
   "cell_type": "code",
   "execution_count": 190,
   "metadata": {
    "collapsed": true
   },
   "outputs": [],
   "source": [
    "import re"
   ]
  },
  {
   "cell_type": "code",
   "execution_count": 284,
   "metadata": {
    "collapsed": false
   },
   "outputs": [],
   "source": [
    "req_string = \"payment operation account utilit\""
   ]
  },
  {
   "cell_type": "code",
   "execution_count": 232,
   "metadata": {
    "collapsed": true
   },
   "outputs": [],
   "source": [
    "def modify_complaint2(string):\n",
    "    return re.findall(\"F.+-Initial Level(.+)\",string)[0].split(\"-\")"
   ]
  },
  {
   "cell_type": "code",
   "execution_count": 233,
   "metadata": {
    "collapsed": true
   },
   "outputs": [],
   "source": [
    "from collections import Counter"
   ]
  },
  {
   "cell_type": "code",
   "execution_count": 288,
   "metadata": {
    "collapsed": true
   },
   "outputs": [],
   "source": [
    "def modify_complaint(string):\n",
    "    complaints = re.findall(\"F.+-Initial Level(.+)\",string)[0].split(\"-\")\n",
    "    req_list = []\n",
    "    for item in req_string.split(\" \"):\n",
    "        for comp in complaints:\n",
    "            if item in comp.lower():\n",
    "                req_list.append(item)\n",
    "    return req_list"
   ]
  },
  {
   "cell_type": "code",
   "execution_count": 286,
   "metadata": {
    "collapsed": false
   },
   "outputs": [
    {
     "name": "stdout",
     "output_type": "stream",
     "text": [
      "Account Number                   0\n",
      "Query Date                       0\n",
      "Full Statement of the Enquiry    0\n",
      "complaints                       0\n",
      "dtype: int64\n"
     ]
    },
    {
     "name": "stderr",
     "output_type": "stream",
     "text": [
      "C:\\Users\\SHIVAM MAHAJAN\\Anaconda\\lib\\site-packages\\ipykernel\\__main__.py:1: SettingWithCopyWarning: \n",
      "A value is trying to be set on a copy of a slice from a DataFrame.\n",
      "Try using .loc[row_indexer,col_indexer] = value instead\n",
      "\n",
      "See the caveats in the documentation: http://pandas.pydata.org/pandas-docs/stable/indexing.html#indexing-view-versus-copy\n",
      "  if __name__ == '__main__':\n"
     ]
    },
    {
     "data": {
      "text/html": [
       "<div>\n",
       "<table border=\"1\" class=\"dataframe\">\n",
       "  <thead>\n",
       "    <tr style=\"text-align: right;\">\n",
       "      <th></th>\n",
       "      <th>Account Number</th>\n",
       "      <th>Query Date</th>\n",
       "      <th>Full Statement of the Enquiry</th>\n",
       "      <th>complaints</th>\n",
       "    </tr>\n",
       "  </thead>\n",
       "  <tbody>\n",
       "    <tr>\n",
       "      <th>0</th>\n",
       "      <td>M2</td>\n",
       "      <td>2015-03-12</td>\n",
       "      <td>FDAEDBG!-Initial LevelPayment Settlement-Accou...</td>\n",
       "      <td>[Payment Settlement, Account, Change, General ...</td>\n",
       "    </tr>\n",
       "    <tr>\n",
       "      <th>1</th>\n",
       "      <td>M2</td>\n",
       "      <td>2015-03-15</td>\n",
       "      <td>FDA!CEGD-Initial LevelTech-Operational Capabil...</td>\n",
       "      <td>[Tech, Operational Capabilities, Browsing, No ...</td>\n",
       "    </tr>\n",
       "    <tr>\n",
       "      <th>2</th>\n",
       "      <td>M2</td>\n",
       "      <td>2015-03-25</td>\n",
       "      <td>FDCE#GHA-Initial LevelTech-Operational Capabil...</td>\n",
       "      <td>[Tech, Operational Capabilities, Browsing, No ...</td>\n",
       "    </tr>\n",
       "    <tr>\n",
       "      <th>3</th>\n",
       "      <td>M2</td>\n",
       "      <td>2015-03-28</td>\n",
       "      <td>FDC#FAAD-Initial LevelPayment Settlement-Opera...</td>\n",
       "      <td>[Payment Settlement, Operational Capabilities,...</td>\n",
       "    </tr>\n",
       "    <tr>\n",
       "      <th>4</th>\n",
       "      <td>M2</td>\n",
       "      <td>2015-03-29</td>\n",
       "      <td>FDC!HGF#-Initial LevelPayment Settlement-Accou...</td>\n",
       "      <td>[Payment Settlement, Account, General Informat...</td>\n",
       "    </tr>\n",
       "  </tbody>\n",
       "</table>\n",
       "</div>"
      ],
      "text/plain": [
       "  Account Number Query Date  \\\n",
       "0             M2 2015-03-12   \n",
       "1             M2 2015-03-15   \n",
       "2             M2 2015-03-25   \n",
       "3             M2 2015-03-28   \n",
       "4             M2 2015-03-29   \n",
       "\n",
       "                       Full Statement of the Enquiry  \\\n",
       "0  FDAEDBG!-Initial LevelPayment Settlement-Accou...   \n",
       "1  FDA!CEGD-Initial LevelTech-Operational Capabil...   \n",
       "2  FDCE#GHA-Initial LevelTech-Operational Capabil...   \n",
       "3  FDC#FAAD-Initial LevelPayment Settlement-Opera...   \n",
       "4  FDC!HGF#-Initial LevelPayment Settlement-Accou...   \n",
       "\n",
       "                                          complaints  \n",
       "0  [Payment Settlement, Account, Change, General ...  \n",
       "1  [Tech, Operational Capabilities, Browsing, No ...  \n",
       "2  [Tech, Operational Capabilities, Browsing, No ...  \n",
       "3  [Payment Settlement, Operational Capabilities,...  \n",
       "4  [Payment Settlement, Account, General Informat...  "
      ]
     },
     "execution_count": 286,
     "metadata": {},
     "output_type": "execute_result"
    }
   ],
   "source": [
    "train_call_centre_data[\"complaints\"] = train_call_centre_data[\"Full Statement of the Enquiry\"].apply(modify_complaint2)\n",
    "print np.sum(train_call_centre_data.isnull())\n",
    "train_call_centre_data.head()\n",
    "# To be grouped into - Operational Inquiry, Payment Settlements, Utilities, Account"
   ]
  },
  {
   "cell_type": "code",
   "execution_count": 289,
   "metadata": {
    "collapsed": false
   },
   "outputs": [
    {
     "name": "stderr",
     "output_type": "stream",
     "text": [
      "C:\\Users\\SHIVAM MAHAJAN\\Anaconda\\lib\\site-packages\\ipykernel\\__main__.py:1: SettingWithCopyWarning: \n",
      "A value is trying to be set on a copy of a slice from a DataFrame.\n",
      "Try using .loc[row_indexer,col_indexer] = value instead\n",
      "\n",
      "See the caveats in the documentation: http://pandas.pydata.org/pandas-docs/stable/indexing.html#indexing-view-versus-copy\n",
      "  if __name__ == '__main__':\n"
     ]
    },
    {
     "data": {
      "text/html": [
       "<div>\n",
       "<table border=\"1\" class=\"dataframe\">\n",
       "  <thead>\n",
       "    <tr style=\"text-align: right;\">\n",
       "      <th></th>\n",
       "      <th>Account Number</th>\n",
       "      <th>Query Date</th>\n",
       "      <th>Full Statement of the Enquiry</th>\n",
       "      <th>complaints</th>\n",
       "    </tr>\n",
       "  </thead>\n",
       "  <tbody>\n",
       "    <tr>\n",
       "      <th>0</th>\n",
       "      <td>M2</td>\n",
       "      <td>2015-03-12</td>\n",
       "      <td>FDAEDBG!-Initial LevelPayment Settlement-Accou...</td>\n",
       "      <td>[payment, account]</td>\n",
       "    </tr>\n",
       "    <tr>\n",
       "      <th>1</th>\n",
       "      <td>M2</td>\n",
       "      <td>2015-03-15</td>\n",
       "      <td>FDA!CEGD-Initial LevelTech-Operational Capabil...</td>\n",
       "      <td>[operation]</td>\n",
       "    </tr>\n",
       "    <tr>\n",
       "      <th>2</th>\n",
       "      <td>M2</td>\n",
       "      <td>2015-03-25</td>\n",
       "      <td>FDCE#GHA-Initial LevelTech-Operational Capabil...</td>\n",
       "      <td>[operation]</td>\n",
       "    </tr>\n",
       "    <tr>\n",
       "      <th>3</th>\n",
       "      <td>M2</td>\n",
       "      <td>2015-03-28</td>\n",
       "      <td>FDC#FAAD-Initial LevelPayment Settlement-Opera...</td>\n",
       "      <td>[payment, operation]</td>\n",
       "    </tr>\n",
       "    <tr>\n",
       "      <th>4</th>\n",
       "      <td>M2</td>\n",
       "      <td>2015-03-29</td>\n",
       "      <td>FDC!HGF#-Initial LevelPayment Settlement-Accou...</td>\n",
       "      <td>[payment, account]</td>\n",
       "    </tr>\n",
       "  </tbody>\n",
       "</table>\n",
       "</div>"
      ],
      "text/plain": [
       "  Account Number Query Date  \\\n",
       "0             M2 2015-03-12   \n",
       "1             M2 2015-03-15   \n",
       "2             M2 2015-03-25   \n",
       "3             M2 2015-03-28   \n",
       "4             M2 2015-03-29   \n",
       "\n",
       "                       Full Statement of the Enquiry            complaints  \n",
       "0  FDAEDBG!-Initial LevelPayment Settlement-Accou...    [payment, account]  \n",
       "1  FDA!CEGD-Initial LevelTech-Operational Capabil...           [operation]  \n",
       "2  FDCE#GHA-Initial LevelTech-Operational Capabil...           [operation]  \n",
       "3  FDC#FAAD-Initial LevelPayment Settlement-Opera...  [payment, operation]  \n",
       "4  FDC!HGF#-Initial LevelPayment Settlement-Accou...    [payment, account]  "
      ]
     },
     "execution_count": 289,
     "metadata": {},
     "output_type": "execute_result"
    }
   ],
   "source": [
    "train_call_centre_data[\"complaints\"] = train_call_centre_data[\"Full Statement of the Enquiry\"].apply(modify_complaint)\n",
    "train_call_centre_data.head()"
   ]
  },
  {
   "cell_type": "code",
   "execution_count": 291,
   "metadata": {
    "collapsed": false
   },
   "outputs": [
    {
     "data": {
      "text/plain": [
       "Account Number\n",
       "M100                      [payment]\n",
       "M1002                     [payment]\n",
       "M1007            [account, payment]\n",
       "M101     [account, utilit, payment]\n",
       "M1010                   [operation]\n",
       "Name: complaints, dtype: object"
      ]
     },
     "execution_count": 291,
     "metadata": {},
     "output_type": "execute_result"
    }
   ],
   "source": [
    "complaints_of_different_accounts = train_call_centre_data.groupby(train_call_centre_data[\"Account Number\"])\\\n",
    "                                                                                            [\"complaints\"].apply(union)\n",
    "complaints_of_different_accounts.head()"
   ]
  },
  {
   "cell_type": "code",
   "execution_count": 295,
   "metadata": {
    "collapsed": false
   },
   "outputs": [],
   "source": [
    "complaints_count = {\n",
    "}\n",
    "for i in range(len(complaints_of_different_accounts)):\n",
    "    for comp in complaints_of_different_accounts[i]:\n",
    "        complaints_count[comp] = complaints_count.get(comp,0) + 1"
   ]
  },
  {
   "cell_type": "code",
   "execution_count": 296,
   "metadata": {
    "collapsed": false
   },
   "outputs": [
    {
     "data": {
      "text/plain": [
       "{'account': 1609, 'operation': 1329, 'payment': 2753, 'utilit': 355}"
      ]
     },
     "execution_count": 296,
     "metadata": {},
     "output_type": "execute_result"
    }
   ],
   "source": [
    "complaints_count"
   ]
  }
 ],
 "metadata": {
  "kernelspec": {
   "display_name": "Python 2",
   "language": "python",
   "name": "python2"
  },
  "language_info": {
   "codemirror_mode": {
    "name": "ipython",
    "version": 2
   },
   "file_extension": ".py",
   "mimetype": "text/x-python",
   "name": "python",
   "nbconvert_exporter": "python",
   "pygments_lexer": "ipython2",
   "version": "2.7.11"
  }
 },
 "nbformat": 4,
 "nbformat_minor": 0
}
