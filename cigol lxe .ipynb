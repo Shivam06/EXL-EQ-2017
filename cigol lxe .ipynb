{
 "cells": [
  {
   "cell_type": "code",
   "execution_count": 1,
   "metadata": {
    "collapsed": true
   },
   "outputs": [],
   "source": [
    "import pandas as pd\n",
    "import numpy as np\n",
    "import matplotlib.pyplot as plt"
   ]
  },
  {
   "cell_type": "code",
   "execution_count": 23,
   "metadata": {
    "collapsed": true
   },
   "outputs": [],
   "source": [
    "xls = pd.ExcelFile(r\"C:\\Users\\SHIVAM MAHAJAN\\Desktop\\Github\\EXL data\\Stage 1.EXL_EQ2017_Telecom_Data Set_Final Ver6.0.xlsx\")\n",
    "demo_data = xls.parse(0,parse_dates=True)"
   ]
  },
  {
   "cell_type": "code",
   "execution_count": 24,
   "metadata": {
    "collapsed": false
   },
   "outputs": [
    {
     "data": {
      "text/html": [
       "<div>\n",
       "<table border=\"1\" class=\"dataframe\">\n",
       "  <thead>\n",
       "    <tr style=\"text-align: right;\">\n",
       "      <th></th>\n",
       "      <th>Account Number</th>\n",
       "      <th>Commence Date</th>\n",
       "      <th>Address</th>\n",
       "      <th>Scheme</th>\n",
       "      <th>Staus</th>\n",
       "      <th>Gender</th>\n",
       "      <th>Region</th>\n",
       "      <th>Sale of Equipment Status</th>\n",
       "      <th>Age</th>\n",
       "      <th>Equipment Warranty</th>\n",
       "      <th>Salary Slab</th>\n",
       "      <th>Professional Info</th>\n",
       "      <th>Age of Home</th>\n",
       "      <th>Equipment Warranty Expiry Date</th>\n",
       "      <th>Churn Date</th>\n",
       "    </tr>\n",
       "  </thead>\n",
       "  <tbody>\n",
       "    <tr>\n",
       "      <th>0</th>\n",
       "      <td>M1</td>\n",
       "      <td>2011-11-04</td>\n",
       "      <td>VALID</td>\n",
       "      <td>KLA</td>\n",
       "      <td>Open</td>\n",
       "      <td>Female</td>\n",
       "      <td>Northern</td>\n",
       "      <td>RENTED</td>\n",
       "      <td>70</td>\n",
       "      <td>Three Full Years</td>\n",
       "      <td>5</td>\n",
       "      <td>0</td>\n",
       "      <td>17</td>\n",
       "      <td>2015-04-03</td>\n",
       "      <td>NaN</td>\n",
       "    </tr>\n",
       "    <tr>\n",
       "      <th>1</th>\n",
       "      <td>M2</td>\n",
       "      <td>2011-11-28</td>\n",
       "      <td>VALID</td>\n",
       "      <td>PPL</td>\n",
       "      <td>Open</td>\n",
       "      <td>Female</td>\n",
       "      <td>Western</td>\n",
       "      <td>RENTED</td>\n",
       "      <td>55</td>\n",
       "      <td>Three Full Years</td>\n",
       "      <td>7</td>\n",
       "      <td>0</td>\n",
       "      <td>22</td>\n",
       "      <td>2015-04-03</td>\n",
       "      <td>NaN</td>\n",
       "    </tr>\n",
       "    <tr>\n",
       "      <th>2</th>\n",
       "      <td>M3</td>\n",
       "      <td>2011-12-06</td>\n",
       "      <td>VALID</td>\n",
       "      <td>KLA</td>\n",
       "      <td>Open</td>\n",
       "      <td>Male</td>\n",
       "      <td>Eastern</td>\n",
       "      <td>RENTED</td>\n",
       "      <td>64</td>\n",
       "      <td>Three Full Years</td>\n",
       "      <td>1</td>\n",
       "      <td>5</td>\n",
       "      <td>17</td>\n",
       "      <td>2016-04-03</td>\n",
       "      <td>NaN</td>\n",
       "    </tr>\n",
       "    <tr>\n",
       "      <th>3</th>\n",
       "      <td>M4</td>\n",
       "      <td>2011-10-28</td>\n",
       "      <td>VALID</td>\n",
       "      <td>MXX</td>\n",
       "      <td>Open</td>\n",
       "      <td>Female</td>\n",
       "      <td>Northern</td>\n",
       "      <td>RENTED</td>\n",
       "      <td>66</td>\n",
       "      <td>Three Full Years</td>\n",
       "      <td>6</td>\n",
       "      <td>14</td>\n",
       "      <td>22</td>\n",
       "      <td>2015-04-03</td>\n",
       "      <td>NaN</td>\n",
       "    </tr>\n",
       "    <tr>\n",
       "      <th>4</th>\n",
       "      <td>M5</td>\n",
       "      <td>2015-01-18</td>\n",
       "      <td>VALID</td>\n",
       "      <td>PRP</td>\n",
       "      <td>Open</td>\n",
       "      <td>NaN</td>\n",
       "      <td>Western</td>\n",
       "      <td>RENTED</td>\n",
       "      <td>NaN</td>\n",
       "      <td>Full Year</td>\n",
       "      <td>NaN</td>\n",
       "      <td>NaN</td>\n",
       "      <td>NaN</td>\n",
       "      <td>2016-01-03</td>\n",
       "      <td>NaN</td>\n",
       "    </tr>\n",
       "  </tbody>\n",
       "</table>\n",
       "</div>"
      ],
      "text/plain": [
       "  Account Number Commence Date Address Scheme Staus  Gender   Region   \\\n",
       "0             M1    2011-11-04   VALID    KLA  Open  Female  Northern   \n",
       "1             M2    2011-11-28   VALID    PPL  Open  Female   Western   \n",
       "2             M3    2011-12-06   VALID    KLA  Open    Male   Eastern   \n",
       "3             M4    2011-10-28   VALID    MXX  Open  Female  Northern   \n",
       "4             M5    2015-01-18   VALID    PRP  Open     NaN   Western   \n",
       "\n",
       "   Sale of Equipment Status  Age Equipment Warranty  Salary Slab  \\\n",
       "0                    RENTED   70   Three Full Years            5   \n",
       "1                    RENTED   55   Three Full Years            7   \n",
       "2                    RENTED   64   Three Full Years            1   \n",
       "3                    RENTED   66   Three Full Years            6   \n",
       "4                    RENTED  NaN          Full Year          NaN   \n",
       "\n",
       "   Professional Info  Age of Home Equipment Warranty Expiry Date Churn Date  \n",
       "0                  0           17                     2015-04-03        NaN  \n",
       "1                  0           22                     2015-04-03        NaN  \n",
       "2                  5           17                     2016-04-03        NaN  \n",
       "3                 14           22                     2015-04-03        NaN  \n",
       "4                NaN          NaN                     2016-01-03        NaN  "
      ]
     },
     "execution_count": 24,
     "metadata": {},
     "output_type": "execute_result"
    }
   ],
   "source": [
    "demo_data.head()"
   ]
  },
  {
   "cell_type": "code",
   "execution_count": 25,
   "metadata": {
    "collapsed": false
   },
   "outputs": [
    {
     "data": {
      "text/plain": [
       "(14952, 15)"
      ]
     },
     "execution_count": 25,
     "metadata": {},
     "output_type": "execute_result"
    }
   ],
   "source": [
    "demo_data.shape"
   ]
  },
  {
   "cell_type": "markdown",
   "metadata": {
    "collapsed": false
   },
   "source": [
    "### Training and test data"
   ]
  },
  {
   "cell_type": "code",
   "execution_count": 91,
   "metadata": {
    "collapsed": true
   },
   "outputs": [],
   "source": [
    "def isModel(x):\n",
    "    return x.startswith(\"M\")"
   ]
  },
  {
   "cell_type": "code",
   "execution_count": 96,
   "metadata": {
    "collapsed": false
   },
   "outputs": [
    {
     "data": {
      "text/html": [
       "<div>\n",
       "<table border=\"1\" class=\"dataframe\">\n",
       "  <thead>\n",
       "    <tr style=\"text-align: right;\">\n",
       "      <th></th>\n",
       "      <th>Account Number</th>\n",
       "      <th>Commence Date</th>\n",
       "      <th>Address</th>\n",
       "      <th>Scheme</th>\n",
       "      <th>Staus</th>\n",
       "      <th>Gender</th>\n",
       "      <th>Region</th>\n",
       "      <th>Sale of Equipment Status</th>\n",
       "      <th>Age</th>\n",
       "      <th>Equipment Warranty</th>\n",
       "      <th>Salary Slab</th>\n",
       "      <th>Professional Info</th>\n",
       "      <th>Age of Home</th>\n",
       "      <th>Equipment Warranty Expiry Date</th>\n",
       "      <th>Churn Date</th>\n",
       "    </tr>\n",
       "  </thead>\n",
       "  <tbody>\n",
       "    <tr>\n",
       "      <th>9966</th>\n",
       "      <td>V1</td>\n",
       "      <td>2012-09-27</td>\n",
       "      <td>VALID</td>\n",
       "      <td>PWR</td>\n",
       "      <td>Open</td>\n",
       "      <td>NaN</td>\n",
       "      <td>Southern</td>\n",
       "      <td>RENTED</td>\n",
       "      <td>NaN</td>\n",
       "      <td>Three Full Years</td>\n",
       "      <td>NaN</td>\n",
       "      <td>NaN</td>\n",
       "      <td>NaN</td>\n",
       "      <td>2015-08-03</td>\n",
       "      <td>NaN</td>\n",
       "    </tr>\n",
       "    <tr>\n",
       "      <th>9967</th>\n",
       "      <td>V2</td>\n",
       "      <td>2012-01-26</td>\n",
       "      <td>VALID</td>\n",
       "      <td>PRS</td>\n",
       "      <td>Open</td>\n",
       "      <td>Female</td>\n",
       "      <td>Western</td>\n",
       "      <td>RENTED</td>\n",
       "      <td>71</td>\n",
       "      <td>Three Full Years</td>\n",
       "      <td>12</td>\n",
       "      <td>18</td>\n",
       "      <td>22</td>\n",
       "      <td>2016-08-03</td>\n",
       "      <td>NaN</td>\n",
       "    </tr>\n",
       "    <tr>\n",
       "      <th>9968</th>\n",
       "      <td>V3</td>\n",
       "      <td>2013-05-14</td>\n",
       "      <td>VALID</td>\n",
       "      <td>MXX</td>\n",
       "      <td>Open</td>\n",
       "      <td>Male</td>\n",
       "      <td>Eastern</td>\n",
       "      <td>BOUGHT</td>\n",
       "      <td>69</td>\n",
       "      <td>Three Full Years</td>\n",
       "      <td>9</td>\n",
       "      <td>8</td>\n",
       "      <td>22</td>\n",
       "      <td>2015-08-03</td>\n",
       "      <td>NaN</td>\n",
       "    </tr>\n",
       "    <tr>\n",
       "      <th>9969</th>\n",
       "      <td>V4</td>\n",
       "      <td>2011-10-12</td>\n",
       "      <td>VALID</td>\n",
       "      <td>PWM</td>\n",
       "      <td>Open</td>\n",
       "      <td>Male</td>\n",
       "      <td>Eastern</td>\n",
       "      <td>RENTED</td>\n",
       "      <td>71</td>\n",
       "      <td>Three Full Years</td>\n",
       "      <td>5</td>\n",
       "      <td>19</td>\n",
       "      <td>22</td>\n",
       "      <td>2015-07-30</td>\n",
       "      <td>NaN</td>\n",
       "    </tr>\n",
       "    <tr>\n",
       "      <th>9970</th>\n",
       "      <td>V5</td>\n",
       "      <td>2014-07-31</td>\n",
       "      <td>VALID</td>\n",
       "      <td>KLA</td>\n",
       "      <td>Open</td>\n",
       "      <td>Male</td>\n",
       "      <td>Northern</td>\n",
       "      <td>RENTED</td>\n",
       "      <td>61</td>\n",
       "      <td>Three Full Years</td>\n",
       "      <td>6</td>\n",
       "      <td>13</td>\n",
       "      <td>22</td>\n",
       "      <td>2016-07-15</td>\n",
       "      <td>NaN</td>\n",
       "    </tr>\n",
       "  </tbody>\n",
       "</table>\n",
       "</div>"
      ],
      "text/plain": [
       "     Account Number Commence Date Address Scheme Staus  Gender   Region   \\\n",
       "9966             V1    2012-09-27   VALID    PWR  Open     NaN  Southern   \n",
       "9967             V2    2012-01-26   VALID    PRS  Open  Female   Western   \n",
       "9968             V3    2013-05-14   VALID    MXX  Open    Male   Eastern   \n",
       "9969             V4    2011-10-12   VALID    PWM  Open    Male   Eastern   \n",
       "9970             V5    2014-07-31   VALID    KLA  Open    Male  Northern   \n",
       "\n",
       "      Sale of Equipment Status  Age Equipment Warranty  Salary Slab  \\\n",
       "9966                    RENTED  NaN   Three Full Years          NaN   \n",
       "9967                    RENTED   71   Three Full Years           12   \n",
       "9968                    BOUGHT   69   Three Full Years            9   \n",
       "9969                    RENTED   71   Three Full Years            5   \n",
       "9970                    RENTED   61   Three Full Years            6   \n",
       "\n",
       "      Professional Info  Age of Home Equipment Warranty Expiry Date Churn Date  \n",
       "9966                NaN          NaN                     2015-08-03        NaN  \n",
       "9967                 18           22                     2016-08-03        NaN  \n",
       "9968                  8           22                     2015-08-03        NaN  \n",
       "9969                 19           22                     2015-07-30        NaN  \n",
       "9970                 13           22                     2016-07-15        NaN  "
      ]
     },
     "execution_count": 96,
     "metadata": {},
     "output_type": "execute_result"
    }
   ],
   "source": [
    "a = demo_data[\"Account Number\"].apply(isModel)\n",
    "a = np.array(a)\n",
    "test_demo_data = demo_data[~a]\n",
    "demo_data = demo_data[a]\n",
    "test_demo_data.head()"
   ]
  },
  {
   "cell_type": "code",
   "execution_count": 123,
   "metadata": {
    "collapsed": true
   },
   "outputs": [],
   "source": [
    "train_acc = np.unique(demo_data[\"Account Number\"])\n",
    "test_acc = np.unique(test_demo_data[\"Account Number\"])"
   ]
  },
  {
   "cell_type": "code",
   "execution_count": 97,
   "metadata": {
    "collapsed": false
   },
   "outputs": [
    {
     "data": {
      "text/plain": [
       "(9966, 15)"
      ]
     },
     "execution_count": 97,
     "metadata": {},
     "output_type": "execute_result"
    }
   ],
   "source": [
    "demo_data.shape"
   ]
  },
  {
   "cell_type": "code",
   "execution_count": 117,
   "metadata": {
    "collapsed": false
   },
   "outputs": [
    {
     "data": {
      "text/plain": [
       "(4986, 15)"
      ]
     },
     "execution_count": 117,
     "metadata": {},
     "output_type": "execute_result"
    }
   ],
   "source": [
    "test_demo_data.shape"
   ]
  },
  {
   "cell_type": "markdown",
   "metadata": {},
   "source": [
    "### Splitting training demo data to Churners and Non Churners"
   ]
  },
  {
   "cell_type": "code",
   "execution_count": 99,
   "metadata": {
    "collapsed": false
   },
   "outputs": [
    {
     "data": {
      "text/plain": [
       "(506, 15)"
      ]
     },
     "execution_count": 99,
     "metadata": {},
     "output_type": "execute_result"
    }
   ],
   "source": [
    "churn_demo_data = demo_data[~demo_data[\"Churn Date\"].isnull()]\n",
    "churn_demo_data.shape"
   ]
  },
  {
   "cell_type": "code",
   "execution_count": 100,
   "metadata": {
    "collapsed": false
   },
   "outputs": [
    {
     "data": {
      "text/html": [
       "<div>\n",
       "<table border=\"1\" class=\"dataframe\">\n",
       "  <thead>\n",
       "    <tr style=\"text-align: right;\">\n",
       "      <th></th>\n",
       "      <th>Account Number</th>\n",
       "      <th>Commence Date</th>\n",
       "      <th>Address</th>\n",
       "      <th>Scheme</th>\n",
       "      <th>Staus</th>\n",
       "      <th>Gender</th>\n",
       "      <th>Region</th>\n",
       "      <th>Sale of Equipment Status</th>\n",
       "      <th>Age</th>\n",
       "      <th>Equipment Warranty</th>\n",
       "      <th>Salary Slab</th>\n",
       "      <th>Professional Info</th>\n",
       "      <th>Age of Home</th>\n",
       "      <th>Equipment Warranty Expiry Date</th>\n",
       "      <th>Churn Date</th>\n",
       "    </tr>\n",
       "  </thead>\n",
       "  <tbody>\n",
       "    <tr>\n",
       "      <th>51</th>\n",
       "      <td>M52</td>\n",
       "      <td>2012-04-04</td>\n",
       "      <td>VALID</td>\n",
       "      <td>PWR</td>\n",
       "      <td>Open</td>\n",
       "      <td>Female</td>\n",
       "      <td>Eastern</td>\n",
       "      <td>RENTED</td>\n",
       "      <td>71</td>\n",
       "      <td>Three Full Years</td>\n",
       "      <td>5</td>\n",
       "      <td>0</td>\n",
       "      <td>17</td>\n",
       "      <td>2015-03-29</td>\n",
       "      <td>2015-05-30 00:00:00</td>\n",
       "    </tr>\n",
       "    <tr>\n",
       "      <th>73</th>\n",
       "      <td>M74</td>\n",
       "      <td>2012-02-08</td>\n",
       "      <td>VALID</td>\n",
       "      <td>PWP</td>\n",
       "      <td>Open</td>\n",
       "      <td>Male</td>\n",
       "      <td>Eastern</td>\n",
       "      <td>BOUGHT</td>\n",
       "      <td>59</td>\n",
       "      <td>Three Full Years</td>\n",
       "      <td>5</td>\n",
       "      <td>0</td>\n",
       "      <td>12</td>\n",
       "      <td>2015-03-25</td>\n",
       "      <td>2015-05-23 00:00:00</td>\n",
       "    </tr>\n",
       "    <tr>\n",
       "      <th>76</th>\n",
       "      <td>M77</td>\n",
       "      <td>2013-03-02</td>\n",
       "      <td>INVALID</td>\n",
       "      <td>PWR</td>\n",
       "      <td>Open</td>\n",
       "      <td>Female</td>\n",
       "      <td>Western</td>\n",
       "      <td>Second Hand</td>\n",
       "      <td>59</td>\n",
       "      <td>Three Full Years</td>\n",
       "      <td>6</td>\n",
       "      <td>0</td>\n",
       "      <td>22</td>\n",
       "      <td>2015-04-03</td>\n",
       "      <td>2015-05-01 00:00:00</td>\n",
       "    </tr>\n",
       "    <tr>\n",
       "      <th>79</th>\n",
       "      <td>M80</td>\n",
       "      <td>2012-01-19</td>\n",
       "      <td>VALID</td>\n",
       "      <td>PWM</td>\n",
       "      <td>Open</td>\n",
       "      <td>Female</td>\n",
       "      <td>Eastern</td>\n",
       "      <td>BOUGHT</td>\n",
       "      <td>51</td>\n",
       "      <td>Three Full Years</td>\n",
       "      <td>4</td>\n",
       "      <td>10</td>\n",
       "      <td>12</td>\n",
       "      <td>2015-03-29</td>\n",
       "      <td>2015-05-27 00:00:00</td>\n",
       "    </tr>\n",
       "    <tr>\n",
       "      <th>92</th>\n",
       "      <td>M93</td>\n",
       "      <td>2012-02-22</td>\n",
       "      <td>VALID</td>\n",
       "      <td>PWM</td>\n",
       "      <td>Open</td>\n",
       "      <td>Female</td>\n",
       "      <td>Eastern</td>\n",
       "      <td>BOUGHT</td>\n",
       "      <td>55</td>\n",
       "      <td>Three Full Years</td>\n",
       "      <td>4</td>\n",
       "      <td>0</td>\n",
       "      <td>17</td>\n",
       "      <td>2015-03-07</td>\n",
       "      <td>2015-04-05 00:00:00</td>\n",
       "    </tr>\n",
       "  </tbody>\n",
       "</table>\n",
       "</div>"
      ],
      "text/plain": [
       "   Account Number Commence Date  Address Scheme Staus  Gender  Region   \\\n",
       "51            M52    2012-04-04    VALID    PWR  Open  Female  Eastern   \n",
       "73            M74    2012-02-08    VALID    PWP  Open    Male  Eastern   \n",
       "76            M77    2013-03-02  INVALID    PWR  Open  Female  Western   \n",
       "79            M80    2012-01-19    VALID    PWM  Open  Female  Eastern   \n",
       "92            M93    2012-02-22    VALID    PWM  Open  Female  Eastern   \n",
       "\n",
       "    Sale of Equipment Status  Age Equipment Warranty  Salary Slab  \\\n",
       "51                    RENTED   71   Three Full Years            5   \n",
       "73                    BOUGHT   59   Three Full Years            5   \n",
       "76               Second Hand   59   Three Full Years            6   \n",
       "79                    BOUGHT   51   Three Full Years            4   \n",
       "92                    BOUGHT   55   Three Full Years            4   \n",
       "\n",
       "    Professional Info  Age of Home Equipment Warranty Expiry Date  \\\n",
       "51                  0           17                     2015-03-29   \n",
       "73                  0           12                     2015-03-25   \n",
       "76                  0           22                     2015-04-03   \n",
       "79                 10           12                     2015-03-29   \n",
       "92                  0           17                     2015-03-07   \n",
       "\n",
       "             Churn Date  \n",
       "51  2015-05-30 00:00:00  \n",
       "73  2015-05-23 00:00:00  \n",
       "76  2015-05-01 00:00:00  \n",
       "79  2015-05-27 00:00:00  \n",
       "92  2015-04-05 00:00:00  "
      ]
     },
     "execution_count": 100,
     "metadata": {},
     "output_type": "execute_result"
    }
   ],
   "source": [
    "churn_demo_data.head()"
   ]
  },
  {
   "cell_type": "code",
   "execution_count": 101,
   "metadata": {
    "collapsed": false
   },
   "outputs": [
    {
     "data": {
      "text/plain": [
       "506"
      ]
     },
     "execution_count": 101,
     "metadata": {},
     "output_type": "execute_result"
    }
   ],
   "source": [
    "churn_acc_num = np.unique(churn_demo_data[\"Account Number\"])\n",
    "len(churn_acc_num)"
   ]
  },
  {
   "cell_type": "code",
   "execution_count": 102,
   "metadata": {
    "collapsed": false
   },
   "outputs": [
    {
     "data": {
      "text/html": [
       "<div>\n",
       "<table border=\"1\" class=\"dataframe\">\n",
       "  <thead>\n",
       "    <tr style=\"text-align: right;\">\n",
       "      <th></th>\n",
       "      <th>Account Number</th>\n",
       "      <th>Commence Date</th>\n",
       "      <th>Address</th>\n",
       "      <th>Scheme</th>\n",
       "      <th>Staus</th>\n",
       "      <th>Gender</th>\n",
       "      <th>Region</th>\n",
       "      <th>Sale of Equipment Status</th>\n",
       "      <th>Age</th>\n",
       "      <th>Equipment Warranty</th>\n",
       "      <th>Salary Slab</th>\n",
       "      <th>Professional Info</th>\n",
       "      <th>Age of Home</th>\n",
       "      <th>Equipment Warranty Expiry Date</th>\n",
       "      <th>Churn Date</th>\n",
       "    </tr>\n",
       "  </thead>\n",
       "  <tbody>\n",
       "    <tr>\n",
       "      <th>0</th>\n",
       "      <td>M1</td>\n",
       "      <td>2011-11-04</td>\n",
       "      <td>VALID</td>\n",
       "      <td>KLA</td>\n",
       "      <td>Open</td>\n",
       "      <td>Female</td>\n",
       "      <td>Northern</td>\n",
       "      <td>RENTED</td>\n",
       "      <td>70</td>\n",
       "      <td>Three Full Years</td>\n",
       "      <td>5</td>\n",
       "      <td>0</td>\n",
       "      <td>17</td>\n",
       "      <td>2015-04-03</td>\n",
       "      <td>NaN</td>\n",
       "    </tr>\n",
       "    <tr>\n",
       "      <th>1</th>\n",
       "      <td>M2</td>\n",
       "      <td>2011-11-28</td>\n",
       "      <td>VALID</td>\n",
       "      <td>PPL</td>\n",
       "      <td>Open</td>\n",
       "      <td>Female</td>\n",
       "      <td>Western</td>\n",
       "      <td>RENTED</td>\n",
       "      <td>55</td>\n",
       "      <td>Three Full Years</td>\n",
       "      <td>7</td>\n",
       "      <td>0</td>\n",
       "      <td>22</td>\n",
       "      <td>2015-04-03</td>\n",
       "      <td>NaN</td>\n",
       "    </tr>\n",
       "    <tr>\n",
       "      <th>2</th>\n",
       "      <td>M3</td>\n",
       "      <td>2011-12-06</td>\n",
       "      <td>VALID</td>\n",
       "      <td>KLA</td>\n",
       "      <td>Open</td>\n",
       "      <td>Male</td>\n",
       "      <td>Eastern</td>\n",
       "      <td>RENTED</td>\n",
       "      <td>64</td>\n",
       "      <td>Three Full Years</td>\n",
       "      <td>1</td>\n",
       "      <td>5</td>\n",
       "      <td>17</td>\n",
       "      <td>2016-04-03</td>\n",
       "      <td>NaN</td>\n",
       "    </tr>\n",
       "    <tr>\n",
       "      <th>3</th>\n",
       "      <td>M4</td>\n",
       "      <td>2011-10-28</td>\n",
       "      <td>VALID</td>\n",
       "      <td>MXX</td>\n",
       "      <td>Open</td>\n",
       "      <td>Female</td>\n",
       "      <td>Northern</td>\n",
       "      <td>RENTED</td>\n",
       "      <td>66</td>\n",
       "      <td>Three Full Years</td>\n",
       "      <td>6</td>\n",
       "      <td>14</td>\n",
       "      <td>22</td>\n",
       "      <td>2015-04-03</td>\n",
       "      <td>NaN</td>\n",
       "    </tr>\n",
       "    <tr>\n",
       "      <th>4</th>\n",
       "      <td>M5</td>\n",
       "      <td>2015-01-18</td>\n",
       "      <td>VALID</td>\n",
       "      <td>PRP</td>\n",
       "      <td>Open</td>\n",
       "      <td>NaN</td>\n",
       "      <td>Western</td>\n",
       "      <td>RENTED</td>\n",
       "      <td>NaN</td>\n",
       "      <td>Full Year</td>\n",
       "      <td>NaN</td>\n",
       "      <td>NaN</td>\n",
       "      <td>NaN</td>\n",
       "      <td>2016-01-03</td>\n",
       "      <td>NaN</td>\n",
       "    </tr>\n",
       "  </tbody>\n",
       "</table>\n",
       "</div>"
      ],
      "text/plain": [
       "  Account Number Commence Date Address Scheme Staus  Gender   Region   \\\n",
       "0             M1    2011-11-04   VALID    KLA  Open  Female  Northern   \n",
       "1             M2    2011-11-28   VALID    PPL  Open  Female   Western   \n",
       "2             M3    2011-12-06   VALID    KLA  Open    Male   Eastern   \n",
       "3             M4    2011-10-28   VALID    MXX  Open  Female  Northern   \n",
       "4             M5    2015-01-18   VALID    PRP  Open     NaN   Western   \n",
       "\n",
       "   Sale of Equipment Status  Age Equipment Warranty  Salary Slab  \\\n",
       "0                    RENTED   70   Three Full Years            5   \n",
       "1                    RENTED   55   Three Full Years            7   \n",
       "2                    RENTED   64   Three Full Years            1   \n",
       "3                    RENTED   66   Three Full Years            6   \n",
       "4                    RENTED  NaN          Full Year          NaN   \n",
       "\n",
       "   Professional Info  Age of Home Equipment Warranty Expiry Date Churn Date  \n",
       "0                  0           17                     2015-04-03        NaN  \n",
       "1                  0           22                     2015-04-03        NaN  \n",
       "2                  5           17                     2016-04-03        NaN  \n",
       "3                 14           22                     2015-04-03        NaN  \n",
       "4                NaN          NaN                     2016-01-03        NaN  "
      ]
     },
     "execution_count": 102,
     "metadata": {},
     "output_type": "execute_result"
    }
   ],
   "source": [
    "non_churn_demo_data = demo_data[demo_data[\"Churn Date\"].isnull()]\n",
    "non_churn_demo_data.head()"
   ]
  },
  {
   "cell_type": "code",
   "execution_count": 122,
   "metadata": {
    "collapsed": false
   },
   "outputs": [
    {
     "data": {
      "text/plain": [
       "(4986, 15)"
      ]
     },
     "execution_count": 122,
     "metadata": {},
     "output_type": "execute_result"
    }
   ],
   "source": [
    "test_non_churn_demo_data = test_demo_data[test_demo_data[\"Churn Date\"].isnull()]\n",
    "test_non_churn_demo_data.shape"
   ]
  },
  {
   "cell_type": "code",
   "execution_count": 103,
   "metadata": {
    "collapsed": false
   },
   "outputs": [
    {
     "data": {
      "text/plain": [
       "9460"
      ]
     },
     "execution_count": 103,
     "metadata": {},
     "output_type": "execute_result"
    }
   ],
   "source": [
    "non_churn_acc_num = np.unique(non_churn_demo_data[\"Account Number\"])\n",
    "len(non_churn_acc_num)"
   ]
  },
  {
   "cell_type": "code",
   "execution_count": 104,
   "metadata": {
    "collapsed": false
   },
   "outputs": [
    {
     "data": {
      "text/html": [
       "<div>\n",
       "<table border=\"1\" class=\"dataframe\">\n",
       "  <thead>\n",
       "    <tr style=\"text-align: right;\">\n",
       "      <th></th>\n",
       "      <th>Account Number</th>\n",
       "      <th>Used pattern in hours</th>\n",
       "      <th>Usage Post Limit Utilization in hrs</th>\n",
       "      <th>data used Gb</th>\n",
       "      <th>YYYYMM</th>\n",
       "    </tr>\n",
       "  </thead>\n",
       "  <tbody>\n",
       "    <tr>\n",
       "      <th>0</th>\n",
       "      <td>M1</td>\n",
       "      <td>717.90</td>\n",
       "      <td>0</td>\n",
       "      <td>43.80</td>\n",
       "      <td>201501</td>\n",
       "    </tr>\n",
       "    <tr>\n",
       "      <th>1</th>\n",
       "      <td>M1</td>\n",
       "      <td>662.42</td>\n",
       "      <td>0</td>\n",
       "      <td>110.35</td>\n",
       "      <td>201502</td>\n",
       "    </tr>\n",
       "    <tr>\n",
       "      <th>2</th>\n",
       "      <td>M1</td>\n",
       "      <td>634.68</td>\n",
       "      <td>0</td>\n",
       "      <td>109.10</td>\n",
       "      <td>201503</td>\n",
       "    </tr>\n",
       "    <tr>\n",
       "      <th>3</th>\n",
       "      <td>M2</td>\n",
       "      <td>696.12</td>\n",
       "      <td>5</td>\n",
       "      <td>98.40</td>\n",
       "      <td>201501</td>\n",
       "    </tr>\n",
       "    <tr>\n",
       "      <th>4</th>\n",
       "      <td>M2</td>\n",
       "      <td>652.40</td>\n",
       "      <td>0</td>\n",
       "      <td>70.90</td>\n",
       "      <td>201502</td>\n",
       "    </tr>\n",
       "  </tbody>\n",
       "</table>\n",
       "</div>"
      ],
      "text/plain": [
       "  Account Number   Used pattern in hours  Usage Post Limit Utilization in hrs  \\\n",
       "0              M1                 717.90                                    0   \n",
       "1              M1                 662.42                                    0   \n",
       "2              M1                 634.68                                    0   \n",
       "3              M2                 696.12                                    5   \n",
       "4              M2                 652.40                                    0   \n",
       "\n",
       "   data used Gb  YYYYMM  \n",
       "0         43.80  201501  \n",
       "1        110.35  201502  \n",
       "2        109.10  201503  \n",
       "3         98.40  201501  \n",
       "4         70.90  201502  "
      ]
     },
     "execution_count": 104,
     "metadata": {},
     "output_type": "execute_result"
    }
   ],
   "source": [
    "pattern_data = xls.parse(4)\n",
    "pattern_data.head()"
   ]
  },
  {
   "cell_type": "code",
   "execution_count": 127,
   "metadata": {
    "collapsed": false
   },
   "outputs": [
    {
     "data": {
      "text/html": [
       "<div>\n",
       "<table border=\"1\" class=\"dataframe\">\n",
       "  <thead>\n",
       "    <tr style=\"text-align: right;\">\n",
       "      <th></th>\n",
       "      <th>Account Number</th>\n",
       "      <th>Used pattern in hours</th>\n",
       "      <th>Usage Post Limit Utilization in hrs</th>\n",
       "      <th>data used Gb</th>\n",
       "      <th>YYYYMM</th>\n",
       "    </tr>\n",
       "  </thead>\n",
       "  <tbody>\n",
       "    <tr>\n",
       "      <th>27703</th>\n",
       "      <td>V1</td>\n",
       "      <td>400.52</td>\n",
       "      <td>0</td>\n",
       "      <td>78.15</td>\n",
       "      <td>201505</td>\n",
       "    </tr>\n",
       "    <tr>\n",
       "      <th>27704</th>\n",
       "      <td>V1</td>\n",
       "      <td>587.93</td>\n",
       "      <td>0</td>\n",
       "      <td>37.30</td>\n",
       "      <td>201506</td>\n",
       "    </tr>\n",
       "    <tr>\n",
       "      <th>27705</th>\n",
       "      <td>V1</td>\n",
       "      <td>647.40</td>\n",
       "      <td>0</td>\n",
       "      <td>115.00</td>\n",
       "      <td>201507</td>\n",
       "    </tr>\n",
       "    <tr>\n",
       "      <th>27706</th>\n",
       "      <td>V2</td>\n",
       "      <td>699.75</td>\n",
       "      <td>232</td>\n",
       "      <td>226.30</td>\n",
       "      <td>201505</td>\n",
       "    </tr>\n",
       "    <tr>\n",
       "      <th>27707</th>\n",
       "      <td>V2</td>\n",
       "      <td>658.43</td>\n",
       "      <td>35</td>\n",
       "      <td>119.10</td>\n",
       "      <td>201506</td>\n",
       "    </tr>\n",
       "  </tbody>\n",
       "</table>\n",
       "</div>"
      ],
      "text/plain": [
       "      Account Number   Used pattern in hours  \\\n",
       "27703              V1                 400.52   \n",
       "27704              V1                 587.93   \n",
       "27705              V1                 647.40   \n",
       "27706              V2                 699.75   \n",
       "27707              V2                 658.43   \n",
       "\n",
       "       Usage Post Limit Utilization in hrs  data used Gb  YYYYMM  \n",
       "27703                                    0         78.15  201505  \n",
       "27704                                    0         37.30  201506  \n",
       "27705                                    0        115.00  201507  \n",
       "27706                                  232        226.30  201505  \n",
       "27707                                   35        119.10  201506  "
      ]
     },
     "execution_count": 127,
     "metadata": {},
     "output_type": "execute_result"
    }
   ],
   "source": [
    "test_pattern_data = pattern_data[pattern_data[\"Account Number \"].isin(test_acc)]\n",
    "test_pattern_data.head()"
   ]
  },
  {
   "cell_type": "code",
   "execution_count": 128,
   "metadata": {
    "collapsed": false
   },
   "outputs": [
    {
     "data": {
      "text/html": [
       "<div>\n",
       "<table border=\"1\" class=\"dataframe\">\n",
       "  <thead>\n",
       "    <tr style=\"text-align: right;\">\n",
       "      <th></th>\n",
       "      <th>Account Number</th>\n",
       "      <th>Used pattern in hours</th>\n",
       "      <th>Usage Post Limit Utilization in hrs</th>\n",
       "      <th>data used Gb</th>\n",
       "      <th>YYYYMM</th>\n",
       "    </tr>\n",
       "  </thead>\n",
       "  <tbody>\n",
       "    <tr>\n",
       "      <th>0</th>\n",
       "      <td>M1</td>\n",
       "      <td>717.90</td>\n",
       "      <td>0</td>\n",
       "      <td>43.80</td>\n",
       "      <td>201501</td>\n",
       "    </tr>\n",
       "    <tr>\n",
       "      <th>1</th>\n",
       "      <td>M1</td>\n",
       "      <td>662.42</td>\n",
       "      <td>0</td>\n",
       "      <td>110.35</td>\n",
       "      <td>201502</td>\n",
       "    </tr>\n",
       "    <tr>\n",
       "      <th>2</th>\n",
       "      <td>M1</td>\n",
       "      <td>634.68</td>\n",
       "      <td>0</td>\n",
       "      <td>109.10</td>\n",
       "      <td>201503</td>\n",
       "    </tr>\n",
       "    <tr>\n",
       "      <th>3</th>\n",
       "      <td>M2</td>\n",
       "      <td>696.12</td>\n",
       "      <td>5</td>\n",
       "      <td>98.40</td>\n",
       "      <td>201501</td>\n",
       "    </tr>\n",
       "    <tr>\n",
       "      <th>4</th>\n",
       "      <td>M2</td>\n",
       "      <td>652.40</td>\n",
       "      <td>0</td>\n",
       "      <td>70.90</td>\n",
       "      <td>201502</td>\n",
       "    </tr>\n",
       "  </tbody>\n",
       "</table>\n",
       "</div>"
      ],
      "text/plain": [
       "  Account Number   Used pattern in hours  Usage Post Limit Utilization in hrs  \\\n",
       "0              M1                 717.90                                    0   \n",
       "1              M1                 662.42                                    0   \n",
       "2              M1                 634.68                                    0   \n",
       "3              M2                 696.12                                    5   \n",
       "4              M2                 652.40                                    0   \n",
       "\n",
       "   data used Gb  YYYYMM  \n",
       "0         43.80  201501  \n",
       "1        110.35  201502  \n",
       "2        109.10  201503  \n",
       "3         98.40  201501  \n",
       "4         70.90  201502  "
      ]
     },
     "execution_count": 128,
     "metadata": {},
     "output_type": "execute_result"
    }
   ],
   "source": [
    "pattern_data = pattern_data[pattern_data[\"Account Number \"].isin(train_acc)]\n",
    "pattern_data.head()"
   ]
  },
  {
   "cell_type": "code",
   "execution_count": 129,
   "metadata": {
    "collapsed": false
   },
   "outputs": [
    {
     "data": {
      "text/html": [
       "<div>\n",
       "<table border=\"1\" class=\"dataframe\">\n",
       "  <thead>\n",
       "    <tr style=\"text-align: right;\">\n",
       "      <th></th>\n",
       "      <th>Account Number</th>\n",
       "      <th>Used pattern in hours</th>\n",
       "      <th>Usage Post Limit Utilization in hrs</th>\n",
       "      <th>data used Gb</th>\n",
       "      <th>YYYYMM</th>\n",
       "    </tr>\n",
       "  </thead>\n",
       "  <tbody>\n",
       "    <tr>\n",
       "      <th>140</th>\n",
       "      <td>M52</td>\n",
       "      <td>742.72</td>\n",
       "      <td>0</td>\n",
       "      <td>18.55</td>\n",
       "      <td>201501</td>\n",
       "    </tr>\n",
       "    <tr>\n",
       "      <th>141</th>\n",
       "      <td>M52</td>\n",
       "      <td>694.60</td>\n",
       "      <td>0</td>\n",
       "      <td>11.15</td>\n",
       "      <td>201502</td>\n",
       "    </tr>\n",
       "    <tr>\n",
       "      <th>142</th>\n",
       "      <td>M52</td>\n",
       "      <td>709.87</td>\n",
       "      <td>0</td>\n",
       "      <td>8.45</td>\n",
       "      <td>201503</td>\n",
       "    </tr>\n",
       "    <tr>\n",
       "      <th>205</th>\n",
       "      <td>M74</td>\n",
       "      <td>613.13</td>\n",
       "      <td>31</td>\n",
       "      <td>209.60</td>\n",
       "      <td>201501</td>\n",
       "    </tr>\n",
       "    <tr>\n",
       "      <th>206</th>\n",
       "      <td>M74</td>\n",
       "      <td>523.20</td>\n",
       "      <td>0</td>\n",
       "      <td>182.75</td>\n",
       "      <td>201502</td>\n",
       "    </tr>\n",
       "  </tbody>\n",
       "</table>\n",
       "</div>"
      ],
      "text/plain": [
       "    Account Number   Used pattern in hours  \\\n",
       "140             M52                 742.72   \n",
       "141             M52                 694.60   \n",
       "142             M52                 709.87   \n",
       "205             M74                 613.13   \n",
       "206             M74                 523.20   \n",
       "\n",
       "     Usage Post Limit Utilization in hrs  data used Gb  YYYYMM  \n",
       "140                                    0         18.55  201501  \n",
       "141                                    0         11.15  201502  \n",
       "142                                    0          8.45  201503  \n",
       "205                                   31        209.60  201501  \n",
       "206                                    0        182.75  201502  "
      ]
     },
     "execution_count": 129,
     "metadata": {},
     "output_type": "execute_result"
    }
   ],
   "source": [
    "churn_pattern_data = pattern_data[pattern_data[\"Account Number \"].isin(churn_acc_num)]\n",
    "churn_pattern_data.head()"
   ]
  },
  {
   "cell_type": "code",
   "execution_count": 130,
   "metadata": {
    "collapsed": false
   },
   "outputs": [
    {
     "data": {
      "text/html": [
       "<div>\n",
       "<table border=\"1\" class=\"dataframe\">\n",
       "  <thead>\n",
       "    <tr style=\"text-align: right;\">\n",
       "      <th></th>\n",
       "      <th>Account Number</th>\n",
       "      <th>Used pattern in hours</th>\n",
       "      <th>Usage Post Limit Utilization in hrs</th>\n",
       "      <th>data used Gb</th>\n",
       "      <th>YYYYMM</th>\n",
       "    </tr>\n",
       "  </thead>\n",
       "  <tbody>\n",
       "    <tr>\n",
       "      <th>0</th>\n",
       "      <td>M1</td>\n",
       "      <td>717.90</td>\n",
       "      <td>0</td>\n",
       "      <td>43.80</td>\n",
       "      <td>201501</td>\n",
       "    </tr>\n",
       "    <tr>\n",
       "      <th>1</th>\n",
       "      <td>M1</td>\n",
       "      <td>662.42</td>\n",
       "      <td>0</td>\n",
       "      <td>110.35</td>\n",
       "      <td>201502</td>\n",
       "    </tr>\n",
       "    <tr>\n",
       "      <th>2</th>\n",
       "      <td>M1</td>\n",
       "      <td>634.68</td>\n",
       "      <td>0</td>\n",
       "      <td>109.10</td>\n",
       "      <td>201503</td>\n",
       "    </tr>\n",
       "    <tr>\n",
       "      <th>3</th>\n",
       "      <td>M2</td>\n",
       "      <td>696.12</td>\n",
       "      <td>5</td>\n",
       "      <td>98.40</td>\n",
       "      <td>201501</td>\n",
       "    </tr>\n",
       "    <tr>\n",
       "      <th>4</th>\n",
       "      <td>M2</td>\n",
       "      <td>652.40</td>\n",
       "      <td>0</td>\n",
       "      <td>70.90</td>\n",
       "      <td>201502</td>\n",
       "    </tr>\n",
       "  </tbody>\n",
       "</table>\n",
       "</div>"
      ],
      "text/plain": [
       "  Account Number   Used pattern in hours  Usage Post Limit Utilization in hrs  \\\n",
       "0              M1                 717.90                                    0   \n",
       "1              M1                 662.42                                    0   \n",
       "2              M1                 634.68                                    0   \n",
       "3              M2                 696.12                                    5   \n",
       "4              M2                 652.40                                    0   \n",
       "\n",
       "   data used Gb  YYYYMM  \n",
       "0         43.80  201501  \n",
       "1        110.35  201502  \n",
       "2        109.10  201503  \n",
       "3         98.40  201501  \n",
       "4         70.90  201502  "
      ]
     },
     "execution_count": 130,
     "metadata": {},
     "output_type": "execute_result"
    }
   ],
   "source": [
    "non_churn_pattern_data = pattern_data[~pattern_data[\"Account Number \"].isin(churn_acc_num)]\n",
    "non_churn_pattern_data.head()"
   ]
  },
  {
   "cell_type": "markdown",
   "metadata": {},
   "source": [
    "### Data processing - Missing value"
   ]
  },
  {
   "cell_type": "code",
   "execution_count": 131,
   "metadata": {
    "collapsed": false
   },
   "outputs": [
    {
     "data": {
      "text/plain": [
       "Account Number                         0\n",
       "Used pattern in hours                  0\n",
       "Usage Post Limit Utilization in hrs    0\n",
       "data used Gb                           0\n",
       "YYYYMM                                 0\n",
       "dtype: int64"
      ]
     },
     "execution_count": 131,
     "metadata": {},
     "output_type": "execute_result"
    }
   ],
   "source": [
    "churn_pattern_data.isnull().sum()"
   ]
  },
  {
   "cell_type": "code",
   "execution_count": 132,
   "metadata": {
    "collapsed": false
   },
   "outputs": [
    {
     "data": {
      "text/plain": [
       "Account Number                         0\n",
       "Used pattern in hours                  0\n",
       "Usage Post Limit Utilization in hrs    0\n",
       "data used Gb                           0\n",
       "YYYYMM                                 0\n",
       "dtype: int64"
      ]
     },
     "execution_count": 132,
     "metadata": {},
     "output_type": "execute_result"
    }
   ],
   "source": [
    "non_churn_pattern_data.isnull().sum()"
   ]
  },
  {
   "cell_type": "code",
   "execution_count": 133,
   "metadata": {
    "collapsed": false
   },
   "outputs": [
    {
     "data": {
      "text/plain": [
       "Account Number                      0\n",
       "Commence Date                       0\n",
       "Address                            36\n",
       "Scheme                              0\n",
       "Staus                               0\n",
       "Gender                             93\n",
       "Region                              0\n",
       " Sale of Equipment Status           0\n",
       "Age                               135\n",
       "Equipment Warranty                141\n",
       "Salary Slab                        90\n",
       "Professional Info                  90\n",
       "Age of Home                        90\n",
       "Equipment Warranty Expiry Date    141\n",
       "Churn Date                          0\n",
       "dtype: int64"
      ]
     },
     "execution_count": 133,
     "metadata": {},
     "output_type": "execute_result"
    }
   ],
   "source": [
    "churn_demo_data.isnull().sum()"
   ]
  },
  {
   "cell_type": "markdown",
   "metadata": {},
   "source": [
    "### Churners used hrs statistics in last 3 months"
   ]
  },
  {
   "cell_type": "code",
   "execution_count": 134,
   "metadata": {
    "collapsed": false
   },
   "outputs": [
    {
     "data": {
      "text/plain": [
       "456"
      ]
     },
     "execution_count": 134,
     "metadata": {},
     "output_type": "execute_result"
    }
   ],
   "source": [
    "churn_hrs_3_months = churn_pattern_data.groupby(churn_pattern_data[\"Account Number \"])[\"Used pattern in hours\"].mean()\n",
    "len(churn_hrs_3_months)"
   ]
  },
  {
   "cell_type": "code",
   "execution_count": 135,
   "metadata": {
    "collapsed": false
   },
   "outputs": [
    {
     "data": {
      "text/plain": [
       "727.49000000000001"
      ]
     },
     "execution_count": 135,
     "metadata": {},
     "output_type": "execute_result"
    }
   ],
   "source": [
    "churn_hrs_range_3_months = np.max(churn_hrs_3_months) - np.min(churn_hrs_3_months)\n",
    "churn_hrs_range_3_months"
   ]
  },
  {
   "cell_type": "code",
   "execution_count": 136,
   "metadata": {
    "collapsed": false
   },
   "outputs": [
    {
     "data": {
      "text/plain": [
       "count    456.000000\n",
       "mean     540.759883\n",
       "std      164.439905\n",
       "min        1.080000\n",
       "25%      461.952500\n",
       "50%      590.406667\n",
       "75%      663.257500\n",
       "max      728.570000\n",
       "Name: Used pattern in hours, dtype: float64"
      ]
     },
     "execution_count": 136,
     "metadata": {},
     "output_type": "execute_result"
    }
   ],
   "source": [
    "churn_hrs_3_months.describe()"
   ]
  },
  {
   "cell_type": "markdown",
   "metadata": {},
   "source": [
    "### Churners hours post limit in last 3 months statistics"
   ]
  },
  {
   "cell_type": "code",
   "execution_count": 137,
   "metadata": {
    "collapsed": false
   },
   "outputs": [
    {
     "data": {
      "text/plain": [
       "Account Number \n",
       "M1055    45.000000\n",
       "M1062     0.000000\n",
       "M1109    38.666667\n",
       "M1128     0.000000\n",
       "M1156     0.000000\n",
       "Name: Usage Post Limit Utilization in hrs, dtype: float64"
      ]
     },
     "execution_count": 137,
     "metadata": {},
     "output_type": "execute_result"
    }
   ],
   "source": [
    "churn_post_hrs_3_months = churn_pattern_data.groupby(churn_pattern_data[\"Account Number \"])[\"Usage Post Limit Utilization in hrs\"].mean()\n",
    "churn_post_hrs_3_months.head()"
   ]
  },
  {
   "cell_type": "code",
   "execution_count": 138,
   "metadata": {
    "collapsed": false
   },
   "outputs": [
    {
     "data": {
      "text/plain": [
       "490.0"
      ]
     },
     "execution_count": 138,
     "metadata": {},
     "output_type": "execute_result"
    }
   ],
   "source": [
    "churn_post_hrs_range_3_months = np.max(churn_post_hrs_3_months) - np.min(churn_post_hrs_3_months)\n",
    "churn_post_hrs_range_3_months"
   ]
  },
  {
   "cell_type": "code",
   "execution_count": 139,
   "metadata": {
    "collapsed": false
   },
   "outputs": [
    {
     "data": {
      "text/plain": [
       "count    456.000000\n",
       "mean      65.053728\n",
       "std      104.223057\n",
       "min        0.000000\n",
       "25%        0.000000\n",
       "50%        0.000000\n",
       "75%       99.500000\n",
       "max      490.000000\n",
       "Name: Usage Post Limit Utilization in hrs, dtype: float64"
      ]
     },
     "execution_count": 139,
     "metadata": {},
     "output_type": "execute_result"
    }
   ],
   "source": [
    "churn_post_hrs_3_months.describe()"
   ]
  },
  {
   "cell_type": "markdown",
   "metadata": {},
   "source": [
    "### Non Churners used hrs statistics in last 3 months"
   ]
  },
  {
   "cell_type": "code",
   "execution_count": 140,
   "metadata": {
    "collapsed": false
   },
   "outputs": [
    {
     "data": {
      "text/plain": [
       "Account Number \n",
       "M1        671.666667\n",
       "M10       604.800000\n",
       "M100      694.143333\n",
       "M1000     412.490000\n",
       "M10000    689.690000\n",
       "Name: Used pattern in hours, dtype: float64"
      ]
     },
     "execution_count": 140,
     "metadata": {},
     "output_type": "execute_result"
    }
   ],
   "source": [
    "non_churn_hrs_3_months = non_churn_pattern_data.groupby(non_churn_pattern_data[\"Account Number \"])[\"Used pattern in hours\"].mean()\n",
    "non_churn_hrs_3_months.head()"
   ]
  },
  {
   "cell_type": "code",
   "execution_count": 141,
   "metadata": {
    "collapsed": false
   },
   "outputs": [
    {
     "data": {
      "text/plain": [
       "count    9181.000000\n",
       "mean      612.244067\n",
       "std       126.204761\n",
       "min         1.050000\n",
       "25%       585.320000\n",
       "50%       646.226667\n",
       "75%       692.310000\n",
       "max       729.393333\n",
       "Name: Used pattern in hours, dtype: float64"
      ]
     },
     "execution_count": 141,
     "metadata": {},
     "output_type": "execute_result"
    }
   ],
   "source": [
    "non_churn_hrs_3_months.describe()"
   ]
  },
  {
   "cell_type": "code",
   "execution_count": 143,
   "metadata": {
    "collapsed": false
   },
   "outputs": [
    {
     "data": {
      "text/plain": [
       "728.34"
      ]
     },
     "execution_count": 143,
     "metadata": {},
     "output_type": "execute_result"
    }
   ],
   "source": [
    "non_churn_hrs_range_3_months = 729.39-1.05\n",
    "non_churn_hrs_range_3_months"
   ]
  },
  {
   "cell_type": "markdown",
   "metadata": {},
   "source": [
    "### Non Churners post used hours statistics in last 3 months"
   ]
  },
  {
   "cell_type": "code",
   "execution_count": 145,
   "metadata": {
    "collapsed": false
   },
   "outputs": [
    {
     "data": {
      "text/plain": [
       "Account Number \n",
       "M1          0\n",
       "M10         0\n",
       "M100        0\n",
       "M1000       0\n",
       "M10000    199\n",
       "Name: Usage Post Limit Utilization in hrs, dtype: float64"
      ]
     },
     "execution_count": 145,
     "metadata": {},
     "output_type": "execute_result"
    }
   ],
   "source": [
    "non_churn_post_hrs_3_months = non_churn_pattern_data.groupby(non_churn_pattern_data[\"Account Number \"])[\"Usage Post Limit Utilization in hrs\"].mean()\n",
    "non_churn_post_hrs_3_months.head()"
   ]
  },
  {
   "cell_type": "code",
   "execution_count": 146,
   "metadata": {
    "collapsed": false
   },
   "outputs": [
    {
     "data": {
      "text/plain": [
       "count    9181.000000\n",
       "mean       54.243292\n",
       "std        97.346963\n",
       "min         0.000000\n",
       "25%         0.000000\n",
       "50%         0.000000\n",
       "75%        71.000000\n",
       "max       584.000000\n",
       "Name: Usage Post Limit Utilization in hrs, dtype: float64"
      ]
     },
     "execution_count": 146,
     "metadata": {},
     "output_type": "execute_result"
    }
   ],
   "source": [
    "non_churn_post_hrs_3_months.describe()"
   ]
  },
  {
   "cell_type": "code",
   "execution_count": null,
   "metadata": {
    "collapsed": true
   },
   "outputs": [],
   "source": []
  }
 ],
 "metadata": {
  "kernelspec": {
   "display_name": "Python 2",
   "language": "python",
   "name": "python2"
  },
  "language_info": {
   "codemirror_mode": {
    "name": "ipython",
    "version": 2
   },
   "file_extension": ".py",
   "mimetype": "text/x-python",
   "name": "python",
   "nbconvert_exporter": "python",
   "pygments_lexer": "ipython2",
   "version": "2.7.11"
  }
 },
 "nbformat": 4,
 "nbformat_minor": 0
}
