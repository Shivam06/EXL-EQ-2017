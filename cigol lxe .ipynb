{
 "cells": [
  {
   "cell_type": "code",
   "execution_count": 1,
   "metadata": {
    "collapsed": true
   },
   "outputs": [],
   "source": [
    "import pandas as pd\n",
    "import numpy as np\n",
    "import matplotlib.pyplot as plt"
   ]
  },
  {
   "cell_type": "code",
   "execution_count": 2,
   "metadata": {
    "collapsed": true
   },
   "outputs": [],
   "source": [
    "xls = pd.ExcelFile(r\"C:\\Users\\SHIVAM MAHAJAN\\Desktop\\Github\\EXL data\\Stage 1.EXL_EQ2017_Telecom_Data Set_Final Ver6.0.xlsx\")\n",
    "demo_data = xls.parse(0,parse_dates=True)"
   ]
  },
  {
   "cell_type": "code",
   "execution_count": 3,
   "metadata": {
    "collapsed": false
   },
   "outputs": [
    {
     "data": {
      "text/html": [
       "<div>\n",
       "<table border=\"1\" class=\"dataframe\">\n",
       "  <thead>\n",
       "    <tr style=\"text-align: right;\">\n",
       "      <th></th>\n",
       "      <th>Account Number</th>\n",
       "      <th>Commence Date</th>\n",
       "      <th>Address</th>\n",
       "      <th>Scheme</th>\n",
       "      <th>Staus</th>\n",
       "      <th>Gender</th>\n",
       "      <th>Region</th>\n",
       "      <th>Sale of Equipment Status</th>\n",
       "      <th>Age</th>\n",
       "      <th>Equipment Warranty</th>\n",
       "      <th>Salary Slab</th>\n",
       "      <th>Professional Info</th>\n",
       "      <th>Age of Home</th>\n",
       "      <th>Equipment Warranty Expiry Date</th>\n",
       "      <th>Churn Date</th>\n",
       "    </tr>\n",
       "  </thead>\n",
       "  <tbody>\n",
       "    <tr>\n",
       "      <th>0</th>\n",
       "      <td>M1</td>\n",
       "      <td>2011-11-04</td>\n",
       "      <td>VALID</td>\n",
       "      <td>KLA</td>\n",
       "      <td>Open</td>\n",
       "      <td>Female</td>\n",
       "      <td>Northern</td>\n",
       "      <td>RENTED</td>\n",
       "      <td>70</td>\n",
       "      <td>Three Full Years</td>\n",
       "      <td>5</td>\n",
       "      <td>0</td>\n",
       "      <td>17</td>\n",
       "      <td>2015-04-03</td>\n",
       "      <td>NaN</td>\n",
       "    </tr>\n",
       "    <tr>\n",
       "      <th>1</th>\n",
       "      <td>M2</td>\n",
       "      <td>2011-11-28</td>\n",
       "      <td>VALID</td>\n",
       "      <td>PPL</td>\n",
       "      <td>Open</td>\n",
       "      <td>Female</td>\n",
       "      <td>Western</td>\n",
       "      <td>RENTED</td>\n",
       "      <td>55</td>\n",
       "      <td>Three Full Years</td>\n",
       "      <td>7</td>\n",
       "      <td>0</td>\n",
       "      <td>22</td>\n",
       "      <td>2015-04-03</td>\n",
       "      <td>NaN</td>\n",
       "    </tr>\n",
       "    <tr>\n",
       "      <th>2</th>\n",
       "      <td>M3</td>\n",
       "      <td>2011-12-06</td>\n",
       "      <td>VALID</td>\n",
       "      <td>KLA</td>\n",
       "      <td>Open</td>\n",
       "      <td>Male</td>\n",
       "      <td>Eastern</td>\n",
       "      <td>RENTED</td>\n",
       "      <td>64</td>\n",
       "      <td>Three Full Years</td>\n",
       "      <td>1</td>\n",
       "      <td>5</td>\n",
       "      <td>17</td>\n",
       "      <td>2016-04-03</td>\n",
       "      <td>NaN</td>\n",
       "    </tr>\n",
       "    <tr>\n",
       "      <th>3</th>\n",
       "      <td>M4</td>\n",
       "      <td>2011-10-28</td>\n",
       "      <td>VALID</td>\n",
       "      <td>MXX</td>\n",
       "      <td>Open</td>\n",
       "      <td>Female</td>\n",
       "      <td>Northern</td>\n",
       "      <td>RENTED</td>\n",
       "      <td>66</td>\n",
       "      <td>Three Full Years</td>\n",
       "      <td>6</td>\n",
       "      <td>14</td>\n",
       "      <td>22</td>\n",
       "      <td>2015-04-03</td>\n",
       "      <td>NaN</td>\n",
       "    </tr>\n",
       "    <tr>\n",
       "      <th>4</th>\n",
       "      <td>M5</td>\n",
       "      <td>2015-01-18</td>\n",
       "      <td>VALID</td>\n",
       "      <td>PRP</td>\n",
       "      <td>Open</td>\n",
       "      <td>NaN</td>\n",
       "      <td>Western</td>\n",
       "      <td>RENTED</td>\n",
       "      <td>NaN</td>\n",
       "      <td>Full Year</td>\n",
       "      <td>NaN</td>\n",
       "      <td>NaN</td>\n",
       "      <td>NaN</td>\n",
       "      <td>2016-01-03</td>\n",
       "      <td>NaN</td>\n",
       "    </tr>\n",
       "  </tbody>\n",
       "</table>\n",
       "</div>"
      ],
      "text/plain": [
       "  Account Number Commence Date Address Scheme Staus  Gender   Region   \\\n",
       "0             M1    2011-11-04   VALID    KLA  Open  Female  Northern   \n",
       "1             M2    2011-11-28   VALID    PPL  Open  Female   Western   \n",
       "2             M3    2011-12-06   VALID    KLA  Open    Male   Eastern   \n",
       "3             M4    2011-10-28   VALID    MXX  Open  Female  Northern   \n",
       "4             M5    2015-01-18   VALID    PRP  Open     NaN   Western   \n",
       "\n",
       "   Sale of Equipment Status  Age Equipment Warranty  Salary Slab  \\\n",
       "0                    RENTED   70   Three Full Years            5   \n",
       "1                    RENTED   55   Three Full Years            7   \n",
       "2                    RENTED   64   Three Full Years            1   \n",
       "3                    RENTED   66   Three Full Years            6   \n",
       "4                    RENTED  NaN          Full Year          NaN   \n",
       "\n",
       "   Professional Info  Age of Home Equipment Warranty Expiry Date Churn Date  \n",
       "0                  0           17                     2015-04-03        NaN  \n",
       "1                  0           22                     2015-04-03        NaN  \n",
       "2                  5           17                     2016-04-03        NaN  \n",
       "3                 14           22                     2015-04-03        NaN  \n",
       "4                NaN          NaN                     2016-01-03        NaN  "
      ]
     },
     "execution_count": 3,
     "metadata": {},
     "output_type": "execute_result"
    }
   ],
   "source": [
    "demo_data.head()"
   ]
  },
  {
   "cell_type": "code",
   "execution_count": 4,
   "metadata": {
    "collapsed": false
   },
   "outputs": [
    {
     "data": {
      "text/plain": [
       "(14952, 15)"
      ]
     },
     "execution_count": 4,
     "metadata": {},
     "output_type": "execute_result"
    }
   ],
   "source": [
    "demo_data.shape"
   ]
  },
  {
   "cell_type": "markdown",
   "metadata": {
    "collapsed": false
   },
   "source": [
    "### Training and test data"
   ]
  },
  {
   "cell_type": "code",
   "execution_count": 5,
   "metadata": {
    "collapsed": true
   },
   "outputs": [],
   "source": [
    "def isModel(x):\n",
    "    return x.startswith(\"M\")"
   ]
  },
  {
   "cell_type": "code",
   "execution_count": 6,
   "metadata": {
    "collapsed": false
   },
   "outputs": [
    {
     "data": {
      "text/html": [
       "<div>\n",
       "<table border=\"1\" class=\"dataframe\">\n",
       "  <thead>\n",
       "    <tr style=\"text-align: right;\">\n",
       "      <th></th>\n",
       "      <th>Account Number</th>\n",
       "      <th>Commence Date</th>\n",
       "      <th>Address</th>\n",
       "      <th>Scheme</th>\n",
       "      <th>Staus</th>\n",
       "      <th>Gender</th>\n",
       "      <th>Region</th>\n",
       "      <th>Sale of Equipment Status</th>\n",
       "      <th>Age</th>\n",
       "      <th>Equipment Warranty</th>\n",
       "      <th>Salary Slab</th>\n",
       "      <th>Professional Info</th>\n",
       "      <th>Age of Home</th>\n",
       "      <th>Equipment Warranty Expiry Date</th>\n",
       "      <th>Churn Date</th>\n",
       "    </tr>\n",
       "  </thead>\n",
       "  <tbody>\n",
       "    <tr>\n",
       "      <th>9966</th>\n",
       "      <td>V1</td>\n",
       "      <td>2012-09-27</td>\n",
       "      <td>VALID</td>\n",
       "      <td>PWR</td>\n",
       "      <td>Open</td>\n",
       "      <td>NaN</td>\n",
       "      <td>Southern</td>\n",
       "      <td>RENTED</td>\n",
       "      <td>NaN</td>\n",
       "      <td>Three Full Years</td>\n",
       "      <td>NaN</td>\n",
       "      <td>NaN</td>\n",
       "      <td>NaN</td>\n",
       "      <td>2015-08-03</td>\n",
       "      <td>NaN</td>\n",
       "    </tr>\n",
       "    <tr>\n",
       "      <th>9967</th>\n",
       "      <td>V2</td>\n",
       "      <td>2012-01-26</td>\n",
       "      <td>VALID</td>\n",
       "      <td>PRS</td>\n",
       "      <td>Open</td>\n",
       "      <td>Female</td>\n",
       "      <td>Western</td>\n",
       "      <td>RENTED</td>\n",
       "      <td>71</td>\n",
       "      <td>Three Full Years</td>\n",
       "      <td>12</td>\n",
       "      <td>18</td>\n",
       "      <td>22</td>\n",
       "      <td>2016-08-03</td>\n",
       "      <td>NaN</td>\n",
       "    </tr>\n",
       "    <tr>\n",
       "      <th>9968</th>\n",
       "      <td>V3</td>\n",
       "      <td>2013-05-14</td>\n",
       "      <td>VALID</td>\n",
       "      <td>MXX</td>\n",
       "      <td>Open</td>\n",
       "      <td>Male</td>\n",
       "      <td>Eastern</td>\n",
       "      <td>BOUGHT</td>\n",
       "      <td>69</td>\n",
       "      <td>Three Full Years</td>\n",
       "      <td>9</td>\n",
       "      <td>8</td>\n",
       "      <td>22</td>\n",
       "      <td>2015-08-03</td>\n",
       "      <td>NaN</td>\n",
       "    </tr>\n",
       "    <tr>\n",
       "      <th>9969</th>\n",
       "      <td>V4</td>\n",
       "      <td>2011-10-12</td>\n",
       "      <td>VALID</td>\n",
       "      <td>PWM</td>\n",
       "      <td>Open</td>\n",
       "      <td>Male</td>\n",
       "      <td>Eastern</td>\n",
       "      <td>RENTED</td>\n",
       "      <td>71</td>\n",
       "      <td>Three Full Years</td>\n",
       "      <td>5</td>\n",
       "      <td>19</td>\n",
       "      <td>22</td>\n",
       "      <td>2015-07-30</td>\n",
       "      <td>NaN</td>\n",
       "    </tr>\n",
       "    <tr>\n",
       "      <th>9970</th>\n",
       "      <td>V5</td>\n",
       "      <td>2014-07-31</td>\n",
       "      <td>VALID</td>\n",
       "      <td>KLA</td>\n",
       "      <td>Open</td>\n",
       "      <td>Male</td>\n",
       "      <td>Northern</td>\n",
       "      <td>RENTED</td>\n",
       "      <td>61</td>\n",
       "      <td>Three Full Years</td>\n",
       "      <td>6</td>\n",
       "      <td>13</td>\n",
       "      <td>22</td>\n",
       "      <td>2016-07-15</td>\n",
       "      <td>NaN</td>\n",
       "    </tr>\n",
       "  </tbody>\n",
       "</table>\n",
       "</div>"
      ],
      "text/plain": [
       "     Account Number Commence Date Address Scheme Staus  Gender   Region   \\\n",
       "9966             V1    2012-09-27   VALID    PWR  Open     NaN  Southern   \n",
       "9967             V2    2012-01-26   VALID    PRS  Open  Female   Western   \n",
       "9968             V3    2013-05-14   VALID    MXX  Open    Male   Eastern   \n",
       "9969             V4    2011-10-12   VALID    PWM  Open    Male   Eastern   \n",
       "9970             V5    2014-07-31   VALID    KLA  Open    Male  Northern   \n",
       "\n",
       "      Sale of Equipment Status  Age Equipment Warranty  Salary Slab  \\\n",
       "9966                    RENTED  NaN   Three Full Years          NaN   \n",
       "9967                    RENTED   71   Three Full Years           12   \n",
       "9968                    BOUGHT   69   Three Full Years            9   \n",
       "9969                    RENTED   71   Three Full Years            5   \n",
       "9970                    RENTED   61   Three Full Years            6   \n",
       "\n",
       "      Professional Info  Age of Home Equipment Warranty Expiry Date Churn Date  \n",
       "9966                NaN          NaN                     2015-08-03        NaN  \n",
       "9967                 18           22                     2016-08-03        NaN  \n",
       "9968                  8           22                     2015-08-03        NaN  \n",
       "9969                 19           22                     2015-07-30        NaN  \n",
       "9970                 13           22                     2016-07-15        NaN  "
      ]
     },
     "execution_count": 6,
     "metadata": {},
     "output_type": "execute_result"
    }
   ],
   "source": [
    "a = demo_data[\"Account Number\"].apply(isModel)\n",
    "a = np.array(a)\n",
    "test_demo_data = demo_data[~a]\n",
    "demo_data = demo_data[a]\n",
    "test_demo_data.head()"
   ]
  },
  {
   "cell_type": "code",
   "execution_count": 7,
   "metadata": {
    "collapsed": true
   },
   "outputs": [],
   "source": [
    "train_acc = np.unique(demo_data[\"Account Number\"])\n",
    "test_acc = np.unique(test_demo_data[\"Account Number\"])"
   ]
  },
  {
   "cell_type": "code",
   "execution_count": 8,
   "metadata": {
    "collapsed": false
   },
   "outputs": [
    {
     "data": {
      "text/plain": [
       "(9966, 15)"
      ]
     },
     "execution_count": 8,
     "metadata": {},
     "output_type": "execute_result"
    }
   ],
   "source": [
    "demo_data.shape"
   ]
  },
  {
   "cell_type": "code",
   "execution_count": 9,
   "metadata": {
    "collapsed": false
   },
   "outputs": [
    {
     "data": {
      "text/plain": [
       "(4986, 15)"
      ]
     },
     "execution_count": 9,
     "metadata": {},
     "output_type": "execute_result"
    }
   ],
   "source": [
    "test_demo_data.shape"
   ]
  },
  {
   "cell_type": "markdown",
   "metadata": {},
   "source": [
    "### Splitting training demo data to Churners and Non Churners"
   ]
  },
  {
   "cell_type": "code",
   "execution_count": 10,
   "metadata": {
    "collapsed": false
   },
   "outputs": [
    {
     "data": {
      "text/plain": [
       "(506, 15)"
      ]
     },
     "execution_count": 10,
     "metadata": {},
     "output_type": "execute_result"
    }
   ],
   "source": [
    "churn_demo_data = demo_data[~demo_data[\"Churn Date\"].isnull()]\n",
    "churn_demo_data.shape"
   ]
  },
  {
   "cell_type": "code",
   "execution_count": 11,
   "metadata": {
    "collapsed": false
   },
   "outputs": [
    {
     "data": {
      "text/html": [
       "<div>\n",
       "<table border=\"1\" class=\"dataframe\">\n",
       "  <thead>\n",
       "    <tr style=\"text-align: right;\">\n",
       "      <th></th>\n",
       "      <th>Account Number</th>\n",
       "      <th>Commence Date</th>\n",
       "      <th>Address</th>\n",
       "      <th>Scheme</th>\n",
       "      <th>Staus</th>\n",
       "      <th>Gender</th>\n",
       "      <th>Region</th>\n",
       "      <th>Sale of Equipment Status</th>\n",
       "      <th>Age</th>\n",
       "      <th>Equipment Warranty</th>\n",
       "      <th>Salary Slab</th>\n",
       "      <th>Professional Info</th>\n",
       "      <th>Age of Home</th>\n",
       "      <th>Equipment Warranty Expiry Date</th>\n",
       "      <th>Churn Date</th>\n",
       "    </tr>\n",
       "  </thead>\n",
       "  <tbody>\n",
       "    <tr>\n",
       "      <th>51</th>\n",
       "      <td>M52</td>\n",
       "      <td>2012-04-04</td>\n",
       "      <td>VALID</td>\n",
       "      <td>PWR</td>\n",
       "      <td>Open</td>\n",
       "      <td>Female</td>\n",
       "      <td>Eastern</td>\n",
       "      <td>RENTED</td>\n",
       "      <td>71</td>\n",
       "      <td>Three Full Years</td>\n",
       "      <td>5</td>\n",
       "      <td>0</td>\n",
       "      <td>17</td>\n",
       "      <td>2015-03-29</td>\n",
       "      <td>2015-05-30 00:00:00</td>\n",
       "    </tr>\n",
       "    <tr>\n",
       "      <th>73</th>\n",
       "      <td>M74</td>\n",
       "      <td>2012-02-08</td>\n",
       "      <td>VALID</td>\n",
       "      <td>PWP</td>\n",
       "      <td>Open</td>\n",
       "      <td>Male</td>\n",
       "      <td>Eastern</td>\n",
       "      <td>BOUGHT</td>\n",
       "      <td>59</td>\n",
       "      <td>Three Full Years</td>\n",
       "      <td>5</td>\n",
       "      <td>0</td>\n",
       "      <td>12</td>\n",
       "      <td>2015-03-25</td>\n",
       "      <td>2015-05-23 00:00:00</td>\n",
       "    </tr>\n",
       "    <tr>\n",
       "      <th>76</th>\n",
       "      <td>M77</td>\n",
       "      <td>2013-03-02</td>\n",
       "      <td>INVALID</td>\n",
       "      <td>PWR</td>\n",
       "      <td>Open</td>\n",
       "      <td>Female</td>\n",
       "      <td>Western</td>\n",
       "      <td>Second Hand</td>\n",
       "      <td>59</td>\n",
       "      <td>Three Full Years</td>\n",
       "      <td>6</td>\n",
       "      <td>0</td>\n",
       "      <td>22</td>\n",
       "      <td>2015-04-03</td>\n",
       "      <td>2015-05-01 00:00:00</td>\n",
       "    </tr>\n",
       "    <tr>\n",
       "      <th>79</th>\n",
       "      <td>M80</td>\n",
       "      <td>2012-01-19</td>\n",
       "      <td>VALID</td>\n",
       "      <td>PWM</td>\n",
       "      <td>Open</td>\n",
       "      <td>Female</td>\n",
       "      <td>Eastern</td>\n",
       "      <td>BOUGHT</td>\n",
       "      <td>51</td>\n",
       "      <td>Three Full Years</td>\n",
       "      <td>4</td>\n",
       "      <td>10</td>\n",
       "      <td>12</td>\n",
       "      <td>2015-03-29</td>\n",
       "      <td>2015-05-27 00:00:00</td>\n",
       "    </tr>\n",
       "    <tr>\n",
       "      <th>92</th>\n",
       "      <td>M93</td>\n",
       "      <td>2012-02-22</td>\n",
       "      <td>VALID</td>\n",
       "      <td>PWM</td>\n",
       "      <td>Open</td>\n",
       "      <td>Female</td>\n",
       "      <td>Eastern</td>\n",
       "      <td>BOUGHT</td>\n",
       "      <td>55</td>\n",
       "      <td>Three Full Years</td>\n",
       "      <td>4</td>\n",
       "      <td>0</td>\n",
       "      <td>17</td>\n",
       "      <td>2015-03-07</td>\n",
       "      <td>2015-04-05 00:00:00</td>\n",
       "    </tr>\n",
       "  </tbody>\n",
       "</table>\n",
       "</div>"
      ],
      "text/plain": [
       "   Account Number Commence Date  Address Scheme Staus  Gender  Region   \\\n",
       "51            M52    2012-04-04    VALID    PWR  Open  Female  Eastern   \n",
       "73            M74    2012-02-08    VALID    PWP  Open    Male  Eastern   \n",
       "76            M77    2013-03-02  INVALID    PWR  Open  Female  Western   \n",
       "79            M80    2012-01-19    VALID    PWM  Open  Female  Eastern   \n",
       "92            M93    2012-02-22    VALID    PWM  Open  Female  Eastern   \n",
       "\n",
       "    Sale of Equipment Status  Age Equipment Warranty  Salary Slab  \\\n",
       "51                    RENTED   71   Three Full Years            5   \n",
       "73                    BOUGHT   59   Three Full Years            5   \n",
       "76               Second Hand   59   Three Full Years            6   \n",
       "79                    BOUGHT   51   Three Full Years            4   \n",
       "92                    BOUGHT   55   Three Full Years            4   \n",
       "\n",
       "    Professional Info  Age of Home Equipment Warranty Expiry Date  \\\n",
       "51                  0           17                     2015-03-29   \n",
       "73                  0           12                     2015-03-25   \n",
       "76                  0           22                     2015-04-03   \n",
       "79                 10           12                     2015-03-29   \n",
       "92                  0           17                     2015-03-07   \n",
       "\n",
       "             Churn Date  \n",
       "51  2015-05-30 00:00:00  \n",
       "73  2015-05-23 00:00:00  \n",
       "76  2015-05-01 00:00:00  \n",
       "79  2015-05-27 00:00:00  \n",
       "92  2015-04-05 00:00:00  "
      ]
     },
     "execution_count": 11,
     "metadata": {},
     "output_type": "execute_result"
    }
   ],
   "source": [
    "churn_demo_data.head()"
   ]
  },
  {
   "cell_type": "code",
   "execution_count": 12,
   "metadata": {
    "collapsed": false
   },
   "outputs": [
    {
     "data": {
      "text/plain": [
       "506"
      ]
     },
     "execution_count": 12,
     "metadata": {},
     "output_type": "execute_result"
    }
   ],
   "source": [
    "churn_acc_num = np.unique(churn_demo_data[\"Account Number\"])\n",
    "len(churn_acc_num)"
   ]
  },
  {
   "cell_type": "code",
   "execution_count": 13,
   "metadata": {
    "collapsed": false
   },
   "outputs": [
    {
     "data": {
      "text/html": [
       "<div>\n",
       "<table border=\"1\" class=\"dataframe\">\n",
       "  <thead>\n",
       "    <tr style=\"text-align: right;\">\n",
       "      <th></th>\n",
       "      <th>Account Number</th>\n",
       "      <th>Commence Date</th>\n",
       "      <th>Address</th>\n",
       "      <th>Scheme</th>\n",
       "      <th>Staus</th>\n",
       "      <th>Gender</th>\n",
       "      <th>Region</th>\n",
       "      <th>Sale of Equipment Status</th>\n",
       "      <th>Age</th>\n",
       "      <th>Equipment Warranty</th>\n",
       "      <th>Salary Slab</th>\n",
       "      <th>Professional Info</th>\n",
       "      <th>Age of Home</th>\n",
       "      <th>Equipment Warranty Expiry Date</th>\n",
       "      <th>Churn Date</th>\n",
       "    </tr>\n",
       "  </thead>\n",
       "  <tbody>\n",
       "    <tr>\n",
       "      <th>0</th>\n",
       "      <td>M1</td>\n",
       "      <td>2011-11-04</td>\n",
       "      <td>VALID</td>\n",
       "      <td>KLA</td>\n",
       "      <td>Open</td>\n",
       "      <td>Female</td>\n",
       "      <td>Northern</td>\n",
       "      <td>RENTED</td>\n",
       "      <td>70</td>\n",
       "      <td>Three Full Years</td>\n",
       "      <td>5</td>\n",
       "      <td>0</td>\n",
       "      <td>17</td>\n",
       "      <td>2015-04-03</td>\n",
       "      <td>NaN</td>\n",
       "    </tr>\n",
       "    <tr>\n",
       "      <th>1</th>\n",
       "      <td>M2</td>\n",
       "      <td>2011-11-28</td>\n",
       "      <td>VALID</td>\n",
       "      <td>PPL</td>\n",
       "      <td>Open</td>\n",
       "      <td>Female</td>\n",
       "      <td>Western</td>\n",
       "      <td>RENTED</td>\n",
       "      <td>55</td>\n",
       "      <td>Three Full Years</td>\n",
       "      <td>7</td>\n",
       "      <td>0</td>\n",
       "      <td>22</td>\n",
       "      <td>2015-04-03</td>\n",
       "      <td>NaN</td>\n",
       "    </tr>\n",
       "    <tr>\n",
       "      <th>2</th>\n",
       "      <td>M3</td>\n",
       "      <td>2011-12-06</td>\n",
       "      <td>VALID</td>\n",
       "      <td>KLA</td>\n",
       "      <td>Open</td>\n",
       "      <td>Male</td>\n",
       "      <td>Eastern</td>\n",
       "      <td>RENTED</td>\n",
       "      <td>64</td>\n",
       "      <td>Three Full Years</td>\n",
       "      <td>1</td>\n",
       "      <td>5</td>\n",
       "      <td>17</td>\n",
       "      <td>2016-04-03</td>\n",
       "      <td>NaN</td>\n",
       "    </tr>\n",
       "    <tr>\n",
       "      <th>3</th>\n",
       "      <td>M4</td>\n",
       "      <td>2011-10-28</td>\n",
       "      <td>VALID</td>\n",
       "      <td>MXX</td>\n",
       "      <td>Open</td>\n",
       "      <td>Female</td>\n",
       "      <td>Northern</td>\n",
       "      <td>RENTED</td>\n",
       "      <td>66</td>\n",
       "      <td>Three Full Years</td>\n",
       "      <td>6</td>\n",
       "      <td>14</td>\n",
       "      <td>22</td>\n",
       "      <td>2015-04-03</td>\n",
       "      <td>NaN</td>\n",
       "    </tr>\n",
       "    <tr>\n",
       "      <th>4</th>\n",
       "      <td>M5</td>\n",
       "      <td>2015-01-18</td>\n",
       "      <td>VALID</td>\n",
       "      <td>PRP</td>\n",
       "      <td>Open</td>\n",
       "      <td>NaN</td>\n",
       "      <td>Western</td>\n",
       "      <td>RENTED</td>\n",
       "      <td>NaN</td>\n",
       "      <td>Full Year</td>\n",
       "      <td>NaN</td>\n",
       "      <td>NaN</td>\n",
       "      <td>NaN</td>\n",
       "      <td>2016-01-03</td>\n",
       "      <td>NaN</td>\n",
       "    </tr>\n",
       "  </tbody>\n",
       "</table>\n",
       "</div>"
      ],
      "text/plain": [
       "  Account Number Commence Date Address Scheme Staus  Gender   Region   \\\n",
       "0             M1    2011-11-04   VALID    KLA  Open  Female  Northern   \n",
       "1             M2    2011-11-28   VALID    PPL  Open  Female   Western   \n",
       "2             M3    2011-12-06   VALID    KLA  Open    Male   Eastern   \n",
       "3             M4    2011-10-28   VALID    MXX  Open  Female  Northern   \n",
       "4             M5    2015-01-18   VALID    PRP  Open     NaN   Western   \n",
       "\n",
       "   Sale of Equipment Status  Age Equipment Warranty  Salary Slab  \\\n",
       "0                    RENTED   70   Three Full Years            5   \n",
       "1                    RENTED   55   Three Full Years            7   \n",
       "2                    RENTED   64   Three Full Years            1   \n",
       "3                    RENTED   66   Three Full Years            6   \n",
       "4                    RENTED  NaN          Full Year          NaN   \n",
       "\n",
       "   Professional Info  Age of Home Equipment Warranty Expiry Date Churn Date  \n",
       "0                  0           17                     2015-04-03        NaN  \n",
       "1                  0           22                     2015-04-03        NaN  \n",
       "2                  5           17                     2016-04-03        NaN  \n",
       "3                 14           22                     2015-04-03        NaN  \n",
       "4                NaN          NaN                     2016-01-03        NaN  "
      ]
     },
     "execution_count": 13,
     "metadata": {},
     "output_type": "execute_result"
    }
   ],
   "source": [
    "non_churn_demo_data = demo_data[demo_data[\"Churn Date\"].isnull()]\n",
    "non_churn_demo_data.head()"
   ]
  },
  {
   "cell_type": "code",
   "execution_count": 14,
   "metadata": {
    "collapsed": false
   },
   "outputs": [
    {
     "data": {
      "text/plain": [
       "(4986, 15)"
      ]
     },
     "execution_count": 14,
     "metadata": {},
     "output_type": "execute_result"
    }
   ],
   "source": [
    "test_non_churn_demo_data = test_demo_data[test_demo_data[\"Churn Date\"].isnull()]\n",
    "test_non_churn_demo_data.shape"
   ]
  },
  {
   "cell_type": "code",
   "execution_count": 15,
   "metadata": {
    "collapsed": false
   },
   "outputs": [
    {
     "data": {
      "text/plain": [
       "9460"
      ]
     },
     "execution_count": 15,
     "metadata": {},
     "output_type": "execute_result"
    }
   ],
   "source": [
    "non_churn_acc_num = np.unique(non_churn_demo_data[\"Account Number\"])\n",
    "len(non_churn_acc_num)"
   ]
  },
  {
   "cell_type": "code",
   "execution_count": 16,
   "metadata": {
    "collapsed": false
   },
   "outputs": [
    {
     "data": {
      "text/html": [
       "<div>\n",
       "<table border=\"1\" class=\"dataframe\">\n",
       "  <thead>\n",
       "    <tr style=\"text-align: right;\">\n",
       "      <th></th>\n",
       "      <th>Account Number</th>\n",
       "      <th>Used pattern in hours</th>\n",
       "      <th>Usage Post Limit Utilization in hrs</th>\n",
       "      <th>data used Gb</th>\n",
       "      <th>YYYYMM</th>\n",
       "    </tr>\n",
       "  </thead>\n",
       "  <tbody>\n",
       "    <tr>\n",
       "      <th>0</th>\n",
       "      <td>M1</td>\n",
       "      <td>717.90</td>\n",
       "      <td>0</td>\n",
       "      <td>43.80</td>\n",
       "      <td>201501</td>\n",
       "    </tr>\n",
       "    <tr>\n",
       "      <th>1</th>\n",
       "      <td>M1</td>\n",
       "      <td>662.42</td>\n",
       "      <td>0</td>\n",
       "      <td>110.35</td>\n",
       "      <td>201502</td>\n",
       "    </tr>\n",
       "    <tr>\n",
       "      <th>2</th>\n",
       "      <td>M1</td>\n",
       "      <td>634.68</td>\n",
       "      <td>0</td>\n",
       "      <td>109.10</td>\n",
       "      <td>201503</td>\n",
       "    </tr>\n",
       "    <tr>\n",
       "      <th>3</th>\n",
       "      <td>M2</td>\n",
       "      <td>696.12</td>\n",
       "      <td>5</td>\n",
       "      <td>98.40</td>\n",
       "      <td>201501</td>\n",
       "    </tr>\n",
       "    <tr>\n",
       "      <th>4</th>\n",
       "      <td>M2</td>\n",
       "      <td>652.40</td>\n",
       "      <td>0</td>\n",
       "      <td>70.90</td>\n",
       "      <td>201502</td>\n",
       "    </tr>\n",
       "  </tbody>\n",
       "</table>\n",
       "</div>"
      ],
      "text/plain": [
       "  Account Number   Used pattern in hours  Usage Post Limit Utilization in hrs  \\\n",
       "0              M1                 717.90                                    0   \n",
       "1              M1                 662.42                                    0   \n",
       "2              M1                 634.68                                    0   \n",
       "3              M2                 696.12                                    5   \n",
       "4              M2                 652.40                                    0   \n",
       "\n",
       "   data used Gb  YYYYMM  \n",
       "0         43.80  201501  \n",
       "1        110.35  201502  \n",
       "2        109.10  201503  \n",
       "3         98.40  201501  \n",
       "4         70.90  201502  "
      ]
     },
     "execution_count": 16,
     "metadata": {},
     "output_type": "execute_result"
    }
   ],
   "source": [
    "pattern_data = xls.parse(4)\n",
    "pattern_data.head()"
   ]
  },
  {
   "cell_type": "code",
   "execution_count": 17,
   "metadata": {
    "collapsed": false
   },
   "outputs": [
    {
     "data": {
      "text/html": [
       "<div>\n",
       "<table border=\"1\" class=\"dataframe\">\n",
       "  <thead>\n",
       "    <tr style=\"text-align: right;\">\n",
       "      <th></th>\n",
       "      <th>Account Number</th>\n",
       "      <th>Used pattern in hours</th>\n",
       "      <th>Usage Post Limit Utilization in hrs</th>\n",
       "      <th>data used Gb</th>\n",
       "      <th>YYYYMM</th>\n",
       "    </tr>\n",
       "  </thead>\n",
       "  <tbody>\n",
       "    <tr>\n",
       "      <th>27703</th>\n",
       "      <td>V1</td>\n",
       "      <td>400.52</td>\n",
       "      <td>0</td>\n",
       "      <td>78.15</td>\n",
       "      <td>201505</td>\n",
       "    </tr>\n",
       "    <tr>\n",
       "      <th>27704</th>\n",
       "      <td>V1</td>\n",
       "      <td>587.93</td>\n",
       "      <td>0</td>\n",
       "      <td>37.30</td>\n",
       "      <td>201506</td>\n",
       "    </tr>\n",
       "    <tr>\n",
       "      <th>27705</th>\n",
       "      <td>V1</td>\n",
       "      <td>647.40</td>\n",
       "      <td>0</td>\n",
       "      <td>115.00</td>\n",
       "      <td>201507</td>\n",
       "    </tr>\n",
       "    <tr>\n",
       "      <th>27706</th>\n",
       "      <td>V2</td>\n",
       "      <td>699.75</td>\n",
       "      <td>232</td>\n",
       "      <td>226.30</td>\n",
       "      <td>201505</td>\n",
       "    </tr>\n",
       "    <tr>\n",
       "      <th>27707</th>\n",
       "      <td>V2</td>\n",
       "      <td>658.43</td>\n",
       "      <td>35</td>\n",
       "      <td>119.10</td>\n",
       "      <td>201506</td>\n",
       "    </tr>\n",
       "  </tbody>\n",
       "</table>\n",
       "</div>"
      ],
      "text/plain": [
       "      Account Number   Used pattern in hours  \\\n",
       "27703              V1                 400.52   \n",
       "27704              V1                 587.93   \n",
       "27705              V1                 647.40   \n",
       "27706              V2                 699.75   \n",
       "27707              V2                 658.43   \n",
       "\n",
       "       Usage Post Limit Utilization in hrs  data used Gb  YYYYMM  \n",
       "27703                                    0         78.15  201505  \n",
       "27704                                    0         37.30  201506  \n",
       "27705                                    0        115.00  201507  \n",
       "27706                                  232        226.30  201505  \n",
       "27707                                   35        119.10  201506  "
      ]
     },
     "execution_count": 17,
     "metadata": {},
     "output_type": "execute_result"
    }
   ],
   "source": [
    "test_pattern_data = pattern_data[pattern_data[\"Account Number \"].isin(test_acc)]\n",
    "test_pattern_data.head()"
   ]
  },
  {
   "cell_type": "code",
   "execution_count": 18,
   "metadata": {
    "collapsed": false
   },
   "outputs": [
    {
     "data": {
      "text/html": [
       "<div>\n",
       "<table border=\"1\" class=\"dataframe\">\n",
       "  <thead>\n",
       "    <tr style=\"text-align: right;\">\n",
       "      <th></th>\n",
       "      <th>Account Number</th>\n",
       "      <th>Used pattern in hours</th>\n",
       "      <th>Usage Post Limit Utilization in hrs</th>\n",
       "      <th>data used Gb</th>\n",
       "      <th>YYYYMM</th>\n",
       "    </tr>\n",
       "  </thead>\n",
       "  <tbody>\n",
       "    <tr>\n",
       "      <th>0</th>\n",
       "      <td>M1</td>\n",
       "      <td>717.90</td>\n",
       "      <td>0</td>\n",
       "      <td>43.80</td>\n",
       "      <td>201501</td>\n",
       "    </tr>\n",
       "    <tr>\n",
       "      <th>1</th>\n",
       "      <td>M1</td>\n",
       "      <td>662.42</td>\n",
       "      <td>0</td>\n",
       "      <td>110.35</td>\n",
       "      <td>201502</td>\n",
       "    </tr>\n",
       "    <tr>\n",
       "      <th>2</th>\n",
       "      <td>M1</td>\n",
       "      <td>634.68</td>\n",
       "      <td>0</td>\n",
       "      <td>109.10</td>\n",
       "      <td>201503</td>\n",
       "    </tr>\n",
       "    <tr>\n",
       "      <th>3</th>\n",
       "      <td>M2</td>\n",
       "      <td>696.12</td>\n",
       "      <td>5</td>\n",
       "      <td>98.40</td>\n",
       "      <td>201501</td>\n",
       "    </tr>\n",
       "    <tr>\n",
       "      <th>4</th>\n",
       "      <td>M2</td>\n",
       "      <td>652.40</td>\n",
       "      <td>0</td>\n",
       "      <td>70.90</td>\n",
       "      <td>201502</td>\n",
       "    </tr>\n",
       "  </tbody>\n",
       "</table>\n",
       "</div>"
      ],
      "text/plain": [
       "  Account Number   Used pattern in hours  Usage Post Limit Utilization in hrs  \\\n",
       "0              M1                 717.90                                    0   \n",
       "1              M1                 662.42                                    0   \n",
       "2              M1                 634.68                                    0   \n",
       "3              M2                 696.12                                    5   \n",
       "4              M2                 652.40                                    0   \n",
       "\n",
       "   data used Gb  YYYYMM  \n",
       "0         43.80  201501  \n",
       "1        110.35  201502  \n",
       "2        109.10  201503  \n",
       "3         98.40  201501  \n",
       "4         70.90  201502  "
      ]
     },
     "execution_count": 18,
     "metadata": {},
     "output_type": "execute_result"
    }
   ],
   "source": [
    "pattern_data = pattern_data[pattern_data[\"Account Number \"].isin(train_acc)]\n",
    "pattern_data.head()"
   ]
  },
  {
   "cell_type": "code",
   "execution_count": 19,
   "metadata": {
    "collapsed": false
   },
   "outputs": [
    {
     "data": {
      "text/html": [
       "<div>\n",
       "<table border=\"1\" class=\"dataframe\">\n",
       "  <thead>\n",
       "    <tr style=\"text-align: right;\">\n",
       "      <th></th>\n",
       "      <th>Account Number</th>\n",
       "      <th>Used pattern in hours</th>\n",
       "      <th>Usage Post Limit Utilization in hrs</th>\n",
       "      <th>data used Gb</th>\n",
       "      <th>YYYYMM</th>\n",
       "    </tr>\n",
       "  </thead>\n",
       "  <tbody>\n",
       "    <tr>\n",
       "      <th>140</th>\n",
       "      <td>M52</td>\n",
       "      <td>742.72</td>\n",
       "      <td>0</td>\n",
       "      <td>18.55</td>\n",
       "      <td>201501</td>\n",
       "    </tr>\n",
       "    <tr>\n",
       "      <th>141</th>\n",
       "      <td>M52</td>\n",
       "      <td>694.60</td>\n",
       "      <td>0</td>\n",
       "      <td>11.15</td>\n",
       "      <td>201502</td>\n",
       "    </tr>\n",
       "    <tr>\n",
       "      <th>142</th>\n",
       "      <td>M52</td>\n",
       "      <td>709.87</td>\n",
       "      <td>0</td>\n",
       "      <td>8.45</td>\n",
       "      <td>201503</td>\n",
       "    </tr>\n",
       "    <tr>\n",
       "      <th>205</th>\n",
       "      <td>M74</td>\n",
       "      <td>613.13</td>\n",
       "      <td>31</td>\n",
       "      <td>209.60</td>\n",
       "      <td>201501</td>\n",
       "    </tr>\n",
       "    <tr>\n",
       "      <th>206</th>\n",
       "      <td>M74</td>\n",
       "      <td>523.20</td>\n",
       "      <td>0</td>\n",
       "      <td>182.75</td>\n",
       "      <td>201502</td>\n",
       "    </tr>\n",
       "  </tbody>\n",
       "</table>\n",
       "</div>"
      ],
      "text/plain": [
       "    Account Number   Used pattern in hours  \\\n",
       "140             M52                 742.72   \n",
       "141             M52                 694.60   \n",
       "142             M52                 709.87   \n",
       "205             M74                 613.13   \n",
       "206             M74                 523.20   \n",
       "\n",
       "     Usage Post Limit Utilization in hrs  data used Gb  YYYYMM  \n",
       "140                                    0         18.55  201501  \n",
       "141                                    0         11.15  201502  \n",
       "142                                    0          8.45  201503  \n",
       "205                                   31        209.60  201501  \n",
       "206                                    0        182.75  201502  "
      ]
     },
     "execution_count": 19,
     "metadata": {},
     "output_type": "execute_result"
    }
   ],
   "source": [
    "churn_pattern_data = pattern_data[pattern_data[\"Account Number \"].isin(churn_acc_num)]\n",
    "churn_pattern_data.head()"
   ]
  },
  {
   "cell_type": "code",
   "execution_count": 20,
   "metadata": {
    "collapsed": false
   },
   "outputs": [
    {
     "data": {
      "text/html": [
       "<div>\n",
       "<table border=\"1\" class=\"dataframe\">\n",
       "  <thead>\n",
       "    <tr style=\"text-align: right;\">\n",
       "      <th></th>\n",
       "      <th>Account Number</th>\n",
       "      <th>Used pattern in hours</th>\n",
       "      <th>Usage Post Limit Utilization in hrs</th>\n",
       "      <th>data used Gb</th>\n",
       "      <th>YYYYMM</th>\n",
       "    </tr>\n",
       "  </thead>\n",
       "  <tbody>\n",
       "    <tr>\n",
       "      <th>0</th>\n",
       "      <td>M1</td>\n",
       "      <td>717.90</td>\n",
       "      <td>0</td>\n",
       "      <td>43.80</td>\n",
       "      <td>201501</td>\n",
       "    </tr>\n",
       "    <tr>\n",
       "      <th>1</th>\n",
       "      <td>M1</td>\n",
       "      <td>662.42</td>\n",
       "      <td>0</td>\n",
       "      <td>110.35</td>\n",
       "      <td>201502</td>\n",
       "    </tr>\n",
       "    <tr>\n",
       "      <th>2</th>\n",
       "      <td>M1</td>\n",
       "      <td>634.68</td>\n",
       "      <td>0</td>\n",
       "      <td>109.10</td>\n",
       "      <td>201503</td>\n",
       "    </tr>\n",
       "    <tr>\n",
       "      <th>3</th>\n",
       "      <td>M2</td>\n",
       "      <td>696.12</td>\n",
       "      <td>5</td>\n",
       "      <td>98.40</td>\n",
       "      <td>201501</td>\n",
       "    </tr>\n",
       "    <tr>\n",
       "      <th>4</th>\n",
       "      <td>M2</td>\n",
       "      <td>652.40</td>\n",
       "      <td>0</td>\n",
       "      <td>70.90</td>\n",
       "      <td>201502</td>\n",
       "    </tr>\n",
       "  </tbody>\n",
       "</table>\n",
       "</div>"
      ],
      "text/plain": [
       "  Account Number   Used pattern in hours  Usage Post Limit Utilization in hrs  \\\n",
       "0              M1                 717.90                                    0   \n",
       "1              M1                 662.42                                    0   \n",
       "2              M1                 634.68                                    0   \n",
       "3              M2                 696.12                                    5   \n",
       "4              M2                 652.40                                    0   \n",
       "\n",
       "   data used Gb  YYYYMM  \n",
       "0         43.80  201501  \n",
       "1        110.35  201502  \n",
       "2        109.10  201503  \n",
       "3         98.40  201501  \n",
       "4         70.90  201502  "
      ]
     },
     "execution_count": 20,
     "metadata": {},
     "output_type": "execute_result"
    }
   ],
   "source": [
    "non_churn_pattern_data = pattern_data[~pattern_data[\"Account Number \"].isin(churn_acc_num)]\n",
    "non_churn_pattern_data.head()"
   ]
  },
  {
   "cell_type": "markdown",
   "metadata": {},
   "source": [
    "### Data processing - Missing value"
   ]
  },
  {
   "cell_type": "code",
   "execution_count": 21,
   "metadata": {
    "collapsed": false
   },
   "outputs": [
    {
     "data": {
      "text/plain": [
       "Account Number                         0\n",
       "Used pattern in hours                  0\n",
       "Usage Post Limit Utilization in hrs    0\n",
       "data used Gb                           0\n",
       "YYYYMM                                 0\n",
       "dtype: int64"
      ]
     },
     "execution_count": 21,
     "metadata": {},
     "output_type": "execute_result"
    }
   ],
   "source": [
    "churn_pattern_data.isnull().sum()"
   ]
  },
  {
   "cell_type": "code",
   "execution_count": 22,
   "metadata": {
    "collapsed": false
   },
   "outputs": [
    {
     "data": {
      "text/plain": [
       "Account Number                         0\n",
       "Used pattern in hours                  0\n",
       "Usage Post Limit Utilization in hrs    0\n",
       "data used Gb                           0\n",
       "YYYYMM                                 0\n",
       "dtype: int64"
      ]
     },
     "execution_count": 22,
     "metadata": {},
     "output_type": "execute_result"
    }
   ],
   "source": [
    "non_churn_pattern_data.isnull().sum()"
   ]
  },
  {
   "cell_type": "code",
   "execution_count": 23,
   "metadata": {
    "collapsed": false
   },
   "outputs": [
    {
     "data": {
      "text/plain": [
       "Account Number                      0\n",
       "Commence Date                       0\n",
       "Address                            36\n",
       "Scheme                              0\n",
       "Staus                               0\n",
       "Gender                             93\n",
       "Region                              0\n",
       " Sale of Equipment Status           0\n",
       "Age                               135\n",
       "Equipment Warranty                141\n",
       "Salary Slab                        90\n",
       "Professional Info                  90\n",
       "Age of Home                        90\n",
       "Equipment Warranty Expiry Date    141\n",
       "Churn Date                          0\n",
       "dtype: int64"
      ]
     },
     "execution_count": 23,
     "metadata": {},
     "output_type": "execute_result"
    }
   ],
   "source": [
    "churn_demo_data.isnull().sum()"
   ]
  },
  {
   "cell_type": "markdown",
   "metadata": {},
   "source": [
    "### Churners used hrs statistics in last 3 months"
   ]
  },
  {
   "cell_type": "code",
   "execution_count": 24,
   "metadata": {
    "collapsed": false
   },
   "outputs": [
    {
     "data": {
      "text/plain": [
       "456"
      ]
     },
     "execution_count": 24,
     "metadata": {},
     "output_type": "execute_result"
    }
   ],
   "source": [
    "churn_hrs_3_months = churn_pattern_data.groupby(churn_pattern_data[\"Account Number \"])[\"Used pattern in hours\"].mean()\n",
    "len(churn_hrs_3_months)"
   ]
  },
  {
   "cell_type": "code",
   "execution_count": 25,
   "metadata": {
    "collapsed": false
   },
   "outputs": [
    {
     "data": {
      "text/plain": [
       "727.49000000000001"
      ]
     },
     "execution_count": 25,
     "metadata": {},
     "output_type": "execute_result"
    }
   ],
   "source": [
    "churn_hrs_range_3_months = np.max(churn_hrs_3_months) - np.min(churn_hrs_3_months)\n",
    "churn_hrs_range_3_months"
   ]
  },
  {
   "cell_type": "code",
   "execution_count": 26,
   "metadata": {
    "collapsed": false
   },
   "outputs": [
    {
     "data": {
      "text/plain": [
       "count    456.000000\n",
       "mean     540.759883\n",
       "std      164.439905\n",
       "min        1.080000\n",
       "25%      461.952500\n",
       "50%      590.406667\n",
       "75%      663.257500\n",
       "max      728.570000\n",
       "Name: Used pattern in hours, dtype: float64"
      ]
     },
     "execution_count": 26,
     "metadata": {},
     "output_type": "execute_result"
    }
   ],
   "source": [
    "churn_hrs_3_months.describe()"
   ]
  },
  {
   "cell_type": "markdown",
   "metadata": {},
   "source": [
    "### Churners hours post limit in last 3 months statistics"
   ]
  },
  {
   "cell_type": "code",
   "execution_count": 27,
   "metadata": {
    "collapsed": false
   },
   "outputs": [
    {
     "data": {
      "text/plain": [
       "Account Number \n",
       "M1055    45.000000\n",
       "M1062     0.000000\n",
       "M1109    38.666667\n",
       "M1128     0.000000\n",
       "M1156     0.000000\n",
       "Name: Usage Post Limit Utilization in hrs, dtype: float64"
      ]
     },
     "execution_count": 27,
     "metadata": {},
     "output_type": "execute_result"
    }
   ],
   "source": [
    "churn_post_hrs_3_months = churn_pattern_data.groupby(churn_pattern_data[\"Account Number \"])[\"Usage Post Limit Utilization in hrs\"].mean()\n",
    "churn_post_hrs_3_months.head()"
   ]
  },
  {
   "cell_type": "code",
   "execution_count": 28,
   "metadata": {
    "collapsed": false
   },
   "outputs": [
    {
     "data": {
      "text/plain": [
       "490.0"
      ]
     },
     "execution_count": 28,
     "metadata": {},
     "output_type": "execute_result"
    }
   ],
   "source": [
    "churn_post_hrs_range_3_months = np.max(churn_post_hrs_3_months) - np.min(churn_post_hrs_3_months)\n",
    "churn_post_hrs_range_3_months"
   ]
  },
  {
   "cell_type": "code",
   "execution_count": 29,
   "metadata": {
    "collapsed": false
   },
   "outputs": [
    {
     "data": {
      "text/plain": [
       "count    456.000000\n",
       "mean      65.053728\n",
       "std      104.223057\n",
       "min        0.000000\n",
       "25%        0.000000\n",
       "50%        0.000000\n",
       "75%       99.500000\n",
       "max      490.000000\n",
       "Name: Usage Post Limit Utilization in hrs, dtype: float64"
      ]
     },
     "execution_count": 29,
     "metadata": {},
     "output_type": "execute_result"
    }
   ],
   "source": [
    "churn_post_hrs_3_months.describe()"
   ]
  },
  {
   "cell_type": "markdown",
   "metadata": {},
   "source": [
    "### Non Churners used hrs statistics in last 3 months"
   ]
  },
  {
   "cell_type": "code",
   "execution_count": 30,
   "metadata": {
    "collapsed": false
   },
   "outputs": [
    {
     "data": {
      "text/plain": [
       "Account Number \n",
       "M1        671.666667\n",
       "M10       604.800000\n",
       "M100      694.143333\n",
       "M1000     412.490000\n",
       "M10000    689.690000\n",
       "Name: Used pattern in hours, dtype: float64"
      ]
     },
     "execution_count": 30,
     "metadata": {},
     "output_type": "execute_result"
    }
   ],
   "source": [
    "non_churn_hrs_3_months = non_churn_pattern_data.groupby(non_churn_pattern_data[\"Account Number \"])[\"Used pattern in hours\"].mean()\n",
    "non_churn_hrs_3_months.head()"
   ]
  },
  {
   "cell_type": "code",
   "execution_count": 31,
   "metadata": {
    "collapsed": false
   },
   "outputs": [
    {
     "data": {
      "text/plain": [
       "count    9181.000000\n",
       "mean      612.244067\n",
       "std       126.204761\n",
       "min         1.050000\n",
       "25%       585.320000\n",
       "50%       646.226667\n",
       "75%       692.310000\n",
       "max       729.393333\n",
       "Name: Used pattern in hours, dtype: float64"
      ]
     },
     "execution_count": 31,
     "metadata": {},
     "output_type": "execute_result"
    }
   ],
   "source": [
    "non_churn_hrs_3_months.describe()"
   ]
  },
  {
   "cell_type": "code",
   "execution_count": 32,
   "metadata": {
    "collapsed": false
   },
   "outputs": [
    {
     "data": {
      "text/plain": [
       "728.34"
      ]
     },
     "execution_count": 32,
     "metadata": {},
     "output_type": "execute_result"
    }
   ],
   "source": [
    "non_churn_hrs_range_3_months = 729.39-1.05\n",
    "non_churn_hrs_range_3_months"
   ]
  },
  {
   "cell_type": "markdown",
   "metadata": {},
   "source": [
    "### Non Churners post used hours statistics in last 3 months"
   ]
  },
  {
   "cell_type": "code",
   "execution_count": 33,
   "metadata": {
    "collapsed": false
   },
   "outputs": [
    {
     "data": {
      "text/plain": [
       "Account Number \n",
       "M1          0\n",
       "M10         0\n",
       "M100        0\n",
       "M1000       0\n",
       "M10000    199\n",
       "Name: Usage Post Limit Utilization in hrs, dtype: float64"
      ]
     },
     "execution_count": 33,
     "metadata": {},
     "output_type": "execute_result"
    }
   ],
   "source": [
    "non_churn_post_hrs_3_months = non_churn_pattern_data.groupby(non_churn_pattern_data[\"Account Number \"])[\"Usage Post Limit Utilization in hrs\"].mean()\n",
    "non_churn_post_hrs_3_months.head()"
   ]
  },
  {
   "cell_type": "code",
   "execution_count": 34,
   "metadata": {
    "collapsed": false
   },
   "outputs": [
    {
     "data": {
      "text/plain": [
       "count    9181.000000\n",
       "mean       54.243292\n",
       "std        97.346963\n",
       "min         0.000000\n",
       "25%         0.000000\n",
       "50%         0.000000\n",
       "75%        71.000000\n",
       "max       584.000000\n",
       "Name: Usage Post Limit Utilization in hrs, dtype: float64"
      ]
     },
     "execution_count": 34,
     "metadata": {},
     "output_type": "execute_result"
    }
   ],
   "source": [
    "non_churn_post_hrs_3_months.describe()"
   ]
  },
  {
   "cell_type": "markdown",
   "metadata": {
    "collapsed": true
   },
   "source": [
    "### Default Sum"
   ]
  },
  {
   "cell_type": "code",
   "execution_count": 35,
   "metadata": {
    "collapsed": false
   },
   "outputs": [
    {
     "data": {
      "text/html": [
       "<div>\n",
       "<table border=\"1\" class=\"dataframe\">\n",
       "  <thead>\n",
       "    <tr style=\"text-align: right;\">\n",
       "      <th></th>\n",
       "      <th>Account Number</th>\n",
       "      <th>date of default</th>\n",
       "      <th>Default sum</th>\n",
       "    </tr>\n",
       "  </thead>\n",
       "  <tbody>\n",
       "    <tr>\n",
       "      <th>0</th>\n",
       "      <td>M100</td>\n",
       "      <td>2015-02-25</td>\n",
       "      <td>1037.2</td>\n",
       "    </tr>\n",
       "    <tr>\n",
       "      <th>1</th>\n",
       "      <td>M104</td>\n",
       "      <td>2015-03-13</td>\n",
       "      <td>611.8</td>\n",
       "    </tr>\n",
       "    <tr>\n",
       "      <th>2</th>\n",
       "      <td>M114</td>\n",
       "      <td>2015-03-07</td>\n",
       "      <td>2193.5</td>\n",
       "    </tr>\n",
       "    <tr>\n",
       "      <th>3</th>\n",
       "      <td>M125</td>\n",
       "      <td>2015-03-02</td>\n",
       "      <td>507.8</td>\n",
       "    </tr>\n",
       "    <tr>\n",
       "      <th>4</th>\n",
       "      <td>M132</td>\n",
       "      <td>2015-02-27</td>\n",
       "      <td>1405.5</td>\n",
       "    </tr>\n",
       "  </tbody>\n",
       "</table>\n",
       "</div>"
      ],
      "text/plain": [
       "  Account Number date of default  Default sum\n",
       "0           M100      2015-02-25       1037.2\n",
       "1           M104      2015-03-13        611.8\n",
       "2           M114      2015-03-07       2193.5\n",
       "3           M125      2015-03-02        507.8\n",
       "4           M132      2015-02-27       1405.5"
      ]
     },
     "execution_count": 35,
     "metadata": {},
     "output_type": "execute_result"
    }
   ],
   "source": [
    "default_data = xls.parse(3)\n",
    "default_data.head()"
   ]
  },
  {
   "cell_type": "markdown",
   "metadata": {},
   "source": [
    "#### Splitting to training and test data."
   ]
  },
  {
   "cell_type": "code",
   "execution_count": 36,
   "metadata": {
    "collapsed": false
   },
   "outputs": [
    {
     "name": "stdout",
     "output_type": "stream",
     "text": [
      "(1687, 3)\n"
     ]
    },
    {
     "data": {
      "text/html": [
       "<div>\n",
       "<table border=\"1\" class=\"dataframe\">\n",
       "  <thead>\n",
       "    <tr style=\"text-align: right;\">\n",
       "      <th></th>\n",
       "      <th>Account Number</th>\n",
       "      <th>date of default</th>\n",
       "      <th>Default sum</th>\n",
       "    </tr>\n",
       "  </thead>\n",
       "  <tbody>\n",
       "    <tr>\n",
       "      <th>0</th>\n",
       "      <td>M100</td>\n",
       "      <td>2015-02-25</td>\n",
       "      <td>1037.2</td>\n",
       "    </tr>\n",
       "    <tr>\n",
       "      <th>1</th>\n",
       "      <td>M104</td>\n",
       "      <td>2015-03-13</td>\n",
       "      <td>611.8</td>\n",
       "    </tr>\n",
       "    <tr>\n",
       "      <th>2</th>\n",
       "      <td>M114</td>\n",
       "      <td>2015-03-07</td>\n",
       "      <td>2193.5</td>\n",
       "    </tr>\n",
       "    <tr>\n",
       "      <th>3</th>\n",
       "      <td>M125</td>\n",
       "      <td>2015-03-02</td>\n",
       "      <td>507.8</td>\n",
       "    </tr>\n",
       "    <tr>\n",
       "      <th>4</th>\n",
       "      <td>M132</td>\n",
       "      <td>2015-02-27</td>\n",
       "      <td>1405.5</td>\n",
       "    </tr>\n",
       "  </tbody>\n",
       "</table>\n",
       "</div>"
      ],
      "text/plain": [
       "  Account Number date of default  Default sum\n",
       "0           M100      2015-02-25       1037.2\n",
       "1           M104      2015-03-13        611.8\n",
       "2           M114      2015-03-07       2193.5\n",
       "3           M125      2015-03-02        507.8\n",
       "4           M132      2015-02-27       1405.5"
      ]
     },
     "execution_count": 36,
     "metadata": {},
     "output_type": "execute_result"
    }
   ],
   "source": [
    "train_default_data = default_data[default_data[\"Account Number\"].isin(train_acc)]\n",
    "test_default_data = default_data[default_data[\"Account Number\"].isin(test_acc)]\n",
    "print train_default_data.shape\n",
    "train_default_data.head()"
   ]
  },
  {
   "cell_type": "code",
   "execution_count": 37,
   "metadata": {
    "collapsed": false
   },
   "outputs": [
    {
     "data": {
      "text/html": [
       "<div>\n",
       "<table border=\"1\" class=\"dataframe\">\n",
       "  <thead>\n",
       "    <tr style=\"text-align: right;\">\n",
       "      <th></th>\n",
       "      <th>Account Number</th>\n",
       "      <th>date of default</th>\n",
       "      <th>Default sum</th>\n",
       "    </tr>\n",
       "  </thead>\n",
       "  <tbody>\n",
       "    <tr>\n",
       "      <th>1692</th>\n",
       "      <td>V5</td>\n",
       "      <td>2015-07-13</td>\n",
       "      <td>713.4</td>\n",
       "    </tr>\n",
       "    <tr>\n",
       "      <th>1693</th>\n",
       "      <td>V48</td>\n",
       "      <td>2015-07-01</td>\n",
       "      <td>1402.8</td>\n",
       "    </tr>\n",
       "    <tr>\n",
       "      <th>1694</th>\n",
       "      <td>V74</td>\n",
       "      <td>2015-07-11</td>\n",
       "      <td>899.9</td>\n",
       "    </tr>\n",
       "    <tr>\n",
       "      <th>1695</th>\n",
       "      <td>V79</td>\n",
       "      <td>2015-06-29</td>\n",
       "      <td>1483.2</td>\n",
       "    </tr>\n",
       "    <tr>\n",
       "      <th>1696</th>\n",
       "      <td>V95</td>\n",
       "      <td>2015-05-30</td>\n",
       "      <td>1350.3</td>\n",
       "    </tr>\n",
       "  </tbody>\n",
       "</table>\n",
       "</div>"
      ],
      "text/plain": [
       "     Account Number date of default  Default sum\n",
       "1692             V5      2015-07-13        713.4\n",
       "1693            V48      2015-07-01       1402.8\n",
       "1694            V74      2015-07-11        899.9\n",
       "1695            V79      2015-06-29       1483.2\n",
       "1696            V95      2015-05-30       1350.3"
      ]
     },
     "execution_count": 37,
     "metadata": {},
     "output_type": "execute_result"
    }
   ],
   "source": [
    "test_default_data.head()"
   ]
  },
  {
   "cell_type": "code",
   "execution_count": 38,
   "metadata": {
    "collapsed": false
   },
   "outputs": [
    {
     "name": "stdout",
     "output_type": "stream",
     "text": [
      "(270, 3) (1417, 3)\n"
     ]
    },
    {
     "data": {
      "text/html": [
       "<div>\n",
       "<table border=\"1\" class=\"dataframe\">\n",
       "  <thead>\n",
       "    <tr style=\"text-align: right;\">\n",
       "      <th></th>\n",
       "      <th>Account Number</th>\n",
       "      <th>date of default</th>\n",
       "      <th>Default sum</th>\n",
       "    </tr>\n",
       "  </thead>\n",
       "  <tbody>\n",
       "    <tr>\n",
       "      <th>4</th>\n",
       "      <td>M132</td>\n",
       "      <td>2015-02-27</td>\n",
       "      <td>1405.5</td>\n",
       "    </tr>\n",
       "    <tr>\n",
       "      <th>10</th>\n",
       "      <td>M142</td>\n",
       "      <td>2015-02-05</td>\n",
       "      <td>2718.0</td>\n",
       "    </tr>\n",
       "    <tr>\n",
       "      <th>11</th>\n",
       "      <td>M142</td>\n",
       "      <td>2015-03-05</td>\n",
       "      <td>574.1</td>\n",
       "    </tr>\n",
       "    <tr>\n",
       "      <th>12</th>\n",
       "      <td>M155</td>\n",
       "      <td>2015-03-18</td>\n",
       "      <td>1825.6</td>\n",
       "    </tr>\n",
       "    <tr>\n",
       "      <th>25</th>\n",
       "      <td>M199</td>\n",
       "      <td>2015-03-11</td>\n",
       "      <td>672.8</td>\n",
       "    </tr>\n",
       "  </tbody>\n",
       "</table>\n",
       "</div>"
      ],
      "text/plain": [
       "   Account Number date of default  Default sum\n",
       "4            M132      2015-02-27       1405.5\n",
       "10           M142      2015-02-05       2718.0\n",
       "11           M142      2015-03-05        574.1\n",
       "12           M155      2015-03-18       1825.6\n",
       "25           M199      2015-03-11        672.8"
      ]
     },
     "execution_count": 38,
     "metadata": {},
     "output_type": "execute_result"
    }
   ],
   "source": [
    "churn_default_data = train_default_data[train_default_data[\"Account Number\"].isin(churn_acc_num)]\n",
    "non_churn_default_data = train_default_data[~train_default_data[\"Account Number\"].isin(churn_acc_num)]\n",
    "print churn_default_data.shape, non_churn_default_data.shape\n",
    "churn_default_data.head()"
   ]
  },
  {
   "cell_type": "markdown",
   "metadata": {},
   "source": [
    "### For churners, finding maximum default sum"
   ]
  },
  {
   "cell_type": "code",
   "execution_count": 39,
   "metadata": {
    "collapsed": false
   },
   "outputs": [
    {
     "data": {
      "text/plain": [
       "Account Number\n",
       "M1109     827.1\n",
       "M132     1405.5\n",
       "M1374     651.6\n",
       "M1412    1605.6\n",
       "M142     2718.0\n",
       "Name: Default sum, dtype: float64"
      ]
     },
     "execution_count": 39,
     "metadata": {},
     "output_type": "execute_result"
    }
   ],
   "source": [
    "churn_max_default_sum = churn_default_data.groupby(churn_default_data[\"Account Number\"])[\"Default sum\"].max()\n",
    "churn_max_default_sum.head()"
   ]
  },
  {
   "cell_type": "code",
   "execution_count": 40,
   "metadata": {
    "collapsed": false
   },
   "outputs": [
    {
     "data": {
      "text/plain": [
       "count     192.000000\n",
       "mean      834.468229\n",
       "std       605.556027\n",
       "min        14.900000\n",
       "25%       548.525000\n",
       "50%       665.000000\n",
       "75%       913.975000\n",
       "max      5694.700000\n",
       "Name: Default sum, dtype: float64"
      ]
     },
     "execution_count": 40,
     "metadata": {},
     "output_type": "execute_result"
    }
   ],
   "source": [
    "churn_max_default_sum.describe()"
   ]
  },
  {
   "cell_type": "code",
   "execution_count": 41,
   "metadata": {
    "collapsed": false
   },
   "outputs": [
    {
     "data": {
      "text/plain": [
       "5679.8"
      ]
     },
     "execution_count": 41,
     "metadata": {},
     "output_type": "execute_result"
    }
   ],
   "source": [
    "churn_max_default_sum_range = 5694.7 - 14.9\n",
    "churn_max_default_sum_range"
   ]
  },
  {
   "cell_type": "markdown",
   "metadata": {},
   "source": [
    "#### Non churners max default sum"
   ]
  },
  {
   "cell_type": "code",
   "execution_count": 42,
   "metadata": {
    "collapsed": false
   },
   "outputs": [
    {
     "data": {
      "text/plain": [
       "Account Number\n",
       "M100     1037.2\n",
       "M1002     938.4\n",
       "M1039    1066.8\n",
       "M104      611.8\n",
       "M1045     649.8\n",
       "Name: Default sum, dtype: float64"
      ]
     },
     "execution_count": 42,
     "metadata": {},
     "output_type": "execute_result"
    }
   ],
   "source": [
    "non_churn_max_default_sum = non_churn_default_data.groupby(non_churn_default_data[\"Account Number\"])[\"Default sum\"].max()\n",
    "non_churn_max_default_sum.head()"
   ]
  },
  {
   "cell_type": "code",
   "execution_count": 43,
   "metadata": {
    "collapsed": false
   },
   "outputs": [
    {
     "data": {
      "text/plain": [
       "count      989.000000\n",
       "mean       826.132154\n",
       "std       1230.439092\n",
       "min         12.200000\n",
       "25%        546.000000\n",
       "50%        658.100000\n",
       "75%        885.800000\n",
       "max      28660.400000\n",
       "Name: Default sum, dtype: float64"
      ]
     },
     "execution_count": 43,
     "metadata": {},
     "output_type": "execute_result"
    }
   ],
   "source": [
    "non_churn_max_default_sum.describe()"
   ]
  },
  {
   "cell_type": "code",
   "execution_count": 44,
   "metadata": {
    "collapsed": false
   },
   "outputs": [
    {
     "data": {
      "text/plain": [
       "28648.2"
      ]
     },
     "execution_count": 44,
     "metadata": {},
     "output_type": "execute_result"
    }
   ],
   "source": [
    "non_churn_max_default_sum_range = 28660.4 - 12.2\n",
    "non_churn_max_default_sum_range"
   ]
  },
  {
   "cell_type": "markdown",
   "metadata": {},
   "source": [
    "### Payment data"
   ]
  },
  {
   "cell_type": "code",
   "execution_count": 45,
   "metadata": {
    "collapsed": false
   },
   "outputs": [
    {
     "name": "stdout",
     "output_type": "stream",
     "text": [
      "(40444, 4)\n"
     ]
    },
    {
     "data": {
      "text/html": [
       "<div>\n",
       "<table border=\"1\" class=\"dataframe\">\n",
       "  <thead>\n",
       "    <tr style=\"text-align: right;\">\n",
       "      <th></th>\n",
       "      <th>Account Number</th>\n",
       "      <th>Realization Date</th>\n",
       "      <th>Sum</th>\n",
       "      <th>Mode</th>\n",
       "    </tr>\n",
       "  </thead>\n",
       "  <tbody>\n",
       "    <tr>\n",
       "      <th>0</th>\n",
       "      <td>M1</td>\n",
       "      <td>2015-03-01</td>\n",
       "      <td>1209.810</td>\n",
       "      <td>Card II TYPE</td>\n",
       "    </tr>\n",
       "    <tr>\n",
       "      <th>1</th>\n",
       "      <td>M1</td>\n",
       "      <td>2015-02-01</td>\n",
       "      <td>1209.810</td>\n",
       "      <td>Card II TYPE</td>\n",
       "    </tr>\n",
       "    <tr>\n",
       "      <th>2</th>\n",
       "      <td>M1</td>\n",
       "      <td>2015-01-01</td>\n",
       "      <td>1209.810</td>\n",
       "      <td>Card II TYPE</td>\n",
       "    </tr>\n",
       "    <tr>\n",
       "      <th>3</th>\n",
       "      <td>M2</td>\n",
       "      <td>2015-03-01</td>\n",
       "      <td>751.695</td>\n",
       "      <td>Card II TYPE</td>\n",
       "    </tr>\n",
       "    <tr>\n",
       "      <th>4</th>\n",
       "      <td>M2</td>\n",
       "      <td>2015-02-01</td>\n",
       "      <td>751.695</td>\n",
       "      <td>Card II TYPE</td>\n",
       "    </tr>\n",
       "  </tbody>\n",
       "</table>\n",
       "</div>"
      ],
      "text/plain": [
       "  Account Number Realization Date       Sum          Mode \n",
       "0             M1       2015-03-01  1209.810   Card II TYPE\n",
       "1             M1       2015-02-01  1209.810   Card II TYPE\n",
       "2             M1       2015-01-01  1209.810   Card II TYPE\n",
       "3             M2       2015-03-01   751.695   Card II TYPE\n",
       "4             M2       2015-02-01   751.695   Card II TYPE"
      ]
     },
     "execution_count": 45,
     "metadata": {},
     "output_type": "execute_result"
    }
   ],
   "source": [
    "payments_data = xls.parse(2)\n",
    "print payments_data.shape\n",
    "payments_data.head()"
   ]
  },
  {
   "cell_type": "markdown",
   "metadata": {},
   "source": [
    "#### Splitting to training and testing data"
   ]
  },
  {
   "cell_type": "code",
   "execution_count": 46,
   "metadata": {
    "collapsed": false
   },
   "outputs": [
    {
     "name": "stdout",
     "output_type": "stream",
     "text": [
      "(27664, 4) (12645, 4)\n"
     ]
    },
    {
     "data": {
      "text/html": [
       "<div>\n",
       "<table border=\"1\" class=\"dataframe\">\n",
       "  <thead>\n",
       "    <tr style=\"text-align: right;\">\n",
       "      <th></th>\n",
       "      <th>Account Number</th>\n",
       "      <th>Realization Date</th>\n",
       "      <th>Sum</th>\n",
       "      <th>Mode</th>\n",
       "    </tr>\n",
       "  </thead>\n",
       "  <tbody>\n",
       "    <tr>\n",
       "      <th>27757</th>\n",
       "      <td>V1</td>\n",
       "      <td>2015-06-01</td>\n",
       "      <td>2061.465</td>\n",
       "      <td>Card II TYPE</td>\n",
       "    </tr>\n",
       "    <tr>\n",
       "      <th>27758</th>\n",
       "      <td>V1</td>\n",
       "      <td>2015-05-01</td>\n",
       "      <td>748.965</td>\n",
       "      <td>Card II TYPE</td>\n",
       "    </tr>\n",
       "    <tr>\n",
       "      <th>27759</th>\n",
       "      <td>V1</td>\n",
       "      <td>2015-07-01</td>\n",
       "      <td>748.965</td>\n",
       "      <td>Card II TYPE</td>\n",
       "    </tr>\n",
       "    <tr>\n",
       "      <th>27760</th>\n",
       "      <td>V2</td>\n",
       "      <td>2015-06-01</td>\n",
       "      <td>824.670</td>\n",
       "      <td>Card II TYPE</td>\n",
       "    </tr>\n",
       "    <tr>\n",
       "      <th>27761</th>\n",
       "      <td>V2</td>\n",
       "      <td>2015-05-01</td>\n",
       "      <td>824.670</td>\n",
       "      <td>Card II TYPE</td>\n",
       "    </tr>\n",
       "  </tbody>\n",
       "</table>\n",
       "</div>"
      ],
      "text/plain": [
       "      Account Number Realization Date       Sum          Mode \n",
       "27757             V1       2015-06-01  2061.465   Card II TYPE\n",
       "27758             V1       2015-05-01   748.965   Card II TYPE\n",
       "27759             V1       2015-07-01   748.965   Card II TYPE\n",
       "27760             V2       2015-06-01   824.670   Card II TYPE\n",
       "27761             V2       2015-05-01   824.670   Card II TYPE"
      ]
     },
     "execution_count": 46,
     "metadata": {},
     "output_type": "execute_result"
    }
   ],
   "source": [
    "train_payments_data = payments_data[payments_data[\"Account Number\"].isin(train_acc)]\n",
    "test_payments_data = payments_data[payments_data[\"Account Number\"].isin(test_acc)]\n",
    "print train_payments_data.shape, test_payments_data.shape\n",
    "test_payments_data.head()"
   ]
  },
  {
   "cell_type": "markdown",
   "metadata": {},
   "source": [
    "#### Splitting to churners and non churners"
   ]
  },
  {
   "cell_type": "code",
   "execution_count": 47,
   "metadata": {
    "collapsed": false
   },
   "outputs": [
    {
     "name": "stdout",
     "output_type": "stream",
     "text": [
      "(1110, 4) (26554, 4)\n"
     ]
    },
    {
     "data": {
      "text/html": [
       "<div>\n",
       "<table border=\"1\" class=\"dataframe\">\n",
       "  <thead>\n",
       "    <tr style=\"text-align: right;\">\n",
       "      <th></th>\n",
       "      <th>Account Number</th>\n",
       "      <th>Realization Date</th>\n",
       "      <th>Sum</th>\n",
       "      <th>Mode</th>\n",
       "    </tr>\n",
       "  </thead>\n",
       "  <tbody>\n",
       "    <tr>\n",
       "      <th>86</th>\n",
       "      <td>M52</td>\n",
       "      <td>2015-03-27</td>\n",
       "      <td>720.09</td>\n",
       "      <td>Card II TYPE</td>\n",
       "    </tr>\n",
       "    <tr>\n",
       "      <th>87</th>\n",
       "      <td>M52</td>\n",
       "      <td>2015-02-27</td>\n",
       "      <td>720.09</td>\n",
       "      <td>Card II TYPE</td>\n",
       "    </tr>\n",
       "    <tr>\n",
       "      <th>88</th>\n",
       "      <td>M52</td>\n",
       "      <td>2015-01-27</td>\n",
       "      <td>720.09</td>\n",
       "      <td>Card II TYPE</td>\n",
       "    </tr>\n",
       "    <tr>\n",
       "      <th>224</th>\n",
       "      <td>M210</td>\n",
       "      <td>2015-03-08</td>\n",
       "      <td>2152.29</td>\n",
       "      <td>Paper based/Post</td>\n",
       "    </tr>\n",
       "    <tr>\n",
       "      <th>225</th>\n",
       "      <td>M210</td>\n",
       "      <td>2015-02-07</td>\n",
       "      <td>2152.29</td>\n",
       "      <td>Paper based/Post</td>\n",
       "    </tr>\n",
       "  </tbody>\n",
       "</table>\n",
       "</div>"
      ],
      "text/plain": [
       "    Account Number Realization Date      Sum             Mode \n",
       "86             M52       2015-03-27   720.09      Card II TYPE\n",
       "87             M52       2015-02-27   720.09      Card II TYPE\n",
       "88             M52       2015-01-27   720.09      Card II TYPE\n",
       "224           M210       2015-03-08  2152.29  Paper based/Post\n",
       "225           M210       2015-02-07  2152.29  Paper based/Post"
      ]
     },
     "execution_count": 47,
     "metadata": {},
     "output_type": "execute_result"
    }
   ],
   "source": [
    "churn_payments_data = train_payments_data[train_payments_data[\"Account Number\"].isin(churn_acc_num)]\n",
    "non_churn_payments_data = train_payments_data[~train_payments_data[\"Account Number\"].isin(churn_acc_num)]\n",
    "print churn_payments_data.shape, non_churn_payments_data.shape\n",
    "churn_payments_data.head()"
   ]
  },
  {
   "cell_type": "markdown",
   "metadata": {},
   "source": [
    "#### Churners last month total payment\n"
   ]
  },
  {
   "cell_type": "code",
   "execution_count": 48,
   "metadata": {
    "collapsed": false
   },
   "outputs": [
    {
     "data": {
      "text/plain": [
       "Account Number\n",
       "M1055   2015-03-17\n",
       "M1062   2015-03-21\n",
       "M1109   2015-02-03\n",
       "M1128   2015-03-16\n",
       "M1156   2015-03-05\n",
       "Name: Realization Date, dtype: datetime64[ns]"
      ]
     },
     "execution_count": 48,
     "metadata": {},
     "output_type": "execute_result"
    }
   ],
   "source": [
    "#def last_month_sum()\n",
    "churn_payments_last_month = churn_payments_data.groupby(churn_payments_data[\"Account Number\"])[\"Realization Date\"].max()\n",
    "churn_payments_last_month.head()"
   ]
  },
  {
   "cell_type": "code",
   "execution_count": 49,
   "metadata": {
    "collapsed": false
   },
   "outputs": [
    {
     "data": {
      "text/html": [
       "<div>\n",
       "<table border=\"1\" class=\"dataframe\">\n",
       "  <thead>\n",
       "    <tr style=\"text-align: right;\">\n",
       "      <th></th>\n",
       "      <th>Realization Date</th>\n",
       "      <th>Sum</th>\n",
       "    </tr>\n",
       "    <tr>\n",
       "      <th>Account Number</th>\n",
       "      <th></th>\n",
       "      <th></th>\n",
       "    </tr>\n",
       "  </thead>\n",
       "  <tbody>\n",
       "    <tr>\n",
       "      <th>M1055</th>\n",
       "      <td>2015-03-17</td>\n",
       "      <td>752.325</td>\n",
       "    </tr>\n",
       "    <tr>\n",
       "      <th>M1062</th>\n",
       "      <td>2015-03-21</td>\n",
       "      <td>1484.385</td>\n",
       "    </tr>\n",
       "    <tr>\n",
       "      <th>M1109</th>\n",
       "      <td>2015-02-03</td>\n",
       "      <td>687.645</td>\n",
       "    </tr>\n",
       "    <tr>\n",
       "      <th>M1128</th>\n",
       "      <td>2015-03-16</td>\n",
       "      <td>918.120</td>\n",
       "    </tr>\n",
       "    <tr>\n",
       "      <th>M1156</th>\n",
       "      <td>2015-03-05</td>\n",
       "      <td>742.035</td>\n",
       "    </tr>\n",
       "  </tbody>\n",
       "</table>\n",
       "</div>"
      ],
      "text/plain": [
       "               Realization Date       Sum\n",
       "Account Number                           \n",
       "M1055                2015-03-17   752.325\n",
       "M1062                2015-03-21  1484.385\n",
       "M1109                2015-02-03   687.645\n",
       "M1128                2015-03-16   918.120\n",
       "M1156                2015-03-05   742.035"
      ]
     },
     "execution_count": 49,
     "metadata": {},
     "output_type": "execute_result"
    }
   ],
   "source": [
    "churn_payments_sum = []\n",
    "for acc in churn_payments_last_month.index:\n",
    "    date = churn_payments_last_month[acc]\n",
    "    churn_payments_sum.append(churn_payments_data[(churn_payments_data[\"Account Number\"] == acc) & \\\n",
    "                                                  (churn_payments_data[\"Realization Date\"] == date)].Sum.iloc[0])\n",
    "churn_payments_sum = np.array(churn_payments_sum)\n",
    "churn_payments_sum_last_month = pd.DataFrame(churn_payments_last_month)\n",
    "churn_payments_sum_last_month[\"Sum\"] = churn_payments_sum\n",
    "churn_payments_sum_last_month.reset_index()\n",
    "churn_payments_sum_last_month.head()"
   ]
  },
  {
   "cell_type": "code",
   "execution_count": 50,
   "metadata": {
    "collapsed": false
   },
   "outputs": [
    {
     "data": {
      "text/plain": [
       "count     462.000000\n",
       "mean      809.356818\n",
       "std       455.002448\n",
       "min         1.575000\n",
       "25%       644.542500\n",
       "50%       753.060000\n",
       "75%       918.067500\n",
       "max      5748.435000\n",
       "Name: Sum, dtype: float64"
      ]
     },
     "execution_count": 50,
     "metadata": {},
     "output_type": "execute_result"
    }
   ],
   "source": [
    "churn_payments_sum_last_month.Sum.describe()"
   ]
  },
  {
   "cell_type": "code",
   "execution_count": 51,
   "metadata": {
    "collapsed": false
   },
   "outputs": [
    {
     "data": {
      "text/plain": [
       "14"
      ]
     },
     "execution_count": 51,
     "metadata": {},
     "output_type": "execute_result"
    }
   ],
   "source": [
    "# Last data is calculated on the basis of last payment rather than last month.\n",
    "np.sum(churn_payments_data.groupby(churn_payments_data[\"Account Number\"])[\"Realization Date\"].count() > 3) "
   ]
  },
  {
   "cell_type": "markdown",
   "metadata": {},
   "source": [
    "#### Non churners last month total payment"
   ]
  },
  {
   "cell_type": "code",
   "execution_count": 52,
   "metadata": {
    "collapsed": false
   },
   "outputs": [
    {
     "data": {
      "text/plain": [
       "Account Number\n",
       "M1       2015-03-01\n",
       "M10      2015-03-09\n",
       "M1000    2015-03-09\n",
       "M10000   2015-03-01\n",
       "M1001    2015-03-04\n",
       "Name: Realization Date, dtype: datetime64[ns]"
      ]
     },
     "execution_count": 52,
     "metadata": {},
     "output_type": "execute_result"
    }
   ],
   "source": [
    "non_churn_payments_last_month = non_churn_payments_data.groupby(non_churn_payments_data[\"Account Number\"])[\"Realization Date\"].max()\n",
    "non_churn_payments_last_month.head()"
   ]
  },
  {
   "cell_type": "code",
   "execution_count": 53,
   "metadata": {
    "collapsed": false
   },
   "outputs": [
    {
     "data": {
      "text/html": [
       "<div>\n",
       "<table border=\"1\" class=\"dataframe\">\n",
       "  <thead>\n",
       "    <tr style=\"text-align: right;\">\n",
       "      <th></th>\n",
       "      <th>Realization Date</th>\n",
       "      <th>Sum</th>\n",
       "    </tr>\n",
       "    <tr>\n",
       "      <th>Account Number</th>\n",
       "      <th></th>\n",
       "      <th></th>\n",
       "    </tr>\n",
       "  </thead>\n",
       "  <tbody>\n",
       "    <tr>\n",
       "      <th>M1</th>\n",
       "      <td>2015-03-01</td>\n",
       "      <td>1209.810</td>\n",
       "    </tr>\n",
       "    <tr>\n",
       "      <th>M10</th>\n",
       "      <td>2015-03-09</td>\n",
       "      <td>1171.695</td>\n",
       "    </tr>\n",
       "    <tr>\n",
       "      <th>M1000</th>\n",
       "      <td>2015-03-09</td>\n",
       "      <td>868.140</td>\n",
       "    </tr>\n",
       "    <tr>\n",
       "      <th>M10000</th>\n",
       "      <td>2015-03-01</td>\n",
       "      <td>1009.575</td>\n",
       "    </tr>\n",
       "    <tr>\n",
       "      <th>M1001</th>\n",
       "      <td>2015-03-04</td>\n",
       "      <td>965.370</td>\n",
       "    </tr>\n",
       "  </tbody>\n",
       "</table>\n",
       "</div>"
      ],
      "text/plain": [
       "               Realization Date       Sum\n",
       "Account Number                           \n",
       "M1                   2015-03-01  1209.810\n",
       "M10                  2015-03-09  1171.695\n",
       "M1000                2015-03-09   868.140\n",
       "M10000               2015-03-01  1009.575\n",
       "M1001                2015-03-04   965.370"
      ]
     },
     "execution_count": 53,
     "metadata": {},
     "output_type": "execute_result"
    }
   ],
   "source": [
    "non_churn_payments_sum = []\n",
    "for acc in non_churn_payments_last_month.index:\n",
    "    date = non_churn_payments_last_month[acc]\n",
    "    non_churn_payments_sum.append(non_churn_payments_data[(non_churn_payments_data[\"Account Number\"] == acc) & \\\n",
    "                                                  (non_churn_payments_data[\"Realization Date\"] == date)].Sum.iloc[0])\n",
    "non_churn_payments_sum = np.array(non_churn_payments_sum)\n",
    "non_churn_payments_sum_last_month = pd.DataFrame(non_churn_payments_last_month)\n",
    "non_churn_payments_sum_last_month[\"Sum\"] = non_churn_payments_sum\n",
    "non_churn_payments_sum_last_month.reset_index()\n",
    "non_churn_payments_sum_last_month.head()"
   ]
  },
  {
   "cell_type": "code",
   "execution_count": 54,
   "metadata": {
    "collapsed": false
   },
   "outputs": [
    {
     "data": {
      "text/plain": [
       "count     9182.000000\n",
       "mean       838.123986\n",
       "std        445.633625\n",
       "min          0.210000\n",
       "25%        648.690000\n",
       "50%        768.232500\n",
       "75%        958.230000\n",
       "max      23261.910000\n",
       "Name: Sum, dtype: float64"
      ]
     },
     "execution_count": 54,
     "metadata": {},
     "output_type": "execute_result"
    }
   ],
   "source": [
    "non_churn_payments_sum_last_month.Sum.describe()"
   ]
  },
  {
   "cell_type": "code",
   "execution_count": 55,
   "metadata": {
    "collapsed": false
   },
   "outputs": [
    {
     "data": {
      "text/plain": [
       "346"
      ]
     },
     "execution_count": 55,
     "metadata": {},
     "output_type": "execute_result"
    }
   ],
   "source": [
    "# Last data is calculated on the basis of last payment rather than last month.\n",
    "np.sum(non_churn_payments_data.groupby(non_churn_payments_data[\"Account Number\"])[\"Realization Date\"].count() > 3) "
   ]
  },
  {
   "cell_type": "code",
   "execution_count": 56,
   "metadata": {
    "collapsed": false
   },
   "outputs": [
    {
     "data": {
      "text/html": [
       "<div>\n",
       "<table border=\"1\" class=\"dataframe\">\n",
       "  <thead>\n",
       "    <tr style=\"text-align: right;\">\n",
       "      <th></th>\n",
       "      <th>Realization Date</th>\n",
       "      <th>Sum</th>\n",
       "    </tr>\n",
       "    <tr>\n",
       "      <th>Account Number</th>\n",
       "      <th></th>\n",
       "      <th></th>\n",
       "    </tr>\n",
       "  </thead>\n",
       "  <tbody>\n",
       "    <tr>\n",
       "      <th>M4091</th>\n",
       "      <td>2015-03-03</td>\n",
       "      <td>23261.91</td>\n",
       "    </tr>\n",
       "  </tbody>\n",
       "</table>\n",
       "</div>"
      ],
      "text/plain": [
       "               Realization Date       Sum\n",
       "Account Number                           \n",
       "M4091                2015-03-03  23261.91"
      ]
     },
     "execution_count": 56,
     "metadata": {},
     "output_type": "execute_result"
    }
   ],
   "source": [
    "non_churn_payments_sum_last_month[non_churn_payments_sum_last_month.Sum == 23261.91]"
   ]
  },
  {
   "cell_type": "code",
   "execution_count": 57,
   "metadata": {
    "collapsed": false
   },
   "outputs": [
    {
     "data": {
      "text/html": [
       "<div>\n",
       "<table border=\"1\" class=\"dataframe\">\n",
       "  <thead>\n",
       "    <tr style=\"text-align: right;\">\n",
       "      <th></th>\n",
       "      <th>Account Number</th>\n",
       "      <th>Realization Date</th>\n",
       "      <th>Sum</th>\n",
       "      <th>Mode</th>\n",
       "    </tr>\n",
       "  </thead>\n",
       "  <tbody>\n",
       "    <tr>\n",
       "      <th>11415</th>\n",
       "      <td>M4091</td>\n",
       "      <td>2015-03-03</td>\n",
       "      <td>23261.910</td>\n",
       "      <td>Paper based/Post</td>\n",
       "    </tr>\n",
       "    <tr>\n",
       "      <th>11416</th>\n",
       "      <td>M4091</td>\n",
       "      <td>2015-02-09</td>\n",
       "      <td>34.125</td>\n",
       "      <td>Paper based/Post</td>\n",
       "    </tr>\n",
       "    <tr>\n",
       "      <th>11417</th>\n",
       "      <td>M4091</td>\n",
       "      <td>2015-02-09</td>\n",
       "      <td>23261.910</td>\n",
       "      <td>Paper based/Post</td>\n",
       "    </tr>\n",
       "    <tr>\n",
       "      <th>11418</th>\n",
       "      <td>M4091</td>\n",
       "      <td>2015-01-05</td>\n",
       "      <td>7496.055</td>\n",
       "      <td>Paper based/Post</td>\n",
       "    </tr>\n",
       "    <tr>\n",
       "      <th>11419</th>\n",
       "      <td>M4091</td>\n",
       "      <td>2015-01-26</td>\n",
       "      <td>14991.795</td>\n",
       "      <td>Paper based/Post</td>\n",
       "    </tr>\n",
       "  </tbody>\n",
       "</table>\n",
       "</div>"
      ],
      "text/plain": [
       "      Account Number Realization Date        Sum             Mode \n",
       "11415          M4091       2015-03-03  23261.910  Paper based/Post\n",
       "11416          M4091       2015-02-09     34.125  Paper based/Post\n",
       "11417          M4091       2015-02-09  23261.910  Paper based/Post\n",
       "11418          M4091       2015-01-05   7496.055  Paper based/Post\n",
       "11419          M4091       2015-01-26  14991.795  Paper based/Post"
      ]
     },
     "execution_count": 57,
     "metadata": {},
     "output_type": "execute_result"
    }
   ],
   "source": [
    "non_churn_payments_data[non_churn_payments_data[\"Account Number\"] == \"M4091\"]"
   ]
  },
  {
   "cell_type": "code",
   "execution_count": 58,
   "metadata": {
    "collapsed": false
   },
   "outputs": [
    {
     "data": {
      "text/html": [
       "<div>\n",
       "<table border=\"1\" class=\"dataframe\">\n",
       "  <thead>\n",
       "    <tr style=\"text-align: right;\">\n",
       "      <th></th>\n",
       "      <th>Account Number</th>\n",
       "      <th>Commence Date</th>\n",
       "      <th>Address</th>\n",
       "      <th>Scheme</th>\n",
       "      <th>Staus</th>\n",
       "      <th>Gender</th>\n",
       "      <th>Region</th>\n",
       "      <th>Sale of Equipment Status</th>\n",
       "      <th>Age</th>\n",
       "      <th>Equipment Warranty</th>\n",
       "      <th>Salary Slab</th>\n",
       "      <th>Professional Info</th>\n",
       "      <th>Age of Home</th>\n",
       "      <th>Equipment Warranty Expiry Date</th>\n",
       "      <th>Churn Date</th>\n",
       "    </tr>\n",
       "  </thead>\n",
       "  <tbody>\n",
       "    <tr>\n",
       "      <th>4056</th>\n",
       "      <td>M4091</td>\n",
       "      <td>2014-01-30</td>\n",
       "      <td>INVALID</td>\n",
       "      <td>MXX</td>\n",
       "      <td>Closed</td>\n",
       "      <td>Female</td>\n",
       "      <td>Northern</td>\n",
       "      <td>RENTED</td>\n",
       "      <td>88</td>\n",
       "      <td>NaN</td>\n",
       "      <td>3</td>\n",
       "      <td>0</td>\n",
       "      <td>17</td>\n",
       "      <td>NaT</td>\n",
       "      <td>NaN</td>\n",
       "    </tr>\n",
       "  </tbody>\n",
       "</table>\n",
       "</div>"
      ],
      "text/plain": [
       "     Account Number Commence Date  Address Scheme   Staus  Gender   Region   \\\n",
       "4056          M4091    2014-01-30  INVALID    MXX  Closed  Female  Northern   \n",
       "\n",
       "      Sale of Equipment Status  Age Equipment Warranty  Salary Slab  \\\n",
       "4056                    RENTED   88                NaN            3   \n",
       "\n",
       "      Professional Info  Age of Home Equipment Warranty Expiry Date Churn Date  \n",
       "4056                  0           17                            NaT        NaN  "
      ]
     },
     "execution_count": 58,
     "metadata": {},
     "output_type": "execute_result"
    }
   ],
   "source": [
    "non_churn_demo_data[non_churn_demo_data[\"Account Number\"] == \"M4091\"]"
   ]
  },
  {
   "cell_type": "markdown",
   "metadata": {},
   "source": [
    "#### Shocking!"
   ]
  },
  {
   "cell_type": "code",
   "execution_count": 59,
   "metadata": {
    "collapsed": false
   },
   "outputs": [
    {
     "name": "stdout",
     "output_type": "stream",
     "text": [
      "(12674, 3)\n"
     ]
    },
    {
     "data": {
      "text/html": [
       "<div>\n",
       "<table border=\"1\" class=\"dataframe\">\n",
       "  <thead>\n",
       "    <tr style=\"text-align: right;\">\n",
       "      <th></th>\n",
       "      <th>Account Number</th>\n",
       "      <th>Query Date</th>\n",
       "      <th>Full Statement of the Enquiry</th>\n",
       "    </tr>\n",
       "  </thead>\n",
       "  <tbody>\n",
       "    <tr>\n",
       "      <th>0</th>\n",
       "      <td>M2</td>\n",
       "      <td>2015-03-12</td>\n",
       "      <td>FDAEDBG!-Initial LevelPayment Settlement-Accou...</td>\n",
       "    </tr>\n",
       "    <tr>\n",
       "      <th>1</th>\n",
       "      <td>M2</td>\n",
       "      <td>2015-03-15</td>\n",
       "      <td>FDA!CEGD-Initial LevelTech-Operational Capabil...</td>\n",
       "    </tr>\n",
       "    <tr>\n",
       "      <th>2</th>\n",
       "      <td>M2</td>\n",
       "      <td>2015-03-25</td>\n",
       "      <td>FDCE#GHA-Initial LevelTech-Operational Capabil...</td>\n",
       "    </tr>\n",
       "    <tr>\n",
       "      <th>3</th>\n",
       "      <td>M2</td>\n",
       "      <td>2015-03-28</td>\n",
       "      <td>FDC#FAAD-Initial LevelPayment Settlement-Opera...</td>\n",
       "    </tr>\n",
       "    <tr>\n",
       "      <th>4</th>\n",
       "      <td>M2</td>\n",
       "      <td>2015-03-29</td>\n",
       "      <td>FDC!HGF#-Initial LevelPayment Settlement-Accou...</td>\n",
       "    </tr>\n",
       "  </tbody>\n",
       "</table>\n",
       "</div>"
      ],
      "text/plain": [
       "  Account Number Query Date                      Full Statement of the Enquiry\n",
       "0             M2 2015-03-12  FDAEDBG!-Initial LevelPayment Settlement-Accou...\n",
       "1             M2 2015-03-15  FDA!CEGD-Initial LevelTech-Operational Capabil...\n",
       "2             M2 2015-03-25  FDCE#GHA-Initial LevelTech-Operational Capabil...\n",
       "3             M2 2015-03-28  FDC#FAAD-Initial LevelPayment Settlement-Opera...\n",
       "4             M2 2015-03-29  FDC!HGF#-Initial LevelPayment Settlement-Accou..."
      ]
     },
     "execution_count": 59,
     "metadata": {},
     "output_type": "execute_result"
    }
   ],
   "source": [
    "call_centre_data = xls.parse(1)\n",
    "print(call_centre_data.shape)\n",
    "call_centre_data.head()"
   ]
  },
  {
   "cell_type": "code",
   "execution_count": 60,
   "metadata": {
    "collapsed": false
   },
   "outputs": [
    {
     "data": {
      "text/plain": [
       "(7944, 3)"
      ]
     },
     "execution_count": 60,
     "metadata": {},
     "output_type": "execute_result"
    }
   ],
   "source": [
    "train_call_centre_data = call_centre_data[call_centre_data[\"Account Number\"].isin(train_acc)]\n",
    "train_call_centre_data.shape"
   ]
  },
  {
   "cell_type": "code",
   "execution_count": 61,
   "metadata": {
    "collapsed": true
   },
   "outputs": [],
   "source": [
    "def modify_complaint(string):\n",
    "    return re.findall(\"F.+-Initial Level(.+)\",string)[0].split(\"-\")"
   ]
  },
  {
   "cell_type": "code",
   "execution_count": 62,
   "metadata": {
    "collapsed": false
   },
   "outputs": [
    {
     "data": {
      "text/plain": [
       "0     FDAEDBG!-Initial LevelPayment Settlement-Accou...\n",
       "1     FDA!CEGD-Initial LevelTech-Operational Capabil...\n",
       "2     FDCE#GHA-Initial LevelTech-Operational Capabil...\n",
       "3     FDC#FAAD-Initial LevelPayment Settlement-Opera...\n",
       "4     FDC!HGF#-Initial LevelPayment Settlement-Accou...\n",
       "5     FDC!HH#!-Initial LevelTech-Service Order-Sched...\n",
       "6     FCAH!#AH-Initial LevelTech-No support / Third ...\n",
       "7     FB!HDHGE-Initial LevelPayment Settlement-Accou...\n",
       "8     FCAB!#FF-Initial LevelTech-Operational Capabil...\n",
       "9     FCAH!CDG-Initial LevelTech-Operational Capabil...\n",
       "10    FCGG#GAF-Initial LevelTech-Utilities-Email-Cli...\n",
       "11    FB#H#BFE-Initial LevelPayment Settlement-Payme...\n",
       "12    FCED#GBB-Initial LevelTech-Payment Settlement-...\n",
       "13    FC!EEFDF-Initial LevelPayment Settlement-Payme...\n",
       "14    FB!FECEC-Initial LevelTech-Account-General Inf...\n",
       "15    FB!FFB!C-Initial LevelPayment Settlement-Accou...\n",
       "16    FB!#!BEE-Initial LevelTech-Utilities-Email-Web...\n",
       "17    FCB#HGG#-Initial LevelPayment Settlement-Accou...\n",
       "18    FCEGEB#D-Initial LevelTech-Operational Capabil...\n",
       "19    FCF#C#F#-Initial LevelPayment Settlement-Opera...\n",
       "Name: Full Statement of the Enquiry, dtype: object"
      ]
     },
     "execution_count": 62,
     "metadata": {},
     "output_type": "execute_result"
    }
   ],
   "source": [
    "train_call_centre_data[\"Full Statement of the Enquiry\"].iloc[0:20]"
   ]
  },
  {
   "cell_type": "code",
   "execution_count": 63,
   "metadata": {
    "collapsed": true
   },
   "outputs": [],
   "source": [
    "import re"
   ]
  },
  {
   "cell_type": "code",
   "execution_count": 64,
   "metadata": {
    "collapsed": false
   },
   "outputs": [],
   "source": [
    "req_string = \"payment operation account utilit\""
   ]
  },
  {
   "cell_type": "code",
   "execution_count": 65,
   "metadata": {
    "collapsed": true
   },
   "outputs": [],
   "source": [
    "def modify_complaint2(string):\n",
    "    return re.findall(\"F.+-Initial Level(.+)\",string)[0].split(\"-\")"
   ]
  },
  {
   "cell_type": "code",
   "execution_count": 66,
   "metadata": {
    "collapsed": true
   },
   "outputs": [],
   "source": [
    "from collections import Counter"
   ]
  },
  {
   "cell_type": "code",
   "execution_count": 67,
   "metadata": {
    "collapsed": true
   },
   "outputs": [],
   "source": [
    "def modify_complaint(string):\n",
    "    complaints = re.findall(\"F.+-Initial Level(.+)\",string)[0].split(\"-\")\n",
    "    req_list = []\n",
    "    for item in req_string.split(\" \"):\n",
    "        for comp in complaints:\n",
    "            if item in comp.lower():\n",
    "                req_list.append(item)\n",
    "    return req_list"
   ]
  },
  {
   "cell_type": "code",
   "execution_count": 68,
   "metadata": {
    "collapsed": false
   },
   "outputs": [
    {
     "name": "stdout",
     "output_type": "stream",
     "text": [
      "Account Number                   0\n",
      "Query Date                       0\n",
      "Full Statement of the Enquiry    0\n",
      "complaints                       0\n",
      "dtype: int64\n"
     ]
    },
    {
     "name": "stderr",
     "output_type": "stream",
     "text": [
      "C:\\Users\\SHIVAM MAHAJAN\\Anaconda\\lib\\site-packages\\ipykernel\\__main__.py:1: SettingWithCopyWarning: \n",
      "A value is trying to be set on a copy of a slice from a DataFrame.\n",
      "Try using .loc[row_indexer,col_indexer] = value instead\n",
      "\n",
      "See the caveats in the documentation: http://pandas.pydata.org/pandas-docs/stable/indexing.html#indexing-view-versus-copy\n",
      "  if __name__ == '__main__':\n"
     ]
    },
    {
     "data": {
      "text/html": [
       "<div>\n",
       "<table border=\"1\" class=\"dataframe\">\n",
       "  <thead>\n",
       "    <tr style=\"text-align: right;\">\n",
       "      <th></th>\n",
       "      <th>Account Number</th>\n",
       "      <th>Query Date</th>\n",
       "      <th>Full Statement of the Enquiry</th>\n",
       "      <th>complaints</th>\n",
       "    </tr>\n",
       "  </thead>\n",
       "  <tbody>\n",
       "    <tr>\n",
       "      <th>0</th>\n",
       "      <td>M2</td>\n",
       "      <td>2015-03-12</td>\n",
       "      <td>FDAEDBG!-Initial LevelPayment Settlement-Accou...</td>\n",
       "      <td>[Payment Settlement, Account, Change, General ...</td>\n",
       "    </tr>\n",
       "    <tr>\n",
       "      <th>1</th>\n",
       "      <td>M2</td>\n",
       "      <td>2015-03-15</td>\n",
       "      <td>FDA!CEGD-Initial LevelTech-Operational Capabil...</td>\n",
       "      <td>[Tech, Operational Capabilities, Browsing, No ...</td>\n",
       "    </tr>\n",
       "    <tr>\n",
       "      <th>2</th>\n",
       "      <td>M2</td>\n",
       "      <td>2015-03-25</td>\n",
       "      <td>FDCE#GHA-Initial LevelTech-Operational Capabil...</td>\n",
       "      <td>[Tech, Operational Capabilities, Browsing, No ...</td>\n",
       "    </tr>\n",
       "    <tr>\n",
       "      <th>3</th>\n",
       "      <td>M2</td>\n",
       "      <td>2015-03-28</td>\n",
       "      <td>FDC#FAAD-Initial LevelPayment Settlement-Opera...</td>\n",
       "      <td>[Payment Settlement, Operational Capabilities,...</td>\n",
       "    </tr>\n",
       "    <tr>\n",
       "      <th>4</th>\n",
       "      <td>M2</td>\n",
       "      <td>2015-03-29</td>\n",
       "      <td>FDC!HGF#-Initial LevelPayment Settlement-Accou...</td>\n",
       "      <td>[Payment Settlement, Account, General Informat...</td>\n",
       "    </tr>\n",
       "  </tbody>\n",
       "</table>\n",
       "</div>"
      ],
      "text/plain": [
       "  Account Number Query Date  \\\n",
       "0             M2 2015-03-12   \n",
       "1             M2 2015-03-15   \n",
       "2             M2 2015-03-25   \n",
       "3             M2 2015-03-28   \n",
       "4             M2 2015-03-29   \n",
       "\n",
       "                       Full Statement of the Enquiry  \\\n",
       "0  FDAEDBG!-Initial LevelPayment Settlement-Accou...   \n",
       "1  FDA!CEGD-Initial LevelTech-Operational Capabil...   \n",
       "2  FDCE#GHA-Initial LevelTech-Operational Capabil...   \n",
       "3  FDC#FAAD-Initial LevelPayment Settlement-Opera...   \n",
       "4  FDC!HGF#-Initial LevelPayment Settlement-Accou...   \n",
       "\n",
       "                                          complaints  \n",
       "0  [Payment Settlement, Account, Change, General ...  \n",
       "1  [Tech, Operational Capabilities, Browsing, No ...  \n",
       "2  [Tech, Operational Capabilities, Browsing, No ...  \n",
       "3  [Payment Settlement, Operational Capabilities,...  \n",
       "4  [Payment Settlement, Account, General Informat...  "
      ]
     },
     "execution_count": 68,
     "metadata": {},
     "output_type": "execute_result"
    }
   ],
   "source": [
    "train_call_centre_data[\"complaints\"] = train_call_centre_data[\"Full Statement of the Enquiry\"].apply(modify_complaint2)\n",
    "print np.sum(train_call_centre_data.isnull())\n",
    "train_call_centre_data.head()\n",
    "# To be grouped into - Operational Inquiry, Payment Settlements, Utilities, Account"
   ]
  },
  {
   "cell_type": "code",
   "execution_count": 69,
   "metadata": {
    "collapsed": false
   },
   "outputs": [
    {
     "name": "stderr",
     "output_type": "stream",
     "text": [
      "C:\\Users\\SHIVAM MAHAJAN\\Anaconda\\lib\\site-packages\\ipykernel\\__main__.py:1: SettingWithCopyWarning: \n",
      "A value is trying to be set on a copy of a slice from a DataFrame.\n",
      "Try using .loc[row_indexer,col_indexer] = value instead\n",
      "\n",
      "See the caveats in the documentation: http://pandas.pydata.org/pandas-docs/stable/indexing.html#indexing-view-versus-copy\n",
      "  if __name__ == '__main__':\n"
     ]
    },
    {
     "data": {
      "text/html": [
       "<div>\n",
       "<table border=\"1\" class=\"dataframe\">\n",
       "  <thead>\n",
       "    <tr style=\"text-align: right;\">\n",
       "      <th></th>\n",
       "      <th>Account Number</th>\n",
       "      <th>Query Date</th>\n",
       "      <th>Full Statement of the Enquiry</th>\n",
       "      <th>complaints</th>\n",
       "    </tr>\n",
       "  </thead>\n",
       "  <tbody>\n",
       "    <tr>\n",
       "      <th>0</th>\n",
       "      <td>M2</td>\n",
       "      <td>2015-03-12</td>\n",
       "      <td>FDAEDBG!-Initial LevelPayment Settlement-Accou...</td>\n",
       "      <td>[payment, account]</td>\n",
       "    </tr>\n",
       "    <tr>\n",
       "      <th>1</th>\n",
       "      <td>M2</td>\n",
       "      <td>2015-03-15</td>\n",
       "      <td>FDA!CEGD-Initial LevelTech-Operational Capabil...</td>\n",
       "      <td>[operation]</td>\n",
       "    </tr>\n",
       "    <tr>\n",
       "      <th>2</th>\n",
       "      <td>M2</td>\n",
       "      <td>2015-03-25</td>\n",
       "      <td>FDCE#GHA-Initial LevelTech-Operational Capabil...</td>\n",
       "      <td>[operation]</td>\n",
       "    </tr>\n",
       "    <tr>\n",
       "      <th>3</th>\n",
       "      <td>M2</td>\n",
       "      <td>2015-03-28</td>\n",
       "      <td>FDC#FAAD-Initial LevelPayment Settlement-Opera...</td>\n",
       "      <td>[payment, operation]</td>\n",
       "    </tr>\n",
       "    <tr>\n",
       "      <th>4</th>\n",
       "      <td>M2</td>\n",
       "      <td>2015-03-29</td>\n",
       "      <td>FDC!HGF#-Initial LevelPayment Settlement-Accou...</td>\n",
       "      <td>[payment, account]</td>\n",
       "    </tr>\n",
       "  </tbody>\n",
       "</table>\n",
       "</div>"
      ],
      "text/plain": [
       "  Account Number Query Date  \\\n",
       "0             M2 2015-03-12   \n",
       "1             M2 2015-03-15   \n",
       "2             M2 2015-03-25   \n",
       "3             M2 2015-03-28   \n",
       "4             M2 2015-03-29   \n",
       "\n",
       "                       Full Statement of the Enquiry            complaints  \n",
       "0  FDAEDBG!-Initial LevelPayment Settlement-Accou...    [payment, account]  \n",
       "1  FDA!CEGD-Initial LevelTech-Operational Capabil...           [operation]  \n",
       "2  FDCE#GHA-Initial LevelTech-Operational Capabil...           [operation]  \n",
       "3  FDC#FAAD-Initial LevelPayment Settlement-Opera...  [payment, operation]  \n",
       "4  FDC!HGF#-Initial LevelPayment Settlement-Accou...    [payment, account]  "
      ]
     },
     "execution_count": 69,
     "metadata": {},
     "output_type": "execute_result"
    }
   ],
   "source": [
    "train_call_centre_data[\"complaints\"] = train_call_centre_data[\"Full Statement of the Enquiry\"].apply(modify_complaint)\n",
    "train_call_centre_data.head()"
   ]
  },
  {
   "cell_type": "code",
   "execution_count": 75,
   "metadata": {
    "collapsed": true
   },
   "outputs": [],
   "source": [
    "def union(x):\n",
    "    li = []\n",
    "    for i in range(len(x)):\n",
    "        li = list(set(x.iloc[i]) | set(li))\n",
    "    return li"
   ]
  },
  {
   "cell_type": "code",
   "execution_count": 76,
   "metadata": {
    "collapsed": false
   },
   "outputs": [
    {
     "data": {
      "text/plain": [
       "Account Number\n",
       "M100                      [payment]\n",
       "M1002                     [payment]\n",
       "M1007            [account, payment]\n",
       "M101     [account, utilit, payment]\n",
       "M1010                   [operation]\n",
       "Name: complaints, dtype: object"
      ]
     },
     "execution_count": 76,
     "metadata": {},
     "output_type": "execute_result"
    }
   ],
   "source": [
    "complaints_of_different_accounts = train_call_centre_data.groupby(train_call_centre_data[\"Account Number\"])\\\n",
    "                                                                                            [\"complaints\"].apply(union)\n",
    "complaints_of_different_accounts.head()"
   ]
  },
  {
   "cell_type": "code",
   "execution_count": 77,
   "metadata": {
    "collapsed": false
   },
   "outputs": [],
   "source": [
    "complaints_count = {\n",
    "}\n",
    "for i in range(len(complaints_of_different_accounts)):\n",
    "    for comp in complaints_of_different_accounts[i]:\n",
    "        complaints_count[comp] = complaints_count.get(comp,0) + 1"
   ]
  },
  {
   "cell_type": "code",
   "execution_count": 78,
   "metadata": {
    "collapsed": false
   },
   "outputs": [
    {
     "data": {
      "text/plain": [
       "{'account': 1609, 'operation': 1329, 'payment': 2753, 'utilit': 355}"
      ]
     },
     "execution_count": 78,
     "metadata": {},
     "output_type": "execute_result"
    }
   ],
   "source": [
    "complaints_count"
   ]
  },
  {
   "cell_type": "markdown",
   "metadata": {},
   "source": [
    "### Solution 3"
   ]
  },
  {
   "cell_type": "code",
   "execution_count": 80,
   "metadata": {
    "collapsed": false
   },
   "outputs": [
    {
     "data": {
      "text/plain": [
       "(4986, 15)"
      ]
     },
     "execution_count": 80,
     "metadata": {},
     "output_type": "execute_result"
    }
   ],
   "source": [
    "test_demo_data.shape"
   ]
  },
  {
   "cell_type": "code",
   "execution_count": 81,
   "metadata": {
    "collapsed": false
   },
   "outputs": [
    {
     "data": {
      "text/plain": [
       "(9966, 15)"
      ]
     },
     "execution_count": 81,
     "metadata": {},
     "output_type": "execute_result"
    }
   ],
   "source": [
    "demo_data.shape"
   ]
  },
  {
   "cell_type": "code",
   "execution_count": 84,
   "metadata": {
    "collapsed": false
   },
   "outputs": [
    {
     "data": {
      "text/plain": [
       "Index([u'Account Number', u'Commence Date', u'Address', u'Scheme', u'Staus',\n",
       "       u'Gender', u'Region ', u' Sale of Equipment Status', u'Age',\n",
       "       u'Equipment Warranty', u'Salary Slab', u'Professional Info',\n",
       "       u'Age of Home', u'Equipment Warranty Expiry Date', u'Churn Date'],\n",
       "      dtype='object')"
      ]
     },
     "execution_count": 84,
     "metadata": {},
     "output_type": "execute_result"
    }
   ],
   "source": [
    "test_demo_data.columns"
   ]
  },
  {
   "cell_type": "code",
   "execution_count": null,
   "metadata": {
    "collapsed": true
   },
   "outputs": [],
   "source": [
    "# Features X - Commence data(ordinal), Scheme(Nominal), Gender, Region, Age, Salary Slab, Professional info, Age of home, GB, hrs used, default sum\n",
    "# Churn Date - y"
   ]
  },
  {
   "cell_type": "markdown",
   "metadata": {},
   "source": [
    "#### Things to cover - Cross Validation, Test validation, KS- Test, Ballanced Accuracy, AUC. ( For validation purpose )"
   ]
  },
  {
   "cell_type": "markdown",
   "metadata": {},
   "source": [
    "### Data Processing for training dataset."
   ]
  },
  {
   "cell_type": "code",
   "execution_count": 90,
   "metadata": {
    "collapsed": false
   },
   "outputs": [
    {
     "data": {
      "text/plain": [
       "(9644L,)"
      ]
     },
     "execution_count": 90,
     "metadata": {},
     "output_type": "execute_result"
    }
   ],
   "source": [
    "train_mean_payment_data = train_payments_data.groupby(train_payments_data[\"Account Number\"])[\"Sum\"].mean()\n",
    "train_mean_payment_data.shape"
   ]
  },
  {
   "cell_type": "code",
   "execution_count": 89,
   "metadata": {
    "collapsed": false
   },
   "outputs": [
    {
     "data": {
      "text/plain": [
       "Index([u'Account Number', u'Realization Date', u'Sum', u'Mode '], dtype='object')"
      ]
     },
     "execution_count": 89,
     "metadata": {},
     "output_type": "execute_result"
    }
   ],
   "source": [
    "train_payments_data.columns"
   ]
  },
  {
   "cell_type": "code",
   "execution_count": 91,
   "metadata": {
    "collapsed": false
   },
   "outputs": [
    {
     "data": {
      "text/plain": [
       "9221"
      ]
     },
     "execution_count": 91,
     "metadata": {},
     "output_type": "execute_result"
    }
   ],
   "source": [
    "train_payments_data.shape[0]/3"
   ]
  },
  {
   "cell_type": "code",
   "execution_count": 92,
   "metadata": {
    "collapsed": false
   },
   "outputs": [
    {
     "data": {
      "text/plain": [
       "9644"
      ]
     },
     "execution_count": 92,
     "metadata": {},
     "output_type": "execute_result"
    }
   ],
   "source": [
    "len(np.unique(train_payments_data[\"Account Number\"]))"
   ]
  },
  {
   "cell_type": "code",
   "execution_count": 94,
   "metadata": {
    "collapsed": false
   },
   "outputs": [
    {
     "data": {
      "text/plain": [
       "14082"
      ]
     },
     "execution_count": 94,
     "metadata": {},
     "output_type": "execute_result"
    }
   ],
   "source": [
    "len(np.unique(payments_data[\"Account Number\"]))"
   ]
  },
  {
   "cell_type": "code",
   "execution_count": 97,
   "metadata": {
    "collapsed": false
   },
   "outputs": [
    {
     "data": {
      "text/plain": [
       "14952"
      ]
     },
     "execution_count": 97,
     "metadata": {},
     "output_type": "execute_result"
    }
   ],
   "source": [
    "len(np.unique(demo_data[\"Account Number\"])) + len(np.unique(test_demo_data[\"Account Number\"]))"
   ]
  },
  {
   "cell_type": "markdown",
   "metadata": {},
   "source": [
    "##### So clearly Payment data of sum of the customers is missing"
   ]
  },
  {
   "cell_type": "code",
   "execution_count": 99,
   "metadata": {
    "collapsed": true
   },
   "outputs": [],
   "source": [
    "# Lets use just demo data for classifier."
   ]
  },
  {
   "cell_type": "code",
   "execution_count": 100,
   "metadata": {
    "collapsed": false
   },
   "outputs": [
    {
     "data": {
      "text/plain": [
       "Account Number                       0\n",
       "Commence Date                        3\n",
       "Address                            386\n",
       "Scheme                               0\n",
       "Staus                                0\n",
       "Gender                            1368\n",
       "Region                               0\n",
       " Sale of Equipment Status            0\n",
       "Age                               2013\n",
       "Equipment Warranty                 408\n",
       "Salary Slab                       1351\n",
       "Professional Info                 1351\n",
       "Age of Home                       1351\n",
       "Equipment Warranty Expiry Date     408\n",
       "Churn Date                        9460\n",
       "dtype: int64"
      ]
     },
     "execution_count": 100,
     "metadata": {},
     "output_type": "execute_result"
    }
   ],
   "source": [
    "demo_data.isnull().sum()"
   ]
  },
  {
   "cell_type": "code",
   "execution_count": 106,
   "metadata": {
    "collapsed": false
   },
   "outputs": [],
   "source": [
    "# Commence datae - Median, Gender - Max, Age - Median, Equipmenwaranty - Median, Salary Slab - Median, Professional Info\n",
    "# median, Salary slab - median, Age of home - medianRemove churn date, create new column - churner - Boolean"
   ]
  },
  {
   "cell_type": "code",
   "execution_count": 110,
   "metadata": {
    "collapsed": false
   },
   "outputs": [
    {
     "data": {
      "text/plain": [
       "(9966, 16)"
      ]
     },
     "execution_count": 110,
     "metadata": {},
     "output_type": "execute_result"
    }
   ],
   "source": [
    "demo_data.shape"
   ]
  },
  {
   "cell_type": "code",
   "execution_count": 111,
   "metadata": {
    "collapsed": false
   },
   "outputs": [],
   "source": [
    "# Just 506 churners"
   ]
  },
  {
   "cell_type": "code",
   "execution_count": 114,
   "metadata": {
    "collapsed": false
   },
   "outputs": [
    {
     "data": {
      "text/plain": [
       "Male      4635\n",
       "Female    3963\n",
       "Name: Gender, dtype: int64"
      ]
     },
     "execution_count": 114,
     "metadata": {},
     "output_type": "execute_result"
    }
   ],
   "source": [
    "demo_data.Gender.value_counts()"
   ]
  },
  {
   "cell_type": "markdown",
   "metadata": {},
   "source": [
    "### Actual Processing Starts from here"
   ]
  },
  {
   "cell_type": "code",
   "execution_count": 139,
   "metadata": {
    "collapsed": false
   },
   "outputs": [
    {
     "data": {
      "text/html": [
       "<div>\n",
       "<table border=\"1\" class=\"dataframe\">\n",
       "  <thead>\n",
       "    <tr style=\"text-align: right;\">\n",
       "      <th></th>\n",
       "      <th>Account Number</th>\n",
       "      <th>Commence Date</th>\n",
       "      <th>Scheme</th>\n",
       "      <th>Gender</th>\n",
       "      <th>Region</th>\n",
       "      <th>Sale of Equipment Status</th>\n",
       "      <th>Age</th>\n",
       "      <th>Equipment Warranty</th>\n",
       "      <th>Salary Slab</th>\n",
       "      <th>Professional Info</th>\n",
       "      <th>Age of Home</th>\n",
       "      <th>Equipment Warranty Expiry Date</th>\n",
       "      <th>Churners</th>\n",
       "    </tr>\n",
       "  </thead>\n",
       "  <tbody>\n",
       "    <tr>\n",
       "      <th>0</th>\n",
       "      <td>M1</td>\n",
       "      <td>2011-11-04</td>\n",
       "      <td>KLA</td>\n",
       "      <td>Female</td>\n",
       "      <td>Northern</td>\n",
       "      <td>RENTED</td>\n",
       "      <td>70</td>\n",
       "      <td>Three Full Years</td>\n",
       "      <td>5</td>\n",
       "      <td>0</td>\n",
       "      <td>17</td>\n",
       "      <td>2015-04-03</td>\n",
       "      <td>0</td>\n",
       "    </tr>\n",
       "    <tr>\n",
       "      <th>1</th>\n",
       "      <td>M2</td>\n",
       "      <td>2011-11-28</td>\n",
       "      <td>PPL</td>\n",
       "      <td>Female</td>\n",
       "      <td>Western</td>\n",
       "      <td>RENTED</td>\n",
       "      <td>55</td>\n",
       "      <td>Three Full Years</td>\n",
       "      <td>7</td>\n",
       "      <td>0</td>\n",
       "      <td>22</td>\n",
       "      <td>2015-04-03</td>\n",
       "      <td>0</td>\n",
       "    </tr>\n",
       "    <tr>\n",
       "      <th>2</th>\n",
       "      <td>M3</td>\n",
       "      <td>2011-12-06</td>\n",
       "      <td>KLA</td>\n",
       "      <td>Male</td>\n",
       "      <td>Eastern</td>\n",
       "      <td>RENTED</td>\n",
       "      <td>64</td>\n",
       "      <td>Three Full Years</td>\n",
       "      <td>1</td>\n",
       "      <td>5</td>\n",
       "      <td>17</td>\n",
       "      <td>2016-04-03</td>\n",
       "      <td>0</td>\n",
       "    </tr>\n",
       "    <tr>\n",
       "      <th>3</th>\n",
       "      <td>M4</td>\n",
       "      <td>2011-10-28</td>\n",
       "      <td>MXX</td>\n",
       "      <td>Female</td>\n",
       "      <td>Northern</td>\n",
       "      <td>RENTED</td>\n",
       "      <td>66</td>\n",
       "      <td>Three Full Years</td>\n",
       "      <td>6</td>\n",
       "      <td>14</td>\n",
       "      <td>22</td>\n",
       "      <td>2015-04-03</td>\n",
       "      <td>0</td>\n",
       "    </tr>\n",
       "    <tr>\n",
       "      <th>4</th>\n",
       "      <td>M5</td>\n",
       "      <td>2015-01-18</td>\n",
       "      <td>PRP</td>\n",
       "      <td>NaN</td>\n",
       "      <td>Western</td>\n",
       "      <td>RENTED</td>\n",
       "      <td>NaN</td>\n",
       "      <td>Full Year</td>\n",
       "      <td>NaN</td>\n",
       "      <td>NaN</td>\n",
       "      <td>NaN</td>\n",
       "      <td>2016-01-03</td>\n",
       "      <td>0</td>\n",
       "    </tr>\n",
       "  </tbody>\n",
       "</table>\n",
       "</div>"
      ],
      "text/plain": [
       "  Account Number Commence Date Scheme  Gender   Region   \\\n",
       "0             M1    2011-11-04    KLA  Female  Northern   \n",
       "1             M2    2011-11-28    PPL  Female   Western   \n",
       "2             M3    2011-12-06    KLA    Male   Eastern   \n",
       "3             M4    2011-10-28    MXX  Female  Northern   \n",
       "4             M5    2015-01-18    PRP     NaN   Western   \n",
       "\n",
       "   Sale of Equipment Status  Age Equipment Warranty  Salary Slab  \\\n",
       "0                    RENTED   70   Three Full Years            5   \n",
       "1                    RENTED   55   Three Full Years            7   \n",
       "2                    RENTED   64   Three Full Years            1   \n",
       "3                    RENTED   66   Three Full Years            6   \n",
       "4                    RENTED  NaN          Full Year          NaN   \n",
       "\n",
       "   Professional Info  Age of Home Equipment Warranty Expiry Date  Churners  \n",
       "0                  0           17                     2015-04-03         0  \n",
       "1                  0           22                     2015-04-03         0  \n",
       "2                  5           17                     2016-04-03         0  \n",
       "3                 14           22                     2015-04-03         0  \n",
       "4                NaN          NaN                     2016-01-03         0  "
      ]
     },
     "execution_count": 139,
     "metadata": {},
     "output_type": "execute_result"
    }
   ],
   "source": [
    "demo_data.head()"
   ]
  },
  {
   "cell_type": "code",
   "execution_count": 162,
   "metadata": {
    "collapsed": false
   },
   "outputs": [
    {
     "data": {
      "text/plain": [
       "0    9460\n",
       "1     506\n",
       "Name: Churners, dtype: int64"
      ]
     },
     "execution_count": 162,
     "metadata": {},
     "output_type": "execute_result"
    }
   ],
   "source": [
    "df_demo = demo_data.copy()\n",
    "df_demo[\"Churners\"] = df_demo[\"Churners\"].astype(int)\n",
    "df_demo[\"Churners\"].value_counts()"
   ]
  },
  {
   "cell_type": "code",
   "execution_count": 168,
   "metadata": {
    "collapsed": false
   },
   "outputs": [],
   "source": [
    "#df_demo.__delitem__(\"Churn Date\")\n",
    "#df_demo.__delitem__(\"Address\")\n",
    "#df_demo.__delitem__(\"Staus\")\n",
    "#df_demo.__delitem__(\" Sale of Equipment Status\")\n",
    "#df_demo.__delitem__(\"Equipment Warranty\")\n",
    "#df_demo.__delitem__(\"Equipment Warranty Expiry Date\")"
   ]
  },
  {
   "cell_type": "code",
   "execution_count": 167,
   "metadata": {
    "collapsed": false
   },
   "outputs": [
    {
     "data": {
      "text/html": [
       "<div>\n",
       "<table border=\"1\" class=\"dataframe\">\n",
       "  <thead>\n",
       "    <tr style=\"text-align: right;\">\n",
       "      <th></th>\n",
       "      <th>Account Number</th>\n",
       "      <th>Commence Date</th>\n",
       "      <th>Scheme</th>\n",
       "      <th>Gender</th>\n",
       "      <th>Region</th>\n",
       "      <th>Age</th>\n",
       "      <th>Salary Slab</th>\n",
       "      <th>Professional Info</th>\n",
       "      <th>Age of Home</th>\n",
       "      <th>Churners</th>\n",
       "    </tr>\n",
       "  </thead>\n",
       "  <tbody>\n",
       "    <tr>\n",
       "      <th>0</th>\n",
       "      <td>M1</td>\n",
       "      <td>2011-11-04</td>\n",
       "      <td>KLA</td>\n",
       "      <td>Female</td>\n",
       "      <td>Northern</td>\n",
       "      <td>70</td>\n",
       "      <td>5</td>\n",
       "      <td>0</td>\n",
       "      <td>17</td>\n",
       "      <td>0</td>\n",
       "    </tr>\n",
       "    <tr>\n",
       "      <th>1</th>\n",
       "      <td>M2</td>\n",
       "      <td>2011-11-28</td>\n",
       "      <td>PPL</td>\n",
       "      <td>Female</td>\n",
       "      <td>Western</td>\n",
       "      <td>55</td>\n",
       "      <td>7</td>\n",
       "      <td>0</td>\n",
       "      <td>22</td>\n",
       "      <td>0</td>\n",
       "    </tr>\n",
       "    <tr>\n",
       "      <th>2</th>\n",
       "      <td>M3</td>\n",
       "      <td>2011-12-06</td>\n",
       "      <td>KLA</td>\n",
       "      <td>Male</td>\n",
       "      <td>Eastern</td>\n",
       "      <td>64</td>\n",
       "      <td>1</td>\n",
       "      <td>5</td>\n",
       "      <td>17</td>\n",
       "      <td>0</td>\n",
       "    </tr>\n",
       "    <tr>\n",
       "      <th>3</th>\n",
       "      <td>M4</td>\n",
       "      <td>2011-10-28</td>\n",
       "      <td>MXX</td>\n",
       "      <td>Female</td>\n",
       "      <td>Northern</td>\n",
       "      <td>66</td>\n",
       "      <td>6</td>\n",
       "      <td>14</td>\n",
       "      <td>22</td>\n",
       "      <td>0</td>\n",
       "    </tr>\n",
       "    <tr>\n",
       "      <th>4</th>\n",
       "      <td>M5</td>\n",
       "      <td>2015-01-18</td>\n",
       "      <td>PRP</td>\n",
       "      <td>NaN</td>\n",
       "      <td>Western</td>\n",
       "      <td>NaN</td>\n",
       "      <td>NaN</td>\n",
       "      <td>NaN</td>\n",
       "      <td>NaN</td>\n",
       "      <td>0</td>\n",
       "    </tr>\n",
       "  </tbody>\n",
       "</table>\n",
       "</div>"
      ],
      "text/plain": [
       "  Account Number Commence Date Scheme  Gender   Region   Age  Salary Slab  \\\n",
       "0             M1    2011-11-04    KLA  Female  Northern   70            5   \n",
       "1             M2    2011-11-28    PPL  Female   Western   55            7   \n",
       "2             M3    2011-12-06    KLA    Male   Eastern   64            1   \n",
       "3             M4    2011-10-28    MXX  Female  Northern   66            6   \n",
       "4             M5    2015-01-18    PRP     NaN   Western  NaN          NaN   \n",
       "\n",
       "   Professional Info  Age of Home  Churners  \n",
       "0                  0           17         0  \n",
       "1                  0           22         0  \n",
       "2                  5           17         0  \n",
       "3                 14           22         0  \n",
       "4                NaN          NaN         0  "
      ]
     },
     "execution_count": 167,
     "metadata": {},
     "output_type": "execute_result"
    }
   ],
   "source": [
    "df_demo.head()"
   ]
  },
  {
   "cell_type": "code",
   "execution_count": 177,
   "metadata": {
    "collapsed": false
   },
   "outputs": [
    {
     "data": {
      "text/html": [
       "<div>\n",
       "<table border=\"1\" class=\"dataframe\">\n",
       "  <thead>\n",
       "    <tr style=\"text-align: right;\">\n",
       "      <th></th>\n",
       "      <th>Account Number</th>\n",
       "      <th>Sum</th>\n",
       "    </tr>\n",
       "  </thead>\n",
       "  <tbody>\n",
       "    <tr>\n",
       "      <th>0</th>\n",
       "      <td>M1</td>\n",
       "      <td>1209.810</td>\n",
       "    </tr>\n",
       "    <tr>\n",
       "      <th>1</th>\n",
       "      <td>M10</td>\n",
       "      <td>1171.695</td>\n",
       "    </tr>\n",
       "    <tr>\n",
       "      <th>2</th>\n",
       "      <td>M1000</td>\n",
       "      <td>868.140</td>\n",
       "    </tr>\n",
       "    <tr>\n",
       "      <th>3</th>\n",
       "      <td>M10000</td>\n",
       "      <td>974.575</td>\n",
       "    </tr>\n",
       "    <tr>\n",
       "      <th>4</th>\n",
       "      <td>M1001</td>\n",
       "      <td>965.370</td>\n",
       "    </tr>\n",
       "  </tbody>\n",
       "</table>\n",
       "</div>"
      ],
      "text/plain": [
       "  Account Number       Sum\n",
       "0             M1  1209.810\n",
       "1            M10  1171.695\n",
       "2          M1000   868.140\n",
       "3         M10000   974.575\n",
       "4          M1001   965.370"
      ]
     },
     "execution_count": 177,
     "metadata": {},
     "output_type": "execute_result"
    }
   ],
   "source": [
    "#train_mean_payment_data.__delitem__(\"Account Number\")\n",
    "#train_mean_payment_data.reset_index(level = 0, inplace = True)\n",
    "train_mean_payment_data.__delitem__(\"level_0\")\n",
    "train_mean_payment_data.head()"
   ]
  },
  {
   "cell_type": "code",
   "execution_count": 413,
   "metadata": {
    "collapsed": false
   },
   "outputs": [
    {
     "data": {
      "text/html": [
       "<div>\n",
       "<table border=\"1\" class=\"dataframe\">\n",
       "  <thead>\n",
       "    <tr style=\"text-align: right;\">\n",
       "      <th></th>\n",
       "      <th>Account Number</th>\n",
       "      <th>Commence Date</th>\n",
       "      <th>Scheme</th>\n",
       "      <th>Gender</th>\n",
       "      <th>Region</th>\n",
       "      <th>Age</th>\n",
       "      <th>Salary Slab</th>\n",
       "      <th>Professional Info</th>\n",
       "      <th>Age of Home</th>\n",
       "      <th>Churners</th>\n",
       "      <th>Sum</th>\n",
       "    </tr>\n",
       "  </thead>\n",
       "  <tbody>\n",
       "    <tr>\n",
       "      <th>0</th>\n",
       "      <td>M1</td>\n",
       "      <td>2011-11-04</td>\n",
       "      <td>KLA</td>\n",
       "      <td>Female</td>\n",
       "      <td>Northern</td>\n",
       "      <td>70</td>\n",
       "      <td>5</td>\n",
       "      <td>0</td>\n",
       "      <td>17</td>\n",
       "      <td>0</td>\n",
       "      <td>1209.810</td>\n",
       "    </tr>\n",
       "    <tr>\n",
       "      <th>1</th>\n",
       "      <td>M2</td>\n",
       "      <td>2011-11-28</td>\n",
       "      <td>PPL</td>\n",
       "      <td>Female</td>\n",
       "      <td>Western</td>\n",
       "      <td>55</td>\n",
       "      <td>7</td>\n",
       "      <td>0</td>\n",
       "      <td>22</td>\n",
       "      <td>0</td>\n",
       "      <td>751.695</td>\n",
       "    </tr>\n",
       "    <tr>\n",
       "      <th>2</th>\n",
       "      <td>M3</td>\n",
       "      <td>2011-12-06</td>\n",
       "      <td>KLA</td>\n",
       "      <td>Male</td>\n",
       "      <td>Eastern</td>\n",
       "      <td>64</td>\n",
       "      <td>1</td>\n",
       "      <td>5</td>\n",
       "      <td>17</td>\n",
       "      <td>0</td>\n",
       "      <td>1064.385</td>\n",
       "    </tr>\n",
       "    <tr>\n",
       "      <th>3</th>\n",
       "      <td>M4</td>\n",
       "      <td>2011-10-28</td>\n",
       "      <td>MXX</td>\n",
       "      <td>Female</td>\n",
       "      <td>Northern</td>\n",
       "      <td>66</td>\n",
       "      <td>6</td>\n",
       "      <td>14</td>\n",
       "      <td>22</td>\n",
       "      <td>0</td>\n",
       "      <td>1375.500</td>\n",
       "    </tr>\n",
       "    <tr>\n",
       "      <th>4</th>\n",
       "      <td>M5</td>\n",
       "      <td>2015-01-18</td>\n",
       "      <td>PRP</td>\n",
       "      <td>NaN</td>\n",
       "      <td>Western</td>\n",
       "      <td>NaN</td>\n",
       "      <td>NaN</td>\n",
       "      <td>NaN</td>\n",
       "      <td>NaN</td>\n",
       "      <td>0</td>\n",
       "      <td>872.060</td>\n",
       "    </tr>\n",
       "  </tbody>\n",
       "</table>\n",
       "</div>"
      ],
      "text/plain": [
       "  Account Number Commence Date Scheme  Gender   Region   Age  Salary Slab  \\\n",
       "0             M1    2011-11-04    KLA  Female  Northern   70            5   \n",
       "1             M2    2011-11-28    PPL  Female   Western   55            7   \n",
       "2             M3    2011-12-06    KLA    Male   Eastern   64            1   \n",
       "3             M4    2011-10-28    MXX  Female  Northern   66            6   \n",
       "4             M5    2015-01-18    PRP     NaN   Western  NaN          NaN   \n",
       "\n",
       "   Professional Info  Age of Home  Churners       Sum  \n",
       "0                  0           17         0  1209.810  \n",
       "1                  0           22         0   751.695  \n",
       "2                  5           17         0  1064.385  \n",
       "3                 14           22         0  1375.500  \n",
       "4                NaN          NaN         0   872.060  "
      ]
     },
     "execution_count": 413,
     "metadata": {},
     "output_type": "execute_result"
    }
   ],
   "source": [
    "df_data = pd.merge(df_demo, pd.DataFrame(train_mean_payment_data), on = \"Account Number\", how = \"outer\")\n",
    "df_data.head()"
   ]
  },
  {
   "cell_type": "code",
   "execution_count": 414,
   "metadata": {
    "collapsed": false
   },
   "outputs": [
    {
     "data": {
      "text/plain": [
       "(9644, 2)"
      ]
     },
     "execution_count": 414,
     "metadata": {},
     "output_type": "execute_result"
    }
   ],
   "source": [
    "train_mean_payment_data.shape"
   ]
  },
  {
   "cell_type": "code",
   "execution_count": 415,
   "metadata": {
    "collapsed": false
   },
   "outputs": [
    {
     "data": {
      "text/plain": [
       "322"
      ]
     },
     "execution_count": 415,
     "metadata": {},
     "output_type": "execute_result"
    }
   ],
   "source": [
    "df_data.Sum.isnull().sum()"
   ]
  },
  {
   "cell_type": "code",
   "execution_count": 416,
   "metadata": {
    "collapsed": false
   },
   "outputs": [
    {
     "data": {
      "text/plain": [
       "Account Number\n",
       "M100                      [payment]\n",
       "M1002                     [payment]\n",
       "M1007            [account, payment]\n",
       "M101     [account, utilit, payment]\n",
       "M1010                   [operation]\n",
       "Name: complaints, dtype: object"
      ]
     },
     "execution_count": 416,
     "metadata": {},
     "output_type": "execute_result"
    }
   ],
   "source": [
    "complaints_of_different_accounts.head()"
   ]
  },
  {
   "cell_type": "code",
   "execution_count": 417,
   "metadata": {
    "collapsed": false
   },
   "outputs": [],
   "source": [
    "complaints_array = np.zeros((complaints_of_different_accounts.shape[0],4))"
   ]
  },
  {
   "cell_type": "code",
   "execution_count": 418,
   "metadata": {
    "collapsed": false
   },
   "outputs": [
    {
     "data": {
      "text/plain": [
       "Index([u'M100', u'M1002', u'M1007', u'M101', u'M1010', u'M1012', u'M1015',\n",
       "       u'M1019', u'M1022', u'M103',\n",
       "       ...\n",
       "       u'M9965', u'M9971', u'M9972', u'M9976', u'M998', u'M9982', u'M9983',\n",
       "       u'M9985', u'M9996', u'M9998'],\n",
       "      dtype='object', name=u'Account Number', length=3570)"
      ]
     },
     "execution_count": 418,
     "metadata": {},
     "output_type": "execute_result"
    }
   ],
   "source": [
    "complaints_of_different_accounts.index"
   ]
  },
  {
   "cell_type": "code",
   "execution_count": 419,
   "metadata": {
    "collapsed": false
   },
   "outputs": [],
   "source": [
    "complaints = {\n",
    "    \"payment\": 0,\n",
    "    \"account\": 1,\n",
    "    \"utilit\" : 2,\n",
    "    \"operation\": 3\n",
    "}\n",
    "for count,acc in zip(np.arange(3570), complaints_of_different_accounts.index):\n",
    "    for comp in complaints_of_different_accounts[acc]:\n",
    "        complaints_array[count, complaints[comp]] = 1"
   ]
  },
  {
   "cell_type": "code",
   "execution_count": 420,
   "metadata": {
    "collapsed": false
   },
   "outputs": [],
   "source": [
    "df_complaints_array = pd.DataFrame(complaints_array,columns=[\"payment_complaint\",\"account_complaint\",\"utility_complaint\",\"operation_complaint\"])\n",
    "df_complaints_array[\"Account Number\"] = complaints_of_different_accounts.index"
   ]
  },
  {
   "cell_type": "code",
   "execution_count": 421,
   "metadata": {
    "collapsed": false
   },
   "outputs": [
    {
     "data": {
      "text/html": [
       "<div>\n",
       "<table border=\"1\" class=\"dataframe\">\n",
       "  <thead>\n",
       "    <tr style=\"text-align: right;\">\n",
       "      <th></th>\n",
       "      <th>payment_complaint</th>\n",
       "      <th>account_complaint</th>\n",
       "      <th>utility_complaint</th>\n",
       "      <th>operation_complaint</th>\n",
       "      <th>Account Number</th>\n",
       "    </tr>\n",
       "  </thead>\n",
       "  <tbody>\n",
       "    <tr>\n",
       "      <th>0</th>\n",
       "      <td>1</td>\n",
       "      <td>0</td>\n",
       "      <td>0</td>\n",
       "      <td>0</td>\n",
       "      <td>M100</td>\n",
       "    </tr>\n",
       "    <tr>\n",
       "      <th>1</th>\n",
       "      <td>1</td>\n",
       "      <td>0</td>\n",
       "      <td>0</td>\n",
       "      <td>0</td>\n",
       "      <td>M1002</td>\n",
       "    </tr>\n",
       "    <tr>\n",
       "      <th>2</th>\n",
       "      <td>1</td>\n",
       "      <td>1</td>\n",
       "      <td>0</td>\n",
       "      <td>0</td>\n",
       "      <td>M1007</td>\n",
       "    </tr>\n",
       "    <tr>\n",
       "      <th>3</th>\n",
       "      <td>1</td>\n",
       "      <td>1</td>\n",
       "      <td>1</td>\n",
       "      <td>0</td>\n",
       "      <td>M101</td>\n",
       "    </tr>\n",
       "    <tr>\n",
       "      <th>4</th>\n",
       "      <td>0</td>\n",
       "      <td>0</td>\n",
       "      <td>0</td>\n",
       "      <td>1</td>\n",
       "      <td>M1010</td>\n",
       "    </tr>\n",
       "  </tbody>\n",
       "</table>\n",
       "</div>"
      ],
      "text/plain": [
       "   payment_complaint  account_complaint  utility_complaint  \\\n",
       "0                  1                  0                  0   \n",
       "1                  1                  0                  0   \n",
       "2                  1                  1                  0   \n",
       "3                  1                  1                  1   \n",
       "4                  0                  0                  0   \n",
       "\n",
       "   operation_complaint Account Number  \n",
       "0                    0           M100  \n",
       "1                    0          M1002  \n",
       "2                    0          M1007  \n",
       "3                    0           M101  \n",
       "4                    1          M1010  "
      ]
     },
     "execution_count": 421,
     "metadata": {},
     "output_type": "execute_result"
    }
   ],
   "source": [
    "df_complaints_array.head()"
   ]
  },
  {
   "cell_type": "code",
   "execution_count": 422,
   "metadata": {
    "collapsed": false
   },
   "outputs": [
    {
     "data": {
      "text/html": [
       "<div>\n",
       "<table border=\"1\" class=\"dataframe\">\n",
       "  <thead>\n",
       "    <tr style=\"text-align: right;\">\n",
       "      <th></th>\n",
       "      <th>Account Number</th>\n",
       "      <th>Commence Date</th>\n",
       "      <th>Scheme</th>\n",
       "      <th>Gender</th>\n",
       "      <th>Region</th>\n",
       "      <th>Age</th>\n",
       "      <th>Salary Slab</th>\n",
       "      <th>Professional Info</th>\n",
       "      <th>Age of Home</th>\n",
       "      <th>Churners</th>\n",
       "      <th>Sum</th>\n",
       "      <th>payment_complaint</th>\n",
       "      <th>account_complaint</th>\n",
       "      <th>utility_complaint</th>\n",
       "      <th>operation_complaint</th>\n",
       "    </tr>\n",
       "  </thead>\n",
       "  <tbody>\n",
       "    <tr>\n",
       "      <th>0</th>\n",
       "      <td>M1</td>\n",
       "      <td>2011-11-04</td>\n",
       "      <td>KLA</td>\n",
       "      <td>Female</td>\n",
       "      <td>Northern</td>\n",
       "      <td>70</td>\n",
       "      <td>5</td>\n",
       "      <td>0</td>\n",
       "      <td>17</td>\n",
       "      <td>0</td>\n",
       "      <td>1209.810</td>\n",
       "      <td>NaN</td>\n",
       "      <td>NaN</td>\n",
       "      <td>NaN</td>\n",
       "      <td>NaN</td>\n",
       "    </tr>\n",
       "    <tr>\n",
       "      <th>1</th>\n",
       "      <td>M2</td>\n",
       "      <td>2011-11-28</td>\n",
       "      <td>PPL</td>\n",
       "      <td>Female</td>\n",
       "      <td>Western</td>\n",
       "      <td>55</td>\n",
       "      <td>7</td>\n",
       "      <td>0</td>\n",
       "      <td>22</td>\n",
       "      <td>0</td>\n",
       "      <td>751.695</td>\n",
       "      <td>1</td>\n",
       "      <td>1</td>\n",
       "      <td>0</td>\n",
       "      <td>1</td>\n",
       "    </tr>\n",
       "    <tr>\n",
       "      <th>2</th>\n",
       "      <td>M3</td>\n",
       "      <td>2011-12-06</td>\n",
       "      <td>KLA</td>\n",
       "      <td>Male</td>\n",
       "      <td>Eastern</td>\n",
       "      <td>64</td>\n",
       "      <td>1</td>\n",
       "      <td>5</td>\n",
       "      <td>17</td>\n",
       "      <td>0</td>\n",
       "      <td>1064.385</td>\n",
       "      <td>NaN</td>\n",
       "      <td>NaN</td>\n",
       "      <td>NaN</td>\n",
       "      <td>NaN</td>\n",
       "    </tr>\n",
       "    <tr>\n",
       "      <th>3</th>\n",
       "      <td>M4</td>\n",
       "      <td>2011-10-28</td>\n",
       "      <td>MXX</td>\n",
       "      <td>Female</td>\n",
       "      <td>Northern</td>\n",
       "      <td>66</td>\n",
       "      <td>6</td>\n",
       "      <td>14</td>\n",
       "      <td>22</td>\n",
       "      <td>0</td>\n",
       "      <td>1375.500</td>\n",
       "      <td>NaN</td>\n",
       "      <td>NaN</td>\n",
       "      <td>NaN</td>\n",
       "      <td>NaN</td>\n",
       "    </tr>\n",
       "    <tr>\n",
       "      <th>4</th>\n",
       "      <td>M5</td>\n",
       "      <td>2015-01-18</td>\n",
       "      <td>PRP</td>\n",
       "      <td>NaN</td>\n",
       "      <td>Western</td>\n",
       "      <td>NaN</td>\n",
       "      <td>NaN</td>\n",
       "      <td>NaN</td>\n",
       "      <td>NaN</td>\n",
       "      <td>0</td>\n",
       "      <td>872.060</td>\n",
       "      <td>0</td>\n",
       "      <td>0</td>\n",
       "      <td>0</td>\n",
       "      <td>0</td>\n",
       "    </tr>\n",
       "  </tbody>\n",
       "</table>\n",
       "</div>"
      ],
      "text/plain": [
       "  Account Number Commence Date Scheme  Gender   Region   Age  Salary Slab  \\\n",
       "0             M1    2011-11-04    KLA  Female  Northern   70            5   \n",
       "1             M2    2011-11-28    PPL  Female   Western   55            7   \n",
       "2             M3    2011-12-06    KLA    Male   Eastern   64            1   \n",
       "3             M4    2011-10-28    MXX  Female  Northern   66            6   \n",
       "4             M5    2015-01-18    PRP     NaN   Western  NaN          NaN   \n",
       "\n",
       "   Professional Info  Age of Home  Churners       Sum  payment_complaint  \\\n",
       "0                  0           17         0  1209.810                NaN   \n",
       "1                  0           22         0   751.695                  1   \n",
       "2                  5           17         0  1064.385                NaN   \n",
       "3                 14           22         0  1375.500                NaN   \n",
       "4                NaN          NaN         0   872.060                  0   \n",
       "\n",
       "   account_complaint  utility_complaint  operation_complaint  \n",
       "0                NaN                NaN                  NaN  \n",
       "1                  1                  0                    1  \n",
       "2                NaN                NaN                  NaN  \n",
       "3                NaN                NaN                  NaN  \n",
       "4                  0                  0                    0  "
      ]
     },
     "execution_count": 422,
     "metadata": {},
     "output_type": "execute_result"
    }
   ],
   "source": [
    "df_data = pd.merge(df_data, df_complaints_array, on = \"Account Number\", how = \"outer\")\n",
    "df_data.head()"
   ]
  },
  {
   "cell_type": "code",
   "execution_count": 423,
   "metadata": {
    "collapsed": false
   },
   "outputs": [
    {
     "data": {
      "text/html": [
       "<div>\n",
       "<table border=\"1\" class=\"dataframe\">\n",
       "  <thead>\n",
       "    <tr style=\"text-align: right;\">\n",
       "      <th></th>\n",
       "      <th>Account Number</th>\n",
       "      <th>Commence Date</th>\n",
       "      <th>Scheme</th>\n",
       "      <th>Gender</th>\n",
       "      <th>Region</th>\n",
       "      <th>Age</th>\n",
       "      <th>Salary Slab</th>\n",
       "      <th>Professional Info</th>\n",
       "      <th>Age of Home</th>\n",
       "      <th>Churners</th>\n",
       "      <th>Sum</th>\n",
       "      <th>payment_complaint</th>\n",
       "      <th>account_complaint</th>\n",
       "      <th>utility_complaint</th>\n",
       "      <th>operation_complaint</th>\n",
       "    </tr>\n",
       "  </thead>\n",
       "  <tbody>\n",
       "    <tr>\n",
       "      <th>0</th>\n",
       "      <td>M1</td>\n",
       "      <td>2011-11-04</td>\n",
       "      <td>KLA</td>\n",
       "      <td>Female</td>\n",
       "      <td>Northern</td>\n",
       "      <td>70</td>\n",
       "      <td>5</td>\n",
       "      <td>0</td>\n",
       "      <td>17</td>\n",
       "      <td>0</td>\n",
       "      <td>1209.810</td>\n",
       "      <td>0</td>\n",
       "      <td>0</td>\n",
       "      <td>0</td>\n",
       "      <td>0</td>\n",
       "    </tr>\n",
       "    <tr>\n",
       "      <th>1</th>\n",
       "      <td>M2</td>\n",
       "      <td>2011-11-28</td>\n",
       "      <td>PPL</td>\n",
       "      <td>Female</td>\n",
       "      <td>Western</td>\n",
       "      <td>55</td>\n",
       "      <td>7</td>\n",
       "      <td>0</td>\n",
       "      <td>22</td>\n",
       "      <td>0</td>\n",
       "      <td>751.695</td>\n",
       "      <td>1</td>\n",
       "      <td>1</td>\n",
       "      <td>0</td>\n",
       "      <td>1</td>\n",
       "    </tr>\n",
       "    <tr>\n",
       "      <th>2</th>\n",
       "      <td>M3</td>\n",
       "      <td>2011-12-06</td>\n",
       "      <td>KLA</td>\n",
       "      <td>Male</td>\n",
       "      <td>Eastern</td>\n",
       "      <td>64</td>\n",
       "      <td>1</td>\n",
       "      <td>5</td>\n",
       "      <td>17</td>\n",
       "      <td>0</td>\n",
       "      <td>1064.385</td>\n",
       "      <td>0</td>\n",
       "      <td>0</td>\n",
       "      <td>0</td>\n",
       "      <td>0</td>\n",
       "    </tr>\n",
       "    <tr>\n",
       "      <th>3</th>\n",
       "      <td>M4</td>\n",
       "      <td>2011-10-28</td>\n",
       "      <td>MXX</td>\n",
       "      <td>Female</td>\n",
       "      <td>Northern</td>\n",
       "      <td>66</td>\n",
       "      <td>6</td>\n",
       "      <td>14</td>\n",
       "      <td>22</td>\n",
       "      <td>0</td>\n",
       "      <td>1375.500</td>\n",
       "      <td>0</td>\n",
       "      <td>0</td>\n",
       "      <td>0</td>\n",
       "      <td>0</td>\n",
       "    </tr>\n",
       "    <tr>\n",
       "      <th>4</th>\n",
       "      <td>M5</td>\n",
       "      <td>2015-01-18</td>\n",
       "      <td>PRP</td>\n",
       "      <td>NaN</td>\n",
       "      <td>Western</td>\n",
       "      <td>NaN</td>\n",
       "      <td>NaN</td>\n",
       "      <td>NaN</td>\n",
       "      <td>NaN</td>\n",
       "      <td>0</td>\n",
       "      <td>872.060</td>\n",
       "      <td>0</td>\n",
       "      <td>0</td>\n",
       "      <td>0</td>\n",
       "      <td>0</td>\n",
       "    </tr>\n",
       "  </tbody>\n",
       "</table>\n",
       "</div>"
      ],
      "text/plain": [
       "  Account Number Commence Date Scheme  Gender   Region   Age  Salary Slab  \\\n",
       "0             M1    2011-11-04    KLA  Female  Northern   70            5   \n",
       "1             M2    2011-11-28    PPL  Female   Western   55            7   \n",
       "2             M3    2011-12-06    KLA    Male   Eastern   64            1   \n",
       "3             M4    2011-10-28    MXX  Female  Northern   66            6   \n",
       "4             M5    2015-01-18    PRP     NaN   Western  NaN          NaN   \n",
       "\n",
       "   Professional Info  Age of Home  Churners       Sum  payment_complaint  \\\n",
       "0                  0           17         0  1209.810                  0   \n",
       "1                  0           22         0   751.695                  1   \n",
       "2                  5           17         0  1064.385                  0   \n",
       "3                 14           22         0  1375.500                  0   \n",
       "4                NaN          NaN         0   872.060                  0   \n",
       "\n",
       "   account_complaint  utility_complaint  operation_complaint  \n",
       "0                  0                  0                    0  \n",
       "1                  1                  0                    1  \n",
       "2                  0                  0                    0  \n",
       "3                  0                  0                    0  \n",
       "4                  0                  0                    0  "
      ]
     },
     "execution_count": 423,
     "metadata": {},
     "output_type": "execute_result"
    }
   ],
   "source": [
    "df_data[[\"payment_complaint\",\"account_complaint\",\"utility_complaint\", \"operation_complaint\"]] = \\\n",
    "                        df_data[[\"payment_complaint\",\"account_complaint\",\"utility_complaint\", \"operation_complaint\"]].fillna(0)\n",
    "df_data.head()"
   ]
  },
  {
   "cell_type": "code",
   "execution_count": 424,
   "metadata": {
    "collapsed": false
   },
   "outputs": [
    {
     "data": {
      "text/plain": [
       "Account Number\n",
       "M100     1\n",
       "M1002    3\n",
       "M1039    2\n",
       "M104     1\n",
       "M1045    1\n",
       "Name: Default sum, dtype: int64"
      ]
     },
     "execution_count": 424,
     "metadata": {},
     "output_type": "execute_result"
    }
   ],
   "source": [
    "defaulters_times_in_last_3_months = train_default_data.groupby(train_default_data[\"Account Number\"])[\"Default sum\"].count()\n",
    "defaulters_times_in_last_3_months.head()"
   ]
  },
  {
   "cell_type": "code",
   "execution_count": 425,
   "metadata": {
    "collapsed": false
   },
   "outputs": [
    {
     "data": {
      "text/html": [
       "<div>\n",
       "<table border=\"1\" class=\"dataframe\">\n",
       "  <thead>\n",
       "    <tr style=\"text-align: right;\">\n",
       "      <th></th>\n",
       "      <th>Default times</th>\n",
       "    </tr>\n",
       "    <tr>\n",
       "      <th>Account Number</th>\n",
       "      <th></th>\n",
       "    </tr>\n",
       "  </thead>\n",
       "  <tbody>\n",
       "    <tr>\n",
       "      <th>M100</th>\n",
       "      <td>1</td>\n",
       "    </tr>\n",
       "    <tr>\n",
       "      <th>M1002</th>\n",
       "      <td>3</td>\n",
       "    </tr>\n",
       "    <tr>\n",
       "      <th>M1039</th>\n",
       "      <td>2</td>\n",
       "    </tr>\n",
       "    <tr>\n",
       "      <th>M104</th>\n",
       "      <td>1</td>\n",
       "    </tr>\n",
       "    <tr>\n",
       "      <th>M1045</th>\n",
       "      <td>1</td>\n",
       "    </tr>\n",
       "  </tbody>\n",
       "</table>\n",
       "</div>"
      ],
      "text/plain": [
       "                Default times\n",
       "Account Number               \n",
       "M100                        1\n",
       "M1002                       3\n",
       "M1039                       2\n",
       "M104                        1\n",
       "M1045                       1"
      ]
     },
     "execution_count": 425,
     "metadata": {},
     "output_type": "execute_result"
    }
   ],
   "source": [
    "df_defaulters_times = pd.DataFrame(defaulters_times_in_last_3_months)\n",
    "df_defaulters_times[\"Default times\"] = df_defaulters_times[\"Default sum\"]\n",
    "df_defaulters_times.__delitem__(\"Default sum\")\n",
    "df_defaulters_times.head()"
   ]
  },
  {
   "cell_type": "code",
   "execution_count": 426,
   "metadata": {
    "collapsed": false
   },
   "outputs": [
    {
     "data": {
      "text/html": [
       "<div>\n",
       "<table border=\"1\" class=\"dataframe\">\n",
       "  <thead>\n",
       "    <tr style=\"text-align: right;\">\n",
       "      <th></th>\n",
       "      <th>Account Number</th>\n",
       "      <th>Commence Date</th>\n",
       "      <th>Scheme</th>\n",
       "      <th>Gender</th>\n",
       "      <th>Region</th>\n",
       "      <th>Age</th>\n",
       "      <th>Salary Slab</th>\n",
       "      <th>Professional Info</th>\n",
       "      <th>Age of Home</th>\n",
       "      <th>Churners</th>\n",
       "      <th>Sum</th>\n",
       "      <th>payment_complaint</th>\n",
       "      <th>account_complaint</th>\n",
       "      <th>utility_complaint</th>\n",
       "      <th>operation_complaint</th>\n",
       "      <th>Default times</th>\n",
       "    </tr>\n",
       "  </thead>\n",
       "  <tbody>\n",
       "    <tr>\n",
       "      <th>0</th>\n",
       "      <td>M1</td>\n",
       "      <td>2011-11-04</td>\n",
       "      <td>KLA</td>\n",
       "      <td>Female</td>\n",
       "      <td>Northern</td>\n",
       "      <td>70</td>\n",
       "      <td>5</td>\n",
       "      <td>0</td>\n",
       "      <td>17</td>\n",
       "      <td>0</td>\n",
       "      <td>1209.810</td>\n",
       "      <td>0</td>\n",
       "      <td>0</td>\n",
       "      <td>0</td>\n",
       "      <td>0</td>\n",
       "      <td>NaN</td>\n",
       "    </tr>\n",
       "    <tr>\n",
       "      <th>1</th>\n",
       "      <td>M2</td>\n",
       "      <td>2011-11-28</td>\n",
       "      <td>PPL</td>\n",
       "      <td>Female</td>\n",
       "      <td>Western</td>\n",
       "      <td>55</td>\n",
       "      <td>7</td>\n",
       "      <td>0</td>\n",
       "      <td>22</td>\n",
       "      <td>0</td>\n",
       "      <td>751.695</td>\n",
       "      <td>1</td>\n",
       "      <td>1</td>\n",
       "      <td>0</td>\n",
       "      <td>1</td>\n",
       "      <td>NaN</td>\n",
       "    </tr>\n",
       "    <tr>\n",
       "      <th>2</th>\n",
       "      <td>M3</td>\n",
       "      <td>2011-12-06</td>\n",
       "      <td>KLA</td>\n",
       "      <td>Male</td>\n",
       "      <td>Eastern</td>\n",
       "      <td>64</td>\n",
       "      <td>1</td>\n",
       "      <td>5</td>\n",
       "      <td>17</td>\n",
       "      <td>0</td>\n",
       "      <td>1064.385</td>\n",
       "      <td>0</td>\n",
       "      <td>0</td>\n",
       "      <td>0</td>\n",
       "      <td>0</td>\n",
       "      <td>NaN</td>\n",
       "    </tr>\n",
       "    <tr>\n",
       "      <th>3</th>\n",
       "      <td>M4</td>\n",
       "      <td>2011-10-28</td>\n",
       "      <td>MXX</td>\n",
       "      <td>Female</td>\n",
       "      <td>Northern</td>\n",
       "      <td>66</td>\n",
       "      <td>6</td>\n",
       "      <td>14</td>\n",
       "      <td>22</td>\n",
       "      <td>0</td>\n",
       "      <td>1375.500</td>\n",
       "      <td>0</td>\n",
       "      <td>0</td>\n",
       "      <td>0</td>\n",
       "      <td>0</td>\n",
       "      <td>NaN</td>\n",
       "    </tr>\n",
       "    <tr>\n",
       "      <th>4</th>\n",
       "      <td>M5</td>\n",
       "      <td>2015-01-18</td>\n",
       "      <td>PRP</td>\n",
       "      <td>NaN</td>\n",
       "      <td>Western</td>\n",
       "      <td>NaN</td>\n",
       "      <td>NaN</td>\n",
       "      <td>NaN</td>\n",
       "      <td>NaN</td>\n",
       "      <td>0</td>\n",
       "      <td>872.060</td>\n",
       "      <td>0</td>\n",
       "      <td>0</td>\n",
       "      <td>0</td>\n",
       "      <td>0</td>\n",
       "      <td>NaN</td>\n",
       "    </tr>\n",
       "  </tbody>\n",
       "</table>\n",
       "</div>"
      ],
      "text/plain": [
       "  Account Number Commence Date Scheme  Gender   Region   Age  Salary Slab  \\\n",
       "0             M1    2011-11-04    KLA  Female  Northern   70            5   \n",
       "1             M2    2011-11-28    PPL  Female   Western   55            7   \n",
       "2             M3    2011-12-06    KLA    Male   Eastern   64            1   \n",
       "3             M4    2011-10-28    MXX  Female  Northern   66            6   \n",
       "4             M5    2015-01-18    PRP     NaN   Western  NaN          NaN   \n",
       "\n",
       "   Professional Info  Age of Home  Churners       Sum  payment_complaint  \\\n",
       "0                  0           17         0  1209.810                  0   \n",
       "1                  0           22         0   751.695                  1   \n",
       "2                  5           17         0  1064.385                  0   \n",
       "3                 14           22         0  1375.500                  0   \n",
       "4                NaN          NaN         0   872.060                  0   \n",
       "\n",
       "   account_complaint  utility_complaint  operation_complaint  Default times  \n",
       "0                  0                  0                    0            NaN  \n",
       "1                  1                  0                    1            NaN  \n",
       "2                  0                  0                    0            NaN  \n",
       "3                  0                  0                    0            NaN  \n",
       "4                  0                  0                    0            NaN  "
      ]
     },
     "execution_count": 426,
     "metadata": {},
     "output_type": "execute_result"
    }
   ],
   "source": [
    "df_defaulters_times = df_defaulters_times.reset_index()\n",
    "df_data = pd.merge(df_data, df_defaulters_times, on=\"Account Number\", how =\"outer\")\n",
    "df_data.head()"
   ]
  },
  {
   "cell_type": "code",
   "execution_count": 427,
   "metadata": {
    "collapsed": false
   },
   "outputs": [],
   "source": [
    "df_data[\"Default times\"].fillna(0,inplace = True)"
   ]
  },
  {
   "cell_type": "code",
   "execution_count": 428,
   "metadata": {
    "collapsed": false
   },
   "outputs": [],
   "source": [
    "from sklearn.cross_validation import train_test_split\n",
    "df_train_data, df_test_data = train_test_split(df_data, test_size = 0.2,random_state = 1)"
   ]
  },
  {
   "cell_type": "code",
   "execution_count": 429,
   "metadata": {
    "collapsed": false
   },
   "outputs": [
    {
     "data": {
      "text/plain": [
       "411"
      ]
     },
     "execution_count": 429,
     "metadata": {},
     "output_type": "execute_result"
    }
   ],
   "source": [
    "df_train_data.Churners.sum()"
   ]
  },
  {
   "cell_type": "code",
   "execution_count": 430,
   "metadata": {
    "collapsed": false
   },
   "outputs": [
    {
     "data": {
      "text/plain": [
       "95"
      ]
     },
     "execution_count": 430,
     "metadata": {},
     "output_type": "execute_result"
    }
   ],
   "source": [
    "df_test_data.Churners.sum()"
   ]
  },
  {
   "cell_type": "code",
   "execution_count": 431,
   "metadata": {
    "collapsed": false
   },
   "outputs": [
    {
     "data": {
      "text/html": [
       "<div>\n",
       "<table border=\"1\" class=\"dataframe\">\n",
       "  <thead>\n",
       "    <tr style=\"text-align: right;\">\n",
       "      <th></th>\n",
       "      <th>Account Number</th>\n",
       "      <th>Commence Date</th>\n",
       "      <th>Scheme</th>\n",
       "      <th>Gender</th>\n",
       "      <th>Region</th>\n",
       "      <th>Age</th>\n",
       "      <th>Salary Slab</th>\n",
       "      <th>Professional Info</th>\n",
       "      <th>Age of Home</th>\n",
       "      <th>Churners</th>\n",
       "      <th>Sum</th>\n",
       "      <th>payment_complaint</th>\n",
       "      <th>account_complaint</th>\n",
       "      <th>utility_complaint</th>\n",
       "      <th>operation_complaint</th>\n",
       "      <th>Default times</th>\n",
       "    </tr>\n",
       "  </thead>\n",
       "  <tbody>\n",
       "    <tr>\n",
       "      <th>1162</th>\n",
       "      <td>M1189</td>\n",
       "      <td>2012-06-08</td>\n",
       "      <td>PPL</td>\n",
       "      <td>Male</td>\n",
       "      <td>Western</td>\n",
       "      <td>43</td>\n",
       "      <td>3</td>\n",
       "      <td>0</td>\n",
       "      <td>7</td>\n",
       "      <td>0</td>\n",
       "      <td>876.645</td>\n",
       "      <td>1</td>\n",
       "      <td>1</td>\n",
       "      <td>0</td>\n",
       "      <td>1</td>\n",
       "      <td>0</td>\n",
       "    </tr>\n",
       "    <tr>\n",
       "      <th>3829</th>\n",
       "      <td>M3864</td>\n",
       "      <td>2014-01-05</td>\n",
       "      <td>ESS</td>\n",
       "      <td>Male</td>\n",
       "      <td>Northern</td>\n",
       "      <td>63</td>\n",
       "      <td>4</td>\n",
       "      <td>0</td>\n",
       "      <td>12</td>\n",
       "      <td>0</td>\n",
       "      <td>748.440</td>\n",
       "      <td>0</td>\n",
       "      <td>0</td>\n",
       "      <td>0</td>\n",
       "      <td>0</td>\n",
       "      <td>0</td>\n",
       "    </tr>\n",
       "    <tr>\n",
       "      <th>7922</th>\n",
       "      <td>M7957</td>\n",
       "      <td>2011-10-07</td>\n",
       "      <td>PWM</td>\n",
       "      <td>Male</td>\n",
       "      <td>Eastern</td>\n",
       "      <td>29</td>\n",
       "      <td>9</td>\n",
       "      <td>0</td>\n",
       "      <td>17</td>\n",
       "      <td>0</td>\n",
       "      <td>1883.945</td>\n",
       "      <td>0</td>\n",
       "      <td>0</td>\n",
       "      <td>0</td>\n",
       "      <td>0</td>\n",
       "      <td>1</td>\n",
       "    </tr>\n",
       "    <tr>\n",
       "      <th>2378</th>\n",
       "      <td>M2413</td>\n",
       "      <td>2013-03-30</td>\n",
       "      <td>PPL</td>\n",
       "      <td>Female</td>\n",
       "      <td>Eastern</td>\n",
       "      <td>50</td>\n",
       "      <td>4</td>\n",
       "      <td>0</td>\n",
       "      <td>7</td>\n",
       "      <td>0</td>\n",
       "      <td>874.860</td>\n",
       "      <td>1</td>\n",
       "      <td>0</td>\n",
       "      <td>0</td>\n",
       "      <td>1</td>\n",
       "      <td>1</td>\n",
       "    </tr>\n",
       "    <tr>\n",
       "      <th>3493</th>\n",
       "      <td>M3528</td>\n",
       "      <td>2013-11-07</td>\n",
       "      <td>CNN</td>\n",
       "      <td>Male</td>\n",
       "      <td>Eastern</td>\n",
       "      <td>51</td>\n",
       "      <td>3</td>\n",
       "      <td>0</td>\n",
       "      <td>12</td>\n",
       "      <td>0</td>\n",
       "      <td>7.770</td>\n",
       "      <td>0</td>\n",
       "      <td>0</td>\n",
       "      <td>0</td>\n",
       "      <td>0</td>\n",
       "      <td>0</td>\n",
       "    </tr>\n",
       "  </tbody>\n",
       "</table>\n",
       "</div>"
      ],
      "text/plain": [
       "     Account Number Commence Date Scheme  Gender   Region   Age  Salary Slab  \\\n",
       "1162          M1189    2012-06-08    PPL    Male   Western   43            3   \n",
       "3829          M3864    2014-01-05    ESS    Male  Northern   63            4   \n",
       "7922          M7957    2011-10-07    PWM    Male   Eastern   29            9   \n",
       "2378          M2413    2013-03-30    PPL  Female   Eastern   50            4   \n",
       "3493          M3528    2013-11-07    CNN    Male   Eastern   51            3   \n",
       "\n",
       "      Professional Info  Age of Home  Churners       Sum  payment_complaint  \\\n",
       "1162                  0            7         0   876.645                  1   \n",
       "3829                  0           12         0   748.440                  0   \n",
       "7922                  0           17         0  1883.945                  0   \n",
       "2378                  0            7         0   874.860                  1   \n",
       "3493                  0           12         0     7.770                  0   \n",
       "\n",
       "      account_complaint  utility_complaint  operation_complaint  Default times  \n",
       "1162                  1                  0                    1              0  \n",
       "3829                  0                  0                    0              0  \n",
       "7922                  0                  0                    0              1  \n",
       "2378                  0                  0                    1              1  \n",
       "3493                  0                  0                    0              0  "
      ]
     },
     "execution_count": 431,
     "metadata": {},
     "output_type": "execute_result"
    }
   ],
   "source": [
    "df_train_data.head()"
   ]
  },
  {
   "cell_type": "code",
   "execution_count": 432,
   "metadata": {
    "collapsed": false
   },
   "outputs": [
    {
     "data": {
      "text/plain": [
       "0   2011-11-04\n",
       "1   2011-11-28\n",
       "2   2011-12-06\n",
       "3   2011-10-28\n",
       "4   2015-01-18\n",
       "Name: Commence Date, dtype: datetime64[ns]"
      ]
     },
     "execution_count": 432,
     "metadata": {},
     "output_type": "execute_result"
    }
   ],
   "source": [
    "df_data[\"Commence Date\"].head()"
   ]
  },
  {
   "cell_type": "code",
   "execution_count": 433,
   "metadata": {
    "collapsed": false
   },
   "outputs": [
    {
     "data": {
      "text/plain": [
       "3"
      ]
     },
     "execution_count": 433,
     "metadata": {},
     "output_type": "execute_result"
    }
   ],
   "source": [
    "df_data[\"Commence Date\"].isnull().sum()"
   ]
  },
  {
   "cell_type": "code",
   "execution_count": 434,
   "metadata": {
    "collapsed": false
   },
   "outputs": [],
   "source": [
    "df_data[\"Commence Date\"] = df_data[\"Commence Date\"].fillna(\"\")"
   ]
  },
  {
   "cell_type": "code",
   "execution_count": 435,
   "metadata": {
    "collapsed": false
   },
   "outputs": [],
   "source": [
    "def find_loyal_years(date):\n",
    "    if str(date):\n",
    "        return 2015 - int(re.findall(\"([0-9]*)-\", str(date))[0])\n",
    "    else:\n",
    "        return date\n",
    "df_data[\"Loyal years\"] = df_data[\"Commence Date\"].apply(find_loyal_years)"
   ]
  },
  {
   "cell_type": "code",
   "execution_count": 436,
   "metadata": {
    "collapsed": false
   },
   "outputs": [
    {
     "data": {
      "text/html": [
       "<div>\n",
       "<table border=\"1\" class=\"dataframe\">\n",
       "  <thead>\n",
       "    <tr style=\"text-align: right;\">\n",
       "      <th></th>\n",
       "      <th>Account Number</th>\n",
       "      <th>Commence Date</th>\n",
       "      <th>Scheme</th>\n",
       "      <th>Gender</th>\n",
       "      <th>Region</th>\n",
       "      <th>Age</th>\n",
       "      <th>Salary Slab</th>\n",
       "      <th>Professional Info</th>\n",
       "      <th>Age of Home</th>\n",
       "      <th>Churners</th>\n",
       "      <th>Sum</th>\n",
       "      <th>payment_complaint</th>\n",
       "      <th>account_complaint</th>\n",
       "      <th>utility_complaint</th>\n",
       "      <th>operation_complaint</th>\n",
       "      <th>Default times</th>\n",
       "      <th>Loyal years</th>\n",
       "    </tr>\n",
       "  </thead>\n",
       "  <tbody>\n",
       "    <tr>\n",
       "      <th>0</th>\n",
       "      <td>M1</td>\n",
       "      <td>2011-11-04 00:00:00</td>\n",
       "      <td>KLA</td>\n",
       "      <td>Female</td>\n",
       "      <td>Northern</td>\n",
       "      <td>70</td>\n",
       "      <td>5</td>\n",
       "      <td>0</td>\n",
       "      <td>17</td>\n",
       "      <td>0</td>\n",
       "      <td>1209.810</td>\n",
       "      <td>0</td>\n",
       "      <td>0</td>\n",
       "      <td>0</td>\n",
       "      <td>0</td>\n",
       "      <td>0</td>\n",
       "      <td>4</td>\n",
       "    </tr>\n",
       "    <tr>\n",
       "      <th>1</th>\n",
       "      <td>M2</td>\n",
       "      <td>2011-11-28 00:00:00</td>\n",
       "      <td>PPL</td>\n",
       "      <td>Female</td>\n",
       "      <td>Western</td>\n",
       "      <td>55</td>\n",
       "      <td>7</td>\n",
       "      <td>0</td>\n",
       "      <td>22</td>\n",
       "      <td>0</td>\n",
       "      <td>751.695</td>\n",
       "      <td>1</td>\n",
       "      <td>1</td>\n",
       "      <td>0</td>\n",
       "      <td>1</td>\n",
       "      <td>0</td>\n",
       "      <td>4</td>\n",
       "    </tr>\n",
       "    <tr>\n",
       "      <th>2</th>\n",
       "      <td>M3</td>\n",
       "      <td>2011-12-06 00:00:00</td>\n",
       "      <td>KLA</td>\n",
       "      <td>Male</td>\n",
       "      <td>Eastern</td>\n",
       "      <td>64</td>\n",
       "      <td>1</td>\n",
       "      <td>5</td>\n",
       "      <td>17</td>\n",
       "      <td>0</td>\n",
       "      <td>1064.385</td>\n",
       "      <td>0</td>\n",
       "      <td>0</td>\n",
       "      <td>0</td>\n",
       "      <td>0</td>\n",
       "      <td>0</td>\n",
       "      <td>4</td>\n",
       "    </tr>\n",
       "    <tr>\n",
       "      <th>3</th>\n",
       "      <td>M4</td>\n",
       "      <td>2011-10-28 00:00:00</td>\n",
       "      <td>MXX</td>\n",
       "      <td>Female</td>\n",
       "      <td>Northern</td>\n",
       "      <td>66</td>\n",
       "      <td>6</td>\n",
       "      <td>14</td>\n",
       "      <td>22</td>\n",
       "      <td>0</td>\n",
       "      <td>1375.500</td>\n",
       "      <td>0</td>\n",
       "      <td>0</td>\n",
       "      <td>0</td>\n",
       "      <td>0</td>\n",
       "      <td>0</td>\n",
       "      <td>4</td>\n",
       "    </tr>\n",
       "    <tr>\n",
       "      <th>4</th>\n",
       "      <td>M5</td>\n",
       "      <td>2015-01-18 00:00:00</td>\n",
       "      <td>PRP</td>\n",
       "      <td>NaN</td>\n",
       "      <td>Western</td>\n",
       "      <td>NaN</td>\n",
       "      <td>NaN</td>\n",
       "      <td>NaN</td>\n",
       "      <td>NaN</td>\n",
       "      <td>0</td>\n",
       "      <td>872.060</td>\n",
       "      <td>0</td>\n",
       "      <td>0</td>\n",
       "      <td>0</td>\n",
       "      <td>0</td>\n",
       "      <td>0</td>\n",
       "      <td>0</td>\n",
       "    </tr>\n",
       "  </tbody>\n",
       "</table>\n",
       "</div>"
      ],
      "text/plain": [
       "  Account Number        Commence Date Scheme  Gender   Region   Age  \\\n",
       "0             M1  2011-11-04 00:00:00    KLA  Female  Northern   70   \n",
       "1             M2  2011-11-28 00:00:00    PPL  Female   Western   55   \n",
       "2             M3  2011-12-06 00:00:00    KLA    Male   Eastern   64   \n",
       "3             M4  2011-10-28 00:00:00    MXX  Female  Northern   66   \n",
       "4             M5  2015-01-18 00:00:00    PRP     NaN   Western  NaN   \n",
       "\n",
       "   Salary Slab  Professional Info  Age of Home  Churners       Sum  \\\n",
       "0            5                  0           17         0  1209.810   \n",
       "1            7                  0           22         0   751.695   \n",
       "2            1                  5           17         0  1064.385   \n",
       "3            6                 14           22         0  1375.500   \n",
       "4          NaN                NaN          NaN         0   872.060   \n",
       "\n",
       "   payment_complaint  account_complaint  utility_complaint  \\\n",
       "0                  0                  0                  0   \n",
       "1                  1                  1                  0   \n",
       "2                  0                  0                  0   \n",
       "3                  0                  0                  0   \n",
       "4                  0                  0                  0   \n",
       "\n",
       "   operation_complaint  Default times Loyal years  \n",
       "0                    0              0           4  \n",
       "1                    1              0           4  \n",
       "2                    0              0           4  \n",
       "3                    0              0           4  \n",
       "4                    0              0           0  "
      ]
     },
     "execution_count": 436,
     "metadata": {},
     "output_type": "execute_result"
    }
   ],
   "source": [
    "df_data[\"Commence Date\"] = df_data[\"Commence Date\"].replace(\"\",np.nan)\n",
    "df_data.head()"
   ]
  },
  {
   "cell_type": "code",
   "execution_count": 437,
   "metadata": {
    "collapsed": true
   },
   "outputs": [],
   "source": [
    "df_data.__delitem__(\"Commence Date\")"
   ]
  },
  {
   "cell_type": "code",
   "execution_count": 438,
   "metadata": {
    "collapsed": false
   },
   "outputs": [
    {
     "data": {
      "text/html": [
       "<div>\n",
       "<table border=\"1\" class=\"dataframe\">\n",
       "  <thead>\n",
       "    <tr style=\"text-align: right;\">\n",
       "      <th></th>\n",
       "      <th>Account Number</th>\n",
       "      <th>Scheme</th>\n",
       "      <th>Gender</th>\n",
       "      <th>Region</th>\n",
       "      <th>Age</th>\n",
       "      <th>Salary Slab</th>\n",
       "      <th>Professional Info</th>\n",
       "      <th>Age of Home</th>\n",
       "      <th>Churners</th>\n",
       "      <th>Sum</th>\n",
       "      <th>payment_complaint</th>\n",
       "      <th>account_complaint</th>\n",
       "      <th>utility_complaint</th>\n",
       "      <th>operation_complaint</th>\n",
       "      <th>Default times</th>\n",
       "      <th>Loyal years</th>\n",
       "    </tr>\n",
       "  </thead>\n",
       "  <tbody>\n",
       "    <tr>\n",
       "      <th>0</th>\n",
       "      <td>M1</td>\n",
       "      <td>KLA</td>\n",
       "      <td>Female</td>\n",
       "      <td>Northern</td>\n",
       "      <td>70</td>\n",
       "      <td>5</td>\n",
       "      <td>0</td>\n",
       "      <td>17</td>\n",
       "      <td>0</td>\n",
       "      <td>1209.810</td>\n",
       "      <td>0</td>\n",
       "      <td>0</td>\n",
       "      <td>0</td>\n",
       "      <td>0</td>\n",
       "      <td>0</td>\n",
       "      <td>4</td>\n",
       "    </tr>\n",
       "    <tr>\n",
       "      <th>1</th>\n",
       "      <td>M2</td>\n",
       "      <td>PPL</td>\n",
       "      <td>Female</td>\n",
       "      <td>Western</td>\n",
       "      <td>55</td>\n",
       "      <td>7</td>\n",
       "      <td>0</td>\n",
       "      <td>22</td>\n",
       "      <td>0</td>\n",
       "      <td>751.695</td>\n",
       "      <td>1</td>\n",
       "      <td>1</td>\n",
       "      <td>0</td>\n",
       "      <td>1</td>\n",
       "      <td>0</td>\n",
       "      <td>4</td>\n",
       "    </tr>\n",
       "    <tr>\n",
       "      <th>2</th>\n",
       "      <td>M3</td>\n",
       "      <td>KLA</td>\n",
       "      <td>Male</td>\n",
       "      <td>Eastern</td>\n",
       "      <td>64</td>\n",
       "      <td>1</td>\n",
       "      <td>5</td>\n",
       "      <td>17</td>\n",
       "      <td>0</td>\n",
       "      <td>1064.385</td>\n",
       "      <td>0</td>\n",
       "      <td>0</td>\n",
       "      <td>0</td>\n",
       "      <td>0</td>\n",
       "      <td>0</td>\n",
       "      <td>4</td>\n",
       "    </tr>\n",
       "    <tr>\n",
       "      <th>3</th>\n",
       "      <td>M4</td>\n",
       "      <td>MXX</td>\n",
       "      <td>Female</td>\n",
       "      <td>Northern</td>\n",
       "      <td>66</td>\n",
       "      <td>6</td>\n",
       "      <td>14</td>\n",
       "      <td>22</td>\n",
       "      <td>0</td>\n",
       "      <td>1375.500</td>\n",
       "      <td>0</td>\n",
       "      <td>0</td>\n",
       "      <td>0</td>\n",
       "      <td>0</td>\n",
       "      <td>0</td>\n",
       "      <td>4</td>\n",
       "    </tr>\n",
       "    <tr>\n",
       "      <th>4</th>\n",
       "      <td>M5</td>\n",
       "      <td>PRP</td>\n",
       "      <td>NaN</td>\n",
       "      <td>Western</td>\n",
       "      <td>NaN</td>\n",
       "      <td>NaN</td>\n",
       "      <td>NaN</td>\n",
       "      <td>NaN</td>\n",
       "      <td>0</td>\n",
       "      <td>872.060</td>\n",
       "      <td>0</td>\n",
       "      <td>0</td>\n",
       "      <td>0</td>\n",
       "      <td>0</td>\n",
       "      <td>0</td>\n",
       "      <td>0</td>\n",
       "    </tr>\n",
       "  </tbody>\n",
       "</table>\n",
       "</div>"
      ],
      "text/plain": [
       "  Account Number Scheme  Gender   Region   Age  Salary Slab  \\\n",
       "0             M1    KLA  Female  Northern   70            5   \n",
       "1             M2    PPL  Female   Western   55            7   \n",
       "2             M3    KLA    Male   Eastern   64            1   \n",
       "3             M4    MXX  Female  Northern   66            6   \n",
       "4             M5    PRP     NaN   Western  NaN          NaN   \n",
       "\n",
       "   Professional Info  Age of Home  Churners       Sum  payment_complaint  \\\n",
       "0                  0           17         0  1209.810                  0   \n",
       "1                  0           22         0   751.695                  1   \n",
       "2                  5           17         0  1064.385                  0   \n",
       "3                 14           22         0  1375.500                  0   \n",
       "4                NaN          NaN         0   872.060                  0   \n",
       "\n",
       "   account_complaint  utility_complaint  operation_complaint  Default times  \\\n",
       "0                  0                  0                    0              0   \n",
       "1                  1                  0                    1              0   \n",
       "2                  0                  0                    0              0   \n",
       "3                  0                  0                    0              0   \n",
       "4                  0                  0                    0              0   \n",
       "\n",
       "  Loyal years  \n",
       "0           4  \n",
       "1           4  \n",
       "2           4  \n",
       "3           4  \n",
       "4           0  "
      ]
     },
     "execution_count": 438,
     "metadata": {},
     "output_type": "execute_result"
    }
   ],
   "source": [
    "df_data.head()"
   ]
  },
  {
   "cell_type": "code",
   "execution_count": 439,
   "metadata": {
    "collapsed": false
   },
   "outputs": [],
   "source": [
    "# Male for 1 and femalee for 0\n",
    "gender_mapping = {\n",
    "    \"Male\" : 1,\n",
    "    \"Female\" : 0\n",
    "}\n",
    "df_data[\"Gender\"] = df_data[\"Gender\"].map(gender_mapping)"
   ]
  },
  {
   "cell_type": "code",
   "execution_count": 440,
   "metadata": {
    "collapsed": false
   },
   "outputs": [
    {
     "data": {
      "text/html": [
       "<div>\n",
       "<table border=\"1\" class=\"dataframe\">\n",
       "  <thead>\n",
       "    <tr style=\"text-align: right;\">\n",
       "      <th></th>\n",
       "      <th>Account Number</th>\n",
       "      <th>Scheme</th>\n",
       "      <th>Gender</th>\n",
       "      <th>Region</th>\n",
       "      <th>Age</th>\n",
       "      <th>Salary Slab</th>\n",
       "      <th>Professional Info</th>\n",
       "      <th>Age of Home</th>\n",
       "      <th>Churners</th>\n",
       "      <th>Sum</th>\n",
       "      <th>payment_complaint</th>\n",
       "      <th>account_complaint</th>\n",
       "      <th>utility_complaint</th>\n",
       "      <th>operation_complaint</th>\n",
       "      <th>Default times</th>\n",
       "      <th>Loyal years</th>\n",
       "    </tr>\n",
       "  </thead>\n",
       "  <tbody>\n",
       "    <tr>\n",
       "      <th>0</th>\n",
       "      <td>M1</td>\n",
       "      <td>KLA</td>\n",
       "      <td>0</td>\n",
       "      <td>Northern</td>\n",
       "      <td>70</td>\n",
       "      <td>5</td>\n",
       "      <td>0</td>\n",
       "      <td>17</td>\n",
       "      <td>0</td>\n",
       "      <td>1209.810</td>\n",
       "      <td>0</td>\n",
       "      <td>0</td>\n",
       "      <td>0</td>\n",
       "      <td>0</td>\n",
       "      <td>0</td>\n",
       "      <td>4</td>\n",
       "    </tr>\n",
       "    <tr>\n",
       "      <th>1</th>\n",
       "      <td>M2</td>\n",
       "      <td>PPL</td>\n",
       "      <td>0</td>\n",
       "      <td>Western</td>\n",
       "      <td>55</td>\n",
       "      <td>7</td>\n",
       "      <td>0</td>\n",
       "      <td>22</td>\n",
       "      <td>0</td>\n",
       "      <td>751.695</td>\n",
       "      <td>1</td>\n",
       "      <td>1</td>\n",
       "      <td>0</td>\n",
       "      <td>1</td>\n",
       "      <td>0</td>\n",
       "      <td>4</td>\n",
       "    </tr>\n",
       "    <tr>\n",
       "      <th>2</th>\n",
       "      <td>M3</td>\n",
       "      <td>KLA</td>\n",
       "      <td>1</td>\n",
       "      <td>Eastern</td>\n",
       "      <td>64</td>\n",
       "      <td>1</td>\n",
       "      <td>5</td>\n",
       "      <td>17</td>\n",
       "      <td>0</td>\n",
       "      <td>1064.385</td>\n",
       "      <td>0</td>\n",
       "      <td>0</td>\n",
       "      <td>0</td>\n",
       "      <td>0</td>\n",
       "      <td>0</td>\n",
       "      <td>4</td>\n",
       "    </tr>\n",
       "    <tr>\n",
       "      <th>3</th>\n",
       "      <td>M4</td>\n",
       "      <td>MXX</td>\n",
       "      <td>0</td>\n",
       "      <td>Northern</td>\n",
       "      <td>66</td>\n",
       "      <td>6</td>\n",
       "      <td>14</td>\n",
       "      <td>22</td>\n",
       "      <td>0</td>\n",
       "      <td>1375.500</td>\n",
       "      <td>0</td>\n",
       "      <td>0</td>\n",
       "      <td>0</td>\n",
       "      <td>0</td>\n",
       "      <td>0</td>\n",
       "      <td>4</td>\n",
       "    </tr>\n",
       "    <tr>\n",
       "      <th>4</th>\n",
       "      <td>M5</td>\n",
       "      <td>PRP</td>\n",
       "      <td>NaN</td>\n",
       "      <td>Western</td>\n",
       "      <td>NaN</td>\n",
       "      <td>NaN</td>\n",
       "      <td>NaN</td>\n",
       "      <td>NaN</td>\n",
       "      <td>0</td>\n",
       "      <td>872.060</td>\n",
       "      <td>0</td>\n",
       "      <td>0</td>\n",
       "      <td>0</td>\n",
       "      <td>0</td>\n",
       "      <td>0</td>\n",
       "      <td>0</td>\n",
       "    </tr>\n",
       "  </tbody>\n",
       "</table>\n",
       "</div>"
      ],
      "text/plain": [
       "  Account Number Scheme  Gender   Region   Age  Salary Slab  \\\n",
       "0             M1    KLA       0  Northern   70            5   \n",
       "1             M2    PPL       0   Western   55            7   \n",
       "2             M3    KLA       1   Eastern   64            1   \n",
       "3             M4    MXX       0  Northern   66            6   \n",
       "4             M5    PRP     NaN   Western  NaN          NaN   \n",
       "\n",
       "   Professional Info  Age of Home  Churners       Sum  payment_complaint  \\\n",
       "0                  0           17         0  1209.810                  0   \n",
       "1                  0           22         0   751.695                  1   \n",
       "2                  5           17         0  1064.385                  0   \n",
       "3                 14           22         0  1375.500                  0   \n",
       "4                NaN          NaN         0   872.060                  0   \n",
       "\n",
       "   account_complaint  utility_complaint  operation_complaint  Default times  \\\n",
       "0                  0                  0                    0              0   \n",
       "1                  1                  0                    1              0   \n",
       "2                  0                  0                    0              0   \n",
       "3                  0                  0                    0              0   \n",
       "4                  0                  0                    0              0   \n",
       "\n",
       "  Loyal years  \n",
       "0           4  \n",
       "1           4  \n",
       "2           4  \n",
       "3           4  \n",
       "4           0  "
      ]
     },
     "execution_count": 440,
     "metadata": {},
     "output_type": "execute_result"
    }
   ],
   "source": [
    "df_data.head()"
   ]
  },
  {
   "cell_type": "code",
   "execution_count": 441,
   "metadata": {
    "collapsed": false,
    "scrolled": true
   },
   "outputs": [
    {
     "data": {
      "text/plain": [
       "PWR    1824\n",
       "PPL    1815\n",
       "PRM    1397\n",
       "KLA     968\n",
       "CNN     916\n",
       "CHC     774\n",
       "POP     464\n",
       "PRP     444\n",
       "PRR     442\n",
       "MXX     299\n",
       "PWM     296\n",
       "PWP     201\n",
       "ESS     111\n",
       "PMM      15\n",
       "Name: Scheme, dtype: int64"
      ]
     },
     "execution_count": 441,
     "metadata": {},
     "output_type": "execute_result"
    }
   ],
   "source": [
    "df_data[\"Scheme\"].value_counts()"
   ]
  },
  {
   "cell_type": "code",
   "execution_count": 442,
   "metadata": {
    "collapsed": false
   },
   "outputs": [
    {
     "data": {
      "text/plain": [
       "Scheme\n",
       "CHC     664.401760\n",
       "CNN     689.221416\n",
       "ESS     459.075012\n",
       "KLA    1025.786163\n",
       "MXX    1529.171602\n",
       "PMM     598.128462\n",
       "POP     989.964125\n",
       "PPL     769.880796\n",
       "PRM     781.874066\n",
       "PRP     970.015898\n",
       "PRR     958.448613\n",
       "PWM    1366.873656\n",
       "PWP     767.088080\n",
       "PWR     756.573691\n",
       "Name: Sum, dtype: float64"
      ]
     },
     "execution_count": 442,
     "metadata": {},
     "output_type": "execute_result"
    }
   ],
   "source": [
    "df_data.groupby(df_data[\"Scheme\"])[\"Sum\"].mean()"
   ]
  },
  {
   "cell_type": "code",
   "execution_count": 443,
   "metadata": {
    "collapsed": false
   },
   "outputs": [
    {
     "data": {
      "text/html": [
       "<div>\n",
       "<table border=\"1\" class=\"dataframe\">\n",
       "  <thead>\n",
       "    <tr style=\"text-align: right;\">\n",
       "      <th></th>\n",
       "      <th>Account Number</th>\n",
       "      <th>Scheme</th>\n",
       "      <th>Gender</th>\n",
       "      <th>Region</th>\n",
       "      <th>Age</th>\n",
       "      <th>Salary Slab</th>\n",
       "      <th>Professional Info</th>\n",
       "      <th>Age of Home</th>\n",
       "      <th>Churners</th>\n",
       "      <th>Sum</th>\n",
       "      <th>payment_complaint</th>\n",
       "      <th>account_complaint</th>\n",
       "      <th>utility_complaint</th>\n",
       "      <th>operation_complaint</th>\n",
       "      <th>Default times</th>\n",
       "      <th>Loyal years</th>\n",
       "    </tr>\n",
       "  </thead>\n",
       "  <tbody>\n",
       "    <tr>\n",
       "      <th>0</th>\n",
       "      <td>M1</td>\n",
       "      <td>KLA</td>\n",
       "      <td>0</td>\n",
       "      <td>Northern</td>\n",
       "      <td>70</td>\n",
       "      <td>5</td>\n",
       "      <td>0</td>\n",
       "      <td>17</td>\n",
       "      <td>0</td>\n",
       "      <td>1209.810</td>\n",
       "      <td>0</td>\n",
       "      <td>0</td>\n",
       "      <td>0</td>\n",
       "      <td>0</td>\n",
       "      <td>0</td>\n",
       "      <td>4</td>\n",
       "    </tr>\n",
       "    <tr>\n",
       "      <th>1</th>\n",
       "      <td>M2</td>\n",
       "      <td>PPL</td>\n",
       "      <td>0</td>\n",
       "      <td>Western</td>\n",
       "      <td>55</td>\n",
       "      <td>7</td>\n",
       "      <td>0</td>\n",
       "      <td>22</td>\n",
       "      <td>0</td>\n",
       "      <td>751.695</td>\n",
       "      <td>1</td>\n",
       "      <td>1</td>\n",
       "      <td>0</td>\n",
       "      <td>1</td>\n",
       "      <td>0</td>\n",
       "      <td>4</td>\n",
       "    </tr>\n",
       "    <tr>\n",
       "      <th>2</th>\n",
       "      <td>M3</td>\n",
       "      <td>KLA</td>\n",
       "      <td>1</td>\n",
       "      <td>Eastern</td>\n",
       "      <td>64</td>\n",
       "      <td>1</td>\n",
       "      <td>5</td>\n",
       "      <td>17</td>\n",
       "      <td>0</td>\n",
       "      <td>1064.385</td>\n",
       "      <td>0</td>\n",
       "      <td>0</td>\n",
       "      <td>0</td>\n",
       "      <td>0</td>\n",
       "      <td>0</td>\n",
       "      <td>4</td>\n",
       "    </tr>\n",
       "    <tr>\n",
       "      <th>3</th>\n",
       "      <td>M4</td>\n",
       "      <td>MXX</td>\n",
       "      <td>0</td>\n",
       "      <td>Northern</td>\n",
       "      <td>66</td>\n",
       "      <td>6</td>\n",
       "      <td>14</td>\n",
       "      <td>22</td>\n",
       "      <td>0</td>\n",
       "      <td>1375.500</td>\n",
       "      <td>0</td>\n",
       "      <td>0</td>\n",
       "      <td>0</td>\n",
       "      <td>0</td>\n",
       "      <td>0</td>\n",
       "      <td>4</td>\n",
       "    </tr>\n",
       "    <tr>\n",
       "      <th>4</th>\n",
       "      <td>M5</td>\n",
       "      <td>PRP</td>\n",
       "      <td>NaN</td>\n",
       "      <td>Western</td>\n",
       "      <td>NaN</td>\n",
       "      <td>NaN</td>\n",
       "      <td>NaN</td>\n",
       "      <td>NaN</td>\n",
       "      <td>0</td>\n",
       "      <td>872.060</td>\n",
       "      <td>0</td>\n",
       "      <td>0</td>\n",
       "      <td>0</td>\n",
       "      <td>0</td>\n",
       "      <td>0</td>\n",
       "      <td>0</td>\n",
       "    </tr>\n",
       "  </tbody>\n",
       "</table>\n",
       "</div>"
      ],
      "text/plain": [
       "  Account Number Scheme  Gender   Region   Age  Salary Slab  \\\n",
       "0             M1    KLA       0  Northern   70            5   \n",
       "1             M2    PPL       0   Western   55            7   \n",
       "2             M3    KLA       1   Eastern   64            1   \n",
       "3             M4    MXX       0  Northern   66            6   \n",
       "4             M5    PRP     NaN   Western  NaN          NaN   \n",
       "\n",
       "   Professional Info  Age of Home  Churners       Sum  payment_complaint  \\\n",
       "0                  0           17         0  1209.810                  0   \n",
       "1                  0           22         0   751.695                  1   \n",
       "2                  5           17         0  1064.385                  0   \n",
       "3                 14           22         0  1375.500                  0   \n",
       "4                NaN          NaN         0   872.060                  0   \n",
       "\n",
       "   account_complaint  utility_complaint  operation_complaint  Default times  \\\n",
       "0                  0                  0                    0              0   \n",
       "1                  1                  0                    1              0   \n",
       "2                  0                  0                    0              0   \n",
       "3                  0                  0                    0              0   \n",
       "4                  0                  0                    0              0   \n",
       "\n",
       "  Loyal years  \n",
       "0           4  \n",
       "1           4  \n",
       "2           4  \n",
       "3           4  \n",
       "4           0  "
      ]
     },
     "execution_count": 443,
     "metadata": {},
     "output_type": "execute_result"
    }
   ],
   "source": [
    "df_data.head()"
   ]
  },
  {
   "cell_type": "code",
   "execution_count": 444,
   "metadata": {
    "collapsed": false
   },
   "outputs": [
    {
     "data": {
      "text/plain": [
       "Account Number            0\n",
       "Scheme                    0\n",
       "Gender                 1368\n",
       "Region                    0\n",
       "Age                    2013\n",
       "Salary Slab            1351\n",
       "Professional Info      1351\n",
       "Age of Home            1351\n",
       "Churners                  0\n",
       "Sum                     322\n",
       "payment_complaint         0\n",
       "account_complaint         0\n",
       "utility_complaint         0\n",
       "operation_complaint       0\n",
       "Default times             0\n",
       "Loyal years               0\n",
       "dtype: int64"
      ]
     },
     "execution_count": 444,
     "metadata": {},
     "output_type": "execute_result"
    }
   ],
   "source": [
    "df_data.isnull().sum()"
   ]
  },
  {
   "cell_type": "code",
   "execution_count": 445,
   "metadata": {
    "collapsed": false
   },
   "outputs": [
    {
     "data": {
      "text/html": [
       "<div>\n",
       "<table border=\"1\" class=\"dataframe\">\n",
       "  <thead>\n",
       "    <tr style=\"text-align: right;\">\n",
       "      <th></th>\n",
       "      <th>Account Number</th>\n",
       "      <th>Gender</th>\n",
       "      <th>Age</th>\n",
       "      <th>Salary Slab</th>\n",
       "      <th>Professional Info</th>\n",
       "      <th>Age of Home</th>\n",
       "      <th>Churners</th>\n",
       "      <th>Sum</th>\n",
       "      <th>payment_complaint</th>\n",
       "      <th>account_complaint</th>\n",
       "      <th>...</th>\n",
       "      <th>Scheme_PRM</th>\n",
       "      <th>Scheme_PRP</th>\n",
       "      <th>Scheme_PRR</th>\n",
       "      <th>Scheme_PWM</th>\n",
       "      <th>Scheme_PWP</th>\n",
       "      <th>Scheme_PWR</th>\n",
       "      <th>Region _Eastern</th>\n",
       "      <th>Region _Northern</th>\n",
       "      <th>Region _Southern</th>\n",
       "      <th>Region _Western</th>\n",
       "    </tr>\n",
       "  </thead>\n",
       "  <tbody>\n",
       "    <tr>\n",
       "      <th>0</th>\n",
       "      <td>M1</td>\n",
       "      <td>0</td>\n",
       "      <td>70</td>\n",
       "      <td>5</td>\n",
       "      <td>0</td>\n",
       "      <td>17</td>\n",
       "      <td>0</td>\n",
       "      <td>1209.810</td>\n",
       "      <td>0</td>\n",
       "      <td>0</td>\n",
       "      <td>...</td>\n",
       "      <td>0</td>\n",
       "      <td>0</td>\n",
       "      <td>0</td>\n",
       "      <td>0</td>\n",
       "      <td>0</td>\n",
       "      <td>0</td>\n",
       "      <td>0</td>\n",
       "      <td>1</td>\n",
       "      <td>0</td>\n",
       "      <td>0</td>\n",
       "    </tr>\n",
       "    <tr>\n",
       "      <th>1</th>\n",
       "      <td>M2</td>\n",
       "      <td>0</td>\n",
       "      <td>55</td>\n",
       "      <td>7</td>\n",
       "      <td>0</td>\n",
       "      <td>22</td>\n",
       "      <td>0</td>\n",
       "      <td>751.695</td>\n",
       "      <td>1</td>\n",
       "      <td>1</td>\n",
       "      <td>...</td>\n",
       "      <td>0</td>\n",
       "      <td>0</td>\n",
       "      <td>0</td>\n",
       "      <td>0</td>\n",
       "      <td>0</td>\n",
       "      <td>0</td>\n",
       "      <td>0</td>\n",
       "      <td>0</td>\n",
       "      <td>0</td>\n",
       "      <td>1</td>\n",
       "    </tr>\n",
       "    <tr>\n",
       "      <th>2</th>\n",
       "      <td>M3</td>\n",
       "      <td>1</td>\n",
       "      <td>64</td>\n",
       "      <td>1</td>\n",
       "      <td>5</td>\n",
       "      <td>17</td>\n",
       "      <td>0</td>\n",
       "      <td>1064.385</td>\n",
       "      <td>0</td>\n",
       "      <td>0</td>\n",
       "      <td>...</td>\n",
       "      <td>0</td>\n",
       "      <td>0</td>\n",
       "      <td>0</td>\n",
       "      <td>0</td>\n",
       "      <td>0</td>\n",
       "      <td>0</td>\n",
       "      <td>1</td>\n",
       "      <td>0</td>\n",
       "      <td>0</td>\n",
       "      <td>0</td>\n",
       "    </tr>\n",
       "    <tr>\n",
       "      <th>3</th>\n",
       "      <td>M4</td>\n",
       "      <td>0</td>\n",
       "      <td>66</td>\n",
       "      <td>6</td>\n",
       "      <td>14</td>\n",
       "      <td>22</td>\n",
       "      <td>0</td>\n",
       "      <td>1375.500</td>\n",
       "      <td>0</td>\n",
       "      <td>0</td>\n",
       "      <td>...</td>\n",
       "      <td>0</td>\n",
       "      <td>0</td>\n",
       "      <td>0</td>\n",
       "      <td>0</td>\n",
       "      <td>0</td>\n",
       "      <td>0</td>\n",
       "      <td>0</td>\n",
       "      <td>1</td>\n",
       "      <td>0</td>\n",
       "      <td>0</td>\n",
       "    </tr>\n",
       "    <tr>\n",
       "      <th>4</th>\n",
       "      <td>M5</td>\n",
       "      <td>NaN</td>\n",
       "      <td>NaN</td>\n",
       "      <td>NaN</td>\n",
       "      <td>NaN</td>\n",
       "      <td>NaN</td>\n",
       "      <td>0</td>\n",
       "      <td>872.060</td>\n",
       "      <td>0</td>\n",
       "      <td>0</td>\n",
       "      <td>...</td>\n",
       "      <td>0</td>\n",
       "      <td>1</td>\n",
       "      <td>0</td>\n",
       "      <td>0</td>\n",
       "      <td>0</td>\n",
       "      <td>0</td>\n",
       "      <td>0</td>\n",
       "      <td>0</td>\n",
       "      <td>0</td>\n",
       "      <td>1</td>\n",
       "    </tr>\n",
       "  </tbody>\n",
       "</table>\n",
       "<p>5 rows × 32 columns</p>\n",
       "</div>"
      ],
      "text/plain": [
       "  Account Number  Gender  Age  Salary Slab  Professional Info  Age of Home  \\\n",
       "0             M1       0   70            5                  0           17   \n",
       "1             M2       0   55            7                  0           22   \n",
       "2             M3       1   64            1                  5           17   \n",
       "3             M4       0   66            6                 14           22   \n",
       "4             M5     NaN  NaN          NaN                NaN          NaN   \n",
       "\n",
       "   Churners       Sum  payment_complaint  account_complaint       ...         \\\n",
       "0         0  1209.810                  0                  0       ...          \n",
       "1         0   751.695                  1                  1       ...          \n",
       "2         0  1064.385                  0                  0       ...          \n",
       "3         0  1375.500                  0                  0       ...          \n",
       "4         0   872.060                  0                  0       ...          \n",
       "\n",
       "   Scheme_PRM  Scheme_PRP  Scheme_PRR Scheme_PWM  Scheme_PWP  Scheme_PWR  \\\n",
       "0           0           0           0          0           0           0   \n",
       "1           0           0           0          0           0           0   \n",
       "2           0           0           0          0           0           0   \n",
       "3           0           0           0          0           0           0   \n",
       "4           0           1           0          0           0           0   \n",
       "\n",
       "   Region _Eastern  Region _Northern  Region _Southern  Region _Western  \n",
       "0                0                 1                 0                0  \n",
       "1                0                 0                 0                1  \n",
       "2                1                 0                 0                0  \n",
       "3                0                 1                 0                0  \n",
       "4                0                 0                 0                1  \n",
       "\n",
       "[5 rows x 32 columns]"
      ]
     },
     "execution_count": 445,
     "metadata": {},
     "output_type": "execute_result"
    }
   ],
   "source": [
    "df_new_cols = pd.get_dummies(df_data[[\"Scheme\",\"Region \"]])\n",
    "df_data = pd.concat([df_data,df_new_cols], axis = 1)\n",
    "df_data.__delitem__(\"Scheme\")\n",
    "df_data.__delitem__(\"Region \")\n",
    "df_data.head()"
   ]
  },
  {
   "cell_type": "code",
   "execution_count": 446,
   "metadata": {
    "collapsed": true
   },
   "outputs": [],
   "source": [
    "df_data[\"Professional Info\"] = df_data[\"Professional Info\"].fillna(0)"
   ]
  },
  {
   "cell_type": "code",
   "execution_count": 447,
   "metadata": {
    "collapsed": false
   },
   "outputs": [
    {
     "data": {
      "text/plain": [
       "0    0\n",
       "1    0\n",
       "2    6\n",
       "3    4\n",
       "4    0\n",
       "Name: Professional Info, dtype: int64"
      ]
     },
     "execution_count": 447,
     "metadata": {},
     "output_type": "execute_result"
    }
   ],
   "source": [
    "profession_names = [\"Accounting\",\"Academics\",\"Automative\", \"Banking\", \"Defence\", \"Financial Sector\", \"Pharmacueticals\", \"General Labour\", \"Other\"]\n",
    "profession_hash = {\n",
    "    2: 1,\n",
    "    10: 2,\n",
    "    11: 3,\n",
    "    12: 4,\n",
    "    13: 4,\n",
    "    14: 4,\n",
    "    16: 4,\n",
    "    18: 4,\n",
    "    17: 5,\n",
    "    15: 6,\n",
    "    5: 6,\n",
    "    6: 6,\n",
    "    8: 6,\n",
    "    20: 6,\n",
    "    9: 7,\n",
    "    7: 8,\n",
    "    19: 9\n",
    "}\n",
    "\n",
    "def modify_prof_idx(k):\n",
    "    if k == 0:\n",
    "        return 0\n",
    "    else:\n",
    "        return profession_hash[k]\n",
    "\n",
    "df_data[\"Professional Info\"] = df_data[\"Professional Info\"].apply(modify_prof_idx)\n",
    "df_data[\"Professional Info\"].head()"
   ]
  },
  {
   "cell_type": "code",
   "execution_count": 452,
   "metadata": {
    "collapsed": false,
    "scrolled": true
   },
   "outputs": [
    {
     "data": {
      "text/plain": [
       "0    7003\n",
       "6    1454\n",
       "4     877\n",
       "2     364\n",
       "7     152\n",
       "9      77\n",
       "1      20\n",
       "8      10\n",
       "5       8\n",
       "3       1\n",
       "Name: Professional Info, dtype: int64"
      ]
     },
     "execution_count": 452,
     "metadata": {},
     "output_type": "execute_result"
    }
   ],
   "source": [
    "df_data[\"Professional Info\"].value_counts()"
   ]
  },
  {
   "cell_type": "code",
   "execution_count": 465,
   "metadata": {
    "collapsed": false
   },
   "outputs": [
    {
     "data": {
      "text/plain": [
       "array([  2.00000000e+01,   3.64000000e+02,   1.00000000e+00,\n",
       "         8.77000000e+02,   8.00000000e+00,   1.45400000e+03,\n",
       "         1.52000000e+02,   1.00000000e+01,   7.70000000e+01])"
      ]
     },
     "execution_count": 465,
     "metadata": {},
     "output_type": "execute_result"
    }
   ],
   "source": [
    "prof_array = np.zeros((df_data[\"Professional Info\"].shape[0], 9))\n",
    "for i in range(prof_array.shape[1]):\n",
    "    prof_array[:,i] = (df_data[\"Professional Info\"] == i+1).astype(int)\n",
    "prof_array.sum(axis=0)"
   ]
  },
  {
   "cell_type": "code",
   "execution_count": 467,
   "metadata": {
    "collapsed": false
   },
   "outputs": [
    {
     "data": {
      "text/html": [
       "<div>\n",
       "<table border=\"1\" class=\"dataframe\">\n",
       "  <thead>\n",
       "    <tr style=\"text-align: right;\">\n",
       "      <th></th>\n",
       "      <th>Account Number</th>\n",
       "      <th>Gender</th>\n",
       "      <th>Age</th>\n",
       "      <th>Salary Slab</th>\n",
       "      <th>Professional Info</th>\n",
       "      <th>Age of Home</th>\n",
       "      <th>Churners</th>\n",
       "      <th>Sum</th>\n",
       "      <th>payment_complaint</th>\n",
       "      <th>account_complaint</th>\n",
       "      <th>...</th>\n",
       "      <th>Region _Western</th>\n",
       "      <th>Accounting</th>\n",
       "      <th>Academics</th>\n",
       "      <th>Automative</th>\n",
       "      <th>Banking</th>\n",
       "      <th>Defence</th>\n",
       "      <th>Finance</th>\n",
       "      <th>Pharma</th>\n",
       "      <th>Labour</th>\n",
       "      <th>Others</th>\n",
       "    </tr>\n",
       "  </thead>\n",
       "  <tbody>\n",
       "    <tr>\n",
       "      <th>0</th>\n",
       "      <td>M1</td>\n",
       "      <td>0</td>\n",
       "      <td>70</td>\n",
       "      <td>5</td>\n",
       "      <td>0</td>\n",
       "      <td>17</td>\n",
       "      <td>0</td>\n",
       "      <td>1209.810</td>\n",
       "      <td>0</td>\n",
       "      <td>0</td>\n",
       "      <td>...</td>\n",
       "      <td>0</td>\n",
       "      <td>0</td>\n",
       "      <td>0</td>\n",
       "      <td>0</td>\n",
       "      <td>0</td>\n",
       "      <td>0</td>\n",
       "      <td>0</td>\n",
       "      <td>0</td>\n",
       "      <td>0</td>\n",
       "      <td>0</td>\n",
       "    </tr>\n",
       "    <tr>\n",
       "      <th>1</th>\n",
       "      <td>M2</td>\n",
       "      <td>0</td>\n",
       "      <td>55</td>\n",
       "      <td>7</td>\n",
       "      <td>0</td>\n",
       "      <td>22</td>\n",
       "      <td>0</td>\n",
       "      <td>751.695</td>\n",
       "      <td>1</td>\n",
       "      <td>1</td>\n",
       "      <td>...</td>\n",
       "      <td>1</td>\n",
       "      <td>0</td>\n",
       "      <td>0</td>\n",
       "      <td>0</td>\n",
       "      <td>0</td>\n",
       "      <td>0</td>\n",
       "      <td>0</td>\n",
       "      <td>0</td>\n",
       "      <td>0</td>\n",
       "      <td>0</td>\n",
       "    </tr>\n",
       "    <tr>\n",
       "      <th>2</th>\n",
       "      <td>M3</td>\n",
       "      <td>1</td>\n",
       "      <td>64</td>\n",
       "      <td>1</td>\n",
       "      <td>6</td>\n",
       "      <td>17</td>\n",
       "      <td>0</td>\n",
       "      <td>1064.385</td>\n",
       "      <td>0</td>\n",
       "      <td>0</td>\n",
       "      <td>...</td>\n",
       "      <td>0</td>\n",
       "      <td>0</td>\n",
       "      <td>0</td>\n",
       "      <td>0</td>\n",
       "      <td>0</td>\n",
       "      <td>0</td>\n",
       "      <td>1</td>\n",
       "      <td>0</td>\n",
       "      <td>0</td>\n",
       "      <td>0</td>\n",
       "    </tr>\n",
       "    <tr>\n",
       "      <th>3</th>\n",
       "      <td>M4</td>\n",
       "      <td>0</td>\n",
       "      <td>66</td>\n",
       "      <td>6</td>\n",
       "      <td>4</td>\n",
       "      <td>22</td>\n",
       "      <td>0</td>\n",
       "      <td>1375.500</td>\n",
       "      <td>0</td>\n",
       "      <td>0</td>\n",
       "      <td>...</td>\n",
       "      <td>0</td>\n",
       "      <td>0</td>\n",
       "      <td>0</td>\n",
       "      <td>0</td>\n",
       "      <td>1</td>\n",
       "      <td>0</td>\n",
       "      <td>0</td>\n",
       "      <td>0</td>\n",
       "      <td>0</td>\n",
       "      <td>0</td>\n",
       "    </tr>\n",
       "    <tr>\n",
       "      <th>4</th>\n",
       "      <td>M5</td>\n",
       "      <td>NaN</td>\n",
       "      <td>NaN</td>\n",
       "      <td>NaN</td>\n",
       "      <td>0</td>\n",
       "      <td>NaN</td>\n",
       "      <td>0</td>\n",
       "      <td>872.060</td>\n",
       "      <td>0</td>\n",
       "      <td>0</td>\n",
       "      <td>...</td>\n",
       "      <td>1</td>\n",
       "      <td>0</td>\n",
       "      <td>0</td>\n",
       "      <td>0</td>\n",
       "      <td>0</td>\n",
       "      <td>0</td>\n",
       "      <td>0</td>\n",
       "      <td>0</td>\n",
       "      <td>0</td>\n",
       "      <td>0</td>\n",
       "    </tr>\n",
       "  </tbody>\n",
       "</table>\n",
       "<p>5 rows × 41 columns</p>\n",
       "</div>"
      ],
      "text/plain": [
       "  Account Number  Gender  Age  Salary Slab  Professional Info  Age of Home  \\\n",
       "0             M1       0   70            5                  0           17   \n",
       "1             M2       0   55            7                  0           22   \n",
       "2             M3       1   64            1                  6           17   \n",
       "3             M4       0   66            6                  4           22   \n",
       "4             M5     NaN  NaN          NaN                  0          NaN   \n",
       "\n",
       "   Churners       Sum  payment_complaint  account_complaint   ...    \\\n",
       "0         0  1209.810                  0                  0   ...     \n",
       "1         0   751.695                  1                  1   ...     \n",
       "2         0  1064.385                  0                  0   ...     \n",
       "3         0  1375.500                  0                  0   ...     \n",
       "4         0   872.060                  0                  0   ...     \n",
       "\n",
       "   Region _Western  Accounting  Academics Automative  Banking  Defence  \\\n",
       "0                0           0          0          0        0        0   \n",
       "1                1           0          0          0        0        0   \n",
       "2                0           0          0          0        0        0   \n",
       "3                0           0          0          0        1        0   \n",
       "4                1           0          0          0        0        0   \n",
       "\n",
       "   Finance  Pharma  Labour  Others  \n",
       "0        0       0       0       0  \n",
       "1        0       0       0       0  \n",
       "2        1       0       0       0  \n",
       "3        0       0       0       0  \n",
       "4        0       0       0       0  \n",
       "\n",
       "[5 rows x 41 columns]"
      ]
     },
     "execution_count": 467,
     "metadata": {},
     "output_type": "execute_result"
    }
   ],
   "source": [
    "df_prof = pd.DataFrame(prof_array, columns=[\"Accounting\",\"Academics\",\"Automative\",\"Banking\",\"Defence\",\"Finance\",\"Pharma\",\"Labour\",\"Others\"])\n",
    "df_data = pd.concat([df_data, df_prof], axis = 1)\n",
    "df_data.head()"
   ]
  },
  {
   "cell_type": "code",
   "execution_count": 468,
   "metadata": {
    "collapsed": true
   },
   "outputs": [],
   "source": [
    "df_data.__delitem__(\"Professional Info\")"
   ]
  },
  {
   "cell_type": "code",
   "execution_count": 469,
   "metadata": {
    "collapsed": false
   },
   "outputs": [
    {
     "data": {
      "text/html": [
       "<div>\n",
       "<table border=\"1\" class=\"dataframe\">\n",
       "  <thead>\n",
       "    <tr style=\"text-align: right;\">\n",
       "      <th></th>\n",
       "      <th>Account Number</th>\n",
       "      <th>Gender</th>\n",
       "      <th>Age</th>\n",
       "      <th>Salary Slab</th>\n",
       "      <th>Age of Home</th>\n",
       "      <th>Churners</th>\n",
       "      <th>Sum</th>\n",
       "      <th>payment_complaint</th>\n",
       "      <th>account_complaint</th>\n",
       "      <th>utility_complaint</th>\n",
       "      <th>...</th>\n",
       "      <th>Region _Western</th>\n",
       "      <th>Accounting</th>\n",
       "      <th>Academics</th>\n",
       "      <th>Automative</th>\n",
       "      <th>Banking</th>\n",
       "      <th>Defence</th>\n",
       "      <th>Finance</th>\n",
       "      <th>Pharma</th>\n",
       "      <th>Labour</th>\n",
       "      <th>Others</th>\n",
       "    </tr>\n",
       "  </thead>\n",
       "  <tbody>\n",
       "    <tr>\n",
       "      <th>0</th>\n",
       "      <td>M1</td>\n",
       "      <td>0</td>\n",
       "      <td>70</td>\n",
       "      <td>5</td>\n",
       "      <td>17</td>\n",
       "      <td>0</td>\n",
       "      <td>1209.810</td>\n",
       "      <td>0</td>\n",
       "      <td>0</td>\n",
       "      <td>0</td>\n",
       "      <td>...</td>\n",
       "      <td>0</td>\n",
       "      <td>0</td>\n",
       "      <td>0</td>\n",
       "      <td>0</td>\n",
       "      <td>0</td>\n",
       "      <td>0</td>\n",
       "      <td>0</td>\n",
       "      <td>0</td>\n",
       "      <td>0</td>\n",
       "      <td>0</td>\n",
       "    </tr>\n",
       "    <tr>\n",
       "      <th>1</th>\n",
       "      <td>M2</td>\n",
       "      <td>0</td>\n",
       "      <td>55</td>\n",
       "      <td>7</td>\n",
       "      <td>22</td>\n",
       "      <td>0</td>\n",
       "      <td>751.695</td>\n",
       "      <td>1</td>\n",
       "      <td>1</td>\n",
       "      <td>0</td>\n",
       "      <td>...</td>\n",
       "      <td>1</td>\n",
       "      <td>0</td>\n",
       "      <td>0</td>\n",
       "      <td>0</td>\n",
       "      <td>0</td>\n",
       "      <td>0</td>\n",
       "      <td>0</td>\n",
       "      <td>0</td>\n",
       "      <td>0</td>\n",
       "      <td>0</td>\n",
       "    </tr>\n",
       "    <tr>\n",
       "      <th>2</th>\n",
       "      <td>M3</td>\n",
       "      <td>1</td>\n",
       "      <td>64</td>\n",
       "      <td>1</td>\n",
       "      <td>17</td>\n",
       "      <td>0</td>\n",
       "      <td>1064.385</td>\n",
       "      <td>0</td>\n",
       "      <td>0</td>\n",
       "      <td>0</td>\n",
       "      <td>...</td>\n",
       "      <td>0</td>\n",
       "      <td>0</td>\n",
       "      <td>0</td>\n",
       "      <td>0</td>\n",
       "      <td>0</td>\n",
       "      <td>0</td>\n",
       "      <td>1</td>\n",
       "      <td>0</td>\n",
       "      <td>0</td>\n",
       "      <td>0</td>\n",
       "    </tr>\n",
       "    <tr>\n",
       "      <th>3</th>\n",
       "      <td>M4</td>\n",
       "      <td>0</td>\n",
       "      <td>66</td>\n",
       "      <td>6</td>\n",
       "      <td>22</td>\n",
       "      <td>0</td>\n",
       "      <td>1375.500</td>\n",
       "      <td>0</td>\n",
       "      <td>0</td>\n",
       "      <td>0</td>\n",
       "      <td>...</td>\n",
       "      <td>0</td>\n",
       "      <td>0</td>\n",
       "      <td>0</td>\n",
       "      <td>0</td>\n",
       "      <td>1</td>\n",
       "      <td>0</td>\n",
       "      <td>0</td>\n",
       "      <td>0</td>\n",
       "      <td>0</td>\n",
       "      <td>0</td>\n",
       "    </tr>\n",
       "    <tr>\n",
       "      <th>4</th>\n",
       "      <td>M5</td>\n",
       "      <td>NaN</td>\n",
       "      <td>NaN</td>\n",
       "      <td>NaN</td>\n",
       "      <td>NaN</td>\n",
       "      <td>0</td>\n",
       "      <td>872.060</td>\n",
       "      <td>0</td>\n",
       "      <td>0</td>\n",
       "      <td>0</td>\n",
       "      <td>...</td>\n",
       "      <td>1</td>\n",
       "      <td>0</td>\n",
       "      <td>0</td>\n",
       "      <td>0</td>\n",
       "      <td>0</td>\n",
       "      <td>0</td>\n",
       "      <td>0</td>\n",
       "      <td>0</td>\n",
       "      <td>0</td>\n",
       "      <td>0</td>\n",
       "    </tr>\n",
       "  </tbody>\n",
       "</table>\n",
       "<p>5 rows × 40 columns</p>\n",
       "</div>"
      ],
      "text/plain": [
       "  Account Number  Gender  Age  Salary Slab  Age of Home  Churners       Sum  \\\n",
       "0             M1       0   70            5           17         0  1209.810   \n",
       "1             M2       0   55            7           22         0   751.695   \n",
       "2             M3       1   64            1           17         0  1064.385   \n",
       "3             M4       0   66            6           22         0  1375.500   \n",
       "4             M5     NaN  NaN          NaN          NaN         0   872.060   \n",
       "\n",
       "   payment_complaint  account_complaint  utility_complaint   ...    \\\n",
       "0                  0                  0                  0   ...     \n",
       "1                  1                  1                  0   ...     \n",
       "2                  0                  0                  0   ...     \n",
       "3                  0                  0                  0   ...     \n",
       "4                  0                  0                  0   ...     \n",
       "\n",
       "   Region _Western  Accounting Academics  Automative  Banking  Defence  \\\n",
       "0                0           0         0           0        0        0   \n",
       "1                1           0         0           0        0        0   \n",
       "2                0           0         0           0        0        0   \n",
       "3                0           0         0           0        1        0   \n",
       "4                1           0         0           0        0        0   \n",
       "\n",
       "   Finance  Pharma  Labour  Others  \n",
       "0        0       0       0       0  \n",
       "1        0       0       0       0  \n",
       "2        1       0       0       0  \n",
       "3        0       0       0       0  \n",
       "4        0       0       0       0  \n",
       "\n",
       "[5 rows x 40 columns]"
      ]
     },
     "execution_count": 469,
     "metadata": {},
     "output_type": "execute_result"
    }
   ],
   "source": [
    "df_data.head()"
   ]
  },
  {
   "cell_type": "markdown",
   "metadata": {},
   "source": [
    "### Splitting into training and test dataset"
   ]
  },
  {
   "cell_type": "code",
   "execution_count": 488,
   "metadata": {
    "collapsed": true
   },
   "outputs": [],
   "source": [
    "from sklearn.cross_validation import train_test_split\n",
    "df_train_data, df_test_data = train_test_split(df_data, test_size = 0.2,random_state = 1)"
   ]
  },
  {
   "cell_type": "code",
   "execution_count": 489,
   "metadata": {
    "collapsed": false
   },
   "outputs": [
    {
     "data": {
      "text/plain": [
       "0    7561\n",
       "1     411\n",
       "Name: Churners, dtype: int64"
      ]
     },
     "execution_count": 489,
     "metadata": {},
     "output_type": "execute_result"
    }
   ],
   "source": [
    "df_train_data[\"Churners\"].value_counts()"
   ]
  },
  {
   "cell_type": "code",
   "execution_count": 490,
   "metadata": {
    "collapsed": false
   },
   "outputs": [
    {
     "data": {
      "text/plain": [
       "0    1899\n",
       "1      95\n",
       "Name: Churners, dtype: int64"
      ]
     },
     "execution_count": 490,
     "metadata": {},
     "output_type": "execute_result"
    }
   ],
   "source": [
    "df_test_data[\"Churners\"].value_counts()"
   ]
  },
  {
   "cell_type": "markdown",
   "metadata": {},
   "source": [
    "### Dealing with missing values"
   ]
  },
  {
   "cell_type": "code",
   "execution_count": 491,
   "metadata": {
    "collapsed": false,
    "scrolled": true
   },
   "outputs": [
    {
     "data": {
      "text/plain": [
       "Account Number            0\n",
       "Gender                 1088\n",
       "Age                    1610\n",
       "Salary Slab            1074\n",
       "Age of Home            1074\n",
       "Churners                  0\n",
       "Sum                     250\n",
       "payment_complaint         0\n",
       "account_complaint         0\n",
       "utility_complaint         0\n",
       "operation_complaint       0\n",
       "Default times             0\n",
       "Loyal years               0\n",
       "Scheme_CHC                0\n",
       "Scheme_CNN                0\n",
       "Scheme_ESS                0\n",
       "Scheme_KLA                0\n",
       "Scheme_MXX                0\n",
       "Scheme_PMM                0\n",
       "Scheme_POP                0\n",
       "Scheme_PPL                0\n",
       "Scheme_PRM                0\n",
       "Scheme_PRP                0\n",
       "Scheme_PRR                0\n",
       "Scheme_PWM                0\n",
       "Scheme_PWP                0\n",
       "Scheme_PWR                0\n",
       "Region _Eastern           0\n",
       "Region _Northern          0\n",
       "Region _Southern          0\n",
       "Region _Western           0\n",
       "Accounting                0\n",
       "Academics                 0\n",
       "Automative                0\n",
       "Banking                   0\n",
       "Defence                   0\n",
       "Finance                   0\n",
       "Pharma                    0\n",
       "Labour                    0\n",
       "Others                    0\n",
       "dtype: int64"
      ]
     },
     "execution_count": 491,
     "metadata": {},
     "output_type": "execute_result"
    }
   ],
   "source": [
    "df_train_data.isnull().sum()"
   ]
  },
  {
   "cell_type": "code",
   "execution_count": 492,
   "metadata": {
    "collapsed": false
   },
   "outputs": [
    {
     "data": {
      "text/plain": [
       "(7972, 40)"
      ]
     },
     "execution_count": 492,
     "metadata": {},
     "output_type": "execute_result"
    }
   ],
   "source": [
    "df_train_data.shape"
   ]
  },
  {
   "cell_type": "code",
   "execution_count": 493,
   "metadata": {
    "collapsed": false
   },
   "outputs": [
    {
     "data": {
      "text/html": [
       "<div>\n",
       "<table border=\"1\" class=\"dataframe\">\n",
       "  <thead>\n",
       "    <tr style=\"text-align: right;\">\n",
       "      <th></th>\n",
       "      <th>Gender</th>\n",
       "      <th>Age</th>\n",
       "      <th>Salary Slab</th>\n",
       "      <th>Age of Home</th>\n",
       "      <th>Churners</th>\n",
       "      <th>Sum</th>\n",
       "    </tr>\n",
       "  </thead>\n",
       "  <tbody>\n",
       "    <tr>\n",
       "      <th>Gender</th>\n",
       "      <td>1.000000</td>\n",
       "      <td>0.018700</td>\n",
       "      <td>0.022965</td>\n",
       "      <td>0.002712</td>\n",
       "      <td>-0.019850</td>\n",
       "      <td>-0.003048</td>\n",
       "    </tr>\n",
       "    <tr>\n",
       "      <th>Age</th>\n",
       "      <td>0.018700</td>\n",
       "      <td>1.000000</td>\n",
       "      <td>0.090784</td>\n",
       "      <td>0.323762</td>\n",
       "      <td>-0.050670</td>\n",
       "      <td>-0.037004</td>\n",
       "    </tr>\n",
       "    <tr>\n",
       "      <th>Salary Slab</th>\n",
       "      <td>0.022965</td>\n",
       "      <td>0.090784</td>\n",
       "      <td>1.000000</td>\n",
       "      <td>0.296632</td>\n",
       "      <td>-0.038876</td>\n",
       "      <td>0.022285</td>\n",
       "    </tr>\n",
       "    <tr>\n",
       "      <th>Age of Home</th>\n",
       "      <td>0.002712</td>\n",
       "      <td>0.323762</td>\n",
       "      <td>0.296632</td>\n",
       "      <td>1.000000</td>\n",
       "      <td>-0.063881</td>\n",
       "      <td>-0.053833</td>\n",
       "    </tr>\n",
       "    <tr>\n",
       "      <th>Churners</th>\n",
       "      <td>-0.019850</td>\n",
       "      <td>-0.050670</td>\n",
       "      <td>-0.038876</td>\n",
       "      <td>-0.063881</td>\n",
       "      <td>1.000000</td>\n",
       "      <td>-0.018100</td>\n",
       "    </tr>\n",
       "    <tr>\n",
       "      <th>Sum</th>\n",
       "      <td>-0.003048</td>\n",
       "      <td>-0.037004</td>\n",
       "      <td>0.022285</td>\n",
       "      <td>-0.053833</td>\n",
       "      <td>-0.018100</td>\n",
       "      <td>1.000000</td>\n",
       "    </tr>\n",
       "  </tbody>\n",
       "</table>\n",
       "</div>"
      ],
      "text/plain": [
       "               Gender       Age  Salary Slab  Age of Home  Churners       Sum\n",
       "Gender       1.000000  0.018700     0.022965     0.002712 -0.019850 -0.003048\n",
       "Age          0.018700  1.000000     0.090784     0.323762 -0.050670 -0.037004\n",
       "Salary Slab  0.022965  0.090784     1.000000     0.296632 -0.038876  0.022285\n",
       "Age of Home  0.002712  0.323762     0.296632     1.000000 -0.063881 -0.053833\n",
       "Churners    -0.019850 -0.050670    -0.038876    -0.063881  1.000000 -0.018100\n",
       "Sum         -0.003048 -0.037004     0.022285    -0.053833 -0.018100  1.000000"
      ]
     },
     "execution_count": 493,
     "metadata": {},
     "output_type": "execute_result"
    }
   ],
   "source": [
    "df_train_data.iloc[:,:7].corr()"
   ]
  },
  {
   "cell_type": "code",
   "execution_count": 494,
   "metadata": {
    "collapsed": false
   },
   "outputs": [
    {
     "data": {
      "text/html": [
       "<div>\n",
       "<table border=\"1\" class=\"dataframe\">\n",
       "  <thead>\n",
       "    <tr style=\"text-align: right;\">\n",
       "      <th></th>\n",
       "      <th>Gender</th>\n",
       "      <th>Age</th>\n",
       "      <th>Salary Slab</th>\n",
       "      <th>Age of Home</th>\n",
       "      <th>Churners</th>\n",
       "      <th>Sum</th>\n",
       "      <th>payment_complaint</th>\n",
       "      <th>account_complaint</th>\n",
       "      <th>utility_complaint</th>\n",
       "      <th>operation_complaint</th>\n",
       "      <th>...</th>\n",
       "      <th>Region _Western</th>\n",
       "      <th>Accounting</th>\n",
       "      <th>Academics</th>\n",
       "      <th>Automative</th>\n",
       "      <th>Banking</th>\n",
       "      <th>Defence</th>\n",
       "      <th>Finance</th>\n",
       "      <th>Pharma</th>\n",
       "      <th>Labour</th>\n",
       "      <th>Others</th>\n",
       "    </tr>\n",
       "  </thead>\n",
       "  <tbody>\n",
       "    <tr>\n",
       "      <th>count</th>\n",
       "      <td>6884.000000</td>\n",
       "      <td>6362.000000</td>\n",
       "      <td>6898.000000</td>\n",
       "      <td>6898.000000</td>\n",
       "      <td>7972.000000</td>\n",
       "      <td>7722.000000</td>\n",
       "      <td>7972.000000</td>\n",
       "      <td>7972.000000</td>\n",
       "      <td>7972.000000</td>\n",
       "      <td>7972.000000</td>\n",
       "      <td>...</td>\n",
       "      <td>7972.000000</td>\n",
       "      <td>7972.000000</td>\n",
       "      <td>7972.000000</td>\n",
       "      <td>7972.000000</td>\n",
       "      <td>7972.000000</td>\n",
       "      <td>7972.000000</td>\n",
       "      <td>7972.000000</td>\n",
       "      <td>7972.000000</td>\n",
       "      <td>7972.000000</td>\n",
       "      <td>7972.000000</td>\n",
       "    </tr>\n",
       "    <tr>\n",
       "      <th>mean</th>\n",
       "      <td>0.534863</td>\n",
       "      <td>50.149010</td>\n",
       "      <td>4.450855</td>\n",
       "      <td>13.837489</td>\n",
       "      <td>0.051555</td>\n",
       "      <td>844.004041</td>\n",
       "      <td>0.276217</td>\n",
       "      <td>0.160562</td>\n",
       "      <td>0.033869</td>\n",
       "      <td>0.131586</td>\n",
       "      <td>...</td>\n",
       "      <td>0.121174</td>\n",
       "      <td>0.002258</td>\n",
       "      <td>0.036879</td>\n",
       "      <td>0.000125</td>\n",
       "      <td>0.087306</td>\n",
       "      <td>0.000502</td>\n",
       "      <td>0.146136</td>\n",
       "      <td>0.014802</td>\n",
       "      <td>0.001129</td>\n",
       "      <td>0.007903</td>\n",
       "    </tr>\n",
       "    <tr>\n",
       "      <th>std</th>\n",
       "      <td>0.498819</td>\n",
       "      <td>14.117295</td>\n",
       "      <td>1.901970</td>\n",
       "      <td>7.235439</td>\n",
       "      <td>0.221142</td>\n",
       "      <td>391.632922</td>\n",
       "      <td>0.447153</td>\n",
       "      <td>0.367149</td>\n",
       "      <td>0.180902</td>\n",
       "      <td>0.338061</td>\n",
       "      <td>...</td>\n",
       "      <td>0.326350</td>\n",
       "      <td>0.047467</td>\n",
       "      <td>0.188477</td>\n",
       "      <td>0.011200</td>\n",
       "      <td>0.282300</td>\n",
       "      <td>0.022396</td>\n",
       "      <td>0.353265</td>\n",
       "      <td>0.120766</td>\n",
       "      <td>0.033583</td>\n",
       "      <td>0.088550</td>\n",
       "    </tr>\n",
       "    <tr>\n",
       "      <th>min</th>\n",
       "      <td>0.000000</td>\n",
       "      <td>14.000000</td>\n",
       "      <td>1.000000</td>\n",
       "      <td>1.000000</td>\n",
       "      <td>0.000000</td>\n",
       "      <td>1.575000</td>\n",
       "      <td>0.000000</td>\n",
       "      <td>0.000000</td>\n",
       "      <td>0.000000</td>\n",
       "      <td>0.000000</td>\n",
       "      <td>...</td>\n",
       "      <td>0.000000</td>\n",
       "      <td>0.000000</td>\n",
       "      <td>0.000000</td>\n",
       "      <td>0.000000</td>\n",
       "      <td>0.000000</td>\n",
       "      <td>0.000000</td>\n",
       "      <td>0.000000</td>\n",
       "      <td>0.000000</td>\n",
       "      <td>0.000000</td>\n",
       "      <td>0.000000</td>\n",
       "    </tr>\n",
       "    <tr>\n",
       "      <th>25%</th>\n",
       "      <td>0.000000</td>\n",
       "      <td>40.000000</td>\n",
       "      <td>3.000000</td>\n",
       "      <td>7.000000</td>\n",
       "      <td>0.000000</td>\n",
       "      <td>648.327750</td>\n",
       "      <td>0.000000</td>\n",
       "      <td>0.000000</td>\n",
       "      <td>0.000000</td>\n",
       "      <td>0.000000</td>\n",
       "      <td>...</td>\n",
       "      <td>0.000000</td>\n",
       "      <td>0.000000</td>\n",
       "      <td>0.000000</td>\n",
       "      <td>0.000000</td>\n",
       "      <td>0.000000</td>\n",
       "      <td>0.000000</td>\n",
       "      <td>0.000000</td>\n",
       "      <td>0.000000</td>\n",
       "      <td>0.000000</td>\n",
       "      <td>0.000000</td>\n",
       "    </tr>\n",
       "    <tr>\n",
       "      <th>50%</th>\n",
       "      <td>1.000000</td>\n",
       "      <td>51.000000</td>\n",
       "      <td>4.000000</td>\n",
       "      <td>17.000000</td>\n",
       "      <td>0.000000</td>\n",
       "      <td>769.125000</td>\n",
       "      <td>0.000000</td>\n",
       "      <td>0.000000</td>\n",
       "      <td>0.000000</td>\n",
       "      <td>0.000000</td>\n",
       "      <td>...</td>\n",
       "      <td>0.000000</td>\n",
       "      <td>0.000000</td>\n",
       "      <td>0.000000</td>\n",
       "      <td>0.000000</td>\n",
       "      <td>0.000000</td>\n",
       "      <td>0.000000</td>\n",
       "      <td>0.000000</td>\n",
       "      <td>0.000000</td>\n",
       "      <td>0.000000</td>\n",
       "      <td>0.000000</td>\n",
       "    </tr>\n",
       "    <tr>\n",
       "      <th>75%</th>\n",
       "      <td>1.000000</td>\n",
       "      <td>60.000000</td>\n",
       "      <td>6.000000</td>\n",
       "      <td>21.000000</td>\n",
       "      <td>0.000000</td>\n",
       "      <td>958.965000</td>\n",
       "      <td>1.000000</td>\n",
       "      <td>0.000000</td>\n",
       "      <td>0.000000</td>\n",
       "      <td>0.000000</td>\n",
       "      <td>...</td>\n",
       "      <td>0.000000</td>\n",
       "      <td>0.000000</td>\n",
       "      <td>0.000000</td>\n",
       "      <td>0.000000</td>\n",
       "      <td>0.000000</td>\n",
       "      <td>0.000000</td>\n",
       "      <td>0.000000</td>\n",
       "      <td>0.000000</td>\n",
       "      <td>0.000000</td>\n",
       "      <td>0.000000</td>\n",
       "    </tr>\n",
       "    <tr>\n",
       "      <th>max</th>\n",
       "      <td>1.000000</td>\n",
       "      <td>96.000000</td>\n",
       "      <td>13.000000</td>\n",
       "      <td>22.000000</td>\n",
       "      <td>1.000000</td>\n",
       "      <td>13809.159000</td>\n",
       "      <td>1.000000</td>\n",
       "      <td>1.000000</td>\n",
       "      <td>1.000000</td>\n",
       "      <td>1.000000</td>\n",
       "      <td>...</td>\n",
       "      <td>1.000000</td>\n",
       "      <td>1.000000</td>\n",
       "      <td>1.000000</td>\n",
       "      <td>1.000000</td>\n",
       "      <td>1.000000</td>\n",
       "      <td>1.000000</td>\n",
       "      <td>1.000000</td>\n",
       "      <td>1.000000</td>\n",
       "      <td>1.000000</td>\n",
       "      <td>1.000000</td>\n",
       "    </tr>\n",
       "  </tbody>\n",
       "</table>\n",
       "<p>8 rows × 38 columns</p>\n",
       "</div>"
      ],
      "text/plain": [
       "            Gender          Age  Salary Slab  Age of Home     Churners  \\\n",
       "count  6884.000000  6362.000000  6898.000000  6898.000000  7972.000000   \n",
       "mean      0.534863    50.149010     4.450855    13.837489     0.051555   \n",
       "std       0.498819    14.117295     1.901970     7.235439     0.221142   \n",
       "min       0.000000    14.000000     1.000000     1.000000     0.000000   \n",
       "25%       0.000000    40.000000     3.000000     7.000000     0.000000   \n",
       "50%       1.000000    51.000000     4.000000    17.000000     0.000000   \n",
       "75%       1.000000    60.000000     6.000000    21.000000     0.000000   \n",
       "max       1.000000    96.000000    13.000000    22.000000     1.000000   \n",
       "\n",
       "                Sum  payment_complaint  account_complaint  utility_complaint  \\\n",
       "count   7722.000000        7972.000000        7972.000000        7972.000000   \n",
       "mean     844.004041           0.276217           0.160562           0.033869   \n",
       "std      391.632922           0.447153           0.367149           0.180902   \n",
       "min        1.575000           0.000000           0.000000           0.000000   \n",
       "25%      648.327750           0.000000           0.000000           0.000000   \n",
       "50%      769.125000           0.000000           0.000000           0.000000   \n",
       "75%      958.965000           1.000000           0.000000           0.000000   \n",
       "max    13809.159000           1.000000           1.000000           1.000000   \n",
       "\n",
       "       operation_complaint     ...       Region _Western   Accounting  \\\n",
       "count          7972.000000     ...           7972.000000  7972.000000   \n",
       "mean              0.131586     ...              0.121174     0.002258   \n",
       "std               0.338061     ...              0.326350     0.047467   \n",
       "min               0.000000     ...              0.000000     0.000000   \n",
       "25%               0.000000     ...              0.000000     0.000000   \n",
       "50%               0.000000     ...              0.000000     0.000000   \n",
       "75%               0.000000     ...              0.000000     0.000000   \n",
       "max               1.000000     ...              1.000000     1.000000   \n",
       "\n",
       "         Academics   Automative      Banking      Defence      Finance  \\\n",
       "count  7972.000000  7972.000000  7972.000000  7972.000000  7972.000000   \n",
       "mean      0.036879     0.000125     0.087306     0.000502     0.146136   \n",
       "std       0.188477     0.011200     0.282300     0.022396     0.353265   \n",
       "min       0.000000     0.000000     0.000000     0.000000     0.000000   \n",
       "25%       0.000000     0.000000     0.000000     0.000000     0.000000   \n",
       "50%       0.000000     0.000000     0.000000     0.000000     0.000000   \n",
       "75%       0.000000     0.000000     0.000000     0.000000     0.000000   \n",
       "max       1.000000     1.000000     1.000000     1.000000     1.000000   \n",
       "\n",
       "            Pharma       Labour       Others  \n",
       "count  7972.000000  7972.000000  7972.000000  \n",
       "mean      0.014802     0.001129     0.007903  \n",
       "std       0.120766     0.033583     0.088550  \n",
       "min       0.000000     0.000000     0.000000  \n",
       "25%       0.000000     0.000000     0.000000  \n",
       "50%       0.000000     0.000000     0.000000  \n",
       "75%       0.000000     0.000000     0.000000  \n",
       "max       1.000000     1.000000     1.000000  \n",
       "\n",
       "[8 rows x 38 columns]"
      ]
     },
     "execution_count": 494,
     "metadata": {},
     "output_type": "execute_result"
    }
   ],
   "source": [
    "df_train_data.describe()"
   ]
  },
  {
   "cell_type": "code",
   "execution_count": 496,
   "metadata": {
    "collapsed": false
   },
   "outputs": [
    {
     "name": "stderr",
     "output_type": "stream",
     "text": [
      "C:\\Users\\SHIVAM MAHAJAN\\Anaconda\\lib\\site-packages\\ipykernel\\__main__.py:1: SettingWithCopyWarning: \n",
      "A value is trying to be set on a copy of a slice from a DataFrame.\n",
      "Try using .loc[row_indexer,col_indexer] = value instead\n",
      "\n",
      "See the caveats in the documentation: http://pandas.pydata.org/pandas-docs/stable/indexing.html#indexing-view-versus-copy\n",
      "  if __name__ == '__main__':\n"
     ]
    }
   ],
   "source": [
    "df_train_data[\"Loyal years\"] = df_train_data[\"Loyal years\"].replace(\"\",np.nan)\n",
    "#df_train_data[\"Loyal years\"] = df_train_data[\"Loyal years\"].astype(int)"
   ]
  },
  {
   "cell_type": "code",
   "execution_count": 497,
   "metadata": {
    "collapsed": false
   },
   "outputs": [
    {
     "data": {
      "text/plain": [
       "1    2767\n",
       "2    2056\n",
       "3    1806\n",
       "0     813\n",
       "4     528\n",
       "Name: Loyal years, dtype: int64"
      ]
     },
     "execution_count": 497,
     "metadata": {},
     "output_type": "execute_result"
    }
   ],
   "source": [
    "df_train_data[\"Loyal years\"].value_counts()"
   ]
  },
  {
   "cell_type": "code",
   "execution_count": 500,
   "metadata": {
    "collapsed": false
   },
   "outputs": [
    {
     "data": {
      "text/plain": [
       "array([[  1.,  43.,   3., ...,   0.,   0.,   0.],\n",
       "       [  1.,  63.,   4., ...,   0.,   0.,   0.],\n",
       "       [  1.,  29.,   9., ...,   0.,   0.,   0.],\n",
       "       ..., \n",
       "       [  0.,  62.,   1., ...,   0.,   0.,   0.],\n",
       "       [  0.,  64.,   6., ...,   0.,   0.,   0.],\n",
       "       [  0.,  63.,   3., ...,   0.,   0.,   0.]])"
      ]
     },
     "execution_count": 500,
     "metadata": {},
     "output_type": "execute_result"
    }
   ],
   "source": [
    "from sklearn.preprocessing import Imputer\n",
    "imp = Imputer(strategy = \"median\")\n",
    "imp.fit(df_train_data.iloc[:,1:])\n",
    "imputed_data = imp.transform(df_train_data.iloc[:,1:])\n",
    "imputed_data"
   ]
  },
  {
   "cell_type": "code",
   "execution_count": null,
   "metadata": {
    "collapsed": true
   },
   "outputs": [],
   "source": [
    "df_train_im"
   ]
  },
  {
   "cell_type": "code",
   "execution_count": 528,
   "metadata": {
    "collapsed": false
   },
   "outputs": [
    {
     "data": {
      "text/html": [
       "<div>\n",
       "<table border=\"1\" class=\"dataframe\">\n",
       "  <thead>\n",
       "    <tr style=\"text-align: right;\">\n",
       "      <th></th>\n",
       "      <th>Account Number</th>\n",
       "      <th>Gender</th>\n",
       "      <th>Age</th>\n",
       "      <th>Salary Slab</th>\n",
       "      <th>Age of Home</th>\n",
       "      <th>Churners</th>\n",
       "      <th>Sum</th>\n",
       "      <th>payment_complaint</th>\n",
       "      <th>account_complaint</th>\n",
       "      <th>utility_complaint</th>\n",
       "      <th>...</th>\n",
       "      <th>Region _Western</th>\n",
       "      <th>Accounting</th>\n",
       "      <th>Academics</th>\n",
       "      <th>Automative</th>\n",
       "      <th>Banking</th>\n",
       "      <th>Defence</th>\n",
       "      <th>Finance</th>\n",
       "      <th>Pharma</th>\n",
       "      <th>Labour</th>\n",
       "      <th>Others</th>\n",
       "    </tr>\n",
       "  </thead>\n",
       "  <tbody>\n",
       "    <tr>\n",
       "      <th>0</th>\n",
       "      <td>M1189</td>\n",
       "      <td>1</td>\n",
       "      <td>43</td>\n",
       "      <td>3</td>\n",
       "      <td>7</td>\n",
       "      <td>0</td>\n",
       "      <td>876.645</td>\n",
       "      <td>1</td>\n",
       "      <td>1</td>\n",
       "      <td>0</td>\n",
       "      <td>...</td>\n",
       "      <td>1</td>\n",
       "      <td>0</td>\n",
       "      <td>0</td>\n",
       "      <td>0</td>\n",
       "      <td>0</td>\n",
       "      <td>0</td>\n",
       "      <td>0</td>\n",
       "      <td>0</td>\n",
       "      <td>0</td>\n",
       "      <td>0</td>\n",
       "    </tr>\n",
       "    <tr>\n",
       "      <th>1</th>\n",
       "      <td>M3864</td>\n",
       "      <td>1</td>\n",
       "      <td>63</td>\n",
       "      <td>4</td>\n",
       "      <td>12</td>\n",
       "      <td>0</td>\n",
       "      <td>748.440</td>\n",
       "      <td>0</td>\n",
       "      <td>0</td>\n",
       "      <td>0</td>\n",
       "      <td>...</td>\n",
       "      <td>0</td>\n",
       "      <td>0</td>\n",
       "      <td>0</td>\n",
       "      <td>0</td>\n",
       "      <td>0</td>\n",
       "      <td>0</td>\n",
       "      <td>0</td>\n",
       "      <td>0</td>\n",
       "      <td>0</td>\n",
       "      <td>0</td>\n",
       "    </tr>\n",
       "    <tr>\n",
       "      <th>2</th>\n",
       "      <td>M7957</td>\n",
       "      <td>1</td>\n",
       "      <td>29</td>\n",
       "      <td>9</td>\n",
       "      <td>17</td>\n",
       "      <td>0</td>\n",
       "      <td>1883.945</td>\n",
       "      <td>0</td>\n",
       "      <td>0</td>\n",
       "      <td>0</td>\n",
       "      <td>...</td>\n",
       "      <td>0</td>\n",
       "      <td>0</td>\n",
       "      <td>0</td>\n",
       "      <td>0</td>\n",
       "      <td>0</td>\n",
       "      <td>0</td>\n",
       "      <td>0</td>\n",
       "      <td>0</td>\n",
       "      <td>0</td>\n",
       "      <td>0</td>\n",
       "    </tr>\n",
       "    <tr>\n",
       "      <th>3</th>\n",
       "      <td>M2413</td>\n",
       "      <td>0</td>\n",
       "      <td>50</td>\n",
       "      <td>4</td>\n",
       "      <td>7</td>\n",
       "      <td>0</td>\n",
       "      <td>874.860</td>\n",
       "      <td>1</td>\n",
       "      <td>0</td>\n",
       "      <td>0</td>\n",
       "      <td>...</td>\n",
       "      <td>0</td>\n",
       "      <td>0</td>\n",
       "      <td>0</td>\n",
       "      <td>0</td>\n",
       "      <td>0</td>\n",
       "      <td>0</td>\n",
       "      <td>0</td>\n",
       "      <td>0</td>\n",
       "      <td>0</td>\n",
       "      <td>0</td>\n",
       "    </tr>\n",
       "    <tr>\n",
       "      <th>4</th>\n",
       "      <td>M3528</td>\n",
       "      <td>1</td>\n",
       "      <td>51</td>\n",
       "      <td>3</td>\n",
       "      <td>12</td>\n",
       "      <td>0</td>\n",
       "      <td>7.770</td>\n",
       "      <td>0</td>\n",
       "      <td>0</td>\n",
       "      <td>0</td>\n",
       "      <td>...</td>\n",
       "      <td>0</td>\n",
       "      <td>0</td>\n",
       "      <td>0</td>\n",
       "      <td>0</td>\n",
       "      <td>0</td>\n",
       "      <td>0</td>\n",
       "      <td>0</td>\n",
       "      <td>0</td>\n",
       "      <td>0</td>\n",
       "      <td>0</td>\n",
       "    </tr>\n",
       "  </tbody>\n",
       "</table>\n",
       "<p>5 rows × 40 columns</p>\n",
       "</div>"
      ],
      "text/plain": [
       "  Account Number  Gender  Age  Salary Slab  Age of Home  Churners       Sum  \\\n",
       "0          M1189       1   43            3            7         0   876.645   \n",
       "1          M3864       1   63            4           12         0   748.440   \n",
       "2          M7957       1   29            9           17         0  1883.945   \n",
       "3          M2413       0   50            4            7         0   874.860   \n",
       "4          M3528       1   51            3           12         0     7.770   \n",
       "\n",
       "   payment_complaint  account_complaint  utility_complaint   ...    \\\n",
       "0                  1                  1                  0   ...     \n",
       "1                  0                  0                  0   ...     \n",
       "2                  0                  0                  0   ...     \n",
       "3                  1                  0                  0   ...     \n",
       "4                  0                  0                  0   ...     \n",
       "\n",
       "   Region _Western  Accounting  Academics  Automative  Banking  Defence  \\\n",
       "0                1           0          0           0        0        0   \n",
       "1                0           0          0           0        0        0   \n",
       "2                0           0          0           0        0        0   \n",
       "3                0           0          0           0        0        0   \n",
       "4                0           0          0           0        0        0   \n",
       "\n",
       "   Finance  Pharma  Labour  Others  \n",
       "0        0       0       0       0  \n",
       "1        0       0       0       0  \n",
       "2        0       0       0       0  \n",
       "3        0       0       0       0  \n",
       "4        0       0       0       0  \n",
       "\n",
       "[5 rows x 40 columns]"
      ]
     },
     "execution_count": 528,
     "metadata": {},
     "output_type": "execute_result"
    }
   ],
   "source": [
    "df_train_imputed_data = pd.concat([pd.DataFrame(df_train_data[\"Account Number\"].values),pd.DataFrame(imputed_data)],axis = 1)\n",
    "df_train_imputed_data.columns = df_train_data.columns\n",
    "df_train_imputed_data.head()"
   ]
  },
  {
   "cell_type": "code",
   "execution_count": 519,
   "metadata": {
    "collapsed": false
   },
   "outputs": [
    {
     "data": {
      "text/html": [
       "<div>\n",
       "<table border=\"1\" class=\"dataframe\">\n",
       "  <thead>\n",
       "    <tr style=\"text-align: right;\">\n",
       "      <th></th>\n",
       "      <th>Account Number</th>\n",
       "      <th>Gender</th>\n",
       "      <th>Age</th>\n",
       "      <th>Salary Slab</th>\n",
       "      <th>Age of Home</th>\n",
       "      <th>Churners</th>\n",
       "      <th>Sum</th>\n",
       "      <th>payment_complaint</th>\n",
       "      <th>account_complaint</th>\n",
       "      <th>utility_complaint</th>\n",
       "      <th>...</th>\n",
       "      <th>Region _Western</th>\n",
       "      <th>Accounting</th>\n",
       "      <th>Academics</th>\n",
       "      <th>Automative</th>\n",
       "      <th>Banking</th>\n",
       "      <th>Defence</th>\n",
       "      <th>Finance</th>\n",
       "      <th>Pharma</th>\n",
       "      <th>Labour</th>\n",
       "      <th>Others</th>\n",
       "    </tr>\n",
       "  </thead>\n",
       "  <tbody>\n",
       "    <tr>\n",
       "      <th>9738</th>\n",
       "      <td>M9773</td>\n",
       "      <td>NaN</td>\n",
       "      <td>NaN</td>\n",
       "      <td>NaN</td>\n",
       "      <td>NaN</td>\n",
       "      <td>0</td>\n",
       "      <td>748.230</td>\n",
       "      <td>0</td>\n",
       "      <td>0</td>\n",
       "      <td>0</td>\n",
       "      <td>...</td>\n",
       "      <td>0</td>\n",
       "      <td>0</td>\n",
       "      <td>0</td>\n",
       "      <td>0</td>\n",
       "      <td>0</td>\n",
       "      <td>0</td>\n",
       "      <td>0</td>\n",
       "      <td>0</td>\n",
       "      <td>0</td>\n",
       "      <td>0</td>\n",
       "    </tr>\n",
       "    <tr>\n",
       "      <th>3361</th>\n",
       "      <td>M3396</td>\n",
       "      <td>NaN</td>\n",
       "      <td>NaN</td>\n",
       "      <td>NaN</td>\n",
       "      <td>NaN</td>\n",
       "      <td>0</td>\n",
       "      <td>NaN</td>\n",
       "      <td>0</td>\n",
       "      <td>0</td>\n",
       "      <td>0</td>\n",
       "      <td>...</td>\n",
       "      <td>0</td>\n",
       "      <td>0</td>\n",
       "      <td>0</td>\n",
       "      <td>0</td>\n",
       "      <td>0</td>\n",
       "      <td>0</td>\n",
       "      <td>0</td>\n",
       "      <td>0</td>\n",
       "      <td>0</td>\n",
       "      <td>0</td>\n",
       "    </tr>\n",
       "    <tr>\n",
       "      <th>7854</th>\n",
       "      <td>M7889</td>\n",
       "      <td>1</td>\n",
       "      <td>62</td>\n",
       "      <td>6</td>\n",
       "      <td>17</td>\n",
       "      <td>0</td>\n",
       "      <td>839.895</td>\n",
       "      <td>1</td>\n",
       "      <td>0</td>\n",
       "      <td>1</td>\n",
       "      <td>...</td>\n",
       "      <td>1</td>\n",
       "      <td>0</td>\n",
       "      <td>0</td>\n",
       "      <td>0</td>\n",
       "      <td>0</td>\n",
       "      <td>0</td>\n",
       "      <td>0</td>\n",
       "      <td>0</td>\n",
       "      <td>0</td>\n",
       "      <td>0</td>\n",
       "    </tr>\n",
       "    <tr>\n",
       "      <th>3388</th>\n",
       "      <td>M3423</td>\n",
       "      <td>0</td>\n",
       "      <td>50</td>\n",
       "      <td>4</td>\n",
       "      <td>21</td>\n",
       "      <td>0</td>\n",
       "      <td>7.770</td>\n",
       "      <td>0</td>\n",
       "      <td>0</td>\n",
       "      <td>0</td>\n",
       "      <td>...</td>\n",
       "      <td>0</td>\n",
       "      <td>0</td>\n",
       "      <td>0</td>\n",
       "      <td>0</td>\n",
       "      <td>0</td>\n",
       "      <td>0</td>\n",
       "      <td>0</td>\n",
       "      <td>0</td>\n",
       "      <td>0</td>\n",
       "      <td>0</td>\n",
       "    </tr>\n",
       "    <tr>\n",
       "      <th>4589</th>\n",
       "      <td>M4624</td>\n",
       "      <td>NaN</td>\n",
       "      <td>NaN</td>\n",
       "      <td>NaN</td>\n",
       "      <td>NaN</td>\n",
       "      <td>0</td>\n",
       "      <td>637.035</td>\n",
       "      <td>1</td>\n",
       "      <td>1</td>\n",
       "      <td>0</td>\n",
       "      <td>...</td>\n",
       "      <td>0</td>\n",
       "      <td>0</td>\n",
       "      <td>0</td>\n",
       "      <td>0</td>\n",
       "      <td>0</td>\n",
       "      <td>0</td>\n",
       "      <td>0</td>\n",
       "      <td>0</td>\n",
       "      <td>0</td>\n",
       "      <td>0</td>\n",
       "    </tr>\n",
       "  </tbody>\n",
       "</table>\n",
       "<p>5 rows × 40 columns</p>\n",
       "</div>"
      ],
      "text/plain": [
       "     Account Number  Gender  Age  Salary Slab  Age of Home  Churners      Sum  \\\n",
       "9738          M9773     NaN  NaN          NaN          NaN         0  748.230   \n",
       "3361          M3396     NaN  NaN          NaN          NaN         0      NaN   \n",
       "7854          M7889       1   62            6           17         0  839.895   \n",
       "3388          M3423       0   50            4           21         0    7.770   \n",
       "4589          M4624     NaN  NaN          NaN          NaN         0  637.035   \n",
       "\n",
       "      payment_complaint  account_complaint  utility_complaint   ...    \\\n",
       "9738                  0                  0                  0   ...     \n",
       "3361                  0                  0                  0   ...     \n",
       "7854                  1                  0                  1   ...     \n",
       "3388                  0                  0                  0   ...     \n",
       "4589                  1                  1                  0   ...     \n",
       "\n",
       "      Region _Western  Accounting  Academics  Automative  Banking  Defence  \\\n",
       "9738                0           0          0           0        0        0   \n",
       "3361                0           0          0           0        0        0   \n",
       "7854                1           0          0           0        0        0   \n",
       "3388                0           0          0           0        0        0   \n",
       "4589                0           0          0           0        0        0   \n",
       "\n",
       "      Finance  Pharma  Labour  Others  \n",
       "9738        0       0       0       0  \n",
       "3361        0       0       0       0  \n",
       "7854        0       0       0       0  \n",
       "3388        0       0       0       0  \n",
       "4589        0       0       0       0  \n",
       "\n",
       "[5 rows x 40 columns]"
      ]
     },
     "execution_count": 519,
     "metadata": {},
     "output_type": "execute_result"
    }
   ],
   "source": [
    "df_test_data[\"Loyal years\"].replace(\"\", np.nan, inplace=True)\n",
    "df_test_data.head()"
   ]
  },
  {
   "cell_type": "code",
   "execution_count": 511,
   "metadata": {
    "collapsed": false
   },
   "outputs": [
    {
     "data": {
      "text/plain": [
       "1994L"
      ]
     },
     "execution_count": 511,
     "metadata": {},
     "output_type": "execute_result"
    }
   ],
   "source": [
    "imputed_test_data.shape[0]"
   ]
  },
  {
   "cell_type": "code",
   "execution_count": 532,
   "metadata": {
    "collapsed": false
   },
   "outputs": [
    {
     "data": {
      "text/plain": [
       "array([[  1.,  50.,   4., ...,   0.,   0.,   0.],\n",
       "       [  1.,  50.,   4., ...,   0.,   0.,   0.],\n",
       "       [  1.,  62.,   6., ...,   0.,   0.,   0.],\n",
       "       ..., \n",
       "       [  1.,  50.,   3., ...,   0.,   0.,   0.],\n",
       "       [  0.,  50.,   4., ...,   0.,   0.,   0.],\n",
       "       [  0.,  19.,   2., ...,   0.,   0.,   0.]])"
      ]
     },
     "execution_count": 532,
     "metadata": {},
     "output_type": "execute_result"
    }
   ],
   "source": [
    "imputed_test_data = imp.fit_transform(df_test_data.iloc[:,1:])\n",
    "imputed_test_data"
   ]
  },
  {
   "cell_type": "code",
   "execution_count": 529,
   "metadata": {
    "collapsed": false
   },
   "outputs": [
    {
     "data": {
      "text/html": [
       "<div>\n",
       "<table border=\"1\" class=\"dataframe\">\n",
       "  <thead>\n",
       "    <tr style=\"text-align: right;\">\n",
       "      <th></th>\n",
       "      <th>Account Number</th>\n",
       "      <th>Gender</th>\n",
       "      <th>Age</th>\n",
       "      <th>Salary Slab</th>\n",
       "      <th>Age of Home</th>\n",
       "      <th>Churners</th>\n",
       "      <th>Sum</th>\n",
       "      <th>payment_complaint</th>\n",
       "      <th>account_complaint</th>\n",
       "      <th>utility_complaint</th>\n",
       "      <th>...</th>\n",
       "      <th>Region _Western</th>\n",
       "      <th>Accounting</th>\n",
       "      <th>Academics</th>\n",
       "      <th>Automative</th>\n",
       "      <th>Banking</th>\n",
       "      <th>Defence</th>\n",
       "      <th>Finance</th>\n",
       "      <th>Pharma</th>\n",
       "      <th>Labour</th>\n",
       "      <th>Others</th>\n",
       "    </tr>\n",
       "  </thead>\n",
       "  <tbody>\n",
       "    <tr>\n",
       "      <th>0</th>\n",
       "      <td>M9773</td>\n",
       "      <td>1</td>\n",
       "      <td>51</td>\n",
       "      <td>4</td>\n",
       "      <td>17</td>\n",
       "      <td>0</td>\n",
       "      <td>748.230</td>\n",
       "      <td>0</td>\n",
       "      <td>0</td>\n",
       "      <td>0</td>\n",
       "      <td>...</td>\n",
       "      <td>0</td>\n",
       "      <td>0</td>\n",
       "      <td>0</td>\n",
       "      <td>0</td>\n",
       "      <td>0</td>\n",
       "      <td>0</td>\n",
       "      <td>0</td>\n",
       "      <td>0</td>\n",
       "      <td>0</td>\n",
       "      <td>0</td>\n",
       "    </tr>\n",
       "    <tr>\n",
       "      <th>1</th>\n",
       "      <td>M3396</td>\n",
       "      <td>1</td>\n",
       "      <td>51</td>\n",
       "      <td>4</td>\n",
       "      <td>17</td>\n",
       "      <td>0</td>\n",
       "      <td>769.125</td>\n",
       "      <td>0</td>\n",
       "      <td>0</td>\n",
       "      <td>0</td>\n",
       "      <td>...</td>\n",
       "      <td>0</td>\n",
       "      <td>0</td>\n",
       "      <td>0</td>\n",
       "      <td>0</td>\n",
       "      <td>0</td>\n",
       "      <td>0</td>\n",
       "      <td>0</td>\n",
       "      <td>0</td>\n",
       "      <td>0</td>\n",
       "      <td>0</td>\n",
       "    </tr>\n",
       "    <tr>\n",
       "      <th>2</th>\n",
       "      <td>M7889</td>\n",
       "      <td>1</td>\n",
       "      <td>62</td>\n",
       "      <td>6</td>\n",
       "      <td>17</td>\n",
       "      <td>0</td>\n",
       "      <td>839.895</td>\n",
       "      <td>1</td>\n",
       "      <td>0</td>\n",
       "      <td>1</td>\n",
       "      <td>...</td>\n",
       "      <td>1</td>\n",
       "      <td>0</td>\n",
       "      <td>0</td>\n",
       "      <td>0</td>\n",
       "      <td>0</td>\n",
       "      <td>0</td>\n",
       "      <td>0</td>\n",
       "      <td>0</td>\n",
       "      <td>0</td>\n",
       "      <td>0</td>\n",
       "    </tr>\n",
       "    <tr>\n",
       "      <th>3</th>\n",
       "      <td>M3423</td>\n",
       "      <td>0</td>\n",
       "      <td>50</td>\n",
       "      <td>4</td>\n",
       "      <td>21</td>\n",
       "      <td>0</td>\n",
       "      <td>7.770</td>\n",
       "      <td>0</td>\n",
       "      <td>0</td>\n",
       "      <td>0</td>\n",
       "      <td>...</td>\n",
       "      <td>0</td>\n",
       "      <td>0</td>\n",
       "      <td>0</td>\n",
       "      <td>0</td>\n",
       "      <td>0</td>\n",
       "      <td>0</td>\n",
       "      <td>0</td>\n",
       "      <td>0</td>\n",
       "      <td>0</td>\n",
       "      <td>0</td>\n",
       "    </tr>\n",
       "    <tr>\n",
       "      <th>4</th>\n",
       "      <td>M4624</td>\n",
       "      <td>1</td>\n",
       "      <td>51</td>\n",
       "      <td>4</td>\n",
       "      <td>17</td>\n",
       "      <td>0</td>\n",
       "      <td>637.035</td>\n",
       "      <td>1</td>\n",
       "      <td>1</td>\n",
       "      <td>0</td>\n",
       "      <td>...</td>\n",
       "      <td>0</td>\n",
       "      <td>0</td>\n",
       "      <td>0</td>\n",
       "      <td>0</td>\n",
       "      <td>0</td>\n",
       "      <td>0</td>\n",
       "      <td>0</td>\n",
       "      <td>0</td>\n",
       "      <td>0</td>\n",
       "      <td>0</td>\n",
       "    </tr>\n",
       "  </tbody>\n",
       "</table>\n",
       "<p>5 rows × 40 columns</p>\n",
       "</div>"
      ],
      "text/plain": [
       "  Account Number  Gender  Age  Salary Slab  Age of Home  Churners      Sum  \\\n",
       "0          M9773       1   51            4           17         0  748.230   \n",
       "1          M3396       1   51            4           17         0  769.125   \n",
       "2          M7889       1   62            6           17         0  839.895   \n",
       "3          M3423       0   50            4           21         0    7.770   \n",
       "4          M4624       1   51            4           17         0  637.035   \n",
       "\n",
       "   payment_complaint  account_complaint  utility_complaint   ...    \\\n",
       "0                  0                  0                  0   ...     \n",
       "1                  0                  0                  0   ...     \n",
       "2                  1                  0                  1   ...     \n",
       "3                  0                  0                  0   ...     \n",
       "4                  1                  1                  0   ...     \n",
       "\n",
       "   Region _Western  Accounting  Academics  Automative  Banking  Defence  \\\n",
       "0                0           0          0           0        0        0   \n",
       "1                0           0          0           0        0        0   \n",
       "2                1           0          0           0        0        0   \n",
       "3                0           0          0           0        0        0   \n",
       "4                0           0          0           0        0        0   \n",
       "\n",
       "   Finance  Pharma  Labour  Others  \n",
       "0        0       0       0       0  \n",
       "1        0       0       0       0  \n",
       "2        0       0       0       0  \n",
       "3        0       0       0       0  \n",
       "4        0       0       0       0  \n",
       "\n",
       "[5 rows x 40 columns]"
      ]
     },
     "execution_count": 529,
     "metadata": {},
     "output_type": "execute_result"
    }
   ],
   "source": [
    "df_test_imputed_data = pd.concat([pd.DataFrame(df_test_data[\"Account Number\"].values), pd.DataFrame(imputed_test_data)], axis = 1)\n",
    "df_test_imputed_data.columns = df_test_data.columns\n",
    "df_test_imputed_data.head()"
   ]
  },
  {
   "cell_type": "code",
   "execution_count": 533,
   "metadata": {
    "collapsed": true
   },
   "outputs": [],
   "source": [
    "df_train_imputed_data.to_csv(r\"C:\\Users\\SHIVAM MAHAJAN\\Desktop\\Github\\EXL data\\df_train_data.csv\", index = False)\n",
    "df_test_imputed_data.to_csv(r\"C:\\Users\\SHIVAM MAHAJAN\\Desktop\\Github\\EXL data\\df_test_data.csv\", index = False)"
   ]
  },
  {
   "cell_type": "markdown",
   "metadata": {},
   "source": [
    "### Create df_predicted_data and save in csv format"
   ]
  },
  {
   "cell_type": "code",
   "execution_count": 534,
   "metadata": {
    "collapsed": false
   },
   "outputs": [
    {
     "data": {
      "text/plain": [
       "3.9"
      ]
     },
     "execution_count": 534,
     "metadata": {},
     "output_type": "execute_result"
    }
   ],
   "source": [
    "13.7\n",
    "2.3\n",
    "11.9\n",
    "10.1\n",
    "6.3\n",
    "3.5\n",
    "10.6\n",
    "1.3\n",
    "11.7\n",
    "2.5\n",
    "11.7\n",
    "3.4\n",
    "6.9\n",
    "16\n",
    "14\n",
    "22.8\n",
    "21.5\n",
    "2.3\n",
    "22.5\n",
    "6.1\n",
    "7.6\n",
    "11.4\n",
    "19.3\n",
    "5.3\n",
    "6.4\n",
    "3.5\n",
    "5.7\n",
    "6.6\n",
    "3.9"
   ]
  },
  {
   "cell_type": "code",
   "execution_count": null,
   "metadata": {
    "collapsed": true
   },
   "outputs": [],
   "source": []
  }
 ],
 "metadata": {
  "kernelspec": {
   "display_name": "Python 2",
   "language": "python",
   "name": "python2"
  },
  "language_info": {
   "codemirror_mode": {
    "name": "ipython",
    "version": 2
   },
   "file_extension": ".py",
   "mimetype": "text/x-python",
   "name": "python",
   "nbconvert_exporter": "python",
   "pygments_lexer": "ipython2",
   "version": "2.7.11"
  }
 },
 "nbformat": 4,
 "nbformat_minor": 0
}
