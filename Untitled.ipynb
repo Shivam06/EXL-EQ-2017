{
 "cells": [
  {
   "cell_type": "code",
   "execution_count": 5,
   "metadata": {
    "collapsed": false
   },
   "outputs": [],
   "source": [
    "from bokeh.io import output_file, show\n",
    "from bokeh.plotting import figure\n",
    "import matplotlib.pyplot as plt"
   ]
  },
  {
   "cell_type": "code",
   "execution_count": 7,
   "metadata": {
    "collapsed": false
   },
   "outputs": [
    {
     "name": "stderr",
     "output_type": "stream",
     "text": [
      "ERROR:C:\\Users\\SHIVAM MAHAJAN\\Anaconda\\lib\\site-packages\\bokeh\\core\\validation\\check.py:W-1001 (NO_DATA_RENDERERS): Plot has no data renderers: Figure, ViewModel:Plot, ref _id: f5586ea9-eab5-4d45-b744-9b93beaf296b\n",
      "ERROR:C:\\Users\\SHIVAM MAHAJAN\\Anaconda\\lib\\site-packages\\bokeh\\core\\validation\\check.py:W-1001 (NO_DATA_RENDERERS): Plot has no data renderers: Figure, ViewModel:Plot, ref _id: ff479bcc-8994-4dc7-ac7e-8f26f1531621\n",
      "ERROR:C:\\Users\\SHIVAM MAHAJAN\\Anaconda\\lib\\site-packages\\bokeh\\core\\validation\\check.py:E-1000 (COLUMN_LENGTHS): ColumnDataSource column lengths are not all the same: ColumnDataSource, ViewModel:ColumnDataSource, ref _id: d6f1c645-12a7-470e-8429-af163dc116c9\n"
     ]
    }
   ],
   "source": [
    "plot = figure(plot_width=400, tools = 'pan,box_zoom')\n",
    "plot.circle([1,2,3,4], [8,6,5,3,2])\n",
    "output_file('circle.html')\n",
    "show(plot)"
   ]
  },
  {
   "cell_type": "code",
   "execution_count": null,
   "metadata": {
    "collapsed": true
   },
   "outputs": [],
   "source": []
  }
 ],
 "metadata": {
  "kernelspec": {
   "display_name": "Python 2",
   "language": "python",
   "name": "python2"
  },
  "language_info": {
   "codemirror_mode": {
    "name": "ipython",
    "version": 2
   },
   "file_extension": ".py",
   "mimetype": "text/x-python",
   "name": "python",
   "nbconvert_exporter": "python",
   "pygments_lexer": "ipython2",
   "version": "2.7.11"
  }
 },
 "nbformat": 4,
 "nbformat_minor": 0
}
