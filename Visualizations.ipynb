{
 "cells": [
  {
   "cell_type": "code",
   "execution_count": 1,
   "metadata": {
    "collapsed": true
   },
   "outputs": [],
   "source": [
    "import numpy as np\n",
    "import pandas as pd\n",
    "df_train_data = pd.read_csv(r\"C:\\Users\\SHIVAM MAHAJAN\\Desktop\\Github\\EXL data\\df_train_data.csv\")\n",
    "df_test_data = pd.read_csv(r\"C:\\Users\\SHIVAM MAHAJAN\\Desktop\\Github\\EXL data\\df_test_data.csv\")\n",
    "df = pd.concat([df_train_data, df_test_data])"
   ]
  },
  {
   "cell_type": "code",
   "execution_count": 19,
   "metadata": {
    "collapsed": true
   },
   "outputs": [],
   "source": [
    "import matplotlib.pyplot as plt"
   ]
  },
  {
   "cell_type": "markdown",
   "metadata": {},
   "source": [
    "### Salary based"
   ]
  },
  {
   "cell_type": "code",
   "execution_count": 2,
   "metadata": {
    "collapsed": false
   },
   "outputs": [
    {
     "data": {
      "text/html": [
       "<div>\n",
       "<table border=\"1\" class=\"dataframe\">\n",
       "  <thead>\n",
       "    <tr style=\"text-align: right;\">\n",
       "      <th></th>\n",
       "      <th>Account Number</th>\n",
       "      <th>Gender</th>\n",
       "      <th>Age</th>\n",
       "      <th>Salary Slab</th>\n",
       "      <th>Age of Home</th>\n",
       "      <th>Churners</th>\n",
       "      <th>Sum</th>\n",
       "      <th>payment_complaint</th>\n",
       "      <th>account_complaint</th>\n",
       "      <th>utility_complaint</th>\n",
       "      <th>...</th>\n",
       "      <th>Accounting</th>\n",
       "      <th>Academics</th>\n",
       "      <th>Automative</th>\n",
       "      <th>Banking</th>\n",
       "      <th>Defence</th>\n",
       "      <th>Finance</th>\n",
       "      <th>Pharma</th>\n",
       "      <th>Labour</th>\n",
       "      <th>Others</th>\n",
       "      <th>Scheme_PRM</th>\n",
       "    </tr>\n",
       "  </thead>\n",
       "  <tbody>\n",
       "    <tr>\n",
       "      <th>0</th>\n",
       "      <td>M1189</td>\n",
       "      <td>1</td>\n",
       "      <td>43</td>\n",
       "      <td>3</td>\n",
       "      <td>7</td>\n",
       "      <td>0</td>\n",
       "      <td>876.645</td>\n",
       "      <td>1</td>\n",
       "      <td>1</td>\n",
       "      <td>0</td>\n",
       "      <td>...</td>\n",
       "      <td>0</td>\n",
       "      <td>0</td>\n",
       "      <td>0</td>\n",
       "      <td>0</td>\n",
       "      <td>0</td>\n",
       "      <td>0</td>\n",
       "      <td>0</td>\n",
       "      <td>0</td>\n",
       "      <td>0</td>\n",
       "      <td>0</td>\n",
       "    </tr>\n",
       "    <tr>\n",
       "      <th>1</th>\n",
       "      <td>M3864</td>\n",
       "      <td>1</td>\n",
       "      <td>63</td>\n",
       "      <td>4</td>\n",
       "      <td>12</td>\n",
       "      <td>0</td>\n",
       "      <td>748.440</td>\n",
       "      <td>0</td>\n",
       "      <td>0</td>\n",
       "      <td>0</td>\n",
       "      <td>...</td>\n",
       "      <td>0</td>\n",
       "      <td>0</td>\n",
       "      <td>0</td>\n",
       "      <td>0</td>\n",
       "      <td>0</td>\n",
       "      <td>0</td>\n",
       "      <td>0</td>\n",
       "      <td>0</td>\n",
       "      <td>0</td>\n",
       "      <td>0</td>\n",
       "    </tr>\n",
       "    <tr>\n",
       "      <th>2</th>\n",
       "      <td>M7957</td>\n",
       "      <td>1</td>\n",
       "      <td>29</td>\n",
       "      <td>9</td>\n",
       "      <td>17</td>\n",
       "      <td>0</td>\n",
       "      <td>1883.945</td>\n",
       "      <td>0</td>\n",
       "      <td>0</td>\n",
       "      <td>0</td>\n",
       "      <td>...</td>\n",
       "      <td>0</td>\n",
       "      <td>0</td>\n",
       "      <td>0</td>\n",
       "      <td>0</td>\n",
       "      <td>0</td>\n",
       "      <td>0</td>\n",
       "      <td>0</td>\n",
       "      <td>0</td>\n",
       "      <td>0</td>\n",
       "      <td>0</td>\n",
       "    </tr>\n",
       "    <tr>\n",
       "      <th>3</th>\n",
       "      <td>M2413</td>\n",
       "      <td>0</td>\n",
       "      <td>50</td>\n",
       "      <td>4</td>\n",
       "      <td>7</td>\n",
       "      <td>0</td>\n",
       "      <td>874.860</td>\n",
       "      <td>1</td>\n",
       "      <td>0</td>\n",
       "      <td>0</td>\n",
       "      <td>...</td>\n",
       "      <td>0</td>\n",
       "      <td>0</td>\n",
       "      <td>0</td>\n",
       "      <td>0</td>\n",
       "      <td>0</td>\n",
       "      <td>0</td>\n",
       "      <td>0</td>\n",
       "      <td>0</td>\n",
       "      <td>0</td>\n",
       "      <td>0</td>\n",
       "    </tr>\n",
       "    <tr>\n",
       "      <th>4</th>\n",
       "      <td>M3528</td>\n",
       "      <td>1</td>\n",
       "      <td>51</td>\n",
       "      <td>3</td>\n",
       "      <td>12</td>\n",
       "      <td>0</td>\n",
       "      <td>7.770</td>\n",
       "      <td>0</td>\n",
       "      <td>0</td>\n",
       "      <td>0</td>\n",
       "      <td>...</td>\n",
       "      <td>0</td>\n",
       "      <td>0</td>\n",
       "      <td>0</td>\n",
       "      <td>0</td>\n",
       "      <td>0</td>\n",
       "      <td>0</td>\n",
       "      <td>0</td>\n",
       "      <td>0</td>\n",
       "      <td>0</td>\n",
       "      <td>0</td>\n",
       "    </tr>\n",
       "  </tbody>\n",
       "</table>\n",
       "<p>5 rows × 40 columns</p>\n",
       "</div>"
      ],
      "text/plain": [
       "  Account Number  Gender  Age  Salary Slab  Age of Home  Churners       Sum  \\\n",
       "0          M1189       1   43            3            7         0   876.645   \n",
       "1          M3864       1   63            4           12         0   748.440   \n",
       "2          M7957       1   29            9           17         0  1883.945   \n",
       "3          M2413       0   50            4            7         0   874.860   \n",
       "4          M3528       1   51            3           12         0     7.770   \n",
       "\n",
       "   payment_complaint  account_complaint  utility_complaint     ...      \\\n",
       "0                  1                  1                  0     ...       \n",
       "1                  0                  0                  0     ...       \n",
       "2                  0                  0                  0     ...       \n",
       "3                  1                  0                  0     ...       \n",
       "4                  0                  0                  0     ...       \n",
       "\n",
       "   Accounting  Academics  Automative  Banking  Defence  Finance  Pharma  \\\n",
       "0           0          0           0        0        0        0       0   \n",
       "1           0          0           0        0        0        0       0   \n",
       "2           0          0           0        0        0        0       0   \n",
       "3           0          0           0        0        0        0       0   \n",
       "4           0          0           0        0        0        0       0   \n",
       "\n",
       "   Labour  Others  Scheme_PRM  \n",
       "0       0       0           0  \n",
       "1       0       0           0  \n",
       "2       0       0           0  \n",
       "3       0       0           0  \n",
       "4       0       0           0  \n",
       "\n",
       "[5 rows x 40 columns]"
      ]
     },
     "execution_count": 2,
     "metadata": {},
     "output_type": "execute_result"
    }
   ],
   "source": [
    "df.head()"
   ]
  },
  {
   "cell_type": "code",
   "execution_count": 6,
   "metadata": {
    "collapsed": false
   },
   "outputs": [
    {
     "data": {
      "text/plain": [
       "4     3288\n",
       "3     2043\n",
       "6     1489\n",
       "5     1274\n",
       "7      504\n",
       "1      444\n",
       "2      442\n",
       "8      208\n",
       "9      168\n",
       "10      52\n",
       "13      31\n",
       "11      13\n",
       "12      10\n",
       "Name: Salary Slab, dtype: int64"
      ]
     },
     "execution_count": 6,
     "metadata": {},
     "output_type": "execute_result"
    }
   ],
   "source": [
    "Salaries_count = df[\"Salary Slab\"].value_counts()\n",
    "Salaries_count"
   ]
  },
  {
   "cell_type": "code",
   "execution_count": 16,
   "metadata": {
    "collapsed": true
   },
   "outputs": [],
   "source": [
    "salary_list = []\n",
    "for i in range(1,13,4):\n",
    "    sum = 0\n",
    "    for j in range(4):\n",
    "        try:\n",
    "            sum+=Salaries_count[i+j]\n",
    "            \n",
    "        except:\n",
    "            continue\n",
    "    salary_list.append(sum)"
   ]
  },
  {
   "cell_type": "code",
   "execution_count": 17,
   "metadata": {
    "collapsed": false
   },
   "outputs": [
    {
     "data": {
      "text/plain": [
       "[6217, 3475, 243]"
      ]
     },
     "execution_count": 17,
     "metadata": {},
     "output_type": "execute_result"
    }
   ],
   "source": [
    "salary_list"
   ]
  },
  {
   "cell_type": "code",
   "execution_count": 27,
   "metadata": {
    "collapsed": false
   },
   "outputs": [],
   "source": [
    "plt.bar([0,1,2],salary_list,align=\"center\",width=0.4,color = \"yellow\")\n",
    "plt.xticks([0,1,2],[\"Low\",\"Medium\",\"High\"])\n",
    "plt.xlabel(\"Salary Size\")\n",
    "plt.ylabel(\"Number of Churners\")\n",
    "plt.title(\"Variation of Salary with Number of Churners\")\n",
    "plt.show()"
   ]
  },
  {
   "cell_type": "code",
   "execution_count": null,
   "metadata": {
    "collapsed": true
   },
   "outputs": [],
   "source": []
  }
 ],
 "metadata": {
  "kernelspec": {
   "display_name": "Python 2",
   "language": "python",
   "name": "python2"
  },
  "language_info": {
   "codemirror_mode": {
    "name": "ipython",
    "version": 2
   },
   "file_extension": ".py",
   "mimetype": "text/x-python",
   "name": "python",
   "nbconvert_exporter": "python",
   "pygments_lexer": "ipython2",
   "version": "2.7.11"
  }
 },
 "nbformat": 4,
 "nbformat_minor": 0
}
